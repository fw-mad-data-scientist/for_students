{
 "cells": [
  {
   "cell_type": "markdown",
   "metadata": {},
   "source": [
    "# K-nearest-neighbours alogrithm\n",
    "The aim of this exercise is to get knowledge of how kNN algorithm exactly work by developing it from scratch on simple Iris dataset"
   ]
  },
  {
   "cell_type": "markdown",
   "metadata": {},
   "source": [
    "# Pipeline\n",
    "\n",
    "Our exercise has several steps:\n",
    "1. getting the iris dataset\n",
    "2. converting the dataset to pandas format\n",
    "3. splitting dataset into train/test part\n",
    "4. defining distance metric - we are going to use euclidean one\n",
    "5. creating a function that will find nearest neighbours for given example\n",
    "6. predicting the specie value for each observation in train set and assess the classifiaction error\n",
    "7. predicting the specie value for each observation in test set\n",
    "8. Investigating confusion matrix\n",
    "9. Analyzing test error based on different k parameter"
   ]
  },
  {
   "cell_type": "markdown",
   "metadata": {},
   "source": [
    "#### Importing relevant libraries"
   ]
  },
  {
   "cell_type": "code",
   "execution_count": 1,
   "metadata": {},
   "outputs": [],
   "source": [
    "import pandas as pd\n",
    "import numpy as np\n",
    "# we remove the scientific notation to be displayed\n",
    "np.set_printoptions(suppress=True)\n",
    "# we set up the float format for pandas\n",
    "pd.set_option('display.float_format', lambda x: '%.3f' % x)"
   ]
  },
  {
   "cell_type": "markdown",
   "metadata": {},
   "source": [
    "## 1. Getting iris dataset\n",
    "Firstly we need to get data. To do this we can use one of sklearn's packages called dataset - this is the only one place where we will use sklearn in this notebook ;)"
   ]
  },
  {
   "cell_type": "code",
   "execution_count": 2,
   "metadata": {},
   "outputs": [],
   "source": [
    "from sklearn import datasets"
   ]
  },
  {
   "cell_type": "code",
   "execution_count": 3,
   "metadata": {},
   "outputs": [],
   "source": [
    "iris = datasets.load_iris()"
   ]
  },
  {
   "cell_type": "markdown",
   "metadata": {},
   "source": [
    "We can access the data with .data property. The target variable (which tells us about the specie of particular observation) is accessed with .target"
   ]
  },
  {
   "cell_type": "code",
   "execution_count": 4,
   "metadata": {},
   "outputs": [
    {
     "data": {
      "text/plain": [
       "array([[ 5.1,  3.5,  1.4,  0.2],\n",
       "       [ 4.9,  3. ,  1.4,  0.2],\n",
       "       [ 4.7,  3.2,  1.3,  0.2],\n",
       "       [ 4.6,  3.1,  1.5,  0.2],\n",
       "       [ 5. ,  3.6,  1.4,  0.2],\n",
       "       [ 5.4,  3.9,  1.7,  0.4],\n",
       "       [ 4.6,  3.4,  1.4,  0.3],\n",
       "       [ 5. ,  3.4,  1.5,  0.2],\n",
       "       [ 4.4,  2.9,  1.4,  0.2],\n",
       "       [ 4.9,  3.1,  1.5,  0.1],\n",
       "       [ 5.4,  3.7,  1.5,  0.2],\n",
       "       [ 4.8,  3.4,  1.6,  0.2],\n",
       "       [ 4.8,  3. ,  1.4,  0.1],\n",
       "       [ 4.3,  3. ,  1.1,  0.1],\n",
       "       [ 5.8,  4. ,  1.2,  0.2],\n",
       "       [ 5.7,  4.4,  1.5,  0.4],\n",
       "       [ 5.4,  3.9,  1.3,  0.4],\n",
       "       [ 5.1,  3.5,  1.4,  0.3],\n",
       "       [ 5.7,  3.8,  1.7,  0.3],\n",
       "       [ 5.1,  3.8,  1.5,  0.3],\n",
       "       [ 5.4,  3.4,  1.7,  0.2],\n",
       "       [ 5.1,  3.7,  1.5,  0.4],\n",
       "       [ 4.6,  3.6,  1. ,  0.2],\n",
       "       [ 5.1,  3.3,  1.7,  0.5],\n",
       "       [ 4.8,  3.4,  1.9,  0.2],\n",
       "       [ 5. ,  3. ,  1.6,  0.2],\n",
       "       [ 5. ,  3.4,  1.6,  0.4],\n",
       "       [ 5.2,  3.5,  1.5,  0.2],\n",
       "       [ 5.2,  3.4,  1.4,  0.2],\n",
       "       [ 4.7,  3.2,  1.6,  0.2],\n",
       "       [ 4.8,  3.1,  1.6,  0.2],\n",
       "       [ 5.4,  3.4,  1.5,  0.4],\n",
       "       [ 5.2,  4.1,  1.5,  0.1],\n",
       "       [ 5.5,  4.2,  1.4,  0.2],\n",
       "       [ 4.9,  3.1,  1.5,  0.1],\n",
       "       [ 5. ,  3.2,  1.2,  0.2],\n",
       "       [ 5.5,  3.5,  1.3,  0.2],\n",
       "       [ 4.9,  3.1,  1.5,  0.1],\n",
       "       [ 4.4,  3. ,  1.3,  0.2],\n",
       "       [ 5.1,  3.4,  1.5,  0.2],\n",
       "       [ 5. ,  3.5,  1.3,  0.3],\n",
       "       [ 4.5,  2.3,  1.3,  0.3],\n",
       "       [ 4.4,  3.2,  1.3,  0.2],\n",
       "       [ 5. ,  3.5,  1.6,  0.6],\n",
       "       [ 5.1,  3.8,  1.9,  0.4],\n",
       "       [ 4.8,  3. ,  1.4,  0.3],\n",
       "       [ 5.1,  3.8,  1.6,  0.2],\n",
       "       [ 4.6,  3.2,  1.4,  0.2],\n",
       "       [ 5.3,  3.7,  1.5,  0.2],\n",
       "       [ 5. ,  3.3,  1.4,  0.2],\n",
       "       [ 7. ,  3.2,  4.7,  1.4],\n",
       "       [ 6.4,  3.2,  4.5,  1.5],\n",
       "       [ 6.9,  3.1,  4.9,  1.5],\n",
       "       [ 5.5,  2.3,  4. ,  1.3],\n",
       "       [ 6.5,  2.8,  4.6,  1.5],\n",
       "       [ 5.7,  2.8,  4.5,  1.3],\n",
       "       [ 6.3,  3.3,  4.7,  1.6],\n",
       "       [ 4.9,  2.4,  3.3,  1. ],\n",
       "       [ 6.6,  2.9,  4.6,  1.3],\n",
       "       [ 5.2,  2.7,  3.9,  1.4],\n",
       "       [ 5. ,  2. ,  3.5,  1. ],\n",
       "       [ 5.9,  3. ,  4.2,  1.5],\n",
       "       [ 6. ,  2.2,  4. ,  1. ],\n",
       "       [ 6.1,  2.9,  4.7,  1.4],\n",
       "       [ 5.6,  2.9,  3.6,  1.3],\n",
       "       [ 6.7,  3.1,  4.4,  1.4],\n",
       "       [ 5.6,  3. ,  4.5,  1.5],\n",
       "       [ 5.8,  2.7,  4.1,  1. ],\n",
       "       [ 6.2,  2.2,  4.5,  1.5],\n",
       "       [ 5.6,  2.5,  3.9,  1.1],\n",
       "       [ 5.9,  3.2,  4.8,  1.8],\n",
       "       [ 6.1,  2.8,  4. ,  1.3],\n",
       "       [ 6.3,  2.5,  4.9,  1.5],\n",
       "       [ 6.1,  2.8,  4.7,  1.2],\n",
       "       [ 6.4,  2.9,  4.3,  1.3],\n",
       "       [ 6.6,  3. ,  4.4,  1.4],\n",
       "       [ 6.8,  2.8,  4.8,  1.4],\n",
       "       [ 6.7,  3. ,  5. ,  1.7],\n",
       "       [ 6. ,  2.9,  4.5,  1.5],\n",
       "       [ 5.7,  2.6,  3.5,  1. ],\n",
       "       [ 5.5,  2.4,  3.8,  1.1],\n",
       "       [ 5.5,  2.4,  3.7,  1. ],\n",
       "       [ 5.8,  2.7,  3.9,  1.2],\n",
       "       [ 6. ,  2.7,  5.1,  1.6],\n",
       "       [ 5.4,  3. ,  4.5,  1.5],\n",
       "       [ 6. ,  3.4,  4.5,  1.6],\n",
       "       [ 6.7,  3.1,  4.7,  1.5],\n",
       "       [ 6.3,  2.3,  4.4,  1.3],\n",
       "       [ 5.6,  3. ,  4.1,  1.3],\n",
       "       [ 5.5,  2.5,  4. ,  1.3],\n",
       "       [ 5.5,  2.6,  4.4,  1.2],\n",
       "       [ 6.1,  3. ,  4.6,  1.4],\n",
       "       [ 5.8,  2.6,  4. ,  1.2],\n",
       "       [ 5. ,  2.3,  3.3,  1. ],\n",
       "       [ 5.6,  2.7,  4.2,  1.3],\n",
       "       [ 5.7,  3. ,  4.2,  1.2],\n",
       "       [ 5.7,  2.9,  4.2,  1.3],\n",
       "       [ 6.2,  2.9,  4.3,  1.3],\n",
       "       [ 5.1,  2.5,  3. ,  1.1],\n",
       "       [ 5.7,  2.8,  4.1,  1.3],\n",
       "       [ 6.3,  3.3,  6. ,  2.5],\n",
       "       [ 5.8,  2.7,  5.1,  1.9],\n",
       "       [ 7.1,  3. ,  5.9,  2.1],\n",
       "       [ 6.3,  2.9,  5.6,  1.8],\n",
       "       [ 6.5,  3. ,  5.8,  2.2],\n",
       "       [ 7.6,  3. ,  6.6,  2.1],\n",
       "       [ 4.9,  2.5,  4.5,  1.7],\n",
       "       [ 7.3,  2.9,  6.3,  1.8],\n",
       "       [ 6.7,  2.5,  5.8,  1.8],\n",
       "       [ 7.2,  3.6,  6.1,  2.5],\n",
       "       [ 6.5,  3.2,  5.1,  2. ],\n",
       "       [ 6.4,  2.7,  5.3,  1.9],\n",
       "       [ 6.8,  3. ,  5.5,  2.1],\n",
       "       [ 5.7,  2.5,  5. ,  2. ],\n",
       "       [ 5.8,  2.8,  5.1,  2.4],\n",
       "       [ 6.4,  3.2,  5.3,  2.3],\n",
       "       [ 6.5,  3. ,  5.5,  1.8],\n",
       "       [ 7.7,  3.8,  6.7,  2.2],\n",
       "       [ 7.7,  2.6,  6.9,  2.3],\n",
       "       [ 6. ,  2.2,  5. ,  1.5],\n",
       "       [ 6.9,  3.2,  5.7,  2.3],\n",
       "       [ 5.6,  2.8,  4.9,  2. ],\n",
       "       [ 7.7,  2.8,  6.7,  2. ],\n",
       "       [ 6.3,  2.7,  4.9,  1.8],\n",
       "       [ 6.7,  3.3,  5.7,  2.1],\n",
       "       [ 7.2,  3.2,  6. ,  1.8],\n",
       "       [ 6.2,  2.8,  4.8,  1.8],\n",
       "       [ 6.1,  3. ,  4.9,  1.8],\n",
       "       [ 6.4,  2.8,  5.6,  2.1],\n",
       "       [ 7.2,  3. ,  5.8,  1.6],\n",
       "       [ 7.4,  2.8,  6.1,  1.9],\n",
       "       [ 7.9,  3.8,  6.4,  2. ],\n",
       "       [ 6.4,  2.8,  5.6,  2.2],\n",
       "       [ 6.3,  2.8,  5.1,  1.5],\n",
       "       [ 6.1,  2.6,  5.6,  1.4],\n",
       "       [ 7.7,  3. ,  6.1,  2.3],\n",
       "       [ 6.3,  3.4,  5.6,  2.4],\n",
       "       [ 6.4,  3.1,  5.5,  1.8],\n",
       "       [ 6. ,  3. ,  4.8,  1.8],\n",
       "       [ 6.9,  3.1,  5.4,  2.1],\n",
       "       [ 6.7,  3.1,  5.6,  2.4],\n",
       "       [ 6.9,  3.1,  5.1,  2.3],\n",
       "       [ 5.8,  2.7,  5.1,  1.9],\n",
       "       [ 6.8,  3.2,  5.9,  2.3],\n",
       "       [ 6.7,  3.3,  5.7,  2.5],\n",
       "       [ 6.7,  3. ,  5.2,  2.3],\n",
       "       [ 6.3,  2.5,  5. ,  1.9],\n",
       "       [ 6.5,  3. ,  5.2,  2. ],\n",
       "       [ 6.2,  3.4,  5.4,  2.3],\n",
       "       [ 5.9,  3. ,  5.1,  1.8]])"
      ]
     },
     "execution_count": 4,
     "metadata": {},
     "output_type": "execute_result"
    }
   ],
   "source": [
    "iris.data"
   ]
  },
  {
   "cell_type": "code",
   "execution_count": 5,
   "metadata": {},
   "outputs": [
    {
     "data": {
      "text/plain": [
       "array([0, 0, 0, 0, 0, 0, 0, 0, 0, 0, 0, 0, 0, 0, 0, 0, 0, 0, 0, 0, 0, 0, 0,\n",
       "       0, 0, 0, 0, 0, 0, 0, 0, 0, 0, 0, 0, 0, 0, 0, 0, 0, 0, 0, 0, 0, 0, 0,\n",
       "       0, 0, 0, 0, 1, 1, 1, 1, 1, 1, 1, 1, 1, 1, 1, 1, 1, 1, 1, 1, 1, 1, 1,\n",
       "       1, 1, 1, 1, 1, 1, 1, 1, 1, 1, 1, 1, 1, 1, 1, 1, 1, 1, 1, 1, 1, 1, 1,\n",
       "       1, 1, 1, 1, 1, 1, 1, 1, 2, 2, 2, 2, 2, 2, 2, 2, 2, 2, 2, 2, 2, 2, 2,\n",
       "       2, 2, 2, 2, 2, 2, 2, 2, 2, 2, 2, 2, 2, 2, 2, 2, 2, 2, 2, 2, 2, 2, 2,\n",
       "       2, 2, 2, 2, 2, 2, 2, 2, 2, 2, 2, 2])"
      ]
     },
     "execution_count": 5,
     "metadata": {},
     "output_type": "execute_result"
    }
   ],
   "source": [
    "iris.target"
   ]
  },
  {
   "cell_type": "markdown",
   "metadata": {},
   "source": [
    "## 2. Converting the dataset to pandas format\n",
    "\n",
    "We have loaded python's arrays containing both features and target variable. Our aim for now is to merge them into one pandas DataFrame as it is basic data structure for data analysis and machine learning"
   ]
  },
  {
   "cell_type": "code",
   "execution_count": 6,
   "metadata": {},
   "outputs": [],
   "source": [
    "iris_df = pd.DataFrame(iris['data'], columns=iris['feature_names'])"
   ]
  },
  {
   "cell_type": "markdown",
   "metadata": {},
   "source": [
    "After creating DataFrame we should add the column with target variable. Let's call it 'target' and assign the array with target to the DataFrame created."
   ]
  },
  {
   "cell_type": "code",
   "execution_count": 7,
   "metadata": {},
   "outputs": [],
   "source": [
    "iris_df['target'] = iris.target"
   ]
  },
  {
   "cell_type": "markdown",
   "metadata": {},
   "source": [
    "Let's shuffle data. You can do it multiple ways:\n",
    "* sample (DataFrame property) with fraction argument set to be 1\n",
    "* shuffle function from sklearn.utils package\n",
    "* np.random.shuffle function (it should take np.ndarray, so you should pass DF.values)"
   ]
  },
  {
   "cell_type": "code",
   "execution_count": 8,
   "metadata": {},
   "outputs": [],
   "source": [
    "iris_df = iris_df.sample(frac=1).reset_index(drop=True)"
   ]
  },
  {
   "cell_type": "markdown",
   "metadata": {},
   "source": [
    "With typical DF properties we can examine the structure of the iris dataset. You should show:"
   ]
  },
  {
   "cell_type": "markdown",
   "metadata": {},
   "source": [
    "* first five elements from the DataFrame"
   ]
  },
  {
   "cell_type": "code",
   "execution_count": 9,
   "metadata": {},
   "outputs": [
    {
     "data": {
      "text/html": [
       "<div>\n",
       "<style>\n",
       "    .dataframe thead tr:only-child th {\n",
       "        text-align: right;\n",
       "    }\n",
       "\n",
       "    .dataframe thead th {\n",
       "        text-align: left;\n",
       "    }\n",
       "\n",
       "    .dataframe tbody tr th {\n",
       "        vertical-align: top;\n",
       "    }\n",
       "</style>\n",
       "<table border=\"1\" class=\"dataframe\">\n",
       "  <thead>\n",
       "    <tr style=\"text-align: right;\">\n",
       "      <th></th>\n",
       "      <th>sepal length (cm)</th>\n",
       "      <th>sepal width (cm)</th>\n",
       "      <th>petal length (cm)</th>\n",
       "      <th>petal width (cm)</th>\n",
       "      <th>target</th>\n",
       "    </tr>\n",
       "  </thead>\n",
       "  <tbody>\n",
       "    <tr>\n",
       "      <th>0</th>\n",
       "      <td>5.700</td>\n",
       "      <td>2.800</td>\n",
       "      <td>4.100</td>\n",
       "      <td>1.300</td>\n",
       "      <td>1</td>\n",
       "    </tr>\n",
       "    <tr>\n",
       "      <th>1</th>\n",
       "      <td>6.200</td>\n",
       "      <td>3.400</td>\n",
       "      <td>5.400</td>\n",
       "      <td>2.300</td>\n",
       "      <td>2</td>\n",
       "    </tr>\n",
       "    <tr>\n",
       "      <th>2</th>\n",
       "      <td>5.600</td>\n",
       "      <td>2.500</td>\n",
       "      <td>3.900</td>\n",
       "      <td>1.100</td>\n",
       "      <td>1</td>\n",
       "    </tr>\n",
       "    <tr>\n",
       "      <th>3</th>\n",
       "      <td>4.600</td>\n",
       "      <td>3.600</td>\n",
       "      <td>1.000</td>\n",
       "      <td>0.200</td>\n",
       "      <td>0</td>\n",
       "    </tr>\n",
       "    <tr>\n",
       "      <th>4</th>\n",
       "      <td>5.100</td>\n",
       "      <td>3.500</td>\n",
       "      <td>1.400</td>\n",
       "      <td>0.300</td>\n",
       "      <td>0</td>\n",
       "    </tr>\n",
       "  </tbody>\n",
       "</table>\n",
       "</div>"
      ],
      "text/plain": [
       "   sepal length (cm)  sepal width (cm)  petal length (cm)  petal width (cm)  \\\n",
       "0              5.700             2.800              4.100             1.300   \n",
       "1              6.200             3.400              5.400             2.300   \n",
       "2              5.600             2.500              3.900             1.100   \n",
       "3              4.600             3.600              1.000             0.200   \n",
       "4              5.100             3.500              1.400             0.300   \n",
       "\n",
       "   target  \n",
       "0       1  \n",
       "1       2  \n",
       "2       1  \n",
       "3       0  \n",
       "4       0  "
      ]
     },
     "execution_count": 9,
     "metadata": {},
     "output_type": "execute_result"
    }
   ],
   "source": [
    "iris_df.head()"
   ]
  },
  {
   "cell_type": "markdown",
   "metadata": {},
   "source": [
    "* last five elements from the DataFrame"
   ]
  },
  {
   "cell_type": "code",
   "execution_count": 10,
   "metadata": {},
   "outputs": [
    {
     "data": {
      "text/html": [
       "<div>\n",
       "<style>\n",
       "    .dataframe thead tr:only-child th {\n",
       "        text-align: right;\n",
       "    }\n",
       "\n",
       "    .dataframe thead th {\n",
       "        text-align: left;\n",
       "    }\n",
       "\n",
       "    .dataframe tbody tr th {\n",
       "        vertical-align: top;\n",
       "    }\n",
       "</style>\n",
       "<table border=\"1\" class=\"dataframe\">\n",
       "  <thead>\n",
       "    <tr style=\"text-align: right;\">\n",
       "      <th></th>\n",
       "      <th>sepal length (cm)</th>\n",
       "      <th>sepal width (cm)</th>\n",
       "      <th>petal length (cm)</th>\n",
       "      <th>petal width (cm)</th>\n",
       "      <th>target</th>\n",
       "    </tr>\n",
       "  </thead>\n",
       "  <tbody>\n",
       "    <tr>\n",
       "      <th>145</th>\n",
       "      <td>6.500</td>\n",
       "      <td>3.000</td>\n",
       "      <td>5.200</td>\n",
       "      <td>2.000</td>\n",
       "      <td>2</td>\n",
       "    </tr>\n",
       "    <tr>\n",
       "      <th>146</th>\n",
       "      <td>6.500</td>\n",
       "      <td>3.000</td>\n",
       "      <td>5.800</td>\n",
       "      <td>2.200</td>\n",
       "      <td>2</td>\n",
       "    </tr>\n",
       "    <tr>\n",
       "      <th>147</th>\n",
       "      <td>6.200</td>\n",
       "      <td>2.800</td>\n",
       "      <td>4.800</td>\n",
       "      <td>1.800</td>\n",
       "      <td>2</td>\n",
       "    </tr>\n",
       "    <tr>\n",
       "      <th>148</th>\n",
       "      <td>5.000</td>\n",
       "      <td>3.500</td>\n",
       "      <td>1.300</td>\n",
       "      <td>0.300</td>\n",
       "      <td>0</td>\n",
       "    </tr>\n",
       "    <tr>\n",
       "      <th>149</th>\n",
       "      <td>4.800</td>\n",
       "      <td>3.100</td>\n",
       "      <td>1.600</td>\n",
       "      <td>0.200</td>\n",
       "      <td>0</td>\n",
       "    </tr>\n",
       "  </tbody>\n",
       "</table>\n",
       "</div>"
      ],
      "text/plain": [
       "     sepal length (cm)  sepal width (cm)  petal length (cm)  petal width (cm)  \\\n",
       "145              6.500             3.000              5.200             2.000   \n",
       "146              6.500             3.000              5.800             2.200   \n",
       "147              6.200             2.800              4.800             1.800   \n",
       "148              5.000             3.500              1.300             0.300   \n",
       "149              4.800             3.100              1.600             0.200   \n",
       "\n",
       "     target  \n",
       "145       2  \n",
       "146       2  \n",
       "147       2  \n",
       "148       0  \n",
       "149       0  "
      ]
     },
     "execution_count": 10,
     "metadata": {},
     "output_type": "execute_result"
    }
   ],
   "source": [
    "iris_df.tail()"
   ]
  },
  {
   "cell_type": "markdown",
   "metadata": {},
   "source": [
    "* a short statistical summary of all variables in the DataFrame"
   ]
  },
  {
   "cell_type": "code",
   "execution_count": 11,
   "metadata": {},
   "outputs": [
    {
     "data": {
      "text/html": [
       "<div>\n",
       "<style>\n",
       "    .dataframe thead tr:only-child th {\n",
       "        text-align: right;\n",
       "    }\n",
       "\n",
       "    .dataframe thead th {\n",
       "        text-align: left;\n",
       "    }\n",
       "\n",
       "    .dataframe tbody tr th {\n",
       "        vertical-align: top;\n",
       "    }\n",
       "</style>\n",
       "<table border=\"1\" class=\"dataframe\">\n",
       "  <thead>\n",
       "    <tr style=\"text-align: right;\">\n",
       "      <th></th>\n",
       "      <th>sepal length (cm)</th>\n",
       "      <th>sepal width (cm)</th>\n",
       "      <th>petal length (cm)</th>\n",
       "      <th>petal width (cm)</th>\n",
       "      <th>target</th>\n",
       "    </tr>\n",
       "  </thead>\n",
       "  <tbody>\n",
       "    <tr>\n",
       "      <th>count</th>\n",
       "      <td>150.000</td>\n",
       "      <td>150.000</td>\n",
       "      <td>150.000</td>\n",
       "      <td>150.000</td>\n",
       "      <td>150.000</td>\n",
       "    </tr>\n",
       "    <tr>\n",
       "      <th>mean</th>\n",
       "      <td>5.843</td>\n",
       "      <td>3.054</td>\n",
       "      <td>3.759</td>\n",
       "      <td>1.199</td>\n",
       "      <td>1.000</td>\n",
       "    </tr>\n",
       "    <tr>\n",
       "      <th>std</th>\n",
       "      <td>0.828</td>\n",
       "      <td>0.434</td>\n",
       "      <td>1.764</td>\n",
       "      <td>0.763</td>\n",
       "      <td>0.819</td>\n",
       "    </tr>\n",
       "    <tr>\n",
       "      <th>min</th>\n",
       "      <td>4.300</td>\n",
       "      <td>2.000</td>\n",
       "      <td>1.000</td>\n",
       "      <td>0.100</td>\n",
       "      <td>0.000</td>\n",
       "    </tr>\n",
       "    <tr>\n",
       "      <th>25%</th>\n",
       "      <td>5.100</td>\n",
       "      <td>2.800</td>\n",
       "      <td>1.600</td>\n",
       "      <td>0.300</td>\n",
       "      <td>0.000</td>\n",
       "    </tr>\n",
       "    <tr>\n",
       "      <th>50%</th>\n",
       "      <td>5.800</td>\n",
       "      <td>3.000</td>\n",
       "      <td>4.350</td>\n",
       "      <td>1.300</td>\n",
       "      <td>1.000</td>\n",
       "    </tr>\n",
       "    <tr>\n",
       "      <th>75%</th>\n",
       "      <td>6.400</td>\n",
       "      <td>3.300</td>\n",
       "      <td>5.100</td>\n",
       "      <td>1.800</td>\n",
       "      <td>2.000</td>\n",
       "    </tr>\n",
       "    <tr>\n",
       "      <th>max</th>\n",
       "      <td>7.900</td>\n",
       "      <td>4.400</td>\n",
       "      <td>6.900</td>\n",
       "      <td>2.500</td>\n",
       "      <td>2.000</td>\n",
       "    </tr>\n",
       "  </tbody>\n",
       "</table>\n",
       "</div>"
      ],
      "text/plain": [
       "       sepal length (cm)  sepal width (cm)  petal length (cm)  \\\n",
       "count            150.000           150.000            150.000   \n",
       "mean               5.843             3.054              3.759   \n",
       "std                0.828             0.434              1.764   \n",
       "min                4.300             2.000              1.000   \n",
       "25%                5.100             2.800              1.600   \n",
       "50%                5.800             3.000              4.350   \n",
       "75%                6.400             3.300              5.100   \n",
       "max                7.900             4.400              6.900   \n",
       "\n",
       "       petal width (cm)  target  \n",
       "count           150.000 150.000  \n",
       "mean              1.199   1.000  \n",
       "std               0.763   0.819  \n",
       "min               0.100   0.000  \n",
       "25%               0.300   0.000  \n",
       "50%               1.300   1.000  \n",
       "75%               1.800   2.000  \n",
       "max               2.500   2.000  "
      ]
     },
     "execution_count": 11,
     "metadata": {},
     "output_type": "execute_result"
    }
   ],
   "source": [
    "iris_df.describe()"
   ]
  },
  {
   "cell_type": "markdown",
   "metadata": {},
   "source": [
    "## 3. Splitting dataset into train/test part"
   ]
  },
  {
   "cell_type": "markdown",
   "metadata": {},
   "source": [
    "In a typical Machine Learning pipeline you should divide your dataset into two parts:\n",
    "* train - it will be used to train the model (note that for k-nn algorithm there is no actual process of training - it is just computing the distance matrix between all observations)\n",
    "* test - this part will be hold out of training process and will serve to assess the algorithms performance\n",
    "\n",
    "You can do it in a few ways:\n",
    "* train_test_split from sklearn package\n",
    "* .sample method for DataFrame objects\n",
    "* create a logical mask that would indicate wheter observations will be in train (TRUE) or test (FALSE) set"
   ]
  },
  {
   "cell_type": "code",
   "execution_count": 12,
   "metadata": {},
   "outputs": [],
   "source": [
    "train_fraction = 0.8\n",
    "\n",
    "# mask should be a logical array of dtype=bool that has about 80% of True values. How can we do that?\n",
    "mask = np.random.rand(len(iris_df)) < train_fraction\n",
    "\n",
    "# we apply mask on original dataset\n",
    "train = iris_df[mask]\n",
    "test = iris_df[~mask]"
   ]
  },
  {
   "cell_type": "markdown",
   "metadata": {},
   "source": [
    "We can reset and remove (drop argument) index from frames, as this is not needed"
   ]
  },
  {
   "cell_type": "code",
   "execution_count": 13,
   "metadata": {},
   "outputs": [],
   "source": [
    "train = train.reset_index(drop=True)\n",
    "test = test.reset_index(drop=True)"
   ]
  },
  {
   "cell_type": "markdown",
   "metadata": {},
   "source": [
    "## 4. Defining distance metric - we are going to use euclidean one\n",
    "We need to create a function called 'euclidean_distance' that will return distance for given pair of observations"
   ]
  },
  {
   "cell_type": "code",
   "execution_count": 14,
   "metadata": {},
   "outputs": [],
   "source": [
    "def euclidean_distance(array_1, array_2):\n",
    "    # we need to create a distance function\n",
    "    # it takes as inputs two numpy arrays each representing one object:\n",
    "    # euclidean_distance = (x1 - y1) ^ 2 + (x2 - y2) ^ 2 + ... + (xn - yn) ^ 2\n",
    "    # tip: it is pretty simple using vectorised operations in numpy\n",
    "    # function euclidean_distance should return one numerical value\n",
    "    differences = array_1 - array_2\n",
    "    differences_squared = differences ** 2\n",
    "    # now we can add up all the differences squared\n",
    "    distance = np.sum(differences_squared)\n",
    "    return distance"
   ]
  },
  {
   "cell_type": "markdown",
   "metadata": {},
   "source": [
    "## 5. creating a function that will find nearest neighbours for given example\n"
   ]
  },
  {
   "cell_type": "markdown",
   "metadata": {},
   "source": [
    "### Example row from distance matrix\n",
    "Let us tak a look into one observation and create the whole process of finding *k* similar observations"
   ]
  },
  {
   "cell_type": "code",
   "execution_count": 15,
   "metadata": {},
   "outputs": [
    {
     "data": {
      "text/plain": [
       "sepal length (cm)   6.200\n",
       "sepal width (cm)    3.400\n",
       "petal length (cm)   5.400\n",
       "petal width (cm)    2.300\n",
       "target              2.000\n",
       "Name: 0, dtype: float64"
      ]
     },
     "execution_count": 15,
     "metadata": {},
     "output_type": "execute_result"
    }
   ],
   "source": [
    "# first row of train dataset\n",
    "train.iloc[0,]"
   ]
  },
  {
   "cell_type": "code",
   "execution_count": 16,
   "metadata": {},
   "outputs": [
    {
     "data": {
      "text/plain": [
       "4.8600000000000012"
      ]
     },
     "execution_count": 16,
     "metadata": {},
     "output_type": "execute_result"
    }
   ],
   "source": [
    "# lets compute distance between first and second observation\n",
    "# note! you should remove the last variable called 'target' - we use only first four features\n",
    "euclidean_distance(train.iloc[0, 0:4], train.iloc[1, 0:4])"
   ]
  },
  {
   "cell_type": "markdown",
   "metadata": {},
   "source": [
    "What is the distance between 4th and 5th element in train dataset?"
   ]
  },
  {
   "cell_type": "code",
   "execution_count": 18,
   "metadata": {},
   "outputs": [
    {
     "name": "stdout",
     "output_type": "stream",
     "text": [
      "24.33\n"
     ]
    }
   ],
   "source": [
    "distance_4_5 = euclidean_distance(train.iloc[3, 0:4], train.iloc[4, 0:4])\n",
    "print(distance_4_5)"
   ]
  },
  {
   "cell_type": "markdown",
   "metadata": {},
   "source": [
    "Now we can compute all distances to first observation. We create an empty list, and then iterating by all training examples we append it with the distance between them and first element"
   ]
  },
  {
   "cell_type": "code",
   "execution_count": 19,
   "metadata": {},
   "outputs": [
    {
     "name": "stdout",
     "output_type": "stream",
     "text": [
      "Distance from element no. 0 to element no. 0 is 0.0\n",
      "Distance from element no. 0 to element no. 1 is 4.860000000000001\n",
      "Distance from element no. 0 to element no. 2 is 26.370000000000005\n",
      "Distance from element no. 0 to element no. 3 is 21.220000000000002\n",
      "Distance from element no. 0 to element no. 4 is 0.3899999999999998\n",
      "Distance from element no. 0 to element no. 5 is 4.660000000000001\n",
      "Distance from element no. 0 to element no. 6 is 1.7400000000000004\n",
      "Distance from element no. 0 to element no. 7 is 0.6200000000000008\n",
      "Distance from element no. 0 to element no. 8 is 17.230000000000004\n",
      "Distance from element no. 0 to element no. 9 is 20.520000000000003\n",
      "Distance from element no. 0 to element no. 10 is 4.850000000000001\n",
      "Distance from element no. 0 to element no. 11 is 22.270000000000003\n",
      "Distance from element no. 0 to element no. 12 is 20.070000000000004\n",
      "Distance from element no. 0 to element no. 13 is 4.110000000000001\n",
      "Distance from element no. 0 to element no. 14 is 1.469999999999999\n",
      "Distance from element no. 0 to element no. 15 is 18.19\n",
      "Distance from element no. 0 to element no. 16 is 20.810000000000002\n",
      "Distance from element no. 0 to element no. 17 is 2.1499999999999995\n",
      "Distance from element no. 0 to element no. 18 is 23.9\n",
      "Distance from element no. 0 to element no. 19 is 8.790000000000001\n",
      "Distance from element no. 0 to element no. 20 is 5.13\n",
      "Distance from element no. 0 to element no. 21 is 2.2799999999999994\n",
      "Distance from element no. 0 to element no. 22 is 0.5099999999999996\n",
      "Distance from element no. 0 to element no. 23 is 21.720000000000006\n",
      "Distance from element no. 0 to element no. 24 is 0.45\n",
      "Distance from element no. 0 to element no. 25 is 1.9700000000000009\n",
      "Distance from element no. 0 to element no. 26 is 4.109999999999999\n",
      "Distance from element no. 0 to element no. 27 is 0.3899999999999996\n",
      "Distance from element no. 0 to element no. 28 is 6.07\n",
      "Distance from element no. 0 to element no. 29 is 2.94\n",
      "Distance from element no. 0 to element no. 30 is 1.4699999999999998\n",
      "Distance from element no. 0 to element no. 31 is 3.34\n",
      "Distance from element no. 0 to element no. 32 is 0.6200000000000001\n",
      "Distance from element no. 0 to element no. 33 is 0.6499999999999995\n",
      "Distance from element no. 0 to element no. 34 is 21.89\n",
      "Distance from element no. 0 to element no. 35 is 3.210000000000002\n",
      "Distance from element no. 0 to element no. 36 is 23.009999999999998\n",
      "Distance from element no. 0 to element no. 37 is 1.3400000000000003\n",
      "Distance from element no. 0 to element no. 38 is 22.259999999999998\n",
      "Distance from element no. 0 to element no. 39 is 2.8899999999999997\n",
      "Distance from element no. 0 to element no. 40 is 2.0500000000000003\n",
      "Distance from element no. 0 to element no. 41 is 3.2199999999999998\n",
      "Distance from element no. 0 to element no. 42 is 22.57\n",
      "Distance from element no. 0 to element no. 43 is 1.5600000000000003\n",
      "Distance from element no. 0 to element no. 44 is 18.150000000000002\n",
      "Distance from element no. 0 to element no. 45 is 2.4499999999999993\n",
      "Distance from element no. 0 to element no. 46 is 20.35\n",
      "Distance from element no. 0 to element no. 47 is 0.62\n",
      "Distance from element no. 0 to element no. 48 is 1.0600000000000007\n",
      "Distance from element no. 0 to element no. 49 is 0.39\n",
      "Distance from element no. 0 to element no. 50 is 24.910000000000007\n",
      "Distance from element no. 0 to element no. 51 is 18.620000000000005\n",
      "Distance from element no. 0 to element no. 52 is 0.9000000000000002\n",
      "Distance from element no. 0 to element no. 53 is 0.09000000000000007\n",
      "Distance from element no. 0 to element no. 54 is 18.740000000000002\n",
      "Distance from element no. 0 to element no. 55 is 24.5\n",
      "Distance from element no. 0 to element no. 56 is 0.9999999999999993\n",
      "Distance from element no. 0 to element no. 57 is 2.25\n",
      "Distance from element no. 0 to element no. 58 is 1.7099999999999995\n",
      "Distance from element no. 0 to element no. 59 is 0.5499999999999994\n",
      "Distance from element no. 0 to element no. 60 is 23.53\n",
      "Distance from element no. 0 to element no. 61 is 3.599999999999997\n",
      "Distance from element no. 0 to element no. 62 is 3.9700000000000006\n",
      "Distance from element no. 0 to element no. 63 is 21.409999999999997\n",
      "Distance from element no. 0 to element no. 64 is 20.22\n",
      "Distance from element no. 0 to element no. 65 is 1.9799999999999998\n",
      "Distance from element no. 0 to element no. 66 is 21.54\n",
      "Distance from element no. 0 to element no. 67 is 0.7400000000000002\n",
      "Distance from element no. 0 to element no. 68 is 0.3899999999999997\n",
      "Distance from element no. 0 to element no. 69 is 2.899999999999999\n",
      "Distance from element no. 0 to element no. 70 is 21.830000000000002\n",
      "Distance from element no. 0 to element no. 71 is 18.78\n",
      "Distance from element no. 0 to element no. 72 is 0.9299999999999999\n",
      "Distance from element no. 0 to element no. 73 is 2.129999999999999\n",
      "Distance from element no. 0 to element no. 74 is 20.450000000000003\n",
      "Distance from element no. 0 to element no. 75 is 0.9999999999999998\n",
      "Distance from element no. 0 to element no. 76 is 18.1\n",
      "Distance from element no. 0 to element no. 77 is 3.2900000000000005\n",
      "Distance from element no. 0 to element no. 78 is 0.6700000000000006\n",
      "Distance from element no. 0 to element no. 79 is 4.260000000000001\n",
      "Distance from element no. 0 to element no. 80 is 19.46\n",
      "Distance from element no. 0 to element no. 81 is 0.5699999999999994\n",
      "Distance from element no. 0 to element no. 82 is 20.580000000000005\n",
      "Distance from element no. 0 to element no. 83 is 1.8900000000000003\n",
      "Distance from element no. 0 to element no. 84 is 0.41999999999999965\n",
      "Distance from element no. 0 to element no. 85 is 0.8100000000000004\n",
      "Distance from element no. 0 to element no. 86 is 3.330000000000001\n",
      "Distance from element no. 0 to element no. 87 is 0.05999999999999966\n",
      "Distance from element no. 0 to element no. 88 is 2.519999999999998\n",
      "Distance from element no. 0 to element no. 89 is 1.14\n",
      "Distance from element no. 0 to element no. 90 is 21.540000000000003\n",
      "Distance from element no. 0 to element no. 91 is 21.14\n",
      "Distance from element no. 0 to element no. 92 is 1.7300000000000009\n",
      "Distance from element no. 0 to element no. 93 is 0.6699999999999998\n",
      "Distance from element no. 0 to element no. 94 is 21.630000000000003\n",
      "Distance from element no. 0 to element no. 95 is 0.9000000000000002\n",
      "Distance from element no. 0 to element no. 96 is 21.830000000000002\n",
      "Distance from element no. 0 to element no. 97 is 4.140000000000001\n",
      "Distance from element no. 0 to element no. 98 is 3.06\n",
      "Distance from element no. 0 to element no. 99 is 2.4200000000000004\n",
      "Distance from element no. 0 to element no. 100 is 2.33\n",
      "Distance from element no. 0 to element no. 101 is 23.510000000000005\n",
      "Distance from element no. 0 to element no. 102 is 2.500000000000001\n",
      "Distance from element no. 0 to element no. 103 is 21.86\n",
      "Distance from element no. 0 to element no. 104 is 1.6499999999999992\n",
      "Distance from element no. 0 to element no. 105 is 1.4699999999999998\n",
      "Distance from element no. 0 to element no. 106 is 21.310000000000006\n",
      "Distance from element no. 0 to element no. 107 is 4.030000000000001\n",
      "Distance from element no. 0 to element no. 108 is 0.3100000000000001\n",
      "Distance from element no. 0 to element no. 109 is 20.120000000000005\n",
      "Distance from element no. 0 to element no. 110 is 1.569999999999999\n",
      "Distance from element no. 0 to element no. 111 is 5.14\n",
      "Distance from element no. 0 to element no. 112 is 1.5300000000000002\n",
      "Distance from element no. 0 to element no. 113 is 0.37999999999999984\n",
      "Distance from element no. 0 to element no. 114 is 0.9700000000000005\n",
      "Distance from element no. 0 to element no. 115 is 22.260000000000005\n",
      "Distance from element no. 0 to element no. 116 is 20.9\n"
     ]
    }
   ],
   "source": [
    "distances_to_first_element = []\n",
    "number_of_elements_in_train_frame = train.shape[0]\n",
    "\n",
    "for i in range(0, number_of_elements_in_train_frame):\n",
    "    # compute distance between FIRST and I-TH observation in training set \n",
    "    distance = euclidean_distance(train.iloc[0, 0:4], train.iloc[i, 0:4])\n",
    "    ### append the computed distance to distances_to_first_element list\n",
    "    distances_to_first_element.append(distance)\n",
    "    print('Distance from element no. 0 to element no. {} is {}'.format(i, distance))"
   ]
  },
  {
   "cell_type": "markdown",
   "metadata": {},
   "source": [
    "This is how the list looks like:"
   ]
  },
  {
   "cell_type": "code",
   "execution_count": 20,
   "metadata": {},
   "outputs": [
    {
     "name": "stdout",
     "output_type": "stream",
     "text": [
      "[0.0, 4.8600000000000012, 26.370000000000005, 21.220000000000002, 0.38999999999999979, 4.660000000000001, 1.7400000000000004, 0.62000000000000077, 17.230000000000004, 20.520000000000003, 4.8500000000000014, 22.270000000000003, 20.070000000000004, 4.1100000000000012, 1.4699999999999991, 18.190000000000001, 20.810000000000002, 2.1499999999999995, 23.899999999999999, 8.7900000000000009, 5.1299999999999999, 2.2799999999999994, 0.50999999999999956, 21.720000000000006, 0.45000000000000001, 1.9700000000000009, 4.1099999999999994, 0.38999999999999962, 6.0700000000000003, 2.9399999999999999, 1.4699999999999998, 3.3399999999999999, 0.62000000000000011, 0.64999999999999947, 21.890000000000001, 3.2100000000000022, 23.009999999999998, 1.3400000000000003, 22.259999999999998, 2.8899999999999997, 2.0500000000000003, 3.2199999999999998, 22.57, 1.5600000000000003, 18.150000000000002, 2.4499999999999993, 20.350000000000001, 0.62, 1.0600000000000007, 0.39000000000000001, 24.910000000000007, 18.620000000000005, 0.90000000000000024, 0.090000000000000066, 18.740000000000002, 24.5, 0.99999999999999933, 2.25, 1.7099999999999995, 0.54999999999999938, 23.530000000000001, 3.599999999999997, 3.9700000000000006, 21.409999999999997, 20.219999999999999, 1.9799999999999998, 21.539999999999999, 0.74000000000000021, 0.38999999999999968, 2.899999999999999, 21.830000000000002, 18.780000000000001, 0.92999999999999994, 2.129999999999999, 20.450000000000003, 0.99999999999999978, 18.100000000000001, 3.2900000000000005, 0.6700000000000006, 4.2600000000000007, 19.460000000000001, 0.5699999999999994, 20.580000000000005, 1.8900000000000003, 0.41999999999999965, 0.81000000000000039, 3.330000000000001, 0.059999999999999658, 2.5199999999999978, 1.1399999999999999, 21.540000000000003, 21.140000000000001, 1.7300000000000009, 0.66999999999999982, 21.630000000000003, 0.90000000000000024, 21.830000000000002, 4.1400000000000006, 3.0600000000000001, 2.4200000000000004, 2.3300000000000001, 23.510000000000005, 2.5000000000000009, 21.859999999999999, 1.6499999999999992, 1.4699999999999998, 21.310000000000006, 4.0300000000000011, 0.31000000000000011, 20.120000000000005, 1.569999999999999, 5.1399999999999997, 1.5300000000000002, 0.37999999999999984, 0.97000000000000053, 22.260000000000005, 20.899999999999999]\n"
     ]
    }
   ],
   "source": [
    "print(distances_to_first_element)"
   ]
  },
  {
   "cell_type": "markdown",
   "metadata": {},
   "source": [
    "Create 'target_variable' which is the LIST of values showing target variable. Note: pandas series has a tolist() method which can be useful"
   ]
  },
  {
   "cell_type": "code",
   "execution_count": 21,
   "metadata": {},
   "outputs": [
    {
     "name": "stdout",
     "output_type": "stream",
     "text": [
      "[2, 1, 0, 0, 2, 1, 1, 2, 0, 0, 1, 0, 0, 1, 2, 0, 0, 1, 0, 1, 1, 2, 2, 0, 2, 1, 2, 2, 1, 1, 1, 1, 2, 2, 0, 1, 0, 1, 0, 1, 1, 1, 0, 1, 0, 2, 0, 2, 2, 2, 0, 0, 2, 2, 0, 0, 2, 1, 1, 2, 0, 2, 1, 0, 0, 1, 0, 1, 2, 2, 0, 0, 1, 1, 0, 1, 0, 1, 2, 1, 0, 2, 0, 1, 2, 2, 1, 2, 2, 2, 0, 0, 1, 2, 0, 2, 0, 2, 1, 1, 1, 0, 1, 0, 2, 1, 0, 1, 2, 0, 2, 2, 1, 2, 2, 0, 0]\n"
     ]
    }
   ],
   "source": [
    "target_variable = train['target'].tolist()\n",
    "print(target_variable)"
   ]
  },
  {
   "cell_type": "markdown",
   "metadata": {},
   "source": [
    "Now you should create a list of tuples with following structure:\n",
    "[\n",
    "(distance1, specie1),\n",
    "(distance2, specie2)\n",
    "...\n",
    "(distance_n, specie_n)\n",
    "] and sort it by distance\n",
    "Find below snippet example on how to do it:"
   ]
  },
  {
   "cell_type": "code",
   "execution_count": 22,
   "metadata": {},
   "outputs": [
    {
     "name": "stdout",
     "output_type": "stream",
     "text": [
      "[(0, 'p'), (1, 'y'), (2, 't'), (3, 'h'), (4, 'o'), (5, 'n')]\n"
     ]
    }
   ],
   "source": [
    "letters = ['y', 'h', 'p', 't', 'n', 'o']\n",
    "order = [1, 3, 0, 2, 5, 4]\n",
    "print(sorted(zip(order,letters)))"
   ]
  },
  {
   "cell_type": "code",
   "execution_count": 23,
   "metadata": {},
   "outputs": [],
   "source": [
    "distances_target_combined = sorted(zip(distances_to_first_element, target_variable))"
   ]
  },
  {
   "cell_type": "markdown",
   "metadata": {},
   "source": [
    "Let's get first three elements of such sorted list of tuples."
   ]
  },
  {
   "cell_type": "code",
   "execution_count": 24,
   "metadata": {},
   "outputs": [
    {
     "name": "stdout",
     "output_type": "stream",
     "text": [
      "[(0.0, 2), (0.059999999999999658, 2), (0.090000000000000066, 2)]\n"
     ]
    }
   ],
   "source": [
    "three_closest_tuples = distances_target_combined[0:3]\n",
    "print(three_closest_tuples)"
   ]
  },
  {
   "cell_type": "markdown",
   "metadata": {},
   "source": [
    "Use a list comprehension to create a list with species only"
   ]
  },
  {
   "cell_type": "code",
   "execution_count": 26,
   "metadata": {},
   "outputs": [
    {
     "name": "stdout",
     "output_type": "stream",
     "text": [
      "[2, 2, 2]\n"
     ]
    }
   ],
   "source": [
    "target_closest_species = [target for distance, target in three_closest_tuples]\n",
    "print(target_closest_species)"
   ]
  },
  {
   "cell_type": "markdown",
   "metadata": {},
   "source": [
    "With the help of Counter class (collections packages) we can count occurences for each specie class in given subset of three closest neighbours. You can see the example of usage below:"
   ]
  },
  {
   "cell_type": "code",
   "execution_count": 27,
   "metadata": {},
   "outputs": [
    {
     "name": "stdout",
     "output_type": "stream",
     "text": [
      "Counted Counter({14: 3, 33: 2, 12: 1, 8: 1, 9: 1})\n",
      "Majority [(14, 3), (33, 2), (12, 1), (8, 1), (9, 1)]\n",
      "Most common class 14\n"
     ]
    }
   ],
   "source": [
    "from collections import Counter\n",
    "\n",
    "\n",
    "sample_list =  [33, 33, 12, 14, 14, 14, 8, 9]\n",
    "counted = Counter(sample_list)\n",
    "print('Counted {}'.format(counted))\n",
    "ordered = counted.most_common()\n",
    "print('Majority {}'.format(ordered))\n",
    "most_common_value = ordered[0][0]\n",
    "print('Most common class {}'.format(most_common_value))"
   ]
  },
  {
   "cell_type": "markdown",
   "metadata": {},
   "source": [
    "Now, as we know how to do it we should find the most common class within the neighbours classes stored in *target_closest_species* variable. We can then know which class will be assigned to analyzed example"
   ]
  },
  {
   "cell_type": "code",
   "execution_count": 29,
   "metadata": {},
   "outputs": [
    {
     "name": "stdout",
     "output_type": "stream",
     "text": [
      "2\n"
     ]
    }
   ],
   "source": [
    "predicted_class = Counter(target_closest_species).most_common()[0][0]\n",
    "print(predicted_class)"
   ]
  },
  {
   "cell_type": "markdown",
   "metadata": {},
   "source": [
    "We created a pipeline for one observation - now we can create a function that can be used quickly to all cases. Write a function that takes number of neighbours *k* (integer), *element* (one row from dataframe), *dataset* (pandas dataframe with all observations), and list of ground truth annotations for the dataset (species) - *target list*. It should return a list of ground truth classes for k-nearest-neighbours (for example: [0,2,2,1] for k=4)"
   ]
  },
  {
   "cell_type": "code",
   "execution_count": 30,
   "metadata": {},
   "outputs": [],
   "source": [
    "# wrap it into a function\n",
    "def find_k_closest_examples(k, element, dataset, target_list):\n",
    "    distances_to_element = []\n",
    "    for i in range(0, dataset.shape[0]):\n",
    "        distance = euclidean_distance(element, dataset.iloc[i, 0:4])\n",
    "        distances_to_element.append(distance)\n",
    "    \n",
    "    distances_target_combined = sorted(zip(distances_to_element, target_list))\n",
    "    species = [specie for distance, specie in distances_target_combined]\n",
    "    return species[0:k]"
   ]
  },
  {
   "cell_type": "markdown",
   "metadata": {},
   "source": [
    "Write a function that takes a list with classes number for k-nearest-neighbours and outputs the most common class (use Counter class)"
   ]
  },
  {
   "cell_type": "code",
   "execution_count": 31,
   "metadata": {},
   "outputs": [],
   "source": [
    "def get_most_frequent_class(k_closest_examples):\n",
    "    predicted_class = Counter(k_closest_examples).most_common()[0][0]\n",
    "    return predicted_class"
   ]
  },
  {
   "cell_type": "markdown",
   "metadata": {},
   "source": [
    "We can check the prediction for k=5 for first observation in train dataset"
   ]
  },
  {
   "cell_type": "code",
   "execution_count": 32,
   "metadata": {},
   "outputs": [
    {
     "data": {
      "text/plain": [
       "2"
      ]
     },
     "execution_count": 32,
     "metadata": {},
     "output_type": "execute_result"
    }
   ],
   "source": [
    "get_most_frequent_class(find_k_closest_examples(5, train.iloc[0, ], train, train['target'].tolist()))"
   ]
  },
  {
   "cell_type": "markdown",
   "metadata": {},
   "source": [
    "## 6. Predicting the specie value for each observation in train set and assess the classifiaction error"
   ]
  },
  {
   "cell_type": "markdown",
   "metadata": {},
   "source": [
    "Now write a for loop that will iterate over all training examples, and creates predictions for k = 9"
   ]
  },
  {
   "cell_type": "code",
   "execution_count": 36,
   "metadata": {},
   "outputs": [
    {
     "name": "stdout",
     "output_type": "stream",
     "text": [
      "[2, 1, 0, 0, 2, 1, 1, 2, 0, 0, 1, 0, 0, 1, 2, 0, 0, 1, 0, 1, 1, 1, 2, 0, 2, 1, 2, 2, 1, 1, 1, 1, 2, 2, 0, 1, 0, 1, 0, 1, 1, 1, 0, 1, 0, 2, 0, 2, 2, 2, 0, 0, 2, 2, 0, 0, 2, 1, 2, 2, 0, 2, 1, 0, 0, 1, 0, 2, 2, 2, 0, 0, 1, 1, 0, 1, 0, 1, 2, 1, 0, 2, 0, 1, 2, 2, 1, 2, 2, 2, 0, 0, 1, 2, 0, 2, 0, 2, 1, 1, 1, 0, 1, 0, 2, 1, 0, 1, 2, 0, 2, 2, 1, 2, 2, 0, 0]\n"
     ]
    }
   ],
   "source": [
    "predictions = []\n",
    "\n",
    "for i in range(0, train.shape[0]):\n",
    "    closest_examples = find_k_closest_examples(3, train.iloc[i,], train, train['target'].tolist())\n",
    "    most_frequent_class_for_i_neighbours = get_most_frequent_class(closest_examples)\n",
    "    predictions.append(most_frequent_class_for_i_neighbours)\n",
    "\n",
    "print(predictions)"
   ]
  },
  {
   "cell_type": "markdown",
   "metadata": {},
   "source": [
    "Write a *classification_accuracy* function that takes predictions (in pd.Series format), and target_variable (also in pd.Series format) and return the classification error - the percentage of cases assigned properly by the algorithm"
   ]
  },
  {
   "cell_type": "code",
   "execution_count": 37,
   "metadata": {},
   "outputs": [],
   "source": [
    "def classification_accuracy(prediction_series, target_series):\n",
    "    is_correct = prediction_series == target_series\n",
    "    accuracy = np.sum(is_correct) / len(prediction_series)\n",
    "    return accuracy"
   ]
  },
  {
   "cell_type": "markdown",
   "metadata": {},
   "source": [
    "Let's check the prediction accuracy"
   ]
  },
  {
   "cell_type": "code",
   "execution_count": 38,
   "metadata": {},
   "outputs": [
    {
     "data": {
      "text/plain": [
       "0.97435897435897434"
      ]
     },
     "execution_count": 38,
     "metadata": {},
     "output_type": "execute_result"
    }
   ],
   "source": [
    "classification_accuracy(pd.Series(predictions), train['target'])"
   ]
  },
  {
   "cell_type": "markdown",
   "metadata": {},
   "source": [
    "## 7. Predicting the specie value for each observation in test set"
   ]
  },
  {
   "cell_type": "markdown",
   "metadata": {},
   "source": [
    "Now iterate over all TEST cases, find similar elements in train sample, and get predictions"
   ]
  },
  {
   "cell_type": "code",
   "execution_count": 39,
   "metadata": {},
   "outputs": [],
   "source": [
    "predictions_test = []\n",
    "\n",
    "for i in range(0, test.shape[0]):\n",
    "    closest_examples = find_k_closest_examples(2, test.iloc[i,], train, train['target'].tolist())\n",
    "    predictions_test.append(get_most_frequent_class(closest_examples))"
   ]
  },
  {
   "cell_type": "code",
   "execution_count": 41,
   "metadata": {},
   "outputs": [
    {
     "name": "stdout",
     "output_type": "stream",
     "text": [
      "[1, 1, 2, 2, 0, 2, 2, 1, 0, 2, 1, 1, 0, 0, 2, 2, 1, 0, 1, 1, 0, 1, 0, 0, 2, 0, 1, 1, 1, 2, 0, 2, 2]\n"
     ]
    }
   ],
   "source": [
    "print(predictions_test)"
   ]
  },
  {
   "cell_type": "markdown",
   "metadata": {},
   "source": [
    "Check test accuracy:"
   ]
  },
  {
   "cell_type": "code",
   "execution_count": 42,
   "metadata": {},
   "outputs": [
    {
     "data": {
      "text/plain": [
       "0.90909090909090906"
      ]
     },
     "execution_count": 42,
     "metadata": {},
     "output_type": "execute_result"
    }
   ],
   "source": [
    "classification_accuracy(pd.Series(predictions_test), test['target'])"
   ]
  },
  {
   "cell_type": "markdown",
   "metadata": {},
   "source": [
    "## 8. Investigating confusion matrix"
   ]
  },
  {
   "cell_type": "code",
   "execution_count": 43,
   "metadata": {},
   "outputs": [],
   "source": [
    "from sklearn.metrics import confusion_matrix"
   ]
  },
  {
   "cell_type": "code",
   "execution_count": 44,
   "metadata": {},
   "outputs": [
    {
     "data": {
      "text/plain": [
       "array([[10,  0,  0],\n",
       "       [ 0, 10,  2],\n",
       "       [ 0,  1, 10]], dtype=int64)"
      ]
     },
     "execution_count": 44,
     "metadata": {},
     "output_type": "execute_result"
    }
   ],
   "source": [
    "confusion_matrix(pd.Series(predictions_test), test['target'])"
   ]
  },
  {
   "cell_type": "markdown",
   "metadata": {},
   "source": [
    "## 9. Analyzing test error based on different k parameter"
   ]
  },
  {
   "cell_type": "code",
   "execution_count": 52,
   "metadata": {},
   "outputs": [],
   "source": [
    "test_accuracies = []\n",
    "\n",
    "for k in range(1, 15):\n",
    "    predictions_test = []\n",
    "    for i in range(0, test.shape[0]):\n",
    "        closest_examples = find_k_closest_examples(k, test.iloc[i,], train, train['target'].tolist())\n",
    "        predictions_test.append(get_most_frequent_class(closest_examples))\n",
    "    test_accuracies.append(classification_accuracy(pd.Series(predictions_test), test['target']))"
   ]
  },
  {
   "cell_type": "code",
   "execution_count": 53,
   "metadata": {},
   "outputs": [
    {
     "name": "stdout",
     "output_type": "stream",
     "text": [
      "[0.90909090909090906, 0.90909090909090906, 0.93939393939393945, 0.93939393939393945, 0.93939393939393945, 0.90909090909090906, 0.93939393939393945, 0.90909090909090906, 0.93939393939393945, 0.93939393939393945, 0.93939393939393945, 0.93939393939393945, 0.93939393939393945, 0.93939393939393945]\n"
     ]
    }
   ],
   "source": [
    "print(test_accuracies)"
   ]
  },
  {
   "cell_type": "code",
   "execution_count": 54,
   "metadata": {},
   "outputs": [
    {
     "data": {
      "text/plain": [
       "[<matplotlib.lines.Line2D at 0x9a91ef0>]"
      ]
     },
     "execution_count": 54,
     "metadata": {},
     "output_type": "execute_result"
    },
    {
     "data": {
      "image/png": "[encoded data removed]",
      "text/plain": [
       "<matplotlib.figure.Figure at 0x978ecf8>"
      ]
     },
     "metadata": {},
     "output_type": "display_data"
    }
   ],
   "source": [
    "%matplotlib inline\n",
    "import matplotlib.pyplot as plt\n",
    "plt.plot(test_accuracies)"
   ]
  }
 ],
 "metadata": {
  "kernelspec": {
   "display_name": "Python 3",
   "language": "python",
   "name": "python3"
  }
 },
 "nbformat": 4,
 "nbformat_minor": 2
}
