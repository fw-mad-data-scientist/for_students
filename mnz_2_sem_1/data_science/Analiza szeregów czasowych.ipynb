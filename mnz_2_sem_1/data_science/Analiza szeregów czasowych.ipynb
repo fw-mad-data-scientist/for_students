{
 "cells": [
  {
   "cell_type": "markdown",
   "metadata": {},
   "source": [
    "# Wprowadzenie"
   ]
  },
  {
   "cell_type": "markdown",
   "metadata": {},
   "source": [
    "Poniżej przykład analizy szeregów czasowych, o którym rozmawialiśmy na ćwiczeniach bez projektora :) \n",
    "\n",
    "Analizowane będą dane dot. ilości pasażerów linii lotniczych w czasie - pokażę Państwu, jak zrobić na tych danych rozbiór na składowe (trend/sezonowość/błędy), jak przeprowadzić analizę wartości resztowych oraz modelować za pomocą procedury ARIMA"
   ]
  },
  {
   "cell_type": "markdown",
   "metadata": {},
   "source": [
    "Strony internetowe, na których można znaelźć bardzo szczegółowe tutoriale i poradniki odnośnie analizy szeregów czasowych znajdą Państwo poniżej:\n",
    "\n",
    "* https://www.analyticsvidhya.com/blog/2016/02/time-series-forecasting-codes-python/\n",
    "* https://machinelearningmastery.com/arima-for-time-series-forecasting-with-python/\n",
    "* https://machinelearningmastery.com/time-series-forecast-study-python-monthly-sales-french-champagne/"
   ]
  },
  {
   "cell_type": "markdown",
   "metadata": {},
   "source": [
    "# Przygotowanie techniczne"
   ]
  },
  {
   "cell_type": "code",
   "execution_count": null,
   "metadata": {
    "collapsed": true
   },
   "outputs": [],
   "source": [
    "import pandas as pd\n",
    "from pandas.tools.plotting import autocorrelation_plot\n",
    "from statsmodels.tsa.arima_model import ARIMA\n",
    "from statsmodels.graphics.tsaplots import plot_acf\n",
    "from statsmodels.graphics.tsaplots import plot_pacf"
   ]
  },
  {
   "cell_type": "markdown",
   "metadata": {},
   "source": [
    "# Wczytanie danych"
   ]
  },
  {
   "cell_type": "code",
   "execution_count": null,
   "metadata": {
    "collapsed": true
   },
   "outputs": [],
   "source": []
  }
 ],
 "metadata": {
  "kernelspec": {
   "display_name": "Python 3",
   "language": "python",
   "name": "python3"
  },
  "language_info": {
   "codemirror_mode": {
    "name": "ipython",
    "version": 3
   },
   "file_extension": ".py",
   "mimetype": "text/x-python",
   "name": "python",
   "nbconvert_exporter": "python",
   "pygments_lexer": "ipython3",
   "version": "3.6.3"
  }
 },
 "nbformat": 4,
 "nbformat_minor": 2
}
