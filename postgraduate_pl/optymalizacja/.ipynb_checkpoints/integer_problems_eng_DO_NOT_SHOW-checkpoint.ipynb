{
 "cells": [
  {
   "cell_type": "markdown",
   "metadata": {},
   "source": [
    "## 1. Exercise Objective\n",
    "\n",
    "The objective of this exercise is to introduce theoretical foundations of binary and integer programming and to provide an overview on a software product allowing to formulate and solve an optimization problem.\n",
    "\n",
    "In this part we will focus on integer programming.\n",
    "\n",
    "## 2.\tExercise agenda\n",
    "1. Recap on the Knapsack problem\n",
    "1. Integer Programming\n",
    "    1. General Knapsack Problem\n",
    "    1. Transportation Problem\n",
    "\n",
    "### Assessment criteria\n",
    "Successful completion of the homework assignment.\n",
    "\n"
   ]
  },
  {
   "cell_type": "markdown",
   "metadata": {},
   "source": [
    "## Recap on the Knapsack problem\n",
    "\n",
    "![Knapsack problem](https://upload.wikimedia.org/wikipedia/commons/thumb/f/fd/Knapsack.svg/277px-Knapsack.svg.png)\n",
    "Image credits: CC BY-SA 2.5, https://commons.wikimedia.org/w/index.php?curid=985491"
   ]
  },
  {
   "cell_type": "markdown",
   "metadata": {},
   "source": [
    "**The Knapsack Problem**: Given a set of items, each with a weight and a value, determine the number of each item to include in a collection so that the total weight is less than or equal to a given limit and the total value is as large as possible. "
   ]
  },
  {
   "cell_type": "markdown",
   "metadata": {},
   "source": [
    "Knapsack capacity: 15kg\n",
    "\n",
    "| Item   | green | blue | gray | orange | yellow |\n",
    "|--------|------:|-----:|-----:|-------:|-------:|\n",
    "| Value  |     4 |    2 |    2 |      1 |     10 |\n",
    "| Weight |    12 |    2 |    1 |      1 |      4 |"
   ]
  },
  {
   "cell_type": "code",
   "execution_count": 1,
   "metadata": {
    "ExecuteTime": {
     "end_time": "2020-06-12T15:39:18.793450Z",
     "start_time": "2020-06-12T15:39:17.137507Z"
    }
   },
   "outputs": [
    {
     "name": "stdout",
     "output_type": "stream",
     "text": [
      "Items to be taken: [blue, gray, orange, yellow] fill 8.0kg out of 15kg total knapsack capacity and are worth $15.0\n"
     ]
    }
   ],
   "source": [
    "import numpy as np\n",
    "import cvxpy as cp\n",
    "\n",
    "# list of items\n",
    "items = ['green', 'blue', 'gray', 'orange', 'yellow']\n",
    "nb_items = len(items)\n",
    "\n",
    "# weight and value of the items\n",
    "weight = [12, 2, 1, 1, 4]\n",
    "value = [4, 2, 2, 1, 10]\n",
    "\n",
    "# total capacity of the knapsack\n",
    "total_capacity = 15\n",
    "\n",
    "# boolean variable - True (1) if an item should be put in the knapsack, False otherwise\n",
    "x = cp.Variable(nb_items, boolean=True)\n",
    "\n",
    "# objective - maximize the total value\n",
    "objective = cp.Maximize(cp.matmul(value, x))\n",
    "\n",
    "# constraint - capacity of the knapsack cannot be exceeded by the total weight of items inside\n",
    "constraints = [cp.matmul(weight, x) <= total_capacity]\n",
    "\n",
    "# define a problem\n",
    "problem = cp.Problem(objective, constraints)\n",
    "# solve the problem\n",
    "optimal_value = problem.solve(solver=cp.CBC)\n",
    "\n",
    "# results\n",
    "# filled capacity of the knapsack\n",
    "filled_capacity = np.matmul(weight, x.value)\n",
    "# names of selected items\n",
    "selected_items = [item for item, decision in zip(items, x.value) if decision]\n",
    "\n",
    "print('Items to be taken: [{}] fill {}kg out of {}kg total knapsack capacity and are worth ${}' \\\n",
    "      .format(', '.join(selected_items), filled_capacity, total_capacity, optimal_value))"
   ]
  },
  {
   "cell_type": "markdown",
   "metadata": {},
   "source": [
    "## Integer programming"
   ]
  },
  {
   "cell_type": "markdown",
   "metadata": {},
   "source": [
    "**Intuition:** Consider the manufacture of television sets. A linear programming model might give a production plan of e.g. 205.7 sets per week. In such a model, most people would have no trouble stating that production should be 205 sets per week (or even “roughly 200 sets per week”). On the other hand, suppose we were buying warehouses to store finished goods, where a warehouse  comes in a set size. Then a model that suggests we purchase 0.7 warehouse at some location and 0.6 somewhere else would be of little value. Warehouses come in integer quantities, and we would like our model to reflect that fact."
   ]
  },
  {
   "cell_type": "markdown",
   "metadata": {},
   "source": [
    "An integer programming problem is a mathematical optimization problem in which some or all of the variables are restricted to be integers. In many settings the term refers to integer linear programming (ILP), in which the objective function and the constraints (other than the integer constraints) are linear.\n",
    "\n",
    "Integer programming is NP-complete. In particular, the special case of 0-1 integer linear programming, in which unknowns are binary, and only the restrictions must be satisfied, is one of Karp's 21 NP-complete problems.\n",
    "\n",
    "If some decision variables are not discrete the problem is known as a mixed-integer programming problem.\n",
    "\n",
    "An integer linear program in canonical form is expressed as:\n",
    "\n",
    "$$ \\begin{aligned}&{\\text{maximize}}&&\\mathbf {c} ^{\\mathrm {T} }\\mathbf {x} \\\\&{\\text{subject to}}&&A\\mathbf {x} \\leq \\mathbf {b} ,\\\\&&&\\mathbf {x} \\geq \\mathbf {0} ,\\\\&{\\text{and}}&&\\mathbf {x} \\in \\mathbb {Z} ^{n}.\\end{aligned}$$\n",
    "\n",
    "where $ \\mathbf {c}$  is a vector and $A$ is a matrix, where all entries are integers. "
   ]
  },
  {
   "cell_type": "markdown",
   "metadata": {},
   "source": [
    "## Example 1 - General Knapsack Problem"
   ]
  },
  {
   "cell_type": "markdown",
   "metadata": {},
   "source": [
    "In the Knapsack problem assume you can take as many items as possible. Transform the problem into an integer programming problem. "
   ]
  },
  {
   "cell_type": "markdown",
   "metadata": {},
   "source": [
    "**Canonical form**\n",
    "\n",
    "$$\\begin{aligned} & v = [4, 2, 2, 1, 10]^T && \\textrm{ - vector of values} \\\\ & W = w^T = [12, 2, 1, 1, 4] && \\textrm{ - matrix (vector) of weights} \\\\ \\\\ &{\\text{Maximize}}&&\\mathbf {v} ^{\\mathrm {T} }\\mathbf {x} \\\\&{\\text{subject to}}&&W\\mathbf {x} \\leq \\mathbf {15} \\\\&{\\text{and}}&&\\mathbf {x} \\geq \\mathbf {0} \\end{aligned}$$"
   ]
  },
  {
   "cell_type": "code",
   "execution_count": 2,
   "metadata": {
    "ExecuteTime": {
     "end_time": "2020-06-12T15:39:19.858781Z",
     "start_time": "2020-06-12T15:39:19.854795Z"
    }
   },
   "outputs": [],
   "source": [
    "import cvxpy as cp\n",
    "import numpy as np"
   ]
  },
  {
   "cell_type": "code",
   "execution_count": 3,
   "metadata": {
    "ExecuteTime": {
     "end_time": "2020-06-12T15:39:20.156025Z",
     "start_time": "2020-06-12T15:39:20.152033Z"
    }
   },
   "outputs": [],
   "source": [
    "weight = [12, 2, 1, 1, 4]\n",
    "value = [4, 2, 2, 1, 10]\n",
    "items = ['green', 'blue', 'gray', 'orange', 'yellow']\n",
    "nb_items = len(items)\n",
    "total_capacity = 15"
   ]
  },
  {
   "cell_type": "code",
   "execution_count": 4,
   "metadata": {
    "ExecuteTime": {
     "end_time": "2020-06-12T15:39:20.540821Z",
     "start_time": "2020-06-12T15:39:20.536822Z"
    }
   },
   "outputs": [],
   "source": [
    "x = cp.Variable(nb_items, integer=True)"
   ]
  },
  {
   "cell_type": "code",
   "execution_count": 5,
   "metadata": {
    "ExecuteTime": {
     "end_time": "2020-06-12T15:39:20.933213Z",
     "start_time": "2020-06-12T15:39:20.920210Z"
    }
   },
   "outputs": [
    {
     "data": {
      "text/plain": [
       "Variable((5,), integer=True)"
      ]
     },
     "execution_count": 5,
     "metadata": {},
     "output_type": "execute_result"
    }
   ],
   "source": [
    "x"
   ]
  },
  {
   "cell_type": "code",
   "execution_count": 6,
   "metadata": {
    "ExecuteTime": {
     "end_time": "2020-06-12T15:39:22.046012Z",
     "start_time": "2020-06-12T15:39:22.040028Z"
    }
   },
   "outputs": [],
   "source": [
    "objective = cp.Maximize(cp.matmul(value, x))"
   ]
  },
  {
   "cell_type": "code",
   "execution_count": 7,
   "metadata": {
    "ExecuteTime": {
     "end_time": "2020-06-12T15:39:22.413381Z",
     "start_time": "2020-06-12T15:39:22.408396Z"
    }
   },
   "outputs": [],
   "source": [
    "constraints = [cp.matmul(weight, x) <= total_capacity]"
   ]
  },
  {
   "cell_type": "code",
   "execution_count": 8,
   "metadata": {
    "ExecuteTime": {
     "end_time": "2020-06-12T15:39:22.799673Z",
     "start_time": "2020-06-12T15:39:22.794686Z"
    }
   },
   "outputs": [],
   "source": [
    "problem = cp.Problem(objective, constraints)"
   ]
  },
  {
   "cell_type": "code",
   "execution_count": 9,
   "metadata": {
    "ExecuteTime": {
     "end_time": "2020-06-12T15:39:23.615088Z",
     "start_time": "2020-06-12T15:39:23.592634Z"
    }
   },
   "outputs": [],
   "source": [
    "optimal_value = problem.solve(solver=cp.CBC, verbose=True)"
   ]
  },
  {
   "cell_type": "markdown",
   "metadata": {},
   "source": [
    "The cvxpy library is showing us an internal error. While this description of the error does not provide us with much information, it usually happens if we forget something in the definition of the problem. \n",
    "\n",
    "Let us think what we might be missing in our definition. Maybe we forgot a constraint?\n",
    "\n",
    "Indeed, we should restrict the variable $x$ to be a non-negative integer.\n",
    "\n",
    "Note: in binary problems we didn't have to add any additional constraints on $x$ because it was already constrained to be either 0 or 1. Integers, however, range from $-\\infty$ to $\\infty$. Moreover, negative $x$ does not make sense - you cannot put a negative number of items in a knapsack."
   ]
  },
  {
   "cell_type": "code",
   "execution_count": 10,
   "metadata": {
    "ExecuteTime": {
     "end_time": "2020-06-12T15:39:28.612768Z",
     "start_time": "2020-06-12T15:39:28.608781Z"
    }
   },
   "outputs": [],
   "source": [
    "constraints.append(x >= 0)"
   ]
  },
  {
   "cell_type": "code",
   "execution_count": 11,
   "metadata": {
    "ExecuteTime": {
     "end_time": "2020-06-12T15:39:28.932484Z",
     "start_time": "2020-06-12T15:39:28.904556Z"
    }
   },
   "outputs": [
    {
     "data": {
      "text/plain": [
       "36.0"
      ]
     },
     "execution_count": 11,
     "metadata": {},
     "output_type": "execute_result"
    }
   ],
   "source": [
    "problem = cp.Problem(objective, constraints)\n",
    "optimal_value = problem.solve(solver=cp.CBC)\n",
    "optimal_value"
   ]
  },
  {
   "cell_type": "code",
   "execution_count": 12,
   "metadata": {
    "ExecuteTime": {
     "end_time": "2020-06-12T15:39:29.780776Z",
     "start_time": "2020-06-12T15:39:29.774784Z"
    }
   },
   "outputs": [
    {
     "data": {
      "text/plain": [
       "15.0"
      ]
     },
     "execution_count": 12,
     "metadata": {},
     "output_type": "execute_result"
    }
   ],
   "source": [
    "np.sum(weight * x.value)"
   ]
  },
  {
   "cell_type": "code",
   "execution_count": 13,
   "metadata": {
    "ExecuteTime": {
     "end_time": "2020-06-12T15:39:30.075130Z",
     "start_time": "2020-06-12T15:39:30.070144Z"
    }
   },
   "outputs": [
    {
     "data": {
      "text/plain": [
       "array([-0., -0.,  3.,  0.,  3.])"
      ]
     },
     "execution_count": 13,
     "metadata": {},
     "output_type": "execute_result"
    }
   ],
   "source": [
    "x.value"
   ]
  },
  {
   "cell_type": "code",
   "execution_count": 14,
   "metadata": {
    "ExecuteTime": {
     "end_time": "2020-06-12T15:39:30.334485Z",
     "start_time": "2020-06-12T15:39:30.327535Z"
    }
   },
   "outputs": [
    {
     "name": "stdout",
     "output_type": "stream",
     "text": [
      "Items to be taken: 3.0 gray item(s), 3.0 yellow item(s).\n",
      "These items fill 15.0kg out of 15kg total knapsack capacity and are worth $36.00.\n"
     ]
    }
   ],
   "source": [
    "# results\n",
    "# filled capacity of the knapsack\n",
    "filled_capacity = np.sum(weight * x.value)\n",
    "# names of selected items\n",
    "selected_items = ['{} {} item(s)'.format(qty, item) for item, qty in zip(items, x.value) if qty > 0]\n",
    "\n",
    "print('Items to be taken: {}.\\nThese items fill {}kg out of {}kg total knapsack capacity and are worth ${:.2f}.' \\\n",
    "      .format(', '.join(selected_items), filled_capacity, total_capacity, optimal_value))"
   ]
  },
  {
   "cell_type": "markdown",
   "metadata": {},
   "source": [
    "## Exercise 2 - Transportation Problem"
   ]
  },
  {
   "cell_type": "markdown",
   "metadata": {},
   "source": [
    "Transportation problem is a problem where the objective is to minimize the cost of distributing a product from a number of sources or origins to a number of destinations. \n",
    "\n",
    "Each source has a certain supply and each destination has a certain demand. \n",
    "\n",
    "The cost of shipping from a source to a destination is directly proportional to the number of units shipped. \n",
    "\n",
    "Applications of Transportation Problem:\n",
    "- minimize shipping costs,\n",
    "- determine low cost location,\n",
    "- find minimum cost production schedule,\n",
    "- military distribution system."
   ]
  },
  {
   "cell_type": "markdown",
   "metadata": {},
   "source": [
    "There are two types of Transportation Problem:\n",
    "\n",
    "- Balanced TP - total supply equals total demand\n",
    "- Unbalanced TP - total supply is not equal to the total demand\n",
    "    - common situation in the real world"
   ]
  },
  {
   "cell_type": "markdown",
   "metadata": {},
   "source": [
    "### Balanced TP\n",
    "\n",
    "The table presents shipping costs (in €) from factories in Wrocław and Gdańsk to delivery centres DC1, DC2 and DC3. Each delivery centre has a certain demand for items and each factory can produce a certain supply of items. \n",
    "\n",
    "| From / To |  DC1  |  DC2  |  DC3  | _Supply_ |\n",
    "|:---------:|:-----:|:-----:|:-----:|:------:|\n",
    "|   Wrocław |   5   |   6   |   4   |   300  |\n",
    "|  Gdańsk   |   6   |   3   |   7   |   400  |\n",
    "|  _Demand_ | _200_ | _300_ | _200_ |        |\n",
    "\n",
    "Note that the total demand (700) is equal to the total supply (700). \n",
    "\n",
    "**Your task:** decide how many items should be shipped from each factory to each delivery centre so that the total shipping cost is minimized. \n"
   ]
  },
  {
   "cell_type": "code",
   "execution_count": 15,
   "metadata": {
    "ExecuteTime": {
     "end_time": "2020-06-12T15:39:34.311040Z",
     "start_time": "2020-06-12T15:39:34.280121Z"
    }
   },
   "outputs": [
    {
     "name": "stdout",
     "output_type": "stream",
     "text": [
      "Shipping\n",
      "[[100.   0. 200.]\n",
      " [100. 300.  -0.]]\n",
      "yields 2800€\n"
     ]
    }
   ],
   "source": [
    "import numpy as np\n",
    "import cvxpy as cp\n",
    "\n",
    "x = cp.Variable((2,3), integer=True)\n",
    "\n",
    "supply = [300, 400]\n",
    "demand = [200, 300, 200]\n",
    "\n",
    "shipping_cost = np.array([[5, 6, 4], [6, 3, 7]])\n",
    "\n",
    "objective = cp.Minimize(cp.sum(cp.multiply(shipping_cost, x)))\n",
    "\n",
    "constraints = [cp.sum(x, axis=1) == supply, \n",
    "               cp.sum(x, axis=0) == demand,\n",
    "               x >= 0]\n",
    "\n",
    "problem = cp.Problem(objective, constraints)\n",
    "\n",
    "optimal_value = problem.solve(solver=cp.CBC)\n",
    "\n",
    "print('Shipping\\n{}\\nyields {:.0f}€'.format(x.value, optimal_value))"
   ]
  },
  {
   "cell_type": "markdown",
   "metadata": {},
   "source": [
    "### Unbalanced TP (supply  > demand)\n",
    "\n",
    "The factory in Gdańsk has modernized its production line and now is able to produce 450 items instead of 400. However, the demand has remained unchanged.\n",
    "\n",
    "| From / To |  DC1  |  DC2  |  DC3  | _Supply_ |\n",
    "|:---------:|:-----:|:-----:|:-----:|:------:|\n",
    "|   Wrocław |   5   |   6   |   4   |   300  |\n",
    "|  Gdańsk   |   6   |   3   |   7   |   450  |\n",
    "|  _Demand_ | _200_ | _300_ | _200_ |        |\n",
    "\n",
    "**Your task:** Modify the definition of the balanced TP so that it solves the above unbalanced TP. \n"
   ]
  },
  {
   "cell_type": "markdown",
   "metadata": {},
   "source": [
    "Let's update the supply and demand accordingly."
   ]
  },
  {
   "cell_type": "code",
   "execution_count": 16,
   "metadata": {
    "ExecuteTime": {
     "end_time": "2020-06-12T15:40:04.917763Z",
     "start_time": "2020-06-12T15:40:04.910723Z"
    }
   },
   "outputs": [],
   "source": [
    "import numpy as np\n",
    "import cvxpy as cp\n",
    "\n",
    "x = cp.Variable((2,3), integer=True)\n",
    "\n",
    "supply = [300, 450]\n",
    "demand = [200, 300, 200]\n",
    "\n",
    "shipping_cost = np.array([[5, 6, 4], [6, 3, 7]])"
   ]
  },
  {
   "cell_type": "markdown",
   "metadata": {},
   "source": [
    "**Task**: Update the definition of the problem so that the problem can be solved."
   ]
  },
  {
   "cell_type": "code",
   "execution_count": 17,
   "metadata": {
    "ExecuteTime": {
     "end_time": "2020-06-12T15:40:06.327817Z",
     "start_time": "2020-06-12T15:40:06.303851Z"
    }
   },
   "outputs": [
    {
     "name": "stdout",
     "output_type": "stream",
     "text": [
      "Shipping\n",
      "[[100.   0. 200.]\n",
      " [100. 300.  -0.]]\n",
      "yields 2800€\n"
     ]
    }
   ],
   "source": [
    "objective = cp.Minimize(cp.sum(cp.multiply(shipping_cost, x)))\n",
    "\n",
    "constraints = [cp.sum(x, axis=1) <= supply, \n",
    "               cp.sum(x, axis=0) == demand,\n",
    "               x >= 0]\n",
    "\n",
    "problem = cp.Problem(objective, constraints)\n",
    "\n",
    "optimal_value = problem.solve(solver=cp.CBC)\n",
    "\n",
    "print('Shipping\\n{}\\nyields {:.0f}€'.format(x.value, optimal_value))"
   ]
  },
  {
   "cell_type": "markdown",
   "metadata": {},
   "source": [
    "### Unbalanced TP (supply < demand)\n",
    "\n",
    "The factory in Gdańsk has modernized its production line and now is able to produce 450 items instead of 400. However, the demand has increased.\n",
    "\n",
    "| From / To |  DC1  |  DC2  |  DC3  | _Supply_ |\n",
    "|:---------:|:-----:|:-----:|:-----:|:------:|\n",
    "|   Wrocław |   5   |   6   |   4   |   300  |\n",
    "|  Gdańsk   |   6   |   3   |   7   |   450  |\n",
    "|  _Demand_ | _300_ | _300_ | _200_ |        |\n",
    "\n",
    "**Your task:** Solve this problem."
   ]
  },
  {
   "cell_type": "code",
   "execution_count": 18,
   "metadata": {
    "ExecuteTime": {
     "end_time": "2020-06-12T15:40:09.031736Z",
     "start_time": "2020-06-12T15:40:09.000229Z"
    }
   },
   "outputs": [
    {
     "name": "stdout",
     "output_type": "stream",
     "text": [
      "Shipping\n",
      "[[100.  -0. 200.]\n",
      " [150. 300.  -0.]]\n",
      "yields 3100€\n"
     ]
    }
   ],
   "source": [
    "import numpy as np\n",
    "import cvxpy as cp\n",
    "\n",
    "x = cp.Variable((2,3), integer=True)\n",
    "\n",
    "supply = [300, 450]\n",
    "demand = [300, 300, 200]\n",
    "\n",
    "shipping_cost = np.array([[5, 6, 4], [6, 3, 7]])\n",
    "\n",
    "objective = cp.Minimize(cp.sum(cp.multiply(shipping_cost, x)))\n",
    "\n",
    "constraints = [cp.sum(x, axis=1) == supply, \n",
    "               cp.sum(x, axis=0) <= demand,\n",
    "               x >= 0]\n",
    "\n",
    "problem = cp.Problem(objective, constraints)\n",
    "\n",
    "optimal_value = problem.solve(solver=cp.CBC)\n",
    "\n",
    "print('Shipping\\n{}\\nyields {:.0f}€'.format(x.value, optimal_value))"
   ]
  },
  {
   "cell_type": "markdown",
   "metadata": {},
   "source": [
    "### Gdańsk cannot deliver to DC2\n",
    "\n",
    "Gdańsk manufacturing plant cannot deliver to DC2. Modify the objective function and the constraints to express this situation.\n",
    "\n",
    "| From / To |  DC1  |  DC2  |  DC3  | _Supply_ |\n",
    "|:---------:|:-----:|:-----:|:-----:|:------:|\n",
    "|   Wrocław |   5   |   6   |   4   |   300  |\n",
    "|  Gdańsk   |   6   |   X   |   7    |   500  |\n",
    "|  _Demand_ | _300_ | _300_ | _200_ |        |\n",
    "\n",
    "**Your task:** Solve this problem."
   ]
  },
  {
   "cell_type": "code",
   "execution_count": 19,
   "metadata": {
    "ExecuteTime": {
     "end_time": "2020-06-12T15:40:12.770663Z",
     "start_time": "2020-06-12T15:40:12.742688Z"
    }
   },
   "outputs": [
    {
     "name": "stdout",
     "output_type": "stream",
     "text": [
      "Shipping\n",
      "[[  0. 300.   0.]\n",
      " [300.   0. 200.]]\n",
      "yields 5000€\n"
     ]
    }
   ],
   "source": [
    "import numpy as np\n",
    "import cvxpy as cp\n",
    "\n",
    "x = cp.Variable((2,3), integer=True)\n",
    "\n",
    "supply = [300, 500]\n",
    "demand = [300, 300, 200]\n",
    "\n",
    "shipping_cost = np.array([[5, 6, 4], [6, 0, 7]])\n",
    "\n",
    "objective = cp.Minimize(cp.sum(cp.multiply(shipping_cost, x)))\n",
    "\n",
    "constraints = [cp.sum(x, axis=1) <= supply, \n",
    "               cp.sum(x, axis=0) == demand,\n",
    "               x >= 0,\n",
    "               x[1,1] == 0]\n",
    "\n",
    "problem = cp.Problem(objective, constraints)\n",
    "\n",
    "optimal_value = problem.solve(solver=cp.CBC)\n",
    "\n",
    "print('Shipping\\n{}\\nyields {:.0f}€'.format(x.value, optimal_value))"
   ]
  },
  {
   "cell_type": "markdown",
   "metadata": {},
   "source": [
    "# References\n",
    "[1] https://www.youtube.com/watch?v=-3my1TkyFiM (Transportation problem)\n",
    "\n",
    "[2] https://fenix.tecnico.ulisboa.pt/downloadFile/3779573411805/6%20OD_Integer%20Programming_h.pdf (plots and one example) \n",
    "\n",
    "[3] https://www.doc.ic.ac.uk/~br/berc/integerprog.pdf (Firestations exercise)\n",
    "\n",
    "[4] https://ocw.ehu.eus/pluginfile.php/8171/mod_resource/content/1/6_Integer_Slides.pdf\n"
   ]
  },
  {
   "cell_type": "code",
   "execution_count": null,
   "metadata": {},
   "outputs": [],
   "source": []
  }
 ],
 "metadata": {
  "kernelspec": {
   "display_name": "Python 3",
   "language": "python",
   "name": "python3"
  },
  "language_info": {
   "codemirror_mode": {
    "name": "ipython",
    "version": 3
   },
   "file_extension": ".py",
   "mimetype": "text/x-python",
   "name": "python",
   "nbconvert_exporter": "python",
   "pygments_lexer": "ipython3",
   "version": "3.7.6"
  },
  "toc": {
   "base_numbering": 1,
   "nav_menu": {},
   "number_sections": true,
   "sideBar": true,
   "skip_h1_title": false,
   "title_cell": "Table of Contents",
   "title_sidebar": "Contents",
   "toc_cell": false,
   "toc_position": {},
   "toc_section_display": true,
   "toc_window_display": false
  },
  "varInspector": {
   "cols": {
    "lenName": 16,
    "lenType": 16,
    "lenVar": 40
   },
   "kernels_config": {
    "python": {
     "delete_cmd_postfix": "",
     "delete_cmd_prefix": "del ",
     "library": "var_list.py",
     "varRefreshCmd": "print(var_dic_list())"
    },
    "r": {
     "delete_cmd_postfix": ") ",
     "delete_cmd_prefix": "rm(",
     "library": "var_list.r",
     "varRefreshCmd": "cat(var_dic_list()) "
    }
   },
   "types_to_exclude": [
    "module",
    "function",
    "builtin_function_or_method",
    "instance",
    "_Feature"
   ],
   "window_display": false
  }
 },
 "nbformat": 4,
 "nbformat_minor": 2
}
