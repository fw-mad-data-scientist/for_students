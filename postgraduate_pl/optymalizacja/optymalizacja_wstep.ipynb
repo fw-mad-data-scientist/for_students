{
 "cells": [
  {
   "cell_type": "markdown",
   "metadata": {
    "slideshow": {
     "slide_type": "slide"
    }
   },
   "source": [
    "# Optymalizacja - wstep"
   ]
  },
  {
   "cell_type": "markdown",
   "metadata": {
    "slideshow": {
     "slide_type": "skip"
    }
   },
   "source": [
    "## Przygotowanie bibliotek"
   ]
  },
  {
   "cell_type": "code",
   "execution_count": 11,
   "metadata": {
    "ExecuteTime": {
     "end_time": "2020-06-14T06:56:39.303672Z",
     "start_time": "2020-06-14T06:56:39.299685Z"
    },
    "slideshow": {
     "slide_type": "skip"
    }
   },
   "outputs": [],
   "source": [
    "import numpy as np\n",
    "import cvxpy as cp\n",
    "import warnings\n",
    "warnings.filterwarnings('ignore')"
   ]
  },
  {
   "cell_type": "markdown",
   "metadata": {
    "slideshow": {
     "slide_type": "slide"
    }
   },
   "source": [
    "## Teoria\n",
    "\n",
    "Zadania optymalizacyjne to takie działania, które mają na celu znalezienie najlepszego rozwiązania określonego problemu. \n",
    "\n",
    "Na każdy problem optymalizacyjny składają się co najmniej trzy elementy:\n",
    "\n",
    "1. **Definicja funkcji celu** - co ma być optymalizowane\n",
    "2. **Definicja zmiennych** - jakimi czynnikami mozna manipulować aby ten cel osiągnąć\n",
    "3. **Definicja ograniczeń** - w jaki sposób można modyfikować zmienne"
   ]
  },
  {
   "cell_type": "markdown",
   "metadata": {
    "slideshow": {
     "slide_type": "subslide"
    }
   },
   "source": [
    "**Minimalizacja / optymalizacja**\n",
    "\n",
    "Klasyczne roblemy optymalizacyjne przedstawia się jako *minimalizację* określonej funkcji.\n",
    "\n",
    "Nic nie stoi jednak na przeszkodzie, aby minimalizację zamienić w maksymalizację:\n",
    "\n",
    "$$ Minimalizacja_x\\ f(x) \\Leftrightarrow Maksymalizacja_x\\ f(-x) $$"
   ]
  },
  {
   "cell_type": "markdown",
   "metadata": {
    "slideshow": {
     "slide_type": "subslide"
    }
   },
   "source": [
    "**Typy problemów**\n",
    "\n",
    "W zależności od rodzaju zmiennych uwzględnianych w problemie optymaliacyjnym, można wyróżnić następujące ich typy:\n",
    "\n",
    "1. **Problemy binarne** - gdzie zmienne przyjmują wartości 0 lub 1\n",
    "2. **Problemy całkowitoliczbowe** - gdzie zmienne mogą przyjmować wartości będące tylko liczbami całkowitymi\n",
    "3. **Problemy mieszane** - połączenie powyższych"
   ]
  },
  {
   "cell_type": "markdown",
   "metadata": {
    "slideshow": {
     "slide_type": "subslide"
    }
   },
   "source": [
    "**Formalizacja**\n",
    "\n",
    "Problemy optymalizacyjne zazwyczaj przedstawiane są w postaci macierzowej, gdzie określa się:\n",
    "\n",
    "1. **x** - macierz zmiennych. Czynniki, którymi można manipuloawć\n",
    "2. **A** - macierz współczynników przypisywanych do zmiennych\n",
    "3. b - wektor ograniczeń dla każdej ze zmiennych\n",
    "4. c - wektor odnoszący się do wartości funkcji celu, przypisywany do zmiennych\n",
    "\n",
    "Mając takie komponenty, można stworzyć **postać kanoniczną problemu**:\n",
    "\n",
    "$$ Minimalizuj_x\\ c^T\\mathbf{x} $$\n",
    "$$ \\textrm{z ograniczeniami } \\mathbf{Ax} \\le b $$\n",
    "$$ \\textrm{gdzie } \\mathbf{x} \\ge 0 $$"
   ]
  },
  {
   "cell_type": "markdown",
   "metadata": {
    "slideshow": {
     "slide_type": "slide"
    }
   },
   "source": [
    "## Optymalizacja - problemy binarne\n",
    "\n",
    "* W wielu przypadkach, probelm, który musimy rozwiązać przyjmuje postać zero-jedynkową: decyzji tak, albo nie.\n",
    "* Wykorzystanie lub brak wykorzystnia określonego elementu, obecność lub brak obecności jakiejś składowej\n"
   ]
  },
  {
   "cell_type": "markdown",
   "metadata": {
    "slideshow": {
     "slide_type": "subslide"
    }
   },
   "source": [
    "**Przykład:**\n",
    "\n",
    "* Firma ma kilka projektów, które można zlecić do relizacji\n",
    "* Każdy projekt generuje określone zyski po jego zakończeniu\n",
    "* Każdy projekt generuje pewne koszty w czasie swojego trwania\n",
    "\n",
    "Pytanie: które projekty przyjąć do realizacji, a które odrzucić?\n",
    "\n",
    "Tabela poniżej zawiera zestawienie projektów. \n",
    "* Wartości w poszczególnych miesiącach oznaczają koszt. \n",
    "* W kolumnie budżet wskazano środki, jakimi dysponuje firma w danym miesiącu - jest to nieprzekraczany budżet\n",
    "* Wiersz **zysk** wskazuje na ostateczny zysk, który osiągnie firma po zakończeniu proejktu\n",
    "\n",
    "| Projekt | 1  | 2 | 3 | 4 | Budżet |\n",
    "|---|---|---|---|---|---|\n",
    "| Styczeń  | 60  | 40 | 30  | 20  | 120 |\n",
    "| Luty  | 20  | 30  | 10  | 20  | 85 |\n",
    "| Marzec  | 45  | 20  | 20  | 30  | 100 |\n",
    "| Zysk   | 220 | 120 | 90 | 110 | |"
   ]
  },
  {
   "cell_type": "markdown",
   "metadata": {
    "slideshow": {
     "slide_type": "slide"
    }
   },
   "source": [
    "**Zmienne** \n",
    "\n",
    "Fakt wyboru / braku wyboru projektu można przeddsatwić jako zmienną binarną (1 lub zero). W notacji formalnej:\n",
    "\n",
    "$$X_i = 1 \\textrm{ jeśli projekt } i \\textrm{ został wybrany, } 0 \\textrm{ w przeciwnym wypadku}, \\qquad \\forall i \\in \\{1,2,3,4\\}.$$\n",
    "\n",
    "Ponieważ są 4 projekty, możemy je przedstawić jako wektor binary z czterema elementami"
   ]
  },
  {
   "cell_type": "code",
   "execution_count": 2,
   "metadata": {
    "ExecuteTime": {
     "end_time": "2020-06-14T06:55:12.542844Z",
     "start_time": "2020-06-14T06:55:12.538855Z"
    },
    "slideshow": {
     "slide_type": "subslide"
    }
   },
   "outputs": [],
   "source": [
    "# number of projects\n",
    "n = 4\n",
    "\n",
    "# variables\n",
    "x = cp.Variable((n, 1), boolean=True)"
   ]
  },
  {
   "cell_type": "markdown",
   "metadata": {
    "slideshow": {
     "slide_type": "slide"
    }
   },
   "source": [
    "**Funkcja celu**\n",
    "\n",
    "\n",
    "W optymalizacji kluczowe jest zdefinioawnie funkcji celu, tzn. tego, co próbujemy optymalizować. Przyjmuje ona postać równania liniowego. \n",
    "\n",
    "W przypadku opisywanego problemu - będzie to zysk po wykonaniu projektu. W tym przypadku mamy do czynienia z **maksymalizacją** zysku"
   ]
  },
  {
   "cell_type": "markdown",
   "metadata": {
    "slideshow": {
     "slide_type": "subslide"
    }
   },
   "source": [
    "$$\\begin{aligned} &\\textrm{Maximize } && 220X_1 + 120X_2 + 90X_3 + 110X_4 \\end{aligned} $$"
   ]
  },
  {
   "cell_type": "code",
   "execution_count": 5,
   "metadata": {
    "ExecuteTime": {
     "end_time": "2020-06-14T06:56:09.936833Z",
     "start_time": "2020-06-14T06:56:09.932839Z"
    },
    "slideshow": {
     "slide_type": "subslide"
    }
   },
   "outputs": [
    {
     "name": "stderr",
     "output_type": "stream",
     "text": [
      "C:\\Users\\filip\\Anaconda3\\lib\\site-packages\\cvxpy\\expressions\\expression.py:516: UserWarning: \n",
      "This use of ``*`` has resulted in matrix multiplication.\n",
      "Using ``*`` for matrix multiplication has been deprecated since CVXPY 1.1.\n",
      "    Use ``*`` for matrix-scalar and vector-scalar multiplication.\n",
      "    Use ``@`` for matrix-matrix and matrix-vector multiplication.\n",
      "    Use ``multiply`` for elementwise multiplication.\n",
      "\n",
      "  warnings.warn(__STAR_MATMUL_WARNING__, UserWarning)\n"
     ]
    }
   ],
   "source": [
    "revenue = [220, 120, 90, 110]\n",
    "objective = cp.Maximize(cp.sum(revenue * x))"
   ]
  },
  {
   "cell_type": "markdown",
   "metadata": {
    "slideshow": {
     "slide_type": "slide"
    }
   },
   "source": [
    "**Ograniczenia**\n",
    "\n",
    "Ograniczeniami w projekcie jest budżet dostępny w każdym miesiącu. \n",
    "\n",
    "Fakt uruchomienia / braku uruchomienia projektu, skutkuje poniesieniem określonych kosztów.\n",
    "\n",
    "Łączna suma kosztów, nie może przekroczyć całości dostępnego budżetu."
   ]
  },
  {
   "cell_type": "markdown",
   "metadata": {
    "slideshow": {
     "slide_type": "subslide"
    }
   },
   "source": [
    "$$\\begin{aligned} & 60X_1 + 40X_2 + 30X_3 + 20 X_4 \\leq 120 && \\textrm{(Styczeń)} \\\\ & 20X_1 + 30X_2 + 10X_3 + 20X_4 \\leq 85 && \\textrm{(Luty)} \\\\ & 45X_1 + 20X_2 + 20X_3 + 30X_4 \\leq 100 && \\textrm{(Marzec)} \\end{aligned} $$\n",
    "\n",
    "co można przedstawić w postaci macierzowej:\n",
    "\n",
    "$$\\begin{aligned} & \\left[\\begin{array}{rrrr}60 & 40 & 30 & 20 \\\\ 20 & 30 & 10 & 20 \\\\ 45 & 20 & 20 & 30\\end{array}\\right]\\left[\\begin{array}{r}x_1\\\\x_2\\\\ x_3\\\\ x_4\\end{array}\\right] \\leq \\left[\\begin{array}{r}120\\\\ 85 \\\\ 100\\end{array}\\right] \\end{aligned}$$\n"
   ]
  },
  {
   "cell_type": "code",
   "execution_count": 6,
   "metadata": {
    "ExecuteTime": {
     "end_time": "2020-06-14T06:56:26.579401Z",
     "start_time": "2020-06-14T06:56:26.573416Z"
    },
    "slideshow": {
     "slide_type": "subslide"
    }
   },
   "outputs": [
    {
     "name": "stderr",
     "output_type": "stream",
     "text": [
      "C:\\Users\\filip\\Anaconda3\\lib\\site-packages\\cvxpy\\expressions\\expression.py:516: UserWarning: \n",
      "This use of ``*`` has resulted in matrix multiplication.\n",
      "Using ``*`` for matrix multiplication has been deprecated since CVXPY 1.1.\n",
      "    Use ``*`` for matrix-scalar and vector-scalar multiplication.\n",
      "    Use ``@`` for matrix-matrix and matrix-vector multiplication.\n",
      "    Use ``multiply`` for elementwise multiplication.\n",
      "\n",
      "  warnings.warn(__STAR_MATMUL_WARNING__, UserWarning)\n"
     ]
    }
   ],
   "source": [
    "project_cost = np.array([\n",
    "    [60, 40, 30, 20],\n",
    "    [20, 30, 10, 20],\n",
    "    [45, 20, 20, 30]\n",
    "])\n",
    "\n",
    "total_cost = np.array([\n",
    "    [120], \n",
    "    [85],\n",
    "    [100]\n",
    "])\n",
    "\n",
    "constraints = [project_cost * x <= total_cost]"
   ]
  },
  {
   "cell_type": "markdown",
   "metadata": {
    "slideshow": {
     "slide_type": "slide"
    }
   },
   "source": [
    "**Zdefiniowanie całości problemu**\n",
    "\n",
    "Mając dane:\n",
    "1. Zmienne\n",
    "2. Funkcję celu\n",
    "3. Ograniczenia\n",
    "\n",
    "Można sformułować całe zadanie w postaci problemu optymalizacyjnego"
   ]
  },
  {
   "cell_type": "markdown",
   "metadata": {
    "slideshow": {
     "slide_type": "subslide"
    }
   },
   "source": [
    "$$\\begin{aligned} &\\textrm{Maksymalizuj } && \\left[220, 120, 90, 119\\right] \\mathbf{x} \\\\ & \\textrm{z ograniczeniami} && \\left[\\begin{array}{rrrr}60 & 40 & 30 & 20 \\\\ 20 & 30 & 10 & 20 \\\\ 45 & 20 & 20 & 30\\end{array}\\right]\\mathbf{x} \\leq \\left[\\begin{array}{r}120\\\\ 85 \\\\ 100\\end{array}\\right] \\end{aligned}$$"
   ]
  },
  {
   "cell_type": "code",
   "execution_count": 7,
   "metadata": {
    "ExecuteTime": {
     "end_time": "2020-06-14T06:56:28.960341Z",
     "start_time": "2020-06-14T06:56:28.957322Z"
    },
    "slideshow": {
     "slide_type": "subslide"
    }
   },
   "outputs": [],
   "source": [
    "# define the problem\n",
    "problem = cp.Problem(objective, constraints)"
   ]
  },
  {
   "cell_type": "markdown",
   "metadata": {
    "slideshow": {
     "slide_type": "slide"
    }
   },
   "source": [
    "**Rozwiązanie**\n",
    "\n",
    "Rozwiązanie problemu uzyskiwane jest przez system optymalizacyjny, który dokonuje tego z użyciem najleszej strategii (dobieranej pod kątem typu problemu, wielkości poszczególnych macierzy, itp.).\n",
    "\n",
    "System optymalizacyjny zwraca na wyjściu:\n",
    "\n",
    "1. Status rozwiązania - czy udało się uzyskać wynik (czy problem w ogóle jest rozwiązywalny)\n",
    "2. Wartość funkcji celu\n",
    "3. Wartości zmiennych"
   ]
  },
  {
   "cell_type": "code",
   "execution_count": 8,
   "metadata": {
    "ExecuteTime": {
     "end_time": "2020-06-14T06:56:29.901891Z",
     "start_time": "2020-06-14T06:56:29.875933Z"
    },
    "slideshow": {
     "slide_type": "subslide"
    }
   },
   "outputs": [
    {
     "data": {
      "text/plain": [
       "450.0"
      ]
     },
     "execution_count": 8,
     "metadata": {},
     "output_type": "execute_result"
    }
   ],
   "source": [
    "# Rozpoczęcie rozwiązywania\n",
    "problem.solve()"
   ]
  },
  {
   "cell_type": "code",
   "execution_count": 9,
   "metadata": {
    "ExecuteTime": {
     "end_time": "2020-06-14T06:56:31.103499Z",
     "start_time": "2020-06-14T06:56:31.099510Z"
    },
    "slideshow": {
     "slide_type": "subslide"
    }
   },
   "outputs": [
    {
     "data": {
      "text/plain": [
       "'optimal'"
      ]
     },
     "execution_count": 9,
     "metadata": {},
     "output_type": "execute_result"
    }
   ],
   "source": [
    "# Status rozwiązania\n",
    "problem.status"
   ]
  },
  {
   "cell_type": "code",
   "execution_count": 10,
   "metadata": {
    "ExecuteTime": {
     "end_time": "2020-06-14T06:56:31.511273Z",
     "start_time": "2020-06-14T06:56:31.507283Z"
    },
    "slideshow": {
     "slide_type": "subslide"
    }
   },
   "outputs": [
    {
     "name": "stdout",
     "output_type": "stream",
     "text": [
      "[[1.]\n",
      " [1.]\n",
      " [0.]\n",
      " [1.]]\n"
     ]
    }
   ],
   "source": [
    "# Wartości zmiennych\n",
    "print(x.value)"
   ]
  },
  {
   "cell_type": "markdown",
   "metadata": {
    "slideshow": {
     "slide_type": "slide"
    }
   },
   "source": [
    "## Optymalizacja - problemy całkowitoliczbowe\n",
    "\n",
    "Problemy całkowitoliczbową postać problemów optymalizacyjnych stosuje się wszędzie tam, gdzie składowych problemu nie da się podzeilić, tzn. muszą stanowić one jedną całość."
   ]
  },
  {
   "cell_type": "markdown",
   "metadata": {
    "slideshow": {
     "slide_type": "subslide"
    }
   },
   "source": [
    "**Formalizacja**\n",
    "\n",
    "Co do zasady, ich formalizacja wygląda identycznie jak w przypadku pozostałych problemów optymalizacyjnych.\n",
    "\n",
    "Jedyną modyfikacją jest dodanie ograniczenia, iż zmienne muszą należeć do dziedziny liczb całkowitych:\n",
    "\n",
    "$$ \\mathbf{x} \\in \\mathbb{Z} $$ "
   ]
  },
  {
   "cell_type": "markdown",
   "metadata": {
    "slideshow": {
     "slide_type": "slide"
    }
   },
   "source": [
    "**Przykład: problem plecakowy**\n",
    "\n",
    "Problem plecakowy jest jednym z klasycznych zagadnień podczas nauki programowania dynamicznego oraz optymalizacji.\n",
    "\n",
    "\n",
    "Wyobraźmy sobie **złodzieja, który włamał się do muzeum**. Ma relatywnie mały plecak, do którego zmieści się **kilka przedmiotów**. W muzeum jest barzdo dużo eksponatów o różnej wielkości. Jak zdecydować, które z nich wybrać, tak aby **zmaksymalizować zysk ze sprzedaży na czarnym rynku?**"
   ]
  },
  {
   "cell_type": "markdown",
   "metadata": {
    "slideshow": {
     "slide_type": "subslide"
    }
   },
   "source": [
    "W muzeum znajdują sę nastęujące przedmioty, z których każdy występuje **w kilku egzemplarzach, tzn. można zabrać więcej niż 1 sztukę danego rodzaju**\n",
    "\n",
    "1. **Figurka ze strożytnego Egiptu**, wielkość 3, wartość 400\n",
    "2. **Popiersie z czasów Rzymskich**, wielkośc 4, wartość 500\n",
    "3. **Miniaturowy portret z XIVw.**, wielkość 7, wartość 1000\n",
    "4. **Fragment zbroi ze zdobieniami**, wielkość 8, wartość 1100\n",
    "5. **Gobelin**, wielkość 9, wartość 1300\n",
    "\n",
    "Plecak złodzieja ma **pojemność 17**"
   ]
  },
  {
   "cell_type": "markdown",
   "metadata": {
    "slideshow": {
     "slide_type": "slide"
    }
   },
   "source": [
    "**Formalizacja**\n",
    "\n",
    "Wektor **x** będzie przedstawiać ilośc obiektów danego typu, zabranych z muzeum (odpowiednio: figurek, popiersi, portretów, fragm. zbroi i gobelinów).\n",
    "\n",
    "Element $x_i$ musi spełniać następujące warunki:\n",
    "\n",
    "$$ x_i \\ge 0 \\textrm{ - musi być nieujemny} $$\n",
    "\n",
    "$$ x_i \\in \\mathbb{Z} \\textrm{ - musi należeć do zbioru liczb całkowitych} $$\n",
    "\n"
   ]
  },
  {
   "cell_type": "code",
   "execution_count": 25,
   "metadata": {
    "ExecuteTime": {
     "end_time": "2020-06-12T12:19:01.626068Z",
     "start_time": "2020-06-12T12:19:01.621049Z"
    },
    "slideshow": {
     "slide_type": "subslide"
    }
   },
   "outputs": [],
   "source": [
    "x = cp.Variable(5, integer=True)\n",
    "capacity = 17"
   ]
  },
  {
   "cell_type": "markdown",
   "metadata": {
    "slideshow": {
     "slide_type": "slide"
    }
   },
   "source": [
    "**Zmienne**\n",
    "\n",
    "Do ilości obiektów mamy przypisane odpowiednie wartości ze sprzedaży $v$ oraz wielkość $w$"
   ]
  },
  {
   "cell_type": "code",
   "execution_count": 23,
   "metadata": {
    "ExecuteTime": {
     "end_time": "2020-06-12T12:17:36.039762Z",
     "start_time": "2020-06-12T12:17:36.034777Z"
    },
    "slideshow": {
     "slide_type": "subslide"
    }
   },
   "outputs": [],
   "source": [
    "w = [3, 4, 7, 8, 9]\n",
    "v = [400, 500, 1000, 1100, 1300]"
   ]
  },
  {
   "cell_type": "markdown",
   "metadata": {
    "slideshow": {
     "slide_type": "slide"
    }
   },
   "source": [
    "**Ograniczenia**\n",
    "\n",
    "Złodziej nie może zabrać więcej niż zmieści się w jego plecaku, a więc:\n",
    "\n",
    "$$ \\mathbf{x}^Tw \\le 17 $$"
   ]
  },
  {
   "cell_type": "code",
   "execution_count": 26,
   "metadata": {
    "ExecuteTime": {
     "end_time": "2020-06-12T12:19:06.970457Z",
     "start_time": "2020-06-12T12:19:06.965469Z"
    },
    "slideshow": {
     "slide_type": "subslide"
    }
   },
   "outputs": [],
   "source": [
    "constraints = [cp.matmul(x, w) <= capacity]"
   ]
  },
  {
   "cell_type": "markdown",
   "metadata": {
    "slideshow": {
     "slide_type": "slide"
    }
   },
   "source": [
    "**Funkcja celu**\n",
    "\n",
    "Celem złodzieja jest zmaksymalizować wartość sprzedaży zrabowanych towarów, a zatem:\n",
    "\n",
    "$$ Maksymalizuj_x\\ \\mathbf{x}^Tv $$"
   ]
  },
  {
   "cell_type": "code",
   "execution_count": 40,
   "metadata": {
    "ExecuteTime": {
     "end_time": "2020-06-12T12:31:31.106353Z",
     "start_time": "2020-06-12T12:31:31.101404Z"
    },
    "slideshow": {
     "slide_type": "subslide"
    }
   },
   "outputs": [],
   "source": [
    "objective = cp.Maximize(cp.matmul(x, v))"
   ]
  },
  {
   "cell_type": "markdown",
   "metadata": {
    "slideshow": {
     "slide_type": "slide"
    }
   },
   "source": [
    "**Definicja problemu**\n",
    "\n",
    "Cały problem zostaje zatem przedstawiony jako:\n",
    "\n",
    "$$ \\begin{aligned} & v = [400, 500, 1000, 1100, 1300] && \\textrm{ - wartości} \\\\ &  w = [3, 4, 7, 8, 9] && \\textrm{ - wagi} \\\\ \\\\ & Maksymalizuj_x && \\mathbf{x}^Tv  \\\\ & \\textrm{z ograniczeniami } && \\mathbf{x}^Tw \\le 17 \\\\ & \\textrm{gdzie } && \\mathbf{x} \\ge 0\\ \\wedge \\mathbf{x} \\in \\mathbb{Z} \\end{aligned} $$"
   ]
  },
  {
   "cell_type": "code",
   "execution_count": 36,
   "metadata": {
    "ExecuteTime": {
     "end_time": "2020-06-12T12:28:04.899898Z",
     "start_time": "2020-06-12T12:28:04.893912Z"
    },
    "slideshow": {
     "slide_type": "subslide"
    }
   },
   "outputs": [],
   "source": [
    "x = cp.Variable(5, integer=True)\n",
    "capacity = 17\n",
    "\n",
    "w = [3, 4, 7, 8, 9]\n",
    "v = [400, 500, 1000, 1100, 1300]\n",
    "\n",
    "constraints = [\n",
    "    cp.matmul(x, w) <= capacity, \n",
    "    x>=0]\n",
    "objective = cp.Maximize(cp.matmul(x, v))\n",
    "problem = cp.Problem(objective, constraints)"
   ]
  },
  {
   "cell_type": "code",
   "execution_count": 37,
   "metadata": {
    "ExecuteTime": {
     "end_time": "2020-06-12T12:28:05.581178Z",
     "start_time": "2020-06-12T12:28:05.549180Z"
    },
    "slideshow": {
     "slide_type": "slide"
    }
   },
   "outputs": [
    {
     "data": {
      "text/plain": [
       "2400.0"
      ]
     },
     "execution_count": 37,
     "metadata": {},
     "output_type": "execute_result"
    }
   ],
   "source": [
    "# Rozwiązanie\n",
    "\n",
    "problem.solve()"
   ]
  },
  {
   "cell_type": "code",
   "execution_count": 39,
   "metadata": {
    "ExecuteTime": {
     "end_time": "2020-06-12T12:28:43.179677Z",
     "start_time": "2020-06-12T12:28:43.173696Z"
    },
    "slideshow": {
     "slide_type": "subslide"
    }
   },
   "outputs": [
    {
     "data": {
      "text/plain": [
       "array([-0., -0., -0.,  1.,  1.])"
      ]
     },
     "execution_count": 39,
     "metadata": {},
     "output_type": "execute_result"
    }
   ],
   "source": [
    "x.value"
   ]
  }
 ],
 "metadata": {
  "celltoolbar": "Slideshow",
  "kernelspec": {
   "display_name": "Python 3",
   "language": "python",
   "name": "python3"
  },
  "language_info": {
   "codemirror_mode": {
    "name": "ipython",
    "version": 3
   },
   "file_extension": ".py",
   "mimetype": "text/x-python",
   "name": "python",
   "nbconvert_exporter": "python",
   "pygments_lexer": "ipython3",
   "version": "3.7.4"
  },
  "toc": {
   "base_numbering": 1,
   "nav_menu": {},
   "number_sections": true,
   "sideBar": true,
   "skip_h1_title": false,
   "title_cell": "Table of Contents",
   "title_sidebar": "Contents",
   "toc_cell": false,
   "toc_position": {
    "height": "calc(100% - 180px)",
    "left": "10px",
    "top": "150px",
    "width": "217.344px"
   },
   "toc_section_display": true,
   "toc_window_display": false
  },
  "varInspector": {
   "cols": {
    "lenName": 16,
    "lenType": 16,
    "lenVar": 40
   },
   "kernels_config": {
    "python": {
     "delete_cmd_postfix": "",
     "delete_cmd_prefix": "del ",
     "library": "var_list.py",
     "varRefreshCmd": "print(var_dic_list())"
    },
    "r": {
     "delete_cmd_postfix": ") ",
     "delete_cmd_prefix": "rm(",
     "library": "var_list.r",
     "varRefreshCmd": "cat(var_dic_list()) "
    }
   },
   "types_to_exclude": [
    "module",
    "function",
    "builtin_function_or_method",
    "instance",
    "_Feature"
   ],
   "window_display": false
  }
 },
 "nbformat": 4,
 "nbformat_minor": 4
}
