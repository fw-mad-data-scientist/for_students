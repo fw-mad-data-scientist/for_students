{
 "cells": [
  {
   "cell_type": "code",
   "execution_count": 2,
   "metadata": {
    "ExecuteTime": {
     "end_time": "2020-06-14T08:17:46.700895Z",
     "start_time": "2020-06-14T08:17:46.255626Z"
    }
   },
   "outputs": [],
   "source": [
    "import numpy as np\n",
    "import cvxpy as cp"
   ]
  },
  {
   "cell_type": "markdown",
   "metadata": {},
   "source": [
    "# Wprowadzenie\n",
    "\n",
    "Problemy logistyczne to jedne z klasycznych zastosowań optymalizacji. Zadaniem jest **minimalizacja kosztów dostawy** z jednoczesną **maksymalizacją uzyskiwanych zysów**.\n",
    "\n",
    "Osią problemu jest połączenie trzech czynników:\n",
    "\n",
    "1. Macierz kosztów transportu\n",
    "2. Macierz zapotrzebowania (ang. *demand*)\n",
    "3. Macierz dostaw (ang. *supply*)\n",
    "\n",
    "Przykładowy problem przedstawiono poniżej:"
   ]
  },
  {
   "cell_type": "markdown",
   "metadata": {},
   "source": [
    "# Problem 1"
   ]
  },
  {
   "cell_type": "markdown",
   "metadata": {},
   "source": [
    "Tabela poniżej prezentuje koszty dostaw z fabryk w poszczególnych miastach (Wrocław, Gdańsk) do centrów sprzedaży DC (ang. *delivery center*). \n",
    "\n",
    "* Każde DC posiada swoje zapotrzebowanie na towar (ang. demand)\n",
    "* Każda fabryka posiada określone moce produkcyjne (ang. supply)\n",
    "\n",
    "Twoim zadaniem jest takie sformułowanie problemu, aby dało się go rozwiązać za pomocą narzędzi optymalizacyjnych.\n",
    "\n",
    "W tym wypadku jest to **zrównoważony problem optymalizacyjny** ponieważ **zapotrzebowanie == mocom produkcyjnym**. \n",
    "\n",
    "Innymi słowy: powinno dać się uzyskać 100% alokacji.\n",
    "\n",
    "\n",
    "| From / To |  DC1  |  DC2  |  DC3  | _Supply_ |\n",
    "|:---------:|:-----:|:-----:|:-----:|:------:|\n",
    "|   Wrocław |   5   |   6   |   4   |   300  |\n",
    "|  Gdańsk   |   6   |   3   |   7   |   400  |\n",
    "|  _Demand_ | _200_ | _300_ | _200_ |        |"
   ]
  },
  {
   "cell_type": "code",
   "execution_count": 3,
   "metadata": {
    "ExecuteTime": {
     "end_time": "2020-06-13T19:36:58.285925Z",
     "start_time": "2020-06-13T19:36:58.283471Z"
    }
   },
   "outputs": [],
   "source": [
    "#TODO: rozwiąż problem optymalizacyjny"
   ]
  },
  {
   "cell_type": "markdown",
   "metadata": {},
   "source": [
    "# Problem 2\n",
    "\n",
    "W tym przypadku mamy do czynienia z problemem **niezrównoważonym**, tzn. gdy moce produkcyjne < zapotrzebowanie (*supply* < *demand*). \n",
    "\n",
    "W takiej sytuacji optymalizator będzie musiał podejmować decyzję, do którego DC dostarczyć produkty.\n",
    "\n",
    "| From / To |  DC1  |  DC2  |  DC3  | _Supply_ |\n",
    "|:---------:|:-----:|:-----:|:-----:|:------:|\n",
    "|   Wrocław |   5   |   6   |   4   |   300  |\n",
    "|  Gdańsk   |   6   |   3   |   7   |   450  |\n",
    "|  _Demand_ | _300_ | _300_ | _200_ |        |"
   ]
  },
  {
   "cell_type": "code",
   "execution_count": 5,
   "metadata": {
    "ExecuteTime": {
     "end_time": "2020-06-13T19:38:57.091343Z",
     "start_time": "2020-06-13T19:38:57.073186Z"
    }
   },
   "outputs": [
    {
     "name": "stdout",
     "output_type": "stream",
     "text": [
      "Shipping\n",
      "[[100.   0. 200.]\n",
      " [150. 300.   0.]]\n",
      "yields 3100€\n"
     ]
    }
   ],
   "source": [
    "#TODO: rozwiąż problem optymalizacyjny"
   ]
  },
  {
   "cell_type": "markdown",
   "metadata": {},
   "source": [
    "# Problem 3\n",
    "\n",
    "W tym przypadku mamy ograniczenie dostaw - jedna z fabryk nie może wysyłać towarów do jednego spośród dostępnych DC. \n",
    "Zamodeluj tą sytuację w sposób formalny i rozwiąż problem.\n",
    "\n",
    "| From / To |  DC1  |  DC2  |  DC3  | _Supply_ |\n",
    "|:---------:|:-----:|:-----:|:-----:|:------:|\n",
    "|   Wrocław |   5   |   6   |   4   |   300  |\n",
    "|  Gdańsk   |   6   |   X   |   7    |   500  |\n",
    "|  _Demand_ | _300_ | _300_ | _200_ |        |"
   ]
  },
  {
   "cell_type": "code",
   "execution_count": 7,
   "metadata": {
    "ExecuteTime": {
     "end_time": "2020-06-13T19:40:46.982040Z",
     "start_time": "2020-06-13T19:40:46.979890Z"
    }
   },
   "outputs": [],
   "source": [
    "#TODO: rozwiąż problem optymalizacyjny"
   ]
  }
 ],
 "metadata": {
  "kernelspec": {
   "display_name": "Python 3",
   "language": "python",
   "name": "python3"
  },
  "language_info": {
   "codemirror_mode": {
    "name": "ipython",
    "version": 3
   },
   "file_extension": ".py",
   "mimetype": "text/x-python",
   "name": "python",
   "nbconvert_exporter": "python",
   "pygments_lexer": "ipython3",
   "version": "3.7.4"
  },
  "toc": {
   "base_numbering": 1,
   "nav_menu": {},
   "number_sections": true,
   "sideBar": true,
   "skip_h1_title": false,
   "title_cell": "Table of Contents",
   "title_sidebar": "Contents",
   "toc_cell": false,
   "toc_position": {},
   "toc_section_display": true,
   "toc_window_display": false
  }
 },
 "nbformat": 4,
 "nbformat_minor": 4
}
