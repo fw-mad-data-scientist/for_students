{
 "cells": [
  {
   "cell_type": "markdown",
   "metadata": {},
   "source": [
    "## HW1. Refinery Supply and Demand\n",
    "\n",
    "![Refinery Production](images/HW2_ex1.png)\n",
    "\n",
    "A refinery can order oil barrels from a cheaper tanker and a more expensive one. Oil from the cheaper costs $\\$80$ per barrel, whereas oil from the more expensive one costs $\\$95$ per barrel. From one barrel of cheaper oil the refinery can produce 40 litres of gasoline or 80 litres of diesel, whereas from one barrel of more expensive oil the refinery can produce 60 litres of gasoline or 60 litres of diesel.\n",
    "\n",
    "Total demand for this refinery is 400 litres gasoline and 640 litres diesel. \n",
    "\n",
    "How many barrels should the refinery purchase from the cheaper tanker and from the more expensive tanker in order to minimize the cost of oil and meet the demand?"
   ]
  },
  {
   "cell_type": "code",
   "execution_count": 1,
   "metadata": {},
   "outputs": [],
   "source": [
    "import cvxpy as cp\n",
    "import numpy as np\n",
    "\n",
    "barrel_price = [80, 95]\n",
    "x = cp.Variable(2, integer=True)\n",
    "\n",
    "objective = cp.Minimize(cp.sum(cp.multiply(barrel_price, x)))\n",
    "constraints = [40 * x[0] + 60 * x[1] >= 400, \n",
    "               80 * x[0] + 60 * x[1] >= 640, \n",
    "               x >= 0]\n",
    "\n",
    "problem = cp.Problem(objective, constraints)\n",
    "optimal_value = problem.solve(solver=cp.CBC)"
   ]
  },
  {
   "cell_type": "code",
   "execution_count": 2,
   "metadata": {},
   "outputs": [
    {
     "data": {
      "text/plain": [
       "750.0"
      ]
     },
     "execution_count": 2,
     "metadata": {},
     "output_type": "execute_result"
    }
   ],
   "source": [
    "optimal_value"
   ]
  },
  {
   "cell_type": "code",
   "execution_count": 3,
   "metadata": {},
   "outputs": [
    {
     "data": {
      "text/plain": [
       "array([7., 2.])"
      ]
     },
     "execution_count": 3,
     "metadata": {},
     "output_type": "execute_result"
    }
   ],
   "source": [
    "x.value"
   ]
  },
  {
   "cell_type": "markdown",
   "metadata": {},
   "source": [
    "## HW2. Multiple Knapsack Problem\n",
    "\n",
    "Multiple knapsack problem is a variation in which there are multiple knapsacks. \n",
    "1. State the canonical form of this problem for $k$ knapsacks. \n",
    "2. Solve the multiple general (i.e. with integer values, not binary) knapsack problem in Python for $k=3$ knapsacks.\n",
    "\n",
    "![Knapsack problem](https://upload.wikimedia.org/wikipedia/commons/thumb/f/fd/Knapsack.svg/277px-Knapsack.svg.png)\n",
    "Image credits: CC BY-SA 2.5, https://commons.wikimedia.org/w/index.php?curid=985491\n",
    "\n",
    "Knapsack capacities: 10kg, 20kg, 18kg.\n",
    "\n",
    "| Item   | green | blue | gray | orange | yellow |\n",
    "|--------|------:|-----:|-----:|-------:|-------:|\n",
    "| Value  |     4 |    2 |    2 |      1 |     10 |\n",
    "| Weight |    12 |    2 |    1 |      1 |      4 |"
   ]
  },
  {
   "cell_type": "code",
   "execution_count": 5,
   "metadata": {},
   "outputs": [],
   "source": [
    "import numpy as np\n",
    "import cvxpy as cp\n",
    "\n",
    "# number of backpacks \n",
    "k = 3\n",
    "# list of items\n",
    "items = ['green', 'blue', 'gray', 'orange', 'yellow']\n",
    "nb_items = len(items)\n",
    "\n",
    "# weight and value of the items\n",
    "weight = np.array([[12], [2], [1], [1], [4]])\n",
    "value = np.repeat(np.array([[4, 2, 2, 1, 10]]), k, axis=0)\n",
    "\n",
    "# total capacity of the knapsack\n",
    "total_capacity = np.array([[10],[20], [18]])\n",
    "\n",
    "# boolean variable - True (1) if an item should be put in the knapsack, False otherwise\n",
    "x = cp.Variable((k, nb_items), integer=True)\n",
    "\n",
    "# objective - maximize the total value\n",
    "objective = cp.Maximize(cp.sum(cp.multiply(value, x)))\n",
    "\n",
    "# constraint - capacity of the knapsack cannot be exceeded by the total weight of items inside\n",
    "constraints = [x >= 0]\n",
    "constraints.append(cp.matmul(x, weight) <= total_capacity)\n",
    "\n",
    "# define a problem\n",
    "problem = cp.Problem(objective, constraints)\n",
    "# solve the problem\n",
    "optimal_value = problem.solve(solver=cp.CBC)\n"
   ]
  },
  {
   "cell_type": "code",
   "execution_count": 6,
   "metadata": {},
   "outputs": [
    {
     "data": {
      "text/plain": [
       "118.0"
      ]
     },
     "execution_count": 6,
     "metadata": {},
     "output_type": "execute_result"
    }
   ],
   "source": [
    "optimal_value"
   ]
  },
  {
   "cell_type": "code",
   "execution_count": 7,
   "metadata": {},
   "outputs": [
    {
     "data": {
      "text/plain": [
       "array([[-0., -0.,  2.,  0.,  2.],\n",
       "       [-0., -0., -0.,  0.,  5.],\n",
       "       [-0., -0.,  2.,  0.,  4.]])"
      ]
     },
     "execution_count": 7,
     "metadata": {},
     "output_type": "execute_result"
    }
   ],
   "source": [
    "x.value"
   ]
  },
  {
   "cell_type": "code",
   "execution_count": null,
   "metadata": {},
   "outputs": [],
   "source": []
  }
 ],
 "metadata": {
  "kernelspec": {
   "display_name": "Python 3",
   "language": "python",
   "name": "python3"
  },
  "language_info": {
   "codemirror_mode": {
    "name": "ipython",
    "version": 3
   },
   "file_extension": ".py",
   "mimetype": "text/x-python",
   "name": "python",
   "nbconvert_exporter": "python",
   "pygments_lexer": "ipython3",
   "version": "3.7.4"
  },
  "toc": {
   "base_numbering": 1,
   "nav_menu": {},
   "number_sections": true,
   "sideBar": true,
   "skip_h1_title": false,
   "title_cell": "Table of Contents",
   "title_sidebar": "Contents",
   "toc_cell": false,
   "toc_position": {},
   "toc_section_display": true,
   "toc_window_display": false
  },
  "varInspector": {
   "cols": {
    "lenName": 16,
    "lenType": 16,
    "lenVar": 40
   },
   "kernels_config": {
    "python": {
     "delete_cmd_postfix": "",
     "delete_cmd_prefix": "del ",
     "library": "var_list.py",
     "varRefreshCmd": "print(var_dic_list())"
    },
    "r": {
     "delete_cmd_postfix": ") ",
     "delete_cmd_prefix": "rm(",
     "library": "var_list.r",
     "varRefreshCmd": "cat(var_dic_list()) "
    }
   },
   "types_to_exclude": [
    "module",
    "function",
    "builtin_function_or_method",
    "instance",
    "_Feature"
   ],
   "window_display": false
  }
 },
 "nbformat": 4,
 "nbformat_minor": 2
}
