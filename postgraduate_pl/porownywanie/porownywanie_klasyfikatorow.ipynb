{
 "cells": [
  {
   "cell_type": "code",
   "execution_count": 1,
   "metadata": {
    "ExecuteTime": {
     "end_time": "2019-05-16T17:34:39.499836Z",
     "start_time": "2019-05-16T17:34:39.443240Z"
    },
    "collapsed": true
   },
   "outputs": [],
   "source": [
    "import numpy as np\n",
    "import pandas as pd\n",
    "import scipy.stats as st\n",
    "import matplotlib.pyplot as plt\n",
    "\n",
    "from sklearn.tree import DecisionTreeClassifier\n",
    "from sklearn.neighbors import KNeighborsClassifier\n",
    "from sklearn.ensemble import RandomForestClassifier\n",
    "from sklearn.model_selection import cross_val_score, train_test_split, StratifiedKFold\n",
    "from sklearn.metrics import accuracy_score, f1_score, make_scorer\n",
    "from statsmodels.stats.contingency_tables import mcnemar\n",
    "from scipy.stats import wilcoxon\n",
    "\n",
    "from IPython.display import display"
   ]
  },
  {
   "cell_type": "code",
   "execution_count": 2,
   "metadata": {
    "ExecuteTime": {
     "end_time": "2019-05-16T16:50:25.810219Z",
     "start_time": "2019-05-16T16:50:25.647463Z"
    },
    "collapsed": true
   },
   "outputs": [],
   "source": [
    "%matplotlib inline"
   ]
  },
  {
   "cell_type": "markdown",
   "metadata": {},
   "source": [
    "# Wprowadzenie\n",
    "\n",
    "Celem tego notebooka jest wprowadzenie do tematyki porównywania ze sobą klaysfikatorów. Nie jest to sprawa tak prosta, jak mogłoby się wydawać. \n",
    "\n",
    "Ważne źródła informacji:\n",
    "\n",
    "> Dietterich, T. G. (1998) „Approximate statistical tests for comparing supervised classification learning  algorithms”, Neural computation. MIT Press, 10(7), ss. 1895–1923\n",
    "\n",
    "> Demšar, J. (2006) „Statistical comparisons of classifiers over multiple data sets”, Journal of Machine learning research, 7(Jan), ss. 1–30.\n"
   ]
  },
  {
   "cell_type": "markdown",
   "metadata": {},
   "source": [
    "Il. algorytmów \\ Il. zbiorów danych | 1 | 1+ |\n",
    "------------- | ------------- | ------------- |\n",
    "2 | T-test różnicy metryki CV <br/> <br/> LUB <br/> <br/> Test McNemara <br/><br/> LUB <br/><br/> Test Wilcoxon'a | Test różnicy rang Wilcoxon'a |\n",
    "2+ | T-test różnicy metryki CV <br/> <br/> LUB <br/><br/> Test Friedmana | Test Friedmana |"
   ]
  },
  {
   "cell_type": "markdown",
   "metadata": {},
   "source": [
    "**Co do zasady test Wilcoxon'a można przeprowadzić zawsze dla par**"
   ]
  },
  {
   "cell_type": "markdown",
   "metadata": {},
   "source": [
    "W czym jest problem? Dlaczego nie można zawsze stosować zwykłego t-testu różnicy metryki?"
   ]
  },
  {
   "cell_type": "markdown",
   "metadata": {},
   "source": [
    "* Nie są spełnione założenia o normalności, stałej wariancji itp.\n",
    "* Trzeba korygować p-wartości (np. metodą Bonferroniego albo podobną)\n",
    "* Przede wszystkim - nie jest spełniony wymóg niezależności próbek"
   ]
  },
  {
   "cell_type": "markdown",
   "metadata": {},
   "source": [
    "# Przygotowanie metryki"
   ]
  },
  {
   "cell_type": "markdown",
   "metadata": {},
   "source": [
    "Metryka F1 dostarczana przez bibliotekę może działać tylko z dwiema klasami. Żeby używać jej dla więcej niż 2 klas trzeba to zrobić po swojemu :) "
   ]
  },
  {
   "cell_type": "code",
   "execution_count": 3,
   "metadata": {
    "ExecuteTime": {
     "end_time": "2019-05-16T15:56:58.680013Z",
     "start_time": "2019-05-16T15:56:58.676724Z"
    },
    "collapsed": true
   },
   "outputs": [],
   "source": [
    "score_f = lambda y_true, y_predicted: f1_score(y_true=y_true, y_pred=y_predicted, average='weighted')\n",
    "f1_scorer = make_scorer(score_f)"
   ]
  },
  {
   "cell_type": "markdown",
   "metadata": {},
   "source": [
    "# Sytuacja: 2 klasyfikatory, 1 zbiór danych (2x1)"
   ]
  },
  {
   "cell_type": "code",
   "execution_count": 4,
   "metadata": {
    "ExecuteTime": {
     "end_time": "2019-05-16T15:57:42.657491Z",
     "start_time": "2019-05-16T15:57:42.635370Z"
    }
   },
   "outputs": [
    {
     "data": {
      "text/html": [
       "<div>\n",
       "<style>\n",
       "    .dataframe thead tr:only-child th {\n",
       "        text-align: right;\n",
       "    }\n",
       "\n",
       "    .dataframe thead th {\n",
       "        text-align: left;\n",
       "    }\n",
       "\n",
       "    .dataframe tbody tr th {\n",
       "        vertical-align: top;\n",
       "    }\n",
       "</style>\n",
       "<table border=\"1\" class=\"dataframe\">\n",
       "  <thead>\n",
       "    <tr style=\"text-align: right;\">\n",
       "      <th></th>\n",
       "      <th>sepal_length</th>\n",
       "      <th>sepal_width</th>\n",
       "      <th>petal_length</th>\n",
       "      <th>petal_width</th>\n",
       "      <th>species</th>\n",
       "    </tr>\n",
       "  </thead>\n",
       "  <tbody>\n",
       "    <tr>\n",
       "      <th>0</th>\n",
       "      <td>5.1</td>\n",
       "      <td>3.5</td>\n",
       "      <td>1.4</td>\n",
       "      <td>0.2</td>\n",
       "      <td>setosa</td>\n",
       "    </tr>\n",
       "    <tr>\n",
       "      <th>1</th>\n",
       "      <td>4.9</td>\n",
       "      <td>3.0</td>\n",
       "      <td>1.4</td>\n",
       "      <td>0.2</td>\n",
       "      <td>setosa</td>\n",
       "    </tr>\n",
       "    <tr>\n",
       "      <th>2</th>\n",
       "      <td>4.7</td>\n",
       "      <td>3.2</td>\n",
       "      <td>1.3</td>\n",
       "      <td>0.2</td>\n",
       "      <td>setosa</td>\n",
       "    </tr>\n",
       "  </tbody>\n",
       "</table>\n",
       "</div>"
      ],
      "text/plain": [
       "   sepal_length  sepal_width  petal_length  petal_width species\n",
       "0           5.1          3.5           1.4          0.2  setosa\n",
       "1           4.9          3.0           1.4          0.2  setosa\n",
       "2           4.7          3.2           1.3          0.2  setosa"
      ]
     },
     "execution_count": 4,
     "metadata": {},
     "output_type": "execute_result"
    }
   ],
   "source": [
    "data1 = pd.read_csv(\"./iris.csv\")\n",
    "data1.head(3)"
   ]
  },
  {
   "cell_type": "code",
   "execution_count": 5,
   "metadata": {
    "ExecuteTime": {
     "end_time": "2019-05-16T15:57:43.568255Z",
     "start_time": "2019-05-16T15:57:43.561524Z"
    },
    "collapsed": true
   },
   "outputs": [],
   "source": [
    "# Podział na zmienne egzogeniczne i endogeniczne\n",
    "\n",
    "X, Y = data1.drop(\"species\", axis=1), data1.species"
   ]
  },
  {
   "cell_type": "code",
   "execution_count": 6,
   "metadata": {
    "ExecuteTime": {
     "end_time": "2019-05-16T15:57:44.429904Z",
     "start_time": "2019-05-16T15:57:44.416861Z"
    }
   },
   "outputs": [
    {
     "data": {
      "text/html": [
       "<div>\n",
       "<style>\n",
       "    .dataframe thead tr:only-child th {\n",
       "        text-align: right;\n",
       "    }\n",
       "\n",
       "    .dataframe thead th {\n",
       "        text-align: left;\n",
       "    }\n",
       "\n",
       "    .dataframe tbody tr th {\n",
       "        vertical-align: top;\n",
       "    }\n",
       "</style>\n",
       "<table border=\"1\" class=\"dataframe\">\n",
       "  <thead>\n",
       "    <tr style=\"text-align: right;\">\n",
       "      <th></th>\n",
       "      <th>sepal_length</th>\n",
       "      <th>sepal_width</th>\n",
       "      <th>petal_length</th>\n",
       "      <th>petal_width</th>\n",
       "    </tr>\n",
       "  </thead>\n",
       "  <tbody>\n",
       "    <tr>\n",
       "      <th>0</th>\n",
       "      <td>5.1</td>\n",
       "      <td>3.5</td>\n",
       "      <td>1.4</td>\n",
       "      <td>0.2</td>\n",
       "    </tr>\n",
       "    <tr>\n",
       "      <th>1</th>\n",
       "      <td>4.9</td>\n",
       "      <td>3.0</td>\n",
       "      <td>1.4</td>\n",
       "      <td>0.2</td>\n",
       "    </tr>\n",
       "    <tr>\n",
       "      <th>2</th>\n",
       "      <td>4.7</td>\n",
       "      <td>3.2</td>\n",
       "      <td>1.3</td>\n",
       "      <td>0.2</td>\n",
       "    </tr>\n",
       "  </tbody>\n",
       "</table>\n",
       "</div>"
      ],
      "text/plain": [
       "   sepal_length  sepal_width  petal_length  petal_width\n",
       "0           5.1          3.5           1.4          0.2\n",
       "1           4.9          3.0           1.4          0.2\n",
       "2           4.7          3.2           1.3          0.2"
      ]
     },
     "metadata": {},
     "output_type": "display_data"
    },
    {
     "data": {
      "text/plain": [
       "0    setosa\n",
       "1    setosa\n",
       "2    setosa\n",
       "Name: species, dtype: object"
      ]
     },
     "metadata": {},
     "output_type": "display_data"
    }
   ],
   "source": [
    "display(X.head(3))\n",
    "\n",
    "display(Y.head(3))"
   ]
  },
  {
   "cell_type": "code",
   "execution_count": 7,
   "metadata": {
    "ExecuteTime": {
     "end_time": "2019-05-16T15:57:44.802573Z",
     "start_time": "2019-05-16T15:57:44.799619Z"
    },
    "collapsed": true
   },
   "outputs": [],
   "source": [
    "# Utwórz obiekt klasyfikatora drzewa decyzyjnego i klasyfikatora Knn. Parametry dowolne\n",
    "\n",
    "# niektóre klasyfikatory wymagają dodatkowego zapewnienia \n",
    "# deterministyczności. Trzeba to zawsze sprawdzać w dokumentacji\n",
    "dt = DecisionTreeClassifier(random_state=555)\n",
    "knn = KNeighborsClassifier()"
   ]
  },
  {
   "cell_type": "markdown",
   "metadata": {},
   "source": [
    "## Zbieranie metryk"
   ]
  },
  {
   "cell_type": "markdown",
   "metadata": {},
   "source": [
    " Użyjemy 10-o krotnej walidacji krzyżowej"
   ]
  },
  {
   "cell_type": "markdown",
   "metadata": {},
   "source": [
    "Kroki:\n",
    "\n",
    "* Przygotowujemy *środowisko eksperymentalne* - podział danych ma być **deterministyczny** tzn. za każdym razem dawać taki sam wynik\n",
    "* Używamy próbkowania **proporcjonalnego** tzn. zachowującego proporcje klas z oryginalnych danych"
   ]
  },
  {
   "cell_type": "code",
   "execution_count": 8,
   "metadata": {
    "ExecuteTime": {
     "end_time": "2019-05-16T15:57:45.915491Z",
     "start_time": "2019-05-16T15:57:45.912031Z"
    },
    "collapsed": true
   },
   "outputs": [],
   "source": [
    "# Używamy obiektu, który zapewni nam deterministyczny podział danych\n",
    "cv = StratifiedKFold(\n",
    "    n_splits=10,        # Ustawiamy ilość losowań\n",
    "    random_state=555    # Ustawiamy \"ziarno\" - dowolna liczba, ważne żeby pamiętać, czego się użyło :D \n",
    ")"
   ]
  },
  {
   "cell_type": "markdown",
   "metadata": {},
   "source": [
    "### Wersja uproszczona"
   ]
  },
  {
   "cell_type": "markdown",
   "metadata": {},
   "source": [
    "Ta wersja jest szybsza, także przydaje się podczas prototypowania wstępnego. Niestety, ma poważne ograniczenia:\n",
    "1. nie pozwala na dokładne kontrolowanie, w jaki sposób działają klasyfikatory\n",
    "2. nie pozwala liczyć dodatkowych metryk w trakcie działania\n",
    "3. nie mamy wpływu na obsługę danych"
   ]
  },
  {
   "cell_type": "code",
   "execution_count": 27,
   "metadata": {
    "ExecuteTime": {
     "end_time": "2019-05-16T15:57:46.942912Z",
     "start_time": "2019-05-16T15:57:46.904155Z"
    },
    "collapsed": true
   },
   "outputs": [],
   "source": [
    "# Używamy wbudowanej funkcji do policzenia wyników dla drzewa\n",
    "dt_score_auto = cross_val_score(\n",
    "    dt,                     # nasz klasyfikator\n",
    "    X,                      # macierz zmiennych egzogenicznych\n",
    "    Y,                      # wektor etykiet/klasy docelowej\n",
    "    scoring=f1_scorer,      # nasza funkcja licząca metrykę F1\n",
    "    cv=cv,                  # 10-o krotna walidacja\n",
    ")"
   ]
  },
  {
   "cell_type": "code",
   "execution_count": 28,
   "metadata": {
    "ExecuteTime": {
     "end_time": "2019-05-16T15:57:47.102918Z",
     "start_time": "2019-05-16T15:57:47.097194Z"
    }
   },
   "outputs": [
    {
     "data": {
      "text/plain": [
       "array([1.        , 0.93265993, 1.        , 0.93265993, 0.93265993,\n",
       "       0.86666667, 0.93265993, 0.93265993, 1.        , 1.        ])"
      ]
     },
     "execution_count": 28,
     "metadata": {},
     "output_type": "execute_result"
    }
   ],
   "source": [
    "dt_score_auto"
   ]
  },
  {
   "cell_type": "code",
   "execution_count": 29,
   "metadata": {
    "ExecuteTime": {
     "end_time": "2019-05-16T15:57:47.467094Z",
     "start_time": "2019-05-16T15:57:47.425414Z"
    },
    "collapsed": true
   },
   "outputs": [],
   "source": [
    "# Używamy wbudowanej funkcji do policzenia wyników dla Knn\n",
    "knn_score_auto = cross_val_score(\n",
    "    knn,                    # nasz klasyfikator\n",
    "    X,                      # macierz zmiennych egzogenicznych\n",
    "    Y,                      # wektor etykiet/klasy docelowej\n",
    "    scoring=f1_scorer,      # nasza funkcja licząca metrykę F1\n",
    "    cv=cv,                  # 10-o krotna walidacja\n",
    ")"
   ]
  },
  {
   "cell_type": "code",
   "execution_count": 30,
   "metadata": {
    "ExecuteTime": {
     "end_time": "2019-05-16T15:57:47.611956Z",
     "start_time": "2019-05-16T15:57:47.608316Z"
    }
   },
   "outputs": [
    {
     "data": {
      "text/plain": [
       "array([1.        , 0.93265993, 1.        , 1.        , 0.86111111,\n",
       "       0.93265993, 0.93265993, 1.        , 1.        , 1.        ])"
      ]
     },
     "execution_count": 30,
     "metadata": {},
     "output_type": "execute_result"
    }
   ],
   "source": [
    "knn_score_auto"
   ]
  },
  {
   "cell_type": "markdown",
   "metadata": {},
   "source": [
    "### Wersja zaawansowana\n",
    "\n",
    "Wersja rekomendowana :) Pozwala nam na dokładne kontrolowanie liczonych metryk i przygotowywanie pewnych rzeczy \"na boku\". \n",
    "\n",
    "Kroki:\n",
    "\n",
    "1. przygotowujemy deterministyczny podział danych - to mieliśmy zrobione już wyżej :)\n",
    "2. przygotowujemy listę klasyfikatorów - jeśli mamy tylko dwa to sprawa jest łatwiejsza :) \n",
    "3. dzielimy dane k-razy\n",
    "4. dla każdej iteracji i dla każdego klasyfikatora, liczymy jego trafność, zapisujemy wyniki i zgodność z wartościami oczekiwanymi"
   ]
  },
  {
   "cell_type": "code",
   "execution_count": 13,
   "metadata": {
    "ExecuteTime": {
     "end_time": "2019-05-16T17:52:19.066256Z",
     "start_time": "2019-05-16T17:52:19.063302Z"
    },
    "collapsed": true
   },
   "outputs": [],
   "source": [
    "expected = []\n",
    "\n",
    "dt_predictions_manual = []\n",
    "dt_scores_manual = []\n",
    "\n",
    "knn_predictions_manual = []\n",
    "knn_scores_manual = []"
   ]
  },
  {
   "cell_type": "code",
   "execution_count": 14,
   "metadata": {
    "ExecuteTime": {
     "end_time": "2019-05-16T17:52:19.351670Z",
     "start_time": "2019-05-16T17:52:19.299231Z"
    },
    "collapsed": true
   },
   "outputs": [],
   "source": [
    "# Krok 3 i 4:\n",
    "\n",
    "# Manualnie dzielimy dane wg. deterministycznego próbkowania\n",
    "for train_idx, test_idx in cv.split(X, Y):\n",
    "    X_train, X_test = X.iloc[train_idx], X.iloc[test_idx]\n",
    "    y_train, y_test = Y.iloc[train_idx], Y.iloc[test_idx]\n",
    "    \n",
    "    # szkolimy klasfikatory\n",
    "    # drzewo decyzyjne\n",
    "    dt_fold = DecisionTreeClassifier(random_state=555)\n",
    "    dt_fold.fit(X_train, y_train)\n",
    "    \n",
    "    # Knn\n",
    "    knn_fold = KNeighborsClassifier()\n",
    "    knn_fold.fit(X_train, y_train)\n",
    "    \n",
    "    # dokonujemy predykcji na zbiorze testowym\n",
    "    dt_fold_predict = dt_fold.predict(X_test)\n",
    "    knn_fold_predict = knn_fold.predict(X_test)\n",
    "    \n",
    "    # zapisujemy predykcje - to się nam bardzo przyda\n",
    "    expected.append(y_test)\n",
    "    dt_predictions_manual.append(dt_fold_predict)\n",
    "    knn_predictions_manual.append(knn_fold_predict)\n",
    "    \n",
    "    # liczymy i zapisujemy trafności - to też się zaraz przyda\n",
    "    dt_fold_score = f1_score(y_true=y_test, y_pred=dt_fold_predict, average='weighted')\n",
    "    knn_fold_score = f1_score(y_true=y_test, y_pred=knn_fold_predict, average='weighted')\n",
    "    \n",
    "    dt_scores_manual.append(dt_fold_score)\n",
    "    knn_scores_manual.append(knn_fold_score)\n",
    "    "
   ]
  },
  {
   "cell_type": "code",
   "execution_count": 15,
   "metadata": {
    "ExecuteTime": {
     "end_time": "2019-05-16T17:52:19.504083Z",
     "start_time": "2019-05-16T17:52:19.500901Z"
    },
    "collapsed": true
   },
   "outputs": [],
   "source": [
    "dt_scores_manual = np.array(dt_scores_manual)\n",
    "knn_scores_manual = np.array(knn_scores_manual)"
   ]
  },
  {
   "cell_type": "markdown",
   "metadata": {},
   "source": [
    "## Analiza metryk - 2x1"
   ]
  },
  {
   "cell_type": "markdown",
   "metadata": {},
   "source": [
    "### Metoda 1 - t-test różnicy średnich metryk"
   ]
  },
  {
   "cell_type": "markdown",
   "metadata": {},
   "source": [
    "Jest to *de facto* prosty, parametryczny test t-studenta różnicy średnich metryki.\n",
    "\n",
    "\n",
    "$\n",
    "\\alpha \\text{ zadany poziom ufności, zazw. 0.95 }\n",
    "\\text{n - liczba iteracji cv} \\\\\n",
    "\\mu_1 \\text{  średnia wartość metryki klasyfikatora 1 w 10 próbach} \\\\\n",
    "\\mu_2 \\text{  średnia wartość metryki klasyfikatora 2 w 10 próbach} \\\\\n",
    "d_i \\text{ różnica wartości metryki w i-tej iteracji } \\\\\n",
    "\\bar{\\mu} = \\mu_1 - \\mu_2 \\text{ różnica średnich wartości metryki klasyfikatorów} \\\\\n",
    "t^* = \\frac{\\bar{\\mu}  \\sqrt{n}}{ \\sqrt{ \\frac{1}{n-1} \\sum_{i=1}^{n-1} (d_i - \\bar{\\mu})^2 }} \\\\\n",
    "t^* \\approx t_{n-1, \\alpha} \\text{ statystyka ma rozkład t-studenta z n-1 stopniami swobody na poziomie α } \\\\\n",
    "$\n",
    "\n",
    "**Hipoteza zerowa** - różnica wartości metryk wynosi zero\n",
    "\n",
    "**Hipoteza alternatywna** - różnica wartośći metryk jest różna od zera\n",
    "\n",
    "\n",
    "Założenia testu:\n",
    "* Mierzone wartości są wyrażone liczbowo na skali ciągłej\n",
    "* Pobrane wartości są reprezentatywną próbką z populacji. **UWAGA: to założenie może być naruszone**\n",
    "* Wartość różnic ma rozkład normalny. **UWAGA: to założenie może być naruszone **\n",
    "* Powinna zostać użyta odpowiednio duża próbka, np. > 50. **UWAGA: to założenie może być naruszone**\n",
    "* Wariancja różnic jest stała. **UWAGA: to założenie może być naruszone **"
   ]
  },
  {
   "cell_type": "code",
   "execution_count": 16,
   "metadata": {
    "ExecuteTime": {
     "end_time": "2019-05-16T17:52:03.487388Z",
     "start_time": "2019-05-16T17:52:03.479988Z"
    }
   },
   "outputs": [
    {
     "data": {
      "text/plain": [
       "(-0.9429535191480082, 0.3703266993815051)"
      ]
     },
     "execution_count": 16,
     "metadata": {},
     "output_type": "execute_result"
    }
   ],
   "source": [
    "# piszemy to samodzielnie :) \n",
    "# Po kolei, tak jak w równaniach.\n",
    "# Możemy wybrać albo wyniki automatyczne, albo manualne, bez znaczenia\n",
    "alpha = 0.95\n",
    "n = len(dt_scores_manual)\n",
    "\n",
    "μ1 = np.mean(dt_scores_manual)\n",
    "μ2 = np.mean(knn_scores_manual)\n",
    "\n",
    "di = dt_scores_manual - knn_scores_manual\n",
    "\n",
    "μ = np.mean(di)\n",
    "\n",
    "t_star_numerator = μ * np.sqrt(n)\n",
    "t_star_denominator = np.sqrt(  np.sum( (di - μ)**2 ) / (n-1)  )\n",
    "t_star = t_star_numerator / t_star_denominator\n",
    "\n",
    "# wyliczenie wartości krytycznej dla aktualnej statystyki\n",
    "p_val = (1.0 - st.t.cdf(np.abs(t_star), df=n-1)) * 2.0\n",
    "\n",
    "t_star, p_val"
   ]
  },
  {
   "cell_type": "code",
   "execution_count": 17,
   "metadata": {
    "ExecuteTime": {
     "end_time": "2019-05-16T17:52:03.969631Z",
     "start_time": "2019-05-16T17:52:03.964057Z"
    }
   },
   "outputs": [
    {
     "data": {
      "text/plain": [
       "Ttest_relResult(statistic=-0.9429535191480081, pvalue=0.3703266993815051)"
      ]
     },
     "execution_count": 17,
     "metadata": {},
     "output_type": "execute_result"
    }
   ],
   "source": [
    "# Prościej - za pomocą biblioteki. Wyniki są takie same\n",
    "st.ttest_rel(dt_scores_manual, knn_scores_manual)"
   ]
  },
  {
   "cell_type": "markdown",
   "metadata": {},
   "source": [
    "Konkluzja - p-value jest większe od 0.05, czyli nie możemy odrzucić hipotezy zerowej"
   ]
  },
  {
   "cell_type": "code",
   "execution_count": 18,
   "metadata": {
    "ExecuteTime": {
     "end_time": "2019-05-16T17:50:56.773188Z",
     "start_time": "2019-05-16T17:50:56.629470Z"
    }
   },
   "outputs": [
    {
     "data": {
      "text/plain": [
       "[<matplotlib.lines.Line2D at 0x14604eecc88>]"
      ]
     },
     "execution_count": 18,
     "metadata": {},
     "output_type": "execute_result"
    },
    {
     "data": {
      "image/png": "[encoded data removed]",
      "text/plain": [
       "<matplotlib.figure.Figure at 0x14604c0cac8>"
      ]
     },
     "metadata": {
      "needs_background": "light"
     },
     "output_type": "display_data"
    }
   ],
   "source": [
    "plt.plot(dt_scores_manual)"
   ]
  },
  {
   "cell_type": "markdown",
   "metadata": {},
   "source": [
    "### Metoda 2 - Test McNemara\n",
    "\n",
    "Czasami jest to lepsze rozwiązanie. Test jest nieparametryczny, czyli nie robi żadnych założeń. Jest przez to bardziej restrykcyjny, tzn. czasem trudno mu będzie wykryć istniejącą różnicę.\n",
    "\n",
    "Opiera się na zbudowaniu tabeli pomyłek i współwystępowania wyników:\n",
    "\n"
   ]
  },
  {
   "cell_type": "markdown",
   "metadata": {},
   "source": [
    "|    .                                        |             .                                   |\n",
    "|----------------------------------------------|-------------------------------------------------|\n",
    "| Klasyfikator 1 - źle Klasyfikator 2 - źle    | Klasyfikator 1 - źle Klasyfikator 2 - dobrze    |\n",
    "| Klasyfikator 1 - dobrze Klasyfikator 2 - źle | Klasyfikator 1 - dobrze Klasyfikator 2 - dobrze |"
   ]
  },
  {
   "cell_type": "markdown",
   "metadata": {
    "ExecuteTime": {
     "end_time": "2019-05-16T17:05:08.008053Z",
     "start_time": "2019-05-16T17:05:08.003366Z"
    }
   },
   "source": [
    "|    .                                        |             .                                   |\n",
    "|----------------------------------------------|-------------------------------------------------|\n",
    "| n00    | n01    |\n",
    "| n10 | n11 |"
   ]
  },
  {
   "cell_type": "markdown",
   "metadata": {},
   "source": [
    "Test McNemara jest odpowiednikem testu Chi-kwadrat różnicy pomiędzy wartościami zaobserwowanymi a wartościami oczekiwanymi.\n",
    "\n",
    "Jeśli założymy, że nie ma różnicy pomiędzy klasyfikatorami, to spodziwalibyśmy się następującego układu:\n",
    "\n",
    "|    .                                        |             .                                   |\n",
    "|----------------------------------------------|-------------------------------------------------|\n",
    "| n00    | (n01 + n10)/2    |\n",
    "| (n01 + n10)/2 | n11 |\n",
    "\n",
    "\n",
    "Czyli gdzie proporcja złych klasyfikacji w przypadku A i B jest identyczna. Czy tak jest w istocie? Sprawdza to test McNemara.\n",
    "\n",
    "$\n",
    "\\alpha \\text{ zadany poziom ufności} \\\\\n",
    "\\chi^2_{mcnemar} = \\frac{(|n_{01} - n_{10}| -1)^2}{n_{01} + n_{10}} \\\\\n",
    "\\chi^2_{mcnemar} \\approx \\chi^2_{1, \\alpha}\n",
    "$\n",
    "\n",
    "**Hipoteza zerowa** - rzeczywista wartośc macierzy pomyłek jest taka sama, jak wartośc oczekiwana\n",
    "\n",
    "**Hipoteza alternatywna** - rzeczywista wartość macierzy pomyłek różni się od oczekiwanej\n",
    "\n",
    "**Zazwyczaj tej metody możemy użyć tylko z jednym podziałem danych, aczkolwiek można to objeść :D**"
   ]
  },
  {
   "cell_type": "code",
   "execution_count": 19,
   "metadata": {
    "ExecuteTime": {
     "end_time": "2019-05-16T17:50:59.535214Z",
     "start_time": "2019-05-16T17:50:59.532450Z"
    },
    "collapsed": true
   },
   "outputs": [],
   "source": [
    "# Bierzemy wyniki tylko z piątego podziału. Możemy wziąć dowolny inny\n",
    "dt_predictions5 = dt_predictions_manual[5]\n",
    "knn_predictions5 = knn_predictions_manual[5]\n",
    "y_expected5 = expected[5]"
   ]
  },
  {
   "cell_type": "code",
   "execution_count": 20,
   "metadata": {
    "ExecuteTime": {
     "end_time": "2019-05-16T17:51:00.256223Z",
     "start_time": "2019-05-16T17:51:00.252505Z"
    },
    "collapsed": true
   },
   "outputs": [],
   "source": [
    "# Sprawadzamy, czy drzewo decyzyjne się pomyliło?\n",
    "dt_was_ok = dt_predictions5 == y_expected5\n",
    "\n",
    "# Sprawdzamy, czy knn się pomylił?\n",
    "knn_was_ok = knn_predictions5 == y_expected5"
   ]
  },
  {
   "cell_type": "code",
   "execution_count": 21,
   "metadata": {
    "ExecuteTime": {
     "end_time": "2019-05-16T17:51:00.463568Z",
     "start_time": "2019-05-16T17:51:00.454704Z"
    }
   },
   "outputs": [
    {
     "data": {
      "text/html": [
       "<div>\n",
       "<style>\n",
       "    .dataframe thead tr:only-child th {\n",
       "        text-align: right;\n",
       "    }\n",
       "\n",
       "    .dataframe thead th {\n",
       "        text-align: left;\n",
       "    }\n",
       "\n",
       "    .dataframe tbody tr th {\n",
       "        vertical-align: top;\n",
       "    }\n",
       "</style>\n",
       "<table border=\"1\" class=\"dataframe\">\n",
       "  <thead>\n",
       "    <tr style=\"text-align: right;\">\n",
       "      <th></th>\n",
       "      <th>dt</th>\n",
       "      <th>knn</th>\n",
       "    </tr>\n",
       "  </thead>\n",
       "  <tbody>\n",
       "    <tr>\n",
       "      <th>25</th>\n",
       "      <td>True</td>\n",
       "      <td>True</td>\n",
       "    </tr>\n",
       "    <tr>\n",
       "      <th>26</th>\n",
       "      <td>True</td>\n",
       "      <td>True</td>\n",
       "    </tr>\n",
       "    <tr>\n",
       "      <th>27</th>\n",
       "      <td>True</td>\n",
       "      <td>True</td>\n",
       "    </tr>\n",
       "    <tr>\n",
       "      <th>28</th>\n",
       "      <td>True</td>\n",
       "      <td>True</td>\n",
       "    </tr>\n",
       "  </tbody>\n",
       "</table>\n",
       "</div>"
      ],
      "text/plain": [
       "      dt   knn\n",
       "25  True  True\n",
       "26  True  True\n",
       "27  True  True\n",
       "28  True  True"
      ]
     },
     "execution_count": 21,
     "metadata": {},
     "output_type": "execute_result"
    }
   ],
   "source": [
    "# Robimy tabelę zestawiającą oba klasyfikatory\n",
    "two_cls = pd.DataFrame({'dt': dt_was_ok, 'knn':knn_was_ok})\n",
    "two_cls.head(4)"
   ]
  },
  {
   "cell_type": "code",
   "execution_count": 22,
   "metadata": {
    "ExecuteTime": {
     "end_time": "2019-05-16T17:51:00.744269Z",
     "start_time": "2019-05-16T17:51:00.736668Z"
    }
   },
   "outputs": [
    {
     "data": {
      "text/html": [
       "<div>\n",
       "<style>\n",
       "    .dataframe thead tr:only-child th {\n",
       "        text-align: right;\n",
       "    }\n",
       "\n",
       "    .dataframe thead th {\n",
       "        text-align: left;\n",
       "    }\n",
       "\n",
       "    .dataframe tbody tr th {\n",
       "        vertical-align: top;\n",
       "    }\n",
       "</style>\n",
       "<table border=\"1\" class=\"dataframe\">\n",
       "  <thead>\n",
       "    <tr style=\"text-align: right;\">\n",
       "      <th></th>\n",
       "      <th>dt</th>\n",
       "      <th>knn</th>\n",
       "    </tr>\n",
       "  </thead>\n",
       "  <tbody>\n",
       "    <tr>\n",
       "      <th>dt</th>\n",
       "      <td>13</td>\n",
       "      <td>13</td>\n",
       "    </tr>\n",
       "    <tr>\n",
       "      <th>knn</th>\n",
       "      <td>13</td>\n",
       "      <td>14</td>\n",
       "    </tr>\n",
       "  </tbody>\n",
       "</table>\n",
       "</div>"
      ],
      "text/plain": [
       "     dt  knn\n",
       "dt   13   13\n",
       "knn  13   14"
      ]
     },
     "execution_count": 22,
     "metadata": {},
     "output_type": "execute_result"
    }
   ],
   "source": [
    "# Podsumowujemy ją - trick polegający na iloczynie diadycznym\n",
    "# rzutujemy na wartości liczbowe\n",
    "two_cls_asint = two_cls.astype(int)\n",
    "\n",
    "conf_matrix = two_cls_asint.T.dot(two_cls_asint)\n",
    "conf_matrix"
   ]
  },
  {
   "cell_type": "code",
   "execution_count": 23,
   "metadata": {
    "ExecuteTime": {
     "end_time": "2019-05-16T17:51:01.302554Z",
     "start_time": "2019-05-16T17:51:01.297715Z"
    }
   },
   "outputs": [
    {
     "name": "stdout",
     "output_type": "stream",
     "text": [
      "Statystyka chi-kwadrat 13.0 p-val: 1.0\n"
     ]
    }
   ],
   "source": [
    "# Liczymy wartośc statystyki - tym razem z biblitoeki :D \n",
    "\n",
    "result = mcnemar(conf_matrix, exact=True)\n",
    "print(\"Statystyka chi-kwadrat\", result.statistic, \"p-val:\", result.pvalue)"
   ]
  },
  {
   "cell_type": "markdown",
   "metadata": {},
   "source": [
    "### Metoda 3: test Wilcoxona"
   ]
  },
  {
   "cell_type": "markdown",
   "metadata": {},
   "source": [
    "Test Wilcoxona porównuje rangi uzyskane przez klasyfikatory. Zasada działania:\n",
    "\n",
    "* Policz wektor różnic pomiędzy wynikami $D_i = (A_i - B_i)$\n",
    "* Jeśli jest remis (różnica wynosi zero: odrzucamy)\n",
    "* Sortujemy od najmniejszych do największych różnic i nadajemy rangi od 1 do max - jest to ranga porządkowa $R_i'$\n",
    "* Liczymy rangę: $R_i = \\frac{D_i}{|D_i|} R'_i$\n",
    "* Sumujemy dodatnie i ujemne rangi osobno. **Mniejsza z tych liczb jest wartością statystyki T Wilcoxona**\n",
    "* Sprawdzamy wynik w tabeli i odczytujem p-wartość"
   ]
  },
  {
   "cell_type": "code",
   "execution_count": 182,
   "metadata": {
    "collapsed": true
   },
   "outputs": [],
   "source": [
    "np.random.seed(18)\n",
    "v1 = np.random.rand(10)\n",
    "v2 = np.random.rand(10)"
   ]
  },
  {
   "cell_type": "code",
   "execution_count": 183,
   "metadata": {},
   "outputs": [
    {
     "data": {
      "text/plain": [
       "WilcoxonResult(statistic=18.0, pvalue=0.3328797545683888)"
      ]
     },
     "execution_count": 183,
     "metadata": {},
     "output_type": "execute_result"
    }
   ],
   "source": [
    "wilcoxon(v1, v2)"
   ]
  },
  {
   "cell_type": "code",
   "execution_count": 184,
   "metadata": {
    "collapsed": true
   },
   "outputs": [],
   "source": [
    "diffs = v1 - v2\n",
    "diffs = diffs[diffs != 0.0]"
   ]
  },
  {
   "cell_type": "code",
   "execution_count": 190,
   "metadata": {},
   "outputs": [
    {
     "data": {
      "text/plain": [
       "[(0, 1),\n",
       " (6, 2),\n",
       " (8, 3),\n",
       " (7, 4),\n",
       " (2, 5),\n",
       " (3, 6),\n",
       " (1, 7),\n",
       " (5, 8),\n",
       " (9, 9),\n",
       " (4, 10)]"
      ]
     },
     "execution_count": 190,
     "metadata": {},
     "output_type": "execute_result"
    }
   ],
   "source": [
    "sorted_ranked = list(zip(np.argsort(np.abs(diffs)), [v+1 for v in list(range(len(diffs)))]))\n",
    "sorted_ranked"
   ]
  },
  {
   "cell_type": "code",
   "execution_count": 191,
   "metadata": {},
   "outputs": [
    {
     "data": {
      "text/plain": [
       "[0.014655126278590003,\n",
       " -0.020868523854521093,\n",
       " 0.05833406342004921,\n",
       " 0.126269392274316,\n",
       " 0.1424268458055412,\n",
       " 0.16103311344804405,\n",
       " -0.3418590137517833,\n",
       " 0.45241254425015087,\n",
       " -0.6288831053379245,\n",
       " 0.7406299380095643]"
      ]
     },
     "execution_count": 191,
     "metadata": {},
     "output_type": "execute_result"
    }
   ],
   "source": [
    "[diffs[i] for i,j in sorted_ranked]"
   ]
  },
  {
   "cell_type": "code",
   "execution_count": 192,
   "metadata": {},
   "outputs": [
    {
     "data": {
      "text/plain": [
       "[1.0, -2.0, 3.0, 4.0, 5.0, 6.0, -7.0, 8.0, -9.0, 10.0]"
      ]
     },
     "execution_count": 192,
     "metadata": {},
     "output_type": "execute_result"
    }
   ],
   "source": [
    "w_rank = [diffs[i]/np.abs(diffs[i]) * j for i,j in sorted_ranked]\n",
    "w_rank"
   ]
  },
  {
   "cell_type": "code",
   "execution_count": 194,
   "metadata": {},
   "outputs": [
    {
     "data": {
      "text/plain": [
       "-18.0"
      ]
     },
     "execution_count": 194,
     "metadata": {},
     "output_type": "execute_result"
    }
   ],
   "source": [
    "sum([r for r in w_rank if r < 0])"
   ]
  },
  {
   "cell_type": "code",
   "execution_count": 169,
   "metadata": {},
   "outputs": [
    {
     "name": "stderr",
     "output_type": "stream",
     "text": [
      "C:\\Users\\filip\\AppData\\Local\\Continuum\\anaconda3\\lib\\site-packages\\scipy\\stats\\morestats.py:2385: UserWarning: Warning: sample size too small for normal approximation.\n",
      "  warnings.warn(\"Warning: sample size too small for normal approximation.\")\n"
     ]
    },
    {
     "data": {
      "text/plain": [
       "WilcoxonResult(statistic=4.0, pvalue=0.7127018566581784)"
      ]
     },
     "execution_count": 169,
     "metadata": {},
     "output_type": "execute_result"
    }
   ],
   "source": [
    "wilcoxon(dt_score_auto, knn_score_auto, zero_method='wilcox')"
   ]
  },
  {
   "cell_type": "markdown",
   "metadata": {},
   "source": [
    "## Zadania dla sytuacji 2:\n",
    "\n",
    "* Spróbuj zmienić parametry drzewa decyzyjnego i klasyfikatora Knn w przykładzie tak, aby wyniki były inne. Sprawdzaj \"na oko\" i statystycznie. Kiedy różnica będzie statystycznie istotna?\n",
    "* Przeprowadź porównanie klasyfikatorów na zbiorze Adult, przygotowanym poniżej."
   ]
  },
  {
   "cell_type": "code",
   "execution_count": 165,
   "metadata": {
    "ExecuteTime": {
     "end_time": "2019-05-16T18:04:04.146248Z",
     "start_time": "2019-05-16T18:04:04.068847Z"
    },
    "collapsed": true
   },
   "outputs": [],
   "source": [
    "adults = pd.read_csv(\"./adult.csv\")"
   ]
  },
  {
   "cell_type": "code",
   "execution_count": 175,
   "metadata": {
    "ExecuteTime": {
     "end_time": "2019-05-16T18:06:46.970298Z",
     "start_time": "2019-05-16T18:06:46.964717Z"
    },
    "collapsed": true
   },
   "outputs": [],
   "source": [
    "X_adults, Y_adults = adults.drop(\"earnings\", axis=1), adults.earnings"
   ]
  },
  {
   "cell_type": "code",
   "execution_count": 176,
   "metadata": {
    "ExecuteTime": {
     "end_time": "2019-05-16T18:07:01.145849Z",
     "start_time": "2019-05-16T18:07:01.140694Z"
    }
   },
   "outputs": [
    {
     "data": {
      "text/plain": [
       "array(['<=50K', '>50K'], dtype=object)"
      ]
     },
     "execution_count": 176,
     "metadata": {},
     "output_type": "execute_result"
    }
   ],
   "source": [
    "Y_adults.unique()"
   ]
  },
  {
   "cell_type": "code",
   "execution_count": 177,
   "metadata": {
    "ExecuteTime": {
     "end_time": "2019-05-16T18:07:36.398841Z",
     "start_time": "2019-05-16T18:07:36.355456Z"
    },
    "collapsed": true
   },
   "outputs": [],
   "source": [
    "X_adults = pd.get_dummies(X_adults)\n",
    "Y_adults = Y_adults.replace(\"<=50K\", 0).replace(\">50K\", 1)"
   ]
  },
  {
   "cell_type": "code",
   "execution_count": 184,
   "metadata": {
    "ExecuteTime": {
     "end_time": "2019-05-16T18:08:31.395915Z",
     "start_time": "2019-05-16T18:08:31.393150Z"
    },
    "collapsed": true
   },
   "outputs": [],
   "source": [
    "# Stwórz i porównaj dwa klasyfikatory"
   ]
  }
 ],
 "metadata": {
  "kernelspec": {
   "display_name": "Python 3",
   "language": "python",
   "name": "python3"
  },
  "language_info": {
   "codemirror_mode": {
    "name": "ipython",
    "version": 3
   },
   "file_extension": ".py",
   "mimetype": "text/x-python",
   "name": "python",
   "nbconvert_exporter": "python",
   "pygments_lexer": "ipython3",
   "version": "3.6.3"
  },
  "toc": {
   "base_numbering": 1,
   "nav_menu": {},
   "number_sections": true,
   "sideBar": true,
   "skip_h1_title": false,
   "title_cell": "Table of Contents",
   "title_sidebar": "Contents",
   "toc_cell": false,
   "toc_position": {
    "height": "calc(100% - 180px)",
    "left": "10px",
    "top": "150px",
    "width": "384px"
   },
   "toc_section_display": true,
   "toc_window_display": true
  }
 },
 "nbformat": 4,
 "nbformat_minor": 2
}
