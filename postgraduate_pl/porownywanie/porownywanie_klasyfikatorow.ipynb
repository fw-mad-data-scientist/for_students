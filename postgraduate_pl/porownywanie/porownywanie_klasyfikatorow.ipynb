{
 "cells": [
  {
   "cell_type": "code",
   "execution_count": 39,
   "metadata": {
    "ExecuteTime": {
     "end_time": "2019-05-15T14:41:39.305035Z",
     "start_time": "2019-05-15T14:41:39.302079Z"
    }
   },
   "outputs": [],
   "source": [
    "import numpy as np\n",
    "import pandas as pd\n",
    "\n",
    "from sklearn.tree import DecisionTreeClassifier\n",
    "from sklearn.neighbors import KNeighborsClassifier\n",
    "from sklearn.ensemble import RandomForestClassifier\n",
    "from sklearn.model_selection import cross_val_score, train_test_split, StratifiedKFold\n",
    "from sklearn.metrics import accuracy_score, f1_score, make_scorer\n",
    "\n",
    "from IPython.display import display"
   ]
  },
  {
   "cell_type": "markdown",
   "metadata": {},
   "source": [
    "# Wprowadzenie\n",
    "\n",
    "Celem tego notebooka jest wprowadzenie do tematyki porównywania ze sobą klaysfikatorów. Nie jest to sprawa tak prosta, jak mogłoby się wydawać. \n",
    "\n",
    "Ważne źródła informacji:\n",
    "\n",
    "> Dietterich, T. G. (1998) „Approximate statistical tests for comparing supervised classification learning  algorithms”, Neural computation. MIT Press, 10(7), ss. 1895–1923\n",
    "\n",
    "> Demšar, J. (2006) „Statistical comparisons of classifiers over multiple data sets”, Journal of Machine learning research, 7(Jan), ss. 1–30.\n"
   ]
  },
  {
   "cell_type": "markdown",
   "metadata": {},
   "source": [
    "Il. algorytmów \\ Il. zbiorów danych | 1 | 1+ |\n",
    "------------- | ------------- | ------------- |\n",
    "2 | T-test różnicy metryki CV <br/> <br/> LUB <br/> <br/> Test McNemara | Test różnicy rang Wilcoxon'a |\n",
    "2+ | T-test różnicy metryki <br/> <br/> LUB <br/><br/> Test Friedmana | Test Friedmana |"
   ]
  },
  {
   "cell_type": "markdown",
   "metadata": {},
   "source": [
    "W czym jest problem? Dlaczego nie można zawsze stosować zwykłego t-testu różnicy metryki?"
   ]
  },
  {
   "cell_type": "markdown",
   "metadata": {},
   "source": [
    "* Nie są spełnione "
   ]
  },
  {
   "cell_type": "markdown",
   "metadata": {},
   "source": [
    "# Przygotowanie metryki"
   ]
  },
  {
   "cell_type": "markdown",
   "metadata": {},
   "source": [
    "Metryka F1 dostarczana przez bibliotekę może działać tylko z dwiema klasami. Żeby używać jej dla więcej niż 2 klas trzeba to zrobić po swojemu :) "
   ]
  },
  {
   "cell_type": "code",
   "execution_count": 26,
   "metadata": {
    "collapsed": true
   },
   "outputs": [],
   "source": [
    "score_f = lambda y_true, y_predicted: f1_score(y_true=y_true, y_pred=y_predicted, average='weighted')\n",
    "f1_scorer = make_scorer(score_f)"
   ]
  },
  {
   "cell_type": "markdown",
   "metadata": {},
   "source": [
    "# Sytuacja: 2 klasyfikatory, 1 zbiór danych (2x1)"
   ]
  },
  {
   "cell_type": "code",
   "execution_count": 27,
   "metadata": {},
   "outputs": [
    {
     "data": {
      "text/html": [
       "<div>\n",
       "<style>\n",
       "    .dataframe thead tr:only-child th {\n",
       "        text-align: right;\n",
       "    }\n",
       "\n",
       "    .dataframe thead th {\n",
       "        text-align: left;\n",
       "    }\n",
       "\n",
       "    .dataframe tbody tr th {\n",
       "        vertical-align: top;\n",
       "    }\n",
       "</style>\n",
       "<table border=\"1\" class=\"dataframe\">\n",
       "  <thead>\n",
       "    <tr style=\"text-align: right;\">\n",
       "      <th></th>\n",
       "      <th>sepal_length</th>\n",
       "      <th>sepal_width</th>\n",
       "      <th>petal_length</th>\n",
       "      <th>petal_width</th>\n",
       "      <th>species</th>\n",
       "    </tr>\n",
       "  </thead>\n",
       "  <tbody>\n",
       "    <tr>\n",
       "      <th>0</th>\n",
       "      <td>5.1</td>\n",
       "      <td>3.5</td>\n",
       "      <td>1.4</td>\n",
       "      <td>0.2</td>\n",
       "      <td>setosa</td>\n",
       "    </tr>\n",
       "    <tr>\n",
       "      <th>1</th>\n",
       "      <td>4.9</td>\n",
       "      <td>3.0</td>\n",
       "      <td>1.4</td>\n",
       "      <td>0.2</td>\n",
       "      <td>setosa</td>\n",
       "    </tr>\n",
       "    <tr>\n",
       "      <th>2</th>\n",
       "      <td>4.7</td>\n",
       "      <td>3.2</td>\n",
       "      <td>1.3</td>\n",
       "      <td>0.2</td>\n",
       "      <td>setosa</td>\n",
       "    </tr>\n",
       "  </tbody>\n",
       "</table>\n",
       "</div>"
      ],
      "text/plain": [
       "   sepal_length  sepal_width  petal_length  petal_width species\n",
       "0           5.1          3.5           1.4          0.2  setosa\n",
       "1           4.9          3.0           1.4          0.2  setosa\n",
       "2           4.7          3.2           1.3          0.2  setosa"
      ]
     },
     "execution_count": 27,
     "metadata": {},
     "output_type": "execute_result"
    }
   ],
   "source": [
    "data1 = pd.read_csv(\"./iris.csv\")\n",
    "data1.head(3)"
   ]
  },
  {
   "cell_type": "code",
   "execution_count": 28,
   "metadata": {
    "collapsed": true
   },
   "outputs": [],
   "source": [
    "# Podział na zmienne egzogeniczne i endogeniczne\n",
    "\n",
    "X, Y = data1.drop(\"species\", axis=1), data1.species"
   ]
  },
  {
   "cell_type": "code",
   "execution_count": 29,
   "metadata": {},
   "outputs": [
    {
     "data": {
      "text/html": [
       "<div>\n",
       "<style>\n",
       "    .dataframe thead tr:only-child th {\n",
       "        text-align: right;\n",
       "    }\n",
       "\n",
       "    .dataframe thead th {\n",
       "        text-align: left;\n",
       "    }\n",
       "\n",
       "    .dataframe tbody tr th {\n",
       "        vertical-align: top;\n",
       "    }\n",
       "</style>\n",
       "<table border=\"1\" class=\"dataframe\">\n",
       "  <thead>\n",
       "    <tr style=\"text-align: right;\">\n",
       "      <th></th>\n",
       "      <th>sepal_length</th>\n",
       "      <th>sepal_width</th>\n",
       "      <th>petal_length</th>\n",
       "      <th>petal_width</th>\n",
       "    </tr>\n",
       "  </thead>\n",
       "  <tbody>\n",
       "    <tr>\n",
       "      <th>0</th>\n",
       "      <td>5.1</td>\n",
       "      <td>3.5</td>\n",
       "      <td>1.4</td>\n",
       "      <td>0.2</td>\n",
       "    </tr>\n",
       "    <tr>\n",
       "      <th>1</th>\n",
       "      <td>4.9</td>\n",
       "      <td>3.0</td>\n",
       "      <td>1.4</td>\n",
       "      <td>0.2</td>\n",
       "    </tr>\n",
       "    <tr>\n",
       "      <th>2</th>\n",
       "      <td>4.7</td>\n",
       "      <td>3.2</td>\n",
       "      <td>1.3</td>\n",
       "      <td>0.2</td>\n",
       "    </tr>\n",
       "  </tbody>\n",
       "</table>\n",
       "</div>"
      ],
      "text/plain": [
       "   sepal_length  sepal_width  petal_length  petal_width\n",
       "0           5.1          3.5           1.4          0.2\n",
       "1           4.9          3.0           1.4          0.2\n",
       "2           4.7          3.2           1.3          0.2"
      ]
     },
     "metadata": {},
     "output_type": "display_data"
    },
    {
     "data": {
      "text/plain": [
       "0    setosa\n",
       "1    setosa\n",
       "2    setosa\n",
       "Name: species, dtype: object"
      ]
     },
     "metadata": {},
     "output_type": "display_data"
    }
   ],
   "source": [
    "display(X.head(3))\n",
    "\n",
    "display(Y.head(3))"
   ]
  },
  {
   "cell_type": "code",
   "execution_count": 66,
   "metadata": {},
   "outputs": [],
   "source": [
    "# Utwórz obiekt klasyfikatora drzewa decyzyjnego i klasyfikatora Knn. Parametry dowolne\n",
    "\n",
    "# niektóre klasyfikatory wymagają dodatkowego zapewnienia \n",
    "# deterministyczności. Trzeba to zawsze sprawdzać w dokumentacji\n",
    "dt = DecisionTreeClassifier(random_state=555)\n",
    "knn = KNeighborsClassifier()"
   ]
  },
  {
   "cell_type": "markdown",
   "metadata": {},
   "source": [
    "## Zbieranie metryk"
   ]
  },
  {
   "cell_type": "markdown",
   "metadata": {},
   "source": [
    " Użyjemy 10-o krotnej walidacji krzyżowej"
   ]
  },
  {
   "cell_type": "markdown",
   "metadata": {},
   "source": [
    "Kroki:\n",
    "\n",
    "* Przygotowujemy *środowisko eksperymentalne* - podział danych ma być **deterministyczny** tzn. za każdym razem dawać taki sam wynik\n",
    "* Używamy próbkowania **proporcjonalnego** tzn. zachowującego proporcje klas z oryginalnych danych"
   ]
  },
  {
   "cell_type": "code",
   "execution_count": 84,
   "metadata": {},
   "outputs": [],
   "source": [
    "# Używamy obiektu, który zapewni nam deterministyczny podział danych\n",
    "cv = StratifiedKFold(\n",
    "    n_splits=10,        # Ustawiamy ilość losowań\n",
    "    random_state=555    # Ustawiamy \"ziarno\" - dowolna liczba, ważne żeby pamiętać, czego się użyło :D \n",
    ")"
   ]
  },
  {
   "cell_type": "markdown",
   "metadata": {},
   "source": [
    "### Wersja uproszczona"
   ]
  },
  {
   "cell_type": "markdown",
   "metadata": {},
   "source": [
    "Ta wersja jest szybsza, także przydaje się podczas prototypowania wstępnego. Niestety, ma poważne ograniczenia:\n",
    "1. nie pozwala na dokładne kontrolowanie, w jaki sposób działają klasyfikatory\n",
    "2. nie pozwala liczyć dodatkowych metryk w trakcie działania\n",
    "3. nie mamy wpływu na obsługę danych"
   ]
  },
  {
   "cell_type": "code",
   "execution_count": 79,
   "metadata": {},
   "outputs": [],
   "source": [
    "# Używamy wbudowanej funkcji do policzenia wyników dla drzewa\n",
    "dt_score_auto = cross_val_score(\n",
    "    dt,                     # nasz klasyfikator\n",
    "    X,                      # macierz zmiennych egzogenicznych\n",
    "    Y,                      # wektor etykiet/klasy docelowej\n",
    "    scoring=f1_scorer,      # nasza funkcja licząca metrykę F1\n",
    "    cv=cv,                  # 10-o krotna walidacja\n",
    ")"
   ]
  },
  {
   "cell_type": "code",
   "execution_count": 80,
   "metadata": {},
   "outputs": [
    {
     "data": {
      "text/plain": [
       "array([1.        , 0.93265993, 1.        , 0.93265993, 0.93265993,\n",
       "       0.86666667, 0.93265993, 0.93265993, 1.        , 1.        ])"
      ]
     },
     "execution_count": 80,
     "metadata": {},
     "output_type": "execute_result"
    }
   ],
   "source": [
    "dt_score_auto"
   ]
  },
  {
   "cell_type": "code",
   "execution_count": 82,
   "metadata": {
    "collapsed": true
   },
   "outputs": [],
   "source": [
    "# Używamy wbudowanej funkcji do policzenia wyników dla Knn\n",
    "knn_score_auto = cross_val_score(\n",
    "    knn,                    # nasz klasyfikator\n",
    "    X,                      # macierz zmiennych egzogenicznych\n",
    "    Y,                      # wektor etykiet/klasy docelowej\n",
    "    scoring=f1_scorer,      # nasza funkcja licząca metrykę F1\n",
    "    cv=cv,                  # 10-o krotna walidacja\n",
    ")"
   ]
  },
  {
   "cell_type": "code",
   "execution_count": 83,
   "metadata": {},
   "outputs": [
    {
     "data": {
      "text/plain": [
       "array([1.        , 0.93265993, 1.        , 1.        , 0.86111111,\n",
       "       0.93265993, 0.93265993, 1.        , 1.        , 1.        ])"
      ]
     },
     "execution_count": 83,
     "metadata": {},
     "output_type": "execute_result"
    }
   ],
   "source": [
    "knn_score_auto"
   ]
  },
  {
   "cell_type": "markdown",
   "metadata": {},
   "source": [
    "### Wersja zaawansowana\n",
    "\n",
    "Wersja rekomendowana :) Pozwala nam na dokładne kontrolowanie liczonych metryk i przygotowywanie pewnych rzeczy \"na boku\". \n",
    "\n",
    "Kroki:\n",
    "\n",
    "1. przygotowujemy deterministyczny podział danych - to mieliśmy zrobione już wyżej :)\n",
    "2. przygotowujemy listę klasyfikatorów - jeśli mamy tylko dwa to sprawa jest łatwiejsza :) \n",
    "3. dzielimy dane k-razy\n",
    "4. dla każdej iteracji i dla każdego klasyfikatora, liczymy jego trafność, zapisujemy wyniki i zgodność z wartościami oczekiwanymi"
   ]
  },
  {
   "cell_type": "code",
   "execution_count": 99,
   "metadata": {
    "collapsed": true
   },
   "outputs": [],
   "source": [
    "expected = []\n",
    "\n",
    "dt_predictions_manual = []\n",
    "dt_scores_manual = []\n",
    "\n",
    "knn_predictions_manual = []\n",
    "knn_scores_manual = []"
   ]
  },
  {
   "cell_type": "code",
   "execution_count": 100,
   "metadata": {},
   "outputs": [],
   "source": [
    "# Krok 3 i 4:\n",
    "\n",
    "# Manualnie dzielimy dane wg. deterministycznego próbkowania\n",
    "for train_idx, test_idx in cv.split(X, Y):\n",
    "    X_train, X_test = X.iloc[train_idx], X.iloc[test_idx]\n",
    "    y_train, y_test = Y.iloc[train_idx], Y.iloc[test_idx]\n",
    "    \n",
    "    # szkolimy klasfikatory\n",
    "    # drzewo decyzyjne\n",
    "    dt_fold = DecisionTreeClassifier(random_state=555)\n",
    "    dt_fold.fit(X_train, y_train)\n",
    "    \n",
    "    # Knn\n",
    "    knn_fold = KNeighborsClassifier()\n",
    "    knn_fold.fit(X_train, y_train)\n",
    "    \n",
    "    # dokonujemy predykcji na zbiorze testowym\n",
    "    dt_fold_predict = dt_fold.predict(X_test)\n",
    "    knn_fold_predict = knn_fold.predict(X_test)\n",
    "    \n",
    "    # zapisujemy predykcje - to się nam bardzo przyda\n",
    "    expected.append(y_test)\n",
    "    dt_results_manual.append(dt_fold_predict)\n",
    "    knn_results_manual.append(knn_fold_predict)\n",
    "    \n",
    "    # liczymy i zapisujemy trafności - to też się zaraz przyda\n",
    "    dt_fold_score = f1_score(y_true=y_test, y_pred=dt_fold_predict, average='weighted')\n",
    "    knn_fold_score = f1_score(y_true=y_test, y_pred=knn_fold_predict, average='weighted')\n",
    "    \n",
    "    dt_scores_manual.append(dt_fold_score)\n",
    "    knn_scores_manual.append(knn_fold_score)\n",
    "    "
   ]
  },
  {
   "cell_type": "markdown",
   "metadata": {},
   "source": [
    "## Analiza metryk - 2x1"
   ]
  },
  {
   "cell_type": "markdown",
   "metadata": {},
   "source": [
    "### Metoda 1 - t-test różnicy średnich metryk"
   ]
  },
  {
   "cell_type": "code",
   "execution_count": null,
   "metadata": {
    "collapsed": true
   },
   "outputs": [],
   "source": []
  }
 ],
 "metadata": {
  "kernelspec": {
   "display_name": "Python 3",
   "language": "python",
   "name": "python3"
  },
  "language_info": {
   "codemirror_mode": {
    "name": "ipython",
    "version": 3
   },
   "file_extension": ".py",
   "mimetype": "text/x-python",
   "name": "python",
   "nbconvert_exporter": "python",
   "pygments_lexer": "ipython3",
   "version": "3.6.3"
  },
  "toc": {
   "base_numbering": 1,
   "nav_menu": {},
   "number_sections": true,
   "sideBar": true,
   "skip_h1_title": false,
   "title_cell": "Table of Contents",
   "title_sidebar": "Contents",
   "toc_cell": false,
   "toc_position": {},
   "toc_section_display": true,
   "toc_window_display": true
  }
 },
 "nbformat": 4,
 "nbformat_minor": 2
}
