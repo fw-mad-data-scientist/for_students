{
 "cells": [
  {
   "cell_type": "markdown",
   "metadata": {},
   "source": [
    "## Regresja liniowa\n",
    "\n",
    "W tym notebooku stworzymy model regresji liniowej dla zbioru danych o nieruchomościach w Bostonie - celem zadania jest przewidywanie cen domów na podstawie cech liczbowych\n",
    "\n",
    "* napiszemy pojedynczy model regresji od podstaw z jedną zmienną niezależną\n",
    "* użyjemy numpy do oszacowania współczynników regresji\n",
    "* sprawdzimy poprawność regresji, używając RSME i współczynnika determinacji\n",
    "\n",
    "Potem:\n",
    "\n",
    "* napiszemy model regresji z wieloma zmiennymi od podstaw\n",
    "* skorzystamy z klasy LinearRegression w sklearn, aby wykonać to samo zadanie i porównać wyniki\n",
    "\n"
   ]
  },
  {
   "cell_type": "code",
   "execution_count": 14,
   "metadata": {
    "ExecuteTime": {
     "end_time": "2019-05-17T14:58:00.679160Z",
     "start_time": "2019-05-17T14:58:00.674416Z"
    }
   },
   "outputs": [],
   "source": [
    "import pandas as pd\n",
    "import numpy as np\n",
    "from matplotlib import pyplot as plt\n",
    "\n",
    "%matplotlib inline"
   ]
  },
  {
   "cell_type": "code",
   "execution_count": 15,
   "metadata": {
    "ExecuteTime": {
     "end_time": "2019-05-17T14:58:00.861409Z",
     "start_time": "2019-05-17T14:58:00.855488Z"
    }
   },
   "outputs": [],
   "source": [
    "boston_dataframe = pd.read_csv('boston.csv', index_col=0)"
   ]
  },
  {
   "cell_type": "code",
   "execution_count": 16,
   "metadata": {
    "ExecuteTime": {
     "end_time": "2019-05-17T14:58:01.014922Z",
     "start_time": "2019-05-17T14:58:01.011761Z"
    }
   },
   "outputs": [],
   "source": [
    "y = boston_dataframe.pop('y')"
   ]
  },
  {
   "cell_type": "code",
   "execution_count": 17,
   "metadata": {
    "ExecuteTime": {
     "end_time": "2019-05-17T14:58:01.681081Z",
     "start_time": "2019-05-17T14:58:01.665774Z"
    }
   },
   "outputs": [
    {
     "data": {
      "text/html": [
       "<div>\n",
       "<style>\n",
       "    .dataframe thead tr:only-child th {\n",
       "        text-align: right;\n",
       "    }\n",
       "\n",
       "    .dataframe thead th {\n",
       "        text-align: left;\n",
       "    }\n",
       "\n",
       "    .dataframe tbody tr th {\n",
       "        vertical-align: top;\n",
       "    }\n",
       "</style>\n",
       "<table border=\"1\" class=\"dataframe\">\n",
       "  <thead>\n",
       "    <tr style=\"text-align: right;\">\n",
       "      <th></th>\n",
       "      <th>CRIM</th>\n",
       "      <th>ZN</th>\n",
       "      <th>INDUS</th>\n",
       "      <th>CHAS</th>\n",
       "      <th>NOX</th>\n",
       "      <th>RM</th>\n",
       "      <th>AGE</th>\n",
       "      <th>DIS</th>\n",
       "      <th>RAD</th>\n",
       "      <th>TAX</th>\n",
       "      <th>PTRATIO</th>\n",
       "      <th>LSTAT</th>\n",
       "    </tr>\n",
       "  </thead>\n",
       "  <tbody>\n",
       "    <tr>\n",
       "      <th>0</th>\n",
       "      <td>0.00632</td>\n",
       "      <td>18.0</td>\n",
       "      <td>2.31</td>\n",
       "      <td>0.0</td>\n",
       "      <td>0.538</td>\n",
       "      <td>6.575</td>\n",
       "      <td>65.2</td>\n",
       "      <td>4.0900</td>\n",
       "      <td>1.0</td>\n",
       "      <td>296.0</td>\n",
       "      <td>15.3</td>\n",
       "      <td>4.98</td>\n",
       "    </tr>\n",
       "    <tr>\n",
       "      <th>1</th>\n",
       "      <td>0.02731</td>\n",
       "      <td>0.0</td>\n",
       "      <td>7.07</td>\n",
       "      <td>0.0</td>\n",
       "      <td>0.469</td>\n",
       "      <td>6.421</td>\n",
       "      <td>78.9</td>\n",
       "      <td>4.9671</td>\n",
       "      <td>2.0</td>\n",
       "      <td>242.0</td>\n",
       "      <td>17.8</td>\n",
       "      <td>9.14</td>\n",
       "    </tr>\n",
       "    <tr>\n",
       "      <th>2</th>\n",
       "      <td>0.02729</td>\n",
       "      <td>0.0</td>\n",
       "      <td>7.07</td>\n",
       "      <td>0.0</td>\n",
       "      <td>0.469</td>\n",
       "      <td>7.185</td>\n",
       "      <td>61.1</td>\n",
       "      <td>4.9671</td>\n",
       "      <td>2.0</td>\n",
       "      <td>242.0</td>\n",
       "      <td>17.8</td>\n",
       "      <td>4.03</td>\n",
       "    </tr>\n",
       "    <tr>\n",
       "      <th>3</th>\n",
       "      <td>0.03237</td>\n",
       "      <td>0.0</td>\n",
       "      <td>2.18</td>\n",
       "      <td>0.0</td>\n",
       "      <td>0.458</td>\n",
       "      <td>6.998</td>\n",
       "      <td>45.8</td>\n",
       "      <td>6.0622</td>\n",
       "      <td>3.0</td>\n",
       "      <td>222.0</td>\n",
       "      <td>18.7</td>\n",
       "      <td>2.94</td>\n",
       "    </tr>\n",
       "    <tr>\n",
       "      <th>4</th>\n",
       "      <td>0.06905</td>\n",
       "      <td>0.0</td>\n",
       "      <td>2.18</td>\n",
       "      <td>0.0</td>\n",
       "      <td>0.458</td>\n",
       "      <td>7.147</td>\n",
       "      <td>54.2</td>\n",
       "      <td>6.0622</td>\n",
       "      <td>3.0</td>\n",
       "      <td>222.0</td>\n",
       "      <td>18.7</td>\n",
       "      <td>5.33</td>\n",
       "    </tr>\n",
       "  </tbody>\n",
       "</table>\n",
       "</div>"
      ],
      "text/plain": [
       "      CRIM    ZN  INDUS  CHAS    NOX     RM   AGE     DIS  RAD    TAX  \\\n",
       "0  0.00632  18.0   2.31   0.0  0.538  6.575  65.2  4.0900  1.0  296.0   \n",
       "1  0.02731   0.0   7.07   0.0  0.469  6.421  78.9  4.9671  2.0  242.0   \n",
       "2  0.02729   0.0   7.07   0.0  0.469  7.185  61.1  4.9671  2.0  242.0   \n",
       "3  0.03237   0.0   2.18   0.0  0.458  6.998  45.8  6.0622  3.0  222.0   \n",
       "4  0.06905   0.0   2.18   0.0  0.458  7.147  54.2  6.0622  3.0  222.0   \n",
       "\n",
       "   PTRATIO  LSTAT  \n",
       "0     15.3   4.98  \n",
       "1     17.8   9.14  \n",
       "2     17.8   4.03  \n",
       "3     18.7   2.94  \n",
       "4     18.7   5.33  "
      ]
     },
     "execution_count": 17,
     "metadata": {},
     "output_type": "execute_result"
    }
   ],
   "source": [
    "boston_dataframe.head()"
   ]
  },
  {
   "cell_type": "markdown",
   "metadata": {},
   "source": [
    "Boston House Prices dataset\n",
    "===========================\n",
    "\n",
    "Notes\n",
    "------\n",
    "Data Set Characteristics:  \n",
    "    :Attribute Information (in order):\n",
    "        - CRIM     per capita crime rate by town\n",
    "        - ZN       proportion of residential land zoned for lots over 25,000 sq.ft.\n",
    "        - INDUS    proportion of non-retail business acres per town\n",
    "        - CHAS     Charles River dummy variable (= 1 if tract bounds river; 0 otherwise)\n",
    "        - NOX      nitric oxides concentration (parts per 10 million)\n",
    "        - RM       average number of rooms per dwelling\n",
    "        - AGE      proportion of owner-occupied units built prior to 1940\n",
    "        - DIS      weighted distances to five Boston employment centres\n",
    "        - RAD      index of accessibility to radial highways\n",
    "        - TAX      full-value property-tax rate per 10,000 USD\n",
    "        - PTRATIO  pupil-teacher ratio by town\n",
    "        - LSTAT    % lower status of the population\n",
    "        - MEDV     Median value of owner-occupied homes in 1000's USD"
   ]
  },
  {
   "cell_type": "code",
   "execution_count": 18,
   "metadata": {
    "ExecuteTime": {
     "end_time": "2019-05-17T14:58:03.481278Z",
     "start_time": "2019-05-17T14:58:03.465268Z"
    }
   },
   "outputs": [
    {
     "data": {
      "text/html": [
       "<div>\n",
       "<style>\n",
       "    .dataframe thead tr:only-child th {\n",
       "        text-align: right;\n",
       "    }\n",
       "\n",
       "    .dataframe thead th {\n",
       "        text-align: left;\n",
       "    }\n",
       "\n",
       "    .dataframe tbody tr th {\n",
       "        vertical-align: top;\n",
       "    }\n",
       "</style>\n",
       "<table border=\"1\" class=\"dataframe\">\n",
       "  <thead>\n",
       "    <tr style=\"text-align: right;\">\n",
       "      <th></th>\n",
       "      <th>CRIM</th>\n",
       "      <th>ZN</th>\n",
       "      <th>INDUS</th>\n",
       "      <th>CHAS</th>\n",
       "      <th>NOX</th>\n",
       "      <th>RM</th>\n",
       "      <th>AGE</th>\n",
       "      <th>DIS</th>\n",
       "      <th>RAD</th>\n",
       "      <th>TAX</th>\n",
       "      <th>PTRATIO</th>\n",
       "      <th>LSTAT</th>\n",
       "    </tr>\n",
       "  </thead>\n",
       "  <tbody>\n",
       "    <tr>\n",
       "      <th>0</th>\n",
       "      <td>0.00632</td>\n",
       "      <td>18.0</td>\n",
       "      <td>2.31</td>\n",
       "      <td>0.0</td>\n",
       "      <td>0.538</td>\n",
       "      <td>6.575</td>\n",
       "      <td>65.2</td>\n",
       "      <td>4.0900</td>\n",
       "      <td>1.0</td>\n",
       "      <td>296.0</td>\n",
       "      <td>15.3</td>\n",
       "      <td>4.98</td>\n",
       "    </tr>\n",
       "    <tr>\n",
       "      <th>1</th>\n",
       "      <td>0.02731</td>\n",
       "      <td>0.0</td>\n",
       "      <td>7.07</td>\n",
       "      <td>0.0</td>\n",
       "      <td>0.469</td>\n",
       "      <td>6.421</td>\n",
       "      <td>78.9</td>\n",
       "      <td>4.9671</td>\n",
       "      <td>2.0</td>\n",
       "      <td>242.0</td>\n",
       "      <td>17.8</td>\n",
       "      <td>9.14</td>\n",
       "    </tr>\n",
       "    <tr>\n",
       "      <th>2</th>\n",
       "      <td>0.02729</td>\n",
       "      <td>0.0</td>\n",
       "      <td>7.07</td>\n",
       "      <td>0.0</td>\n",
       "      <td>0.469</td>\n",
       "      <td>7.185</td>\n",
       "      <td>61.1</td>\n",
       "      <td>4.9671</td>\n",
       "      <td>2.0</td>\n",
       "      <td>242.0</td>\n",
       "      <td>17.8</td>\n",
       "      <td>4.03</td>\n",
       "    </tr>\n",
       "  </tbody>\n",
       "</table>\n",
       "</div>"
      ],
      "text/plain": [
       "      CRIM    ZN  INDUS  CHAS    NOX     RM   AGE     DIS  RAD    TAX  \\\n",
       "0  0.00632  18.0   2.31   0.0  0.538  6.575  65.2  4.0900  1.0  296.0   \n",
       "1  0.02731   0.0   7.07   0.0  0.469  6.421  78.9  4.9671  2.0  242.0   \n",
       "2  0.02729   0.0   7.07   0.0  0.469  7.185  61.1  4.9671  2.0  242.0   \n",
       "\n",
       "   PTRATIO  LSTAT  \n",
       "0     15.3   4.98  \n",
       "1     17.8   9.14  \n",
       "2     17.8   4.03  "
      ]
     },
     "execution_count": 18,
     "metadata": {},
     "output_type": "execute_result"
    }
   ],
   "source": [
    "boston_dataframe.head(3)"
   ]
  },
  {
   "cell_type": "markdown",
   "metadata": {},
   "source": [
    "# Prosta regresja liniowa\n",
    "\n",
    "Postaramy się zbadać zależnośc liniową pomiędzy dwiemia zmiennymi, za pomocą prostej regresji z jedną zmienną. Użyjemy zmiennej **LSTAT** czyli odsetek osób z najgorzej opłacanych grup społecznych w danej dzielnicy. Spróbujemy przewidzieć za jej pomocą ceny domów"
   ]
  },
  {
   "cell_type": "code",
   "execution_count": 19,
   "metadata": {
    "ExecuteTime": {
     "end_time": "2019-05-17T14:58:12.322205Z",
     "start_time": "2019-05-17T14:58:12.319199Z"
    }
   },
   "outputs": [],
   "source": [
    "x = boston_dataframe.LSTAT"
   ]
  },
  {
   "cell_type": "markdown",
   "metadata": {},
   "source": [
    "Prosta regresja jest wyrażana w sposób następujący:\n",
    "\n",
    "\\begin{equation*}\n",
    "Y = \\beta_0 + \\beta_1X\n",
    "\\end{equation*}\n",
    "\n",
    "$\\beta_0$ wyraz wolny, który oznacza, jaką domyślną wratość ma przyjmować zmienna x\n",
    "\n",
    "$\\beta_1$ współczynnik kierunkowy - jak bardzo zmienia się y, jeśli x zmieni się o jedną jednostkę\n",
    "\n",
    "Wyporowadzenie wzoru:\n",
    "\\begin{equation*}\n",
    "\\beta_1 = \\frac{\\sum_{i=1}^{m} (x_i - \\bar{x})(y_i - \\bar{y})}{\\sum_{i=1}^{m} (x_i - \\bar{x})^2}\n",
    "\\end{equation*}\n",
    "\n",
    "\\begin{equation*}\n",
    "\\beta_0 = \\bar{y} - \\beta_1\\bar{x}\n",
    "\\end{equation*}\n",
    "\n",
    "Napiszemy to od zera:"
   ]
  },
  {
   "cell_type": "code",
   "execution_count": 20,
   "metadata": {
    "ExecuteTime": {
     "end_time": "2019-05-17T14:58:13.706689Z",
     "start_time": "2019-05-17T14:58:13.702449Z"
    }
   },
   "outputs": [],
   "source": [
    "mean_y = np.mean(y)\n",
    "mean_x = np.mean(x)"
   ]
  },
  {
   "cell_type": "markdown",
   "metadata": {},
   "source": [
    "Implementujemy równanie dla $\\beta_1$"
   ]
  },
  {
   "cell_type": "code",
   "execution_count": 21,
   "metadata": {
    "ExecuteTime": {
     "end_time": "2019-05-17T14:58:14.742490Z",
     "start_time": "2019-05-17T14:58:14.738141Z"
    }
   },
   "outputs": [],
   "source": [
    "b1 = np.sum((x - mean_x) * (y - mean_y)) / np.sum(np.power(x - mean_x, 2))"
   ]
  },
  {
   "cell_type": "markdown",
   "metadata": {},
   "source": [
    "Implementujemy równanie dla $\\beta_0$"
   ]
  },
  {
   "cell_type": "code",
   "execution_count": 22,
   "metadata": {
    "ExecuteTime": {
     "end_time": "2019-05-17T14:58:15.787283Z",
     "start_time": "2019-05-17T14:58:15.784201Z"
    }
   },
   "outputs": [],
   "source": [
    "b0 = mean_y - b1 * mean_x"
   ]
  },
  {
   "cell_type": "code",
   "execution_count": 23,
   "metadata": {
    "ExecuteTime": {
     "end_time": "2019-05-17T14:58:16.282530Z",
     "start_time": "2019-05-17T14:58:16.278918Z"
    }
   },
   "outputs": [
    {
     "name": "stdout",
     "output_type": "stream",
     "text": [
      "Slope paramater: -0.9500493537579905 \n",
      "Intercept:34.553840879383124\n"
     ]
    }
   ],
   "source": [
    "print('Slope paramater: {} \\nIntercept:{}'.format(b1, b0))"
   ]
  },
  {
   "cell_type": "markdown",
   "metadata": {},
   "source": [
    "Mając taki wzór, możemy spróbować przewidzieć, jakie będą ceny nieruchomości, przy założeniu określonej wartości parametry LSTAT:\n",
    "\n",
    "* 10\n",
    "* 15\n",
    "* 20\n",
    "\n",
    "napiszemy funkcję, która używa naszego wzoru do przewidywania ceny."
   ]
  },
  {
   "cell_type": "code",
   "execution_count": 27,
   "metadata": {
    "ExecuteTime": {
     "end_time": "2019-05-17T14:59:28.805380Z",
     "start_time": "2019-05-17T14:59:28.802434Z"
    }
   },
   "outputs": [],
   "source": [
    "def predict_simple_regression(lower_status_population):\n",
    "    return b0 + lower_status_population * b1"
   ]
  },
  {
   "cell_type": "code",
   "execution_count": 28,
   "metadata": {
    "ExecuteTime": {
     "end_time": "2019-05-17T14:59:29.255335Z",
     "start_time": "2019-05-17T14:59:29.251764Z"
    }
   },
   "outputs": [
    {
     "data": {
      "text/plain": [
       "25.053347341803217"
      ]
     },
     "execution_count": 28,
     "metadata": {},
     "output_type": "execute_result"
    }
   ],
   "source": [
    "predict_simple_regression(10)"
   ]
  },
  {
   "cell_type": "code",
   "execution_count": 29,
   "metadata": {
    "ExecuteTime": {
     "end_time": "2019-05-17T14:59:30.075754Z",
     "start_time": "2019-05-17T14:59:30.071764Z"
    }
   },
   "outputs": [
    {
     "data": {
      "text/plain": [
       "20.303100573013268"
      ]
     },
     "execution_count": 29,
     "metadata": {},
     "output_type": "execute_result"
    }
   ],
   "source": [
    "predict_simple_regression(15)"
   ]
  },
  {
   "cell_type": "code",
   "execution_count": 31,
   "metadata": {
    "ExecuteTime": {
     "end_time": "2019-05-17T14:59:35.544563Z",
     "start_time": "2019-05-17T14:59:35.540139Z"
    }
   },
   "outputs": [
    {
     "data": {
      "text/plain": [
       "15.552853804223314"
      ]
     },
     "execution_count": 31,
     "metadata": {},
     "output_type": "execute_result"
    }
   ],
   "source": [
    "predict_simple_regression(20)"
   ]
  },
  {
   "cell_type": "markdown",
   "metadata": {},
   "source": [
    "Teraz możemy użyć wbudowanej funkcji matematycznej, żeby uzyskać ten sam efekt."
   ]
  },
  {
   "cell_type": "code",
   "execution_count": 39,
   "metadata": {
    "ExecuteTime": {
     "end_time": "2019-05-17T15:00:18.703167Z",
     "start_time": "2019-05-17T15:00:18.698506Z"
    }
   },
   "outputs": [
    {
     "name": "stdout",
     "output_type": "stream",
     "text": [
      "[-0.95004935 34.55384088]\n"
     ]
    }
   ],
   "source": [
    "fit = np.polyfit(x,y,1)\n",
    "fit_function = np.poly1d(fit) \n",
    "\n",
    "print(fit)"
   ]
  },
  {
   "cell_type": "markdown",
   "metadata": {},
   "source": [
    "Teraz możemy dokonywac predykcji z użyciem tej funkcji *fit_function*:"
   ]
  },
  {
   "cell_type": "code",
   "execution_count": 43,
   "metadata": {
    "ExecuteTime": {
     "end_time": "2019-05-17T15:00:43.926599Z",
     "start_time": "2019-05-17T15:00:43.921770Z"
    }
   },
   "outputs": [
    {
     "data": {
      "text/plain": [
       "25.053347341803182"
      ]
     },
     "execution_count": 43,
     "metadata": {},
     "output_type": "execute_result"
    }
   ],
   "source": [
    "fit_function(10)"
   ]
  },
  {
   "cell_type": "code",
   "execution_count": 44,
   "metadata": {
    "ExecuteTime": {
     "end_time": "2019-05-17T15:00:44.095554Z",
     "start_time": "2019-05-17T15:00:44.090675Z"
    }
   },
   "outputs": [
    {
     "data": {
      "text/plain": [
       "20.303100573013225"
      ]
     },
     "execution_count": 44,
     "metadata": {},
     "output_type": "execute_result"
    }
   ],
   "source": [
    "fit_function(15)"
   ]
  },
  {
   "cell_type": "code",
   "execution_count": 45,
   "metadata": {
    "ExecuteTime": {
     "end_time": "2019-05-17T15:00:44.251424Z",
     "start_time": "2019-05-17T15:00:44.247382Z"
    }
   },
   "outputs": [
    {
     "data": {
      "text/plain": [
       "15.552853804223268"
      ]
     },
     "execution_count": 45,
     "metadata": {},
     "output_type": "execute_result"
    }
   ],
   "source": [
    "fit_function(20)"
   ]
  },
  {
   "cell_type": "markdown",
   "metadata": {},
   "source": [
    "Możemy zrobić wykres dopasowania na podstawie uzyskanych wyników"
   ]
  },
  {
   "cell_type": "code",
   "execution_count": 46,
   "metadata": {
    "ExecuteTime": {
     "end_time": "2019-05-17T15:01:27.179884Z",
     "start_time": "2019-05-17T15:01:26.956171Z"
    },
    "scrolled": true
   },
   "outputs": [
    {
     "data": {
      "image/png": "[encoded data removed]",
      "text/plain": [
       "<matplotlib.figure.Figure at 0x114460400>"
      ]
     },
     "metadata": {
      "needs_background": "light"
     },
     "output_type": "display_data"
    }
   ],
   "source": [
    "x_domain = np.linspace(np.min(x), np.max(x), 1000)\n",
    "y_line = b0 + b1 * x_domain\n",
    "\n",
    "# regression line\n",
    "plt.plot(x_domain, y_line, color='blue', label='Regression')\n",
    "# data points\n",
    "plt.scatter(x, y, c='red', label='Data points')\n",
    "\n",
    "plt.title('Prosta regresja \\n', size=20)\n",
    "plt.xlabel('LSTAT')\n",
    "plt.ylabel('Cena domów')\n",
    "plt.legend()\n",
    "plt.show()"
   ]
  },
  {
   "cell_type": "markdown",
   "metadata": {},
   "source": [
    "Ważnym współczynnikiem jest Błąd Średniokwadratowy\n",
    "\n",
    "\\begin{equation*}\n",
    "RMSE = \\sqrt{\\sum_{i=1}^{m} \\frac{1}{m} (\\hat{y_i} - y_i)^2}\n",
    "\\end{equation*}\n",
    "\n",
    "Żeby go policzyć musimy mieć wartości predykcji dla każdego punktu X"
   ]
  },
  {
   "cell_type": "code",
   "execution_count": 47,
   "metadata": {
    "ExecuteTime": {
     "end_time": "2019-05-17T15:02:42.995040Z",
     "start_time": "2019-05-17T15:02:42.989803Z"
    }
   },
   "outputs": [
    {
     "name": "stdout",
     "output_type": "stream",
     "text": [
      "0    29.822595\n",
      "1    25.870390\n",
      "2    30.725142\n",
      "3    31.760696\n",
      "4    29.490078\n",
      "5    29.604084\n",
      "6    22.744727\n",
      "7    16.360396\n",
      "8     6.118864\n",
      "9    18.307997\n",
      "Name: LSTAT, dtype: float64\n"
     ]
    }
   ],
   "source": [
    "predictions = predict_simple_regression(x)\n",
    "# let's print first 10 predictions\n",
    "print(predictions[:10])"
   ]
  },
  {
   "cell_type": "markdown",
   "metadata": {},
   "source": [
    "Teraz możemy napisać funkcję implementującą RMSE wprost"
   ]
  },
  {
   "cell_type": "code",
   "execution_count": 48,
   "metadata": {
    "ExecuteTime": {
     "end_time": "2019-05-17T15:04:21.174046Z",
     "start_time": "2019-05-17T15:04:21.170875Z"
    }
   },
   "outputs": [],
   "source": [
    "def rmse(y_true, predictions):\n",
    "    return np.sqrt(np.sum((1 / len(predictions)) * np.power((predictions - y_true), 2)))"
   ]
  },
  {
   "cell_type": "code",
   "execution_count": 49,
   "metadata": {
    "ExecuteTime": {
     "end_time": "2019-05-17T15:04:21.660089Z",
     "start_time": "2019-05-17T15:04:21.654455Z"
    },
    "scrolled": true
   },
   "outputs": [
    {
     "data": {
      "text/plain": [
       "6.203464131426423"
      ]
     },
     "execution_count": 49,
     "metadata": {},
     "output_type": "execute_result"
    }
   ],
   "source": [
    "rmse(predictions, y)"
   ]
  },
  {
   "cell_type": "markdown",
   "metadata": {},
   "source": [
    "Możęmy też użyć funkcji wbudowanej w Sklearn, żeby uzyskać to samo"
   ]
  },
  {
   "cell_type": "code",
   "execution_count": 50,
   "metadata": {
    "ExecuteTime": {
     "end_time": "2019-05-17T15:11:20.859925Z",
     "start_time": "2019-05-17T15:11:20.275896Z"
    }
   },
   "outputs": [],
   "source": [
    "from sklearn.metrics import mean_squared_error"
   ]
  },
  {
   "cell_type": "code",
   "execution_count": 51,
   "metadata": {
    "ExecuteTime": {
     "end_time": "2019-05-17T15:11:20.866871Z",
     "start_time": "2019-05-17T15:11:20.862222Z"
    }
   },
   "outputs": [
    {
     "name": "stdout",
     "output_type": "stream",
     "text": [
      "MSE: 38.48296722989415\n",
      "RMSE: 6.20346413142642\n"
     ]
    }
   ],
   "source": [
    "print('MSE: {}'.format(mean_squared_error(predictions, y)))\n",
    "print('RMSE: {}'.format(np.sqrt(mean_squared_error(predictions, y))))"
   ]
  },
  {
   "cell_type": "markdown",
   "metadata": {},
   "source": [
    "Istnieje także powszechnie używana miara jakości dopasowania - $R^2$\n",
    "\n",
    "\\begin{equation}\n",
    "SS_t = \\sum_{i=1}^{m} (y_i - \\bar{y})^2\n",
    "\\end{equation}\n",
    "\\begin{equation}\n",
    "SS_r = \\sum_{i=1}^{m} (y_i - \\hat{y_i})^2\n",
    "\\end{equation}\n",
    "\\begin{equation}\n",
    "R^2 \\equiv 1 - \\frac{SS_r}{SS_t}\n",
    "\\end{equation}\n",
    "\n",
    "$R^2$ przyjmuje wartości pomiędzy 0 a 1 i może być używana do porównywania modeli regresji. \n",
    "\n",
    "Napiszmy funkcję obliczającą ten współczynnik"
   ]
  },
  {
   "cell_type": "code",
   "execution_count": 52,
   "metadata": {
    "ExecuteTime": {
     "end_time": "2019-05-17T15:12:29.244799Z",
     "start_time": "2019-05-17T15:12:29.241667Z"
    }
   },
   "outputs": [],
   "source": [
    "def r_squared_from_scratch(y_true, predictions):\n",
    "    sst = np.sum(np.power(y_true - np.mean(y_true), 2))\n",
    "    ssr = np.sum(np.power(y_true - predictions, 2))\n",
    "    return 1 - ssr/sst"
   ]
  },
  {
   "cell_type": "code",
   "execution_count": 53,
   "metadata": {
    "ExecuteTime": {
     "end_time": "2019-05-17T15:12:29.699581Z",
     "start_time": "2019-05-17T15:12:29.693828Z"
    },
    "scrolled": true
   },
   "outputs": [
    {
     "data": {
      "text/plain": [
       "0.54414629758648"
      ]
     },
     "execution_count": 53,
     "metadata": {},
     "output_type": "execute_result"
    }
   ],
   "source": [
    "r_squared_from_scratch(y, predictions)"
   ]
  },
  {
   "cell_type": "markdown",
   "metadata": {},
   "source": [
    "To samo z użyciem numpy"
   ]
  },
  {
   "cell_type": "code",
   "execution_count": 55,
   "metadata": {
    "ExecuteTime": {
     "end_time": "2019-05-17T15:12:41.643041Z",
     "start_time": "2019-05-17T15:12:41.638874Z"
    }
   },
   "outputs": [
    {
     "name": "stdout",
     "output_type": "stream",
     "text": [
      "0.5441462975864797\n"
     ]
    }
   ],
   "source": [
    "from  sklearn.metrics import r2_score\n",
    "print(r2_score(y, predictions))"
   ]
  },
  {
   "cell_type": "markdown",
   "metadata": {},
   "source": [
    "## Multiple linear regression"
   ]
  },
  {
   "cell_type": "markdown",
   "metadata": {},
   "source": [
    "Możemy rozszerzyć prosty model liniowy na przypadek, gdy mamy więcej zmiennych niezależnych. Formuła uzyskuje następującą postać:\n",
    "\n",
    "\\begin{equation}\n",
    "Y = \\beta_0 + \\beta_1x_1 + \\beta_1x_2 + … + \\beta_nx_n\n",
    "\\end{equation}\n",
    "\n",
    "Jest to zwykłe równanie macierzowe, który można rozwiązać przy użyciu algebry liniowej\n",
    "\n",
    "\\begin{equation}\n",
    "\\beta = (X^TX)^{-1}X^Ty\n",
    "\\end{equation}\n",
    "\n",
    "gdzie X jest macierzą zmiennych niezależnych z dodaną jedną kolumną dla $\\beta_0$ - kolumna zawiera same jedynki i odpowieada za \"wartość domyślną\", czyli gdy nie ma żadnych innych wartośći"
   ]
  },
  {
   "cell_type": "markdown",
   "metadata": {},
   "source": [
    "Dodajmy kolumnę dla $\\beta_0$"
   ]
  },
  {
   "cell_type": "code",
   "execution_count": 57,
   "metadata": {
    "ExecuteTime": {
     "end_time": "2019-05-17T15:17:41.944505Z",
     "start_time": "2019-05-17T15:17:41.940473Z"
    }
   },
   "outputs": [],
   "source": [
    "boston_dataframe['b0'] = 1"
   ]
  },
  {
   "cell_type": "markdown",
   "metadata": {},
   "source": [
    "Teraz napiszemy funkcję, która wylicza parametry $\\beta$\n",
    "\n",
    "Kilka przydatnych funkcji pomocniczych:\n",
    "\n",
    "* np.linalg.inv - liczy odwrotność macierzy\n",
    "* .transpose() - transponowanie macierzy\n",
    "* .dot() - iloczyn skalarny"
   ]
  },
  {
   "cell_type": "code",
   "execution_count": 60,
   "metadata": {
    "ExecuteTime": {
     "end_time": "2019-05-17T15:18:44.969881Z",
     "start_time": "2019-05-17T15:18:44.964979Z"
    }
   },
   "outputs": [],
   "source": [
    "coeffs = np.linalg.inv(boston_dataframe.transpose().dot(boston_dataframe)).dot(boston_dataframe.transpose()).dot(y)"
   ]
  },
  {
   "cell_type": "markdown",
   "metadata": {},
   "source": [
    "Wyświetlmy oszacowane współczynniki"
   ]
  },
  {
   "cell_type": "code",
   "execution_count": 61,
   "metadata": {
    "ExecuteTime": {
     "end_time": "2019-05-17T15:18:45.410564Z",
     "start_time": "2019-05-17T15:18:45.405726Z"
    }
   },
   "outputs": [
    {
     "data": {
      "text/plain": [
       "array([-1.19615762e-01,  4.69055158e-02,  1.37963626e-02,  2.84495457e+00,\n",
       "       -1.87943852e+01,  3.65111680e+00,  3.70628288e-03, -1.49043734e+00,\n",
       "        2.88259456e-01, -1.26785144e-02, -9.38088171e-01, -5.53331515e-01,\n",
       "        4.16979510e+01])"
      ]
     },
     "execution_count": 61,
     "metadata": {},
     "output_type": "execute_result"
    }
   ],
   "source": [
    "coeffs"
   ]
  },
  {
   "cell_type": "markdown",
   "metadata": {},
   "source": [
    "Wyświetlmy współczynniki wraz z nazwami zmienych"
   ]
  },
  {
   "cell_type": "code",
   "execution_count": 62,
   "metadata": {
    "ExecuteTime": {
     "end_time": "2019-05-17T15:18:57.776129Z",
     "start_time": "2019-05-17T15:18:57.766193Z"
    }
   },
   "outputs": [
    {
     "data": {
      "text/html": [
       "<div>\n",
       "<style>\n",
       "    .dataframe thead tr:only-child th {\n",
       "        text-align: right;\n",
       "    }\n",
       "\n",
       "    .dataframe thead th {\n",
       "        text-align: left;\n",
       "    }\n",
       "\n",
       "    .dataframe tbody tr th {\n",
       "        vertical-align: top;\n",
       "    }\n",
       "</style>\n",
       "<table border=\"1\" class=\"dataframe\">\n",
       "  <thead>\n",
       "    <tr style=\"text-align: right;\">\n",
       "      <th></th>\n",
       "      <th>coeffs</th>\n",
       "      <th>names</th>\n",
       "    </tr>\n",
       "  </thead>\n",
       "  <tbody>\n",
       "    <tr>\n",
       "      <th>0</th>\n",
       "      <td>-0.119616</td>\n",
       "      <td>CRIM</td>\n",
       "    </tr>\n",
       "    <tr>\n",
       "      <th>1</th>\n",
       "      <td>0.046906</td>\n",
       "      <td>ZN</td>\n",
       "    </tr>\n",
       "    <tr>\n",
       "      <th>2</th>\n",
       "      <td>0.013796</td>\n",
       "      <td>INDUS</td>\n",
       "    </tr>\n",
       "    <tr>\n",
       "      <th>3</th>\n",
       "      <td>2.844955</td>\n",
       "      <td>CHAS</td>\n",
       "    </tr>\n",
       "    <tr>\n",
       "      <th>4</th>\n",
       "      <td>-18.794385</td>\n",
       "      <td>NOX</td>\n",
       "    </tr>\n",
       "    <tr>\n",
       "      <th>5</th>\n",
       "      <td>3.651117</td>\n",
       "      <td>RM</td>\n",
       "    </tr>\n",
       "    <tr>\n",
       "      <th>6</th>\n",
       "      <td>0.003706</td>\n",
       "      <td>AGE</td>\n",
       "    </tr>\n",
       "    <tr>\n",
       "      <th>7</th>\n",
       "      <td>-1.490437</td>\n",
       "      <td>DIS</td>\n",
       "    </tr>\n",
       "    <tr>\n",
       "      <th>8</th>\n",
       "      <td>0.288259</td>\n",
       "      <td>RAD</td>\n",
       "    </tr>\n",
       "    <tr>\n",
       "      <th>9</th>\n",
       "      <td>-0.012679</td>\n",
       "      <td>TAX</td>\n",
       "    </tr>\n",
       "    <tr>\n",
       "      <th>10</th>\n",
       "      <td>-0.938088</td>\n",
       "      <td>PTRATIO</td>\n",
       "    </tr>\n",
       "    <tr>\n",
       "      <th>11</th>\n",
       "      <td>-0.553332</td>\n",
       "      <td>LSTAT</td>\n",
       "    </tr>\n",
       "    <tr>\n",
       "      <th>12</th>\n",
       "      <td>41.697951</td>\n",
       "      <td>b0</td>\n",
       "    </tr>\n",
       "  </tbody>\n",
       "</table>\n",
       "</div>"
      ],
      "text/plain": [
       "       coeffs    names\n",
       "0   -0.119616     CRIM\n",
       "1    0.046906       ZN\n",
       "2    0.013796    INDUS\n",
       "3    2.844955     CHAS\n",
       "4  -18.794385      NOX\n",
       "5    3.651117       RM\n",
       "6    0.003706      AGE\n",
       "7   -1.490437      DIS\n",
       "8    0.288259      RAD\n",
       "9   -0.012679      TAX\n",
       "10  -0.938088  PTRATIO\n",
       "11  -0.553332    LSTAT\n",
       "12  41.697951       b0"
      ]
     },
     "execution_count": 62,
     "metadata": {},
     "output_type": "execute_result"
    }
   ],
   "source": [
    "pd.DataFrame({'names': boston_dataframe.columns.tolist(), 'coeffs': coeffs})"
   ]
  },
  {
   "cell_type": "markdown",
   "metadata": {},
   "source": [
    "Teraz możemy zamodelować to samo za pomocą sklearn"
   ]
  },
  {
   "cell_type": "code",
   "execution_count": 63,
   "metadata": {
    "ExecuteTime": {
     "end_time": "2019-05-17T15:19:29.674799Z",
     "start_time": "2019-05-17T15:19:29.585798Z"
    }
   },
   "outputs": [
    {
     "data": {
      "text/plain": [
       "LinearRegression(copy_X=True, fit_intercept=False, n_jobs=None,\n",
       "         normalize=False)"
      ]
     },
     "execution_count": 63,
     "metadata": {},
     "output_type": "execute_result"
    }
   ],
   "source": [
    "from sklearn import linear_model\n",
    "\n",
    "# Tworzymy obiekt regresji liniowej - poniważ już dodaliśmy kolumnę z jedynkami, ustawiamy fit_intercept=False\n",
    "regr = linear_model.LinearRegression(fit_intercept=False)\n",
    "\n",
    "regr.fit(boston_dataframe, y)"
   ]
  },
  {
   "cell_type": "markdown",
   "metadata": {},
   "source": [
    "Pobieramy współczynniki .coef_ "
   ]
  },
  {
   "cell_type": "code",
   "execution_count": 64,
   "metadata": {
    "ExecuteTime": {
     "end_time": "2019-05-17T15:19:38.972502Z",
     "start_time": "2019-05-17T15:19:38.967371Z"
    }
   },
   "outputs": [
    {
     "data": {
      "text/plain": [
       "array([-1.19615762e-01,  4.69055158e-02,  1.37963626e-02,  2.84495457e+00,\n",
       "       -1.87943852e+01,  3.65111680e+00,  3.70628288e-03, -1.49043734e+00,\n",
       "        2.88259456e-01, -1.26785144e-02, -9.38088171e-01, -5.53331515e-01,\n",
       "        4.16979510e+01])"
      ]
     },
     "execution_count": 64,
     "metadata": {},
     "output_type": "execute_result"
    }
   ],
   "source": [
    "regr.coef_"
   ]
  },
  {
   "cell_type": "code",
   "execution_count": 65,
   "metadata": {
    "ExecuteTime": {
     "end_time": "2019-05-17T15:19:46.920937Z",
     "start_time": "2019-05-17T15:19:46.911030Z"
    }
   },
   "outputs": [
    {
     "data": {
      "text/html": [
       "<div>\n",
       "<style>\n",
       "    .dataframe thead tr:only-child th {\n",
       "        text-align: right;\n",
       "    }\n",
       "\n",
       "    .dataframe thead th {\n",
       "        text-align: left;\n",
       "    }\n",
       "\n",
       "    .dataframe tbody tr th {\n",
       "        vertical-align: top;\n",
       "    }\n",
       "</style>\n",
       "<table border=\"1\" class=\"dataframe\">\n",
       "  <thead>\n",
       "    <tr style=\"text-align: right;\">\n",
       "      <th></th>\n",
       "      <th>coeffs</th>\n",
       "      <th>names</th>\n",
       "    </tr>\n",
       "  </thead>\n",
       "  <tbody>\n",
       "    <tr>\n",
       "      <th>0</th>\n",
       "      <td>-0.119616</td>\n",
       "      <td>CRIM</td>\n",
       "    </tr>\n",
       "    <tr>\n",
       "      <th>1</th>\n",
       "      <td>0.046906</td>\n",
       "      <td>ZN</td>\n",
       "    </tr>\n",
       "    <tr>\n",
       "      <th>2</th>\n",
       "      <td>0.013796</td>\n",
       "      <td>INDUS</td>\n",
       "    </tr>\n",
       "    <tr>\n",
       "      <th>3</th>\n",
       "      <td>2.844955</td>\n",
       "      <td>CHAS</td>\n",
       "    </tr>\n",
       "    <tr>\n",
       "      <th>4</th>\n",
       "      <td>-18.794385</td>\n",
       "      <td>NOX</td>\n",
       "    </tr>\n",
       "    <tr>\n",
       "      <th>5</th>\n",
       "      <td>3.651117</td>\n",
       "      <td>RM</td>\n",
       "    </tr>\n",
       "    <tr>\n",
       "      <th>6</th>\n",
       "      <td>0.003706</td>\n",
       "      <td>AGE</td>\n",
       "    </tr>\n",
       "    <tr>\n",
       "      <th>7</th>\n",
       "      <td>-1.490437</td>\n",
       "      <td>DIS</td>\n",
       "    </tr>\n",
       "    <tr>\n",
       "      <th>8</th>\n",
       "      <td>0.288259</td>\n",
       "      <td>RAD</td>\n",
       "    </tr>\n",
       "    <tr>\n",
       "      <th>9</th>\n",
       "      <td>-0.012679</td>\n",
       "      <td>TAX</td>\n",
       "    </tr>\n",
       "    <tr>\n",
       "      <th>10</th>\n",
       "      <td>-0.938088</td>\n",
       "      <td>PTRATIO</td>\n",
       "    </tr>\n",
       "    <tr>\n",
       "      <th>11</th>\n",
       "      <td>-0.553332</td>\n",
       "      <td>LSTAT</td>\n",
       "    </tr>\n",
       "    <tr>\n",
       "      <th>12</th>\n",
       "      <td>41.697951</td>\n",
       "      <td>b0</td>\n",
       "    </tr>\n",
       "  </tbody>\n",
       "</table>\n",
       "</div>"
      ],
      "text/plain": [
       "       coeffs    names\n",
       "0   -0.119616     CRIM\n",
       "1    0.046906       ZN\n",
       "2    0.013796    INDUS\n",
       "3    2.844955     CHAS\n",
       "4  -18.794385      NOX\n",
       "5    3.651117       RM\n",
       "6    0.003706      AGE\n",
       "7   -1.490437      DIS\n",
       "8    0.288259      RAD\n",
       "9   -0.012679      TAX\n",
       "10  -0.938088  PTRATIO\n",
       "11  -0.553332    LSTAT\n",
       "12  41.697951       b0"
      ]
     },
     "execution_count": 65,
     "metadata": {},
     "output_type": "execute_result"
    }
   ],
   "source": [
    "pd.DataFrame({'names': boston_dataframe.columns.tolist(), 'coeffs': regr.coef_})"
   ]
  },
  {
   "cell_type": "markdown",
   "metadata": {},
   "source": [
    "Teraz możemy dokonać predykcji dla danych za pomocą tak wyszkolonego modelu"
   ]
  },
  {
   "cell_type": "code",
   "execution_count": 66,
   "metadata": {
    "ExecuteTime": {
     "end_time": "2019-05-17T15:20:10.349616Z",
     "start_time": "2019-05-17T15:20:10.345922Z"
    }
   },
   "outputs": [],
   "source": [
    "predictions_scikit = regr.predict(boston_dataframe)"
   ]
  },
  {
   "cell_type": "markdown",
   "metadata": {},
   "source": [
    "Sprawdzamy $R^2$"
   ]
  },
  {
   "cell_type": "code",
   "execution_count": 67,
   "metadata": {
    "ExecuteTime": {
     "end_time": "2019-05-17T15:20:17.046265Z",
     "start_time": "2019-05-17T15:20:17.040159Z"
    }
   },
   "outputs": [
    {
     "name": "stdout",
     "output_type": "stream",
     "text": [
      "0.7341487741330596\n",
      "0.7341487741330596\n"
     ]
    }
   ],
   "source": [
    "print(regr.score(boston_dataframe, y))\n",
    "print(r2_score(y, predictions_scikit))"
   ]
  },
  {
   "cell_type": "code",
   "execution_count": null,
   "metadata": {},
   "outputs": [],
   "source": []
  }
 ],
 "metadata": {
  "kernelspec": {
   "display_name": "Python 3",
   "language": "python",
   "name": "python3"
  },
  "language_info": {
   "codemirror_mode": {
    "name": "ipython",
    "version": 3
   },
   "file_extension": ".py",
   "mimetype": "text/x-python",
   "name": "python",
   "nbconvert_exporter": "python",
   "pygments_lexer": "ipython3",
   "version": "3.6.7"
  },
  "toc": {
   "base_numbering": 1,
   "nav_menu": {},
   "number_sections": true,
   "sideBar": true,
   "skip_h1_title": false,
   "title_cell": "Table of Contents",
   "title_sidebar": "Contents",
   "toc_cell": false,
   "toc_position": {},
   "toc_section_display": true,
   "toc_window_display": false
  }
 },
 "nbformat": 4,
 "nbformat_minor": 2
}
