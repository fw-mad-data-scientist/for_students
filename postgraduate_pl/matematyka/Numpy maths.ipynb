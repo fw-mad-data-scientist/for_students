{
 "cells": [
  {
   "cell_type": "markdown",
   "metadata": {},
   "source": [
    "# Wprowadzenie\n",
    "\n",
    "Celem tego notebooka jest przećwiczenie bardziej zaawansowanych metod analizy danych z użyciem Numpy. Potrzebna będzie wiedza z zakresu:\n",
    "\n",
    "* Podstawowych operacji na macierzach/tablicach Numpy\n",
    "* Statystyki i matematyki\n",
    "* Możliwości pakietu scipy.stats oraz linalg\n",
    "\n",
    "Niejednokrotnie trzeba będzie sięgać do dokumentacji i szukać odpowiedzi w Internecie. To jest normalne :D "
   ]
  },
  {
   "cell_type": "code",
   "execution_count": 1,
   "metadata": {
    "ExecuteTime": {
     "end_time": "2020-05-24T12:04:39.772338Z",
     "start_time": "2020-05-24T12:04:38.816538Z"
    }
   },
   "outputs": [],
   "source": [
    "import numpy as np\n",
    "import scipy.stats as st\n",
    "import scipy.linalg as lin\n",
    "import scipy.optimize as opt\n",
    "import scipy.interpolate as interp\n",
    "import base64"
   ]
  },
  {
   "cell_type": "code",
   "execution_count": 2,
   "metadata": {
    "ExecuteTime": {
     "end_time": "2020-05-24T12:04:40.197495Z",
     "start_time": "2020-05-24T12:04:39.836573Z"
    }
   },
   "outputs": [],
   "source": [
    "import matplotlib.pyplot as plt"
   ]
  },
  {
   "cell_type": "code",
   "execution_count": 3,
   "metadata": {
    "ExecuteTime": {
     "end_time": "2020-05-24T12:04:40.203438Z",
     "start_time": "2020-05-24T12:04:40.198451Z"
    }
   },
   "outputs": [],
   "source": [
    "%matplotlib inline"
   ]
  },
  {
   "cell_type": "markdown",
   "metadata": {},
   "source": [
    "W poniższych zadaniach nie zawsze możliwe jest sprawdzenie jedynie poprawnego rozwiązania - zwłaszcza, gdy oczekiwane jest przybliżenie czegoś, albo znalezienie nieunikalnego rozwiązania.\n",
    "\n",
    "Przyzwyczajaj się :) To normalna sytuacja w *data science* - bardzo często posługujemy się terminem P.A.C: **Probably, approximately, correct**. \n",
    "\n",
    "Wyniki bywają *prawdopodobnie, mniej-więcej poprawne*"
   ]
  },
  {
   "cell_type": "markdown",
   "metadata": {},
   "source": [
    "# Zadania"
   ]
  },
  {
   "cell_type": "markdown",
   "metadata": {
    "ExecuteTime": {
     "end_time": "2018-11-02T09:01:39.251885Z",
     "start_time": "2018-11-02T09:01:39.247401Z"
    }
   },
   "source": [
    "## Zadanie 1\n",
    "\n",
    "Rozwiąż układ równań liniowych:\n",
    "\n",
    "* Przykład 1\n",
    "$$  \\begin{cases} x + 2y = 2x - 5 \\\\ x - y = 3  \\end{cases} $$"
   ]
  },
  {
   "cell_type": "code",
   "execution_count": 4,
   "metadata": {
    "ExecuteTime": {
     "end_time": "2020-05-24T12:06:18.924452Z",
     "start_time": "2020-05-24T12:06:18.902486Z"
    }
   },
   "outputs": [],
   "source": [
    "coefs = np.array( [[-1, 2], [1, -1]] )\n",
    "Y1 = np.array( [-5, 3] )\n",
    "\n",
    "x1, y1 = lin.solve(coefs, Y1)\n",
    "\n",
    "assert x1 == 1.0\n",
    "assert y1 == -2.0"
   ]
  },
  {
   "cell_type": "markdown",
   "metadata": {
    "ExecuteTime": {
     "end_time": "2019-10-19T08:47:47.607908Z",
     "start_time": "2019-10-19T08:47:47.601905Z"
    }
   },
   "source": [
    "* Przykład 2\n",
    "\n",
    "$$  \\begin{cases} x + y + z = 1 \\\\ 2x + y + 5z = 0 \\\\ x - y = z  \\end{cases} $$"
   ]
  },
  {
   "cell_type": "code",
   "execution_count": 5,
   "metadata": {
    "ExecuteTime": {
     "end_time": "2020-05-24T12:06:48.625656Z",
     "start_time": "2020-05-24T12:06:48.619673Z"
    }
   },
   "outputs": [],
   "source": [
    "coefs2 = np.array( [[1, 1, 1], [2, 1, 5], [1, -1, -1]] )\n",
    "Y2 = np.array( [1,0,0] )\n",
    "x2, y2, z2 = lin.solve(coefs2, Y2)\n",
    "\n",
    "assert x2 == 0.5\n",
    "assert y2 == 0.875\n",
    "assert z2 == -0.375"
   ]
  },
  {
   "cell_type": "markdown",
   "metadata": {},
   "source": [
    "## Zadanie 3\n",
    "\n",
    "Mając daną chmurę punktów, spróbuj dopsować do nich funkcję w taki sposób, żeby zminimalizować błąd i jak najlepiej oddać (hipotetyczny) kształt.\n",
    "\n",
    "W tym celu musisz wymyslić \"prototypową\" funkcję, dla której system bedzie poszukiwał najlepszych parametrów.\n",
    "\n",
    "Przykładowo, jeśli coś wygląda jak linia prosta, to prototypową funkcją będzie $$y = ax +b$$ a system poszuka najlepszych parmaetrów, dla danych x-ów i y-ków."
   ]
  },
  {
   "cell_type": "code",
   "execution_count": 6,
   "metadata": {
    "ExecuteTime": {
     "end_time": "2020-05-24T12:06:53.152859Z",
     "start_time": "2020-05-24T12:06:53.003855Z"
    }
   },
   "outputs": [
    {
     "data": {
      "text/plain": [
       "Text(0.5, 1.0, 'Zaobserwowane wartości')"
      ]
     },
     "execution_count": 6,
     "metadata": {},
     "output_type": "execute_result"
    },
    {
     "data": {
      "image/png": "[encoded data removed]",
      "text/plain": [
       "<Figure size 432x288 with 1 Axes>"
      ]
     },
     "metadata": {
      "needs_background": "light"
     },
     "output_type": "display_data"
    }
   ],
   "source": [
    "N = 50\n",
    "x = np.linspace(-5, 5, num=N)\n",
    "y = 5.0 + 2.0 * x + np.random.normal(size=N)\n",
    "\n",
    "plt.scatter(x, y)\n",
    "plt.title('Zaobserwowane wartości')"
   ]
  },
  {
   "cell_type": "code",
   "execution_count": 8,
   "metadata": {
    "ExecuteTime": {
     "end_time": "2020-05-24T12:08:43.070290Z",
     "start_time": "2020-05-24T12:08:42.956228Z"
    }
   },
   "outputs": [
    {
     "data": {
      "text/plain": [
       "<matplotlib.collections.PathCollection at 0x2dd1efa25c8>"
      ]
     },
     "execution_count": 8,
     "metadata": {},
     "output_type": "execute_result"
    },
    {
     "data": {
      "image/png": "[encoded data removed]",
      "text/plain": [
       "<Figure size 432x288 with 1 Axes>"
      ]
     },
     "metadata": {
      "needs_background": "light"
     },
     "output_type": "display_data"
    }
   ],
   "source": [
    "def prototype_function(x, a, b):\n",
    "    return a * x + b\n",
    "\n",
    "best_params, best_params_cov = opt.curve_fit(prototype_function, x, y)\n",
    "y_fitted = prototype_function(x, best_params[0], best_params[1])\n",
    "plt.scatter(x, y_fitted)"
   ]
  },
  {
   "cell_type": "markdown",
   "metadata": {},
   "source": [
    "## Zadanie 4\n",
    "\n",
    "To samo, co poprzednio, tylko trudniejsza funkcja do przybliżenia :)"
   ]
  },
  {
   "cell_type": "code",
   "execution_count": 109,
   "metadata": {
    "ExecuteTime": {
     "end_time": "2019-10-19T09:17:32.868354Z",
     "start_time": "2019-10-19T09:17:32.715214Z"
    }
   },
   "outputs": [
    {
     "data": {
      "text/plain": [
       "<matplotlib.collections.PathCollection at 0x17fb3bb5748>"
      ]
     },
     "execution_count": 109,
     "metadata": {},
     "output_type": "execute_result"
    },
    {
     "data": {
      "image/png": "[encoded data removed]",
      "text/plain": [
       "<Figure size 432x288 with 1 Axes>"
      ]
     },
     "metadata": {
      "needs_background": "light"
     },
     "output_type": "display_data"
    }
   ],
   "source": [
    "N = 50\n",
    "x = np.linspace(-5, 5, num=N)\n",
    "y = 5.0 * np.sin(x * 2)\n",
    "\n",
    "plt.scatter(x, y)"
   ]
  },
  {
   "cell_type": "code",
   "execution_count": null,
   "metadata": {
    "ExecuteTime": {
     "end_time": "2019-10-19T09:17:32.927024Z",
     "start_time": "2019-10-19T09:17:32.919107Z"
    }
   },
   "outputs": [],
   "source": [
    "def prototype_function(x, a, b):\n",
    "    return pass\n",
    "\n",
    "best_params, best_params_cov = ...\n",
    "y_fitted = prototype_function(x, best_params[0], best_params[1])\n",
    "plt.scatter(x, y_fitted)"
   ]
  },
  {
   "cell_type": "markdown",
   "metadata": {},
   "source": [
    "## Zadanie 5\n",
    "\n",
    "Dane są wartości x i y dla nieznanej funkcji. Postaraj się przeprowadzić jej interpolację, tzn. wyznaczyć hipotetyczne wartości tej funkcji dla **nowych**, wartości x-ów."
   ]
  },
  {
   "cell_type": "code",
   "execution_count": 9,
   "metadata": {
    "ExecuteTime": {
     "end_time": "2020-05-24T12:08:53.888050Z",
     "start_time": "2020-05-24T12:08:53.883068Z"
    }
   },
   "outputs": [],
   "source": [
    "%matplotlib inline"
   ]
  },
  {
   "cell_type": "code",
   "execution_count": 10,
   "metadata": {
    "ExecuteTime": {
     "end_time": "2020-05-24T12:08:54.208206Z",
     "start_time": "2020-05-24T12:08:54.204216Z"
    }
   },
   "outputs": [],
   "source": [
    "import matplotlib.pyplot as plt\n",
    "import scipy as sp\n",
    "import scipy.interpolate as interp"
   ]
  },
  {
   "cell_type": "code",
   "execution_count": 11,
   "metadata": {
    "ExecuteTime": {
     "end_time": "2020-05-24T12:08:55.115545Z",
     "start_time": "2020-05-24T12:08:54.843274Z"
    }
   },
   "outputs": [
    {
     "data": {
      "text/plain": [
       "<matplotlib.collections.PathCollection at 0x2dd1ed9fdc8>"
      ]
     },
     "execution_count": 11,
     "metadata": {},
     "output_type": "execute_result"
    },
    {
     "data": {
      "image/png": "[encoded data removed]",
      "text/plain": [
       "<Figure size 432x288 with 1 Axes>"
      ]
     },
     "metadata": {
      "needs_background": "light"
     },
     "output_type": "display_data"
    }
   ],
   "source": [
    "# To są nasze obserwacje x\n",
    "x = np.array([0.05, 0.1, 0.2, 0.3, 0.4, 0.5, 0.6, 0.7, 0.8, 2.0])\n",
    "x_new = np.array([0.15, 0.25, 0.35, 0.55, 1.2, 1.5])\n",
    "\n",
    "# To jest \"zaszumiony sinus\"\n",
    "y = np.sin(2 * np.pi * x) \n",
    "\n",
    "plt.scatter(x, y)"
   ]
  },
  {
   "cell_type": "code",
   "execution_count": 12,
   "metadata": {
    "ExecuteTime": {
     "end_time": "2020-05-24T12:08:58.517784Z",
     "start_time": "2020-05-24T12:08:58.396106Z"
    }
   },
   "outputs": [
    {
     "data": {
      "text/plain": [
       "<matplotlib.collections.PathCollection at 0x2dd1f11dcc8>"
      ]
     },
     "execution_count": 12,
     "metadata": {},
     "output_type": "execute_result"
    },
    {
     "data": {
      "image/png": "[encoded data removed]",
      "text/plain": [
       "<Figure size 432x288 with 1 Axes>"
      ]
     },
     "metadata": {
      "needs_background": "light"
     },
     "output_type": "display_data"
    }
   ],
   "source": [
    "# Nowe wartości x, dla których nie znamy wyniku funkcji:\n",
    "\n",
    "x_new = np.array([0.15, 0.25, 0.35, 0.55, 1.2, 1.5])\n",
    "y_new_fake = np.zeros(x_new.shape)\n",
    "\n",
    "plt.scatter(x, y)\n",
    "plt.scatter(x_new, y_new_fake, marker=\"|\")"
   ]
  },
  {
   "cell_type": "code",
   "execution_count": 13,
   "metadata": {
    "ExecuteTime": {
     "end_time": "2020-05-24T12:10:03.478549Z",
     "start_time": "2020-05-24T12:10:03.356597Z"
    }
   },
   "outputs": [
    {
     "data": {
      "image/png": "[encoded data removed]",
      "text/plain": [
       "<Figure size 432x288 with 1 Axes>"
      ]
     },
     "metadata": {
      "needs_background": "light"
     },
     "output_type": "display_data"
    }
   ],
   "source": [
    "# przeprowadź interpolację wartości funkcji, dla nowych, nieznanych x-ów\n",
    "f = interp.interp1d(x, y)\n",
    "\n",
    "\n",
    "# Dokonaj interpolacji\n",
    "interpolated_y = f(x_new)\n",
    "\n",
    "# Wykres przedstawiający i stare i nowe wartości x-ów\n",
    "plt.scatter(x, y)\n",
    "plt.scatter(x_new, interpolated_y)\n",
    "plt.show()"
   ]
  },
  {
   "cell_type": "markdown",
   "metadata": {},
   "source": [
    "## Zadanie 6\n",
    "\n",
    "Mając daną funkcję pokazaną na wykresie, znajdź jej minima za pomocą odpowiednich funkcji optymalizacyjnych.\n",
    "\n",
    "W tym przypadku jest to funkcja nieliniowa, dlatego znajdowanie jej minimum nie jest trywialnie proste.\n",
    "\n",
    "Odbywa się to na zasadzie **iteracyjnej minimalizacji gradientu**, która nie zawsze może prowadzić do optymalnych wyników. \n",
    "\n",
    "Jest to powszechnie znany problem w uczeniu maszynowym - nigdy nie jesteśmy pewni, czy nasz algorytm znalazł minumum **lokalne** czy **globalne** (prwadziwe) funkcji. "
   ]
  },
  {
   "cell_type": "code",
   "execution_count": 50,
   "metadata": {
    "ExecuteTime": {
     "end_time": "2020-05-24T12:17:30.506707Z",
     "start_time": "2020-05-24T12:17:30.394767Z"
    }
   },
   "outputs": [
    {
     "data": {
      "text/plain": [
       "[<matplotlib.lines.Line2D at 0x2dd2197b5c8>]"
      ]
     },
     "execution_count": 50,
     "metadata": {},
     "output_type": "execute_result"
    },
    {
     "data": {
      "image/png": "[encoded data removed]",
      "text/plain": [
       "<Figure size 432x288 with 1 Axes>"
      ]
     },
     "metadata": {
      "needs_background": "light"
     },
     "output_type": "display_data"
    }
   ],
   "source": [
    "def func(x):\n",
    "    return x**2 - 16 * np.sin(x) - np.random.normal(loc=10, scale=2)\n",
    "\n",
    "np.random.seed(123)\n",
    "x = np.linspace(-10, 10, num=100)\n",
    "y = func(x)\n",
    "plt.plot(x, y)\n"
   ]
  },
  {
   "cell_type": "code",
   "execution_count": 55,
   "metadata": {
    "ExecuteTime": {
     "end_time": "2020-05-24T12:17:49.478753Z",
     "start_time": "2020-05-24T12:17:49.453245Z"
    }
   },
   "outputs": [
    {
     "name": "stdout",
     "output_type": "stream",
     "text": [
      "     fun: -28.14880742074984\n",
      "    nfev: 26\n",
      "     nit: 22\n",
      " success: True\n",
      "       x: 1.618044327220995\n"
     ]
    },
    {
     "ename": "AssertionError",
     "evalue": "",
     "output_type": "error",
     "traceback": [
      "\u001b[1;31m---------------------------------------------------------------------------\u001b[0m",
      "\u001b[1;31mAssertionError\u001b[0m                            Traceback (most recent call last)",
      "\u001b[1;32m<ipython-input-55-341efcd8a931>\u001b[0m in \u001b[0;36m<module>\u001b[1;34m\u001b[0m\n\u001b[0;32m      9\u001b[0m \u001b[0mempirical_min_x\u001b[0m \u001b[1;33m=\u001b[0m \u001b[0mres\u001b[0m\u001b[1;33m.\u001b[0m\u001b[0mx\u001b[0m\u001b[1;33m\u001b[0m\u001b[1;33m\u001b[0m\u001b[0m\n\u001b[0;32m     10\u001b[0m \u001b[1;33m\u001b[0m\u001b[0m\n\u001b[1;32m---> 11\u001b[1;33m \u001b[1;32massert\u001b[0m \u001b[0mnp\u001b[0m\u001b[1;33m.\u001b[0m\u001b[0mround\u001b[0m\u001b[1;33m(\u001b[0m\u001b[0mempirical_min_y\u001b[0m\u001b[1;33m,\u001b[0m \u001b[1;36m2\u001b[0m\u001b[1;33m)\u001b[0m \u001b[1;33m==\u001b[0m \u001b[1;33m-\u001b[0m\u001b[1;36m21.58\u001b[0m\u001b[1;33m\u001b[0m\u001b[1;33m\u001b[0m\u001b[0m\n\u001b[0m\u001b[0;32m     12\u001b[0m \u001b[1;32massert\u001b[0m \u001b[0mnp\u001b[0m\u001b[1;33m.\u001b[0m\u001b[0mround\u001b[0m\u001b[1;33m(\u001b[0m\u001b[0mempirical_min_x\u001b[0m\u001b[1;33m,\u001b[0m \u001b[1;36m2\u001b[0m\u001b[1;33m)\u001b[0m \u001b[1;33m==\u001b[0m \u001b[1;36m1.31\u001b[0m\u001b[1;33m\u001b[0m\u001b[1;33m\u001b[0m\u001b[0m\n",
      "\u001b[1;31mAssertionError\u001b[0m: "
     ]
    }
   ],
   "source": [
    "# Znajdź minmalną wartośc funkcji, na podanych danych.\n",
    "# Masz możliwość to zrobić po prostu od ręki, jednym poleceniem.\n",
    "# Pamiętaj jednak, że masz PRÓBKĘ, czyli tylko \"fragment\" \n",
    "# wszystkich możliwych wartości. Wśród danych wartości, możliwe, że nie ma najmniejszej :)\n",
    "\n",
    "res = opt.minimize_scalar(func, bounds=((-5, 5),), tol=1e-8)\n",
    "print(res)\n",
    "empirical_min_y = func(res.x)\n",
    "empirical_min_x = res.x\n",
    "\n",
    "assert np.round(empirical_min_y, 2) == -21.58\n",
    "assert np.round(empirical_min_x, 2) == 1.31"
   ]
  },
  {
   "cell_type": "code",
   "execution_count": 56,
   "metadata": {
    "ExecuteTime": {
     "end_time": "2020-05-24T12:17:50.271874Z",
     "start_time": "2020-05-24T12:17:50.266915Z"
    }
   },
   "outputs": [
    {
     "data": {
      "text/plain": [
       "1.618044327220995"
      ]
     },
     "execution_count": 56,
     "metadata": {},
     "output_type": "execute_result"
    }
   ],
   "source": [
    "res.x"
   ]
  },
  {
   "cell_type": "code",
   "execution_count": null,
   "metadata": {
    "ExecuteTime": {
     "end_time": "2018-11-02T14:34:23.257418Z",
     "start_time": "2018-11-02T14:34:23.249411Z"
    },
    "scrolled": true
   },
   "outputs": [],
   "source": [
    "# Znajdź minimum funkcji za pomocą odpowiednich narzędzi analitycznych.\n",
    "# następnie zbadaj tzw. \"otocznie\" tego punktu, czyli spróbuj wyznaczyć y dla wartości nieco powyżej i poniżej.\n",
    "# Jak to się ma do Twoich poszukiwań w oparciu o próbkę?\n",
    "\n",
    "minimum = None\n",
    "minimum"
   ]
  },
  {
   "cell_type": "markdown",
   "metadata": {},
   "source": [
    "## Zadanie 7"
   ]
  },
  {
   "cell_type": "markdown",
   "metadata": {},
   "source": [
    "Sprawdź, czy dane, które znajdują się poniżej, pochodzą z rozkładu normalnego?\n",
    "Możesz wykorzystać kilka sposobów (wiki):\n",
    "\n",
    "* Test Shapiro-Wilka\n",
    "* Test Kolmogorova-Smirnova\n",
    "* Test Andersona-Darlinga\n",
    "* Test Pearsona\n",
    "\n",
    "Pamiętaj, żeby przed przystąpieniem do interpretacji wyniku znać założenia testu oraz rozumieć jego **hipotezę zerową** oraz **hipotezę alternatywną**.\n",
    "\n",
    "Przyjmuj poziom istotności $$alpha = 0.05$$"
   ]
  },
  {
   "cell_type": "code",
   "execution_count": null,
   "metadata": {
    "ExecuteTime": {
     "end_time": "2018-11-02T15:37:45.616929Z",
     "start_time": "2018-11-02T15:37:45.601146Z"
    }
   },
   "outputs": [],
   "source": [
    "data1 = np.array([\n",
    "    106.88, 91.2, 102.84, 91.95, 82.72, 96.09, 105.74, 103.39, 99.88, 123.92\n",
    "])\n",
    "\n",
    "data2 = np.array([\n",
    "     0.28, 0.0, 0.11, 0.01, 0.12, 0.66, 0.13, 9.32, 0.03, 0.32   \n",
    "])\n",
    "\n",
    "def is_normal_check(data):\n",
    "    return ...\n",
    "\n",
    "is_normal1 = is_normal_check(data1)\n",
    "is_normal2 = is_normal_check(data2)\n",
    "\n",
    "assert is_normal1, \"Nieprawidłowa konkluzja\"\n",
    "assert not is_normal2, \"Nieprawidłowa konkluzja\""
   ]
  },
  {
   "cell_type": "markdown",
   "metadata": {},
   "source": [
    "## Zadanie 8"
   ]
  },
  {
   "cell_type": "markdown",
   "metadata": {},
   "source": [
    "Poniżej znajdują się wyniki studentów (punkty) z dwóch egazaminów:\n",
    "\n",
    "* Pierwsza kolumna zawiera wyniki z egzaminu w połowie semestru\n",
    "* Druga kolumna zawiera wyniki z egzaminu na koniec semestru\n",
    "\n",
    "Zweryfikuj hipotezę, że wyniki na koniec semestry były **lepsze** niż w połowie semestru. \n",
    "\n",
    "Przyjmij, że obie próbki są od siebie ZALEŻE (to ma znacznie, przy wyborze testu statystycznego).\n",
    "\n",
    "Przyjmij poziom istotności $$\\alpha = 0.05$$"
   ]
  },
  {
   "cell_type": "code",
   "execution_count": null,
   "metadata": {
    "ExecuteTime": {
     "end_time": "2018-11-02T15:24:38.977224Z",
     "start_time": "2018-11-02T15:24:38.965009Z"
    }
   },
   "outputs": [],
   "source": [
    "results = np.array([\n",
    "    [18, 22],\n",
    "    [21, 25],\n",
    "    [16, 17],\n",
    "    [22, 24],\n",
    "    [19, 16],\n",
    "    [24, 29],\n",
    "    [17, 20],\n",
    "    [21, 23],\n",
    "    [23, 19],\n",
    "    [18, 20],\n",
    "    [14, 15],\n",
    "    [16, 15],\n",
    "    [16, 18],\n",
    "    [19, 26],\n",
    "    [18, 18],\n",
    "    [20, 24],\n",
    "    [12, 18],\n",
    "    [22, 25],\n",
    "    [15, 19],\n",
    "    [17, 16]    \n",
    "])"
   ]
  },
  {
   "cell_type": "code",
   "execution_count": null,
   "metadata": {
    "ExecuteTime": {
     "end_time": "2018-11-02T15:43:59.851343Z",
     "start_time": "2018-11-02T15:43:59.847000Z"
    }
   },
   "outputs": [],
   "source": [
    "is_diff_significant = False\n",
    "\n",
    "assert is_diff_significant, \"Nieprawidłowa konkluzja\""
   ]
  },
  {
   "cell_type": "markdown",
   "metadata": {},
   "source": [
    "## Zadanie 9\n",
    "\n",
    "Tym razem nie mamy pojedynczych obserwacji, tylko zbiorcze zestawienie danych. \n",
    "\n",
    "Badano dwie grupy owiec, które przeszły zawał serca. Jednej grupie wstrzyknięto do serca komórki macierzyste (grupa badana: ang. **treatment**), drugą grupę pozostawiono, jako kontrolną (ang. **control**). Po pewnym czasie zbadano średni przepływ krwi w sercu.\n",
    "\n",
    "Na podstawie podanych (**zbiorczych** informacji) należy zbadać, czy w badanej próbce, owce leczone za pomocą komórek macierzystych wykazywały lepszy przepływ krwi niż grupa kontrolna?"
   ]
  },
  {
   "cell_type": "code",
   "execution_count": null,
   "metadata": {
    "ExecuteTime": {
     "end_time": "2018-11-02T15:57:00.287641Z",
     "start_time": "2018-11-02T15:57:00.280781Z"
    }
   },
   "outputs": [],
   "source": [
    "n_treatment = 9\n",
    "n_control = 9\n",
    "\n",
    "mean_pump_treatment = 3.50\n",
    "mean_pump_control = -4.33\n",
    "\n",
    "sd_pump_treatment = 5.17\n",
    "sd_pump_control = 2.76\n",
    "\n",
    "is_significant_diff = False\n",
    "\n",
    "assert is_significant_diff, \"Nieprawidłowa konkluzja\""
   ]
  },
  {
   "cell_type": "code",
   "execution_count": null,
   "metadata": {},
   "outputs": [],
   "source": []
  }
 ],
 "metadata": {
  "hide_input": false,
  "kernelspec": {
   "display_name": "Python 3",
   "language": "python",
   "name": "python3"
  },
  "language_info": {
   "codemirror_mode": {
    "name": "ipython",
    "version": 3
   },
   "file_extension": ".py",
   "mimetype": "text/x-python",
   "name": "python",
   "nbconvert_exporter": "python",
   "pygments_lexer": "ipython3",
   "version": "3.7.4"
  },
  "toc": {
   "base_numbering": 1,
   "nav_menu": {},
   "number_sections": true,
   "sideBar": true,
   "skip_h1_title": false,
   "title_cell": "Table of Contents",
   "title_sidebar": "Contents",
   "toc_cell": false,
   "toc_position": {
    "height": "552px",
    "left": "23px",
    "top": "111px",
    "width": "250px"
   },
   "toc_section_display": true,
   "toc_window_display": false
  },
  "varInspector": {
   "cols": {
    "lenName": 16,
    "lenType": 16,
    "lenVar": 40
   },
   "kernels_config": {
    "python": {
     "delete_cmd_postfix": "",
     "delete_cmd_prefix": "del ",
     "library": "var_list.py",
     "varRefreshCmd": "print(var_dic_list())"
    },
    "r": {
     "delete_cmd_postfix": ") ",
     "delete_cmd_prefix": "rm(",
     "library": "var_list.r",
     "varRefreshCmd": "cat(var_dic_list()) "
    }
   },
   "types_to_exclude": [
    "module",
    "function",
    "builtin_function_or_method",
    "instance",
    "_Feature"
   ],
   "window_display": false
  }
 },
 "nbformat": 4,
 "nbformat_minor": 2
}
