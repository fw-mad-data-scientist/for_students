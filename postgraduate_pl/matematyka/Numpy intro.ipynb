{
 "cells": [
  {
   "cell_type": "markdown",
   "metadata": {},
   "source": [
    "# Wprowadzenie\n",
    "\n",
    "Notebook ma na celu zapoznanie z biblioteką numpy i podstawowymi operacjami na macierzach wielowymiarowych. Więkoszść zadań jest bardzo prosta, do niektórych natoamiast, trzeba będzie poszukać trochę w dokumentacji :D "
   ]
  },
  {
   "cell_type": "code",
   "execution_count": 1,
   "metadata": {
    "ExecuteTime": {
     "end_time": "2018-11-04T14:37:03.934168Z",
     "start_time": "2018-11-04T14:37:03.818656Z"
    }
   },
   "outputs": [],
   "source": [
    "import numpy as np"
   ]
  },
  {
   "cell_type": "markdown",
   "metadata": {},
   "source": [
    "# Podstawy"
   ]
  },
  {
   "cell_type": "code",
   "execution_count": 15,
   "metadata": {
    "ExecuteTime": {
     "end_time": "2018-11-04T14:55:30.431048Z",
     "start_time": "2018-11-04T14:55:30.412948Z"
    }
   },
   "outputs": [],
   "source": [
    "# Stwórz listę jednowymiarową, zawierającą 3 elmenty. Zwróć uwagę na jej kształt (ar.shape)\n",
    "\n",
    "ar1 = np.array( ... )\n",
    "\n",
    "assert list(ar1) == [1,2,3], \"Złe elemety listy\"\n",
    "assert ar1.shape == (3,), \"Zły kształt listy\"\n",
    "\n",
    "\n",
    "# nie patrz niżej, bo tam jest podpowiedź :D\n",
    "\n",
    "\n",
    "\n",
    "\n",
    "\n",
    "\n",
    "\n",
    "\n",
    "\n",
    "\n",
    "\n",
    "\n",
    "\n",
    "\n",
    "\n",
    "\n",
    "\n",
    "\n",
    "\n",
    "\n",
    "\n",
    "\n"
   ]
  },
  {
   "cell_type": "code",
   "execution_count": 16,
   "metadata": {
    "ExecuteTime": {
     "end_time": "2018-11-04T14:56:02.096971Z",
     "start_time": "2018-11-04T14:56:02.089097Z"
    }
   },
   "outputs": [],
   "source": [
    "# Pomnóż każdy element listy przez 10 . Nie używaj iteracji!\n",
    "\n",
    "ar2 = np.array([5,6,7])\n",
    "ar2_plus = ...\n",
    "\n",
    "assert np.all(ar2_plus == np.array([50, 60, 70])), \"Źle pomnożono\""
   ]
  },
  {
   "cell_type": "code",
   "execution_count": 2,
   "metadata": {
    "ExecuteTime": {
     "end_time": "2018-11-04T14:37:05.941468Z",
     "start_time": "2018-11-04T14:37:05.928855Z"
    }
   },
   "outputs": [],
   "source": [
    "# Zamień funkcję na wersję zwektoryzowaną i wykonaj na każdym z elementów listy. Nie używaj iteracji!!!\n",
    "\n",
    "def some_func(x):\n",
    "    if x % 2 == 0:\n",
    "        return x * 2\n",
    "    return x * 3\n",
    "\n",
    "some_func_vec = np.vectorize( ... )\n",
    "\n",
    "ar3 = np.array([1,2,3,4,5,6,7])\n",
    "ar3_new = some_func_vec(ar3)\n",
    "\n",
    "assert np.all(ar3_new == np.array([3, 4, 9, 8, 15, 12, 21])), \"Źle zdefiniowano funkcję\""
   ]
  },
  {
   "cell_type": "code",
   "execution_count": 5,
   "metadata": {
    "ExecuteTime": {
     "end_time": "2018-11-04T14:44:10.096593Z",
     "start_time": "2018-11-04T14:44:10.079042Z"
    }
   },
   "outputs": [],
   "source": [
    "# Stwórz tablicę dwuwymiarową \n",
    "# [1,2]\n",
    "# [3,4]\n",
    "# Pobierz kolejne elementy, zgodnie z wartościami oczekiwanymi w testach poniżej. Pamiętaj o indeksowaniu od zera!\n",
    "\n",
    "ar4 = np.array( ... )\n",
    "\n",
    "# Lewy górny róg\n",
    "top_left_elem = ... \n",
    "\n",
    "# Prawy górny róg\n",
    "top_right_elem = ...\n",
    "\n",
    "# Lewy dolny\n",
    "bottom_left_elem = ...\n",
    "\n",
    "# Prawy dolny\n",
    "bottom_right_elem = ...\n",
    "\n",
    "assert top_left_elem == 1, \"Źle pobrano element\"\n",
    "assert top_right_elem == 2, \"Źle pobrano element\"\n",
    "assert bottom_left_elem == 3, \"Źle pobrano element\"\n",
    "assert bottom_right_elem == 4, \"Źle pobrano element\"\n"
   ]
  },
  {
   "cell_type": "code",
   "execution_count": 6,
   "metadata": {
    "ExecuteTime": {
     "end_time": "2018-11-04T14:50:42.302788Z",
     "start_time": "2018-11-04T14:50:42.293100Z"
    }
   },
   "outputs": [],
   "source": [
    "# Stwórz tablicę dwuwymiarową\n",
    "# [1, 2]\n",
    "# [3, 4]\n",
    "# Zsumuj kolumny i wiersze, zgodnie ze specyfikacją poniżej. NIE UŻYWAJ ITERACJI :D\n",
    "\n",
    "ar5 = np.array(...)\n",
    "\n",
    "# Suma wierszy\n",
    "row_sums = ar5.sum( ... )\n",
    "\n",
    "# Suma kolumn\n",
    "col_sums = ar5.sum( ... )\n",
    "\n",
    "assert np.all(row_sums == np.array([3,7])), \"Zła suma\"\n",
    "assert np.all(col_sums == np.array([4,6])), \"Zła suma\"\n"
   ]
  },
  {
   "cell_type": "code",
   "execution_count": 7,
   "metadata": {
    "ExecuteTime": {
     "end_time": "2018-11-04T14:50:57.748343Z",
     "start_time": "2018-11-04T14:50:57.739198Z"
    }
   },
   "outputs": [],
   "source": [
    "# Stwórz tablicę jednowymiarową [1,2,3,4] i zmień jej kształt, aby uzyskać dwywymiarową:\n",
    "# [1,2]\n",
    "# [3,4]\n",
    "\n",
    "ar6 = np.array( ... )\n",
    "ar6_reshaped = ar6. ...\n",
    "\n",
    "ar6_reshaped_expected = np.array([[1,2], [3,4]])\n",
    "\n",
    "assert ar6_reshaped.shape == (2,2)\n",
    "assert np.array_equal(ar6_reshaped_expected, ar6_reshaped)"
   ]
  },
  {
   "cell_type": "code",
   "execution_count": 8,
   "metadata": {
    "ExecuteTime": {
     "end_time": "2018-11-04T14:51:03.448085Z",
     "start_time": "2018-11-04T14:51:03.443447Z"
    }
   },
   "outputs": [],
   "source": [
    "# Stwórz dwie tablice jednowymiarowe i odejmij je od siebie:\n",
    "# [1,2,3]\n",
    "# [4,5,6]\n",
    "\n",
    "ar7 = np.array( ... )\n",
    "ar8 = np.array( ... )\n",
    "\n",
    "ar7_m_8 = ar7-ar8\n",
    "\n",
    "assert np.all(ar7_m_8 == -3)"
   ]
  },
  {
   "cell_type": "code",
   "execution_count": 9,
   "metadata": {
    "ExecuteTime": {
     "end_time": "2018-11-04T14:51:09.478082Z",
     "start_time": "2018-11-04T14:51:09.473652Z"
    }
   },
   "outputs": [],
   "source": [
    "# Wykonaj iloczyn skalarny dwóch wektorów (tablic jednowymiarowych)\n",
    "\n",
    "ar9 = np.array([10, 11, 12])\n",
    "ar10 = np.array([1,2,3])\n",
    "\n",
    "ar_910_dot = ar9 ... \n",
    "\n",
    "assert ar_910_dot == 68"
   ]
  },
  {
   "cell_type": "code",
   "execution_count": 10,
   "metadata": {
    "ExecuteTime": {
     "end_time": "2018-11-04T14:51:15.990201Z",
     "start_time": "2018-11-04T14:51:15.979236Z"
    }
   },
   "outputs": [],
   "source": [
    "# Mając dane dwie macierze 2d dodaj do siebie ich elementy na odpowiadających sobie pozycjach\n",
    "\n",
    "ar11 = np.array([\n",
    "    [1,2],\n",
    "    [3,4]\n",
    "])\n",
    "\n",
    "ar12 = np.array([\n",
    "    [10, 20],\n",
    "    [30, 40]\n",
    "])\n",
    "\n",
    "ar11_plu_ar12 = ...\n",
    "\n",
    "ar11_plu_ar12_expected = np.array([\n",
    "    [11, 22],\n",
    "    [33, 44]\n",
    "])\n",
    "\n",
    "assert np.array_equal(ar11_plu_ar12, ar11_plu_ar12_expected)"
   ]
  },
  {
   "cell_type": "code",
   "execution_count": 14,
   "metadata": {
    "ExecuteTime": {
     "end_time": "2018-11-04T14:52:50.301076Z",
     "start_time": "2018-11-04T14:52:50.289700Z"
    }
   },
   "outputs": [],
   "source": [
    "import base64\n",
    "\n",
    "# Zadanie matematyczne :D \n",
    "# Ile wyniesie iloczyn sklarny takich dwóch macierzy:\n",
    "# [1,2]\n",
    "# [3,4]\n",
    "# \n",
    "# oraz:\n",
    "# [10, 11],\n",
    "# [12, 13]\n",
    "#\n",
    "# Zastanów się, jak działa ten iloczyn. Odpowiedź wpisz w postaci odpowiedniej macierzy i sprawdź, czy działa.\n",
    "\n",
    "# wpisz wynik tutaj\n",
    "scalar_result = np.array( ... )\n",
    "\n",
    "# To porównanie jest zrobione w ten przebiegły sposób, żeby nie ujawnić Ci wyniku :D :D :D\n",
    "# Jeśli wiesz, jak odkodować base64 - nie podglądaj :P\n",
    "assert base64.b64encode(str(scalar_result).encode()) == b'W1szNCAzN10KIFs3OCA4NV1d', \"Źle wykonano mnożenie\"\n"
   ]
  },
  {
   "cell_type": "code",
   "execution_count": null,
   "metadata": {
    "ExecuteTime": {
     "end_time": "2018-11-01T17:35:44.587615Z",
     "start_time": "2018-11-01T17:35:44.580836Z"
    }
   },
   "outputs": [],
   "source": [
    "# Zadanie matematyczne 2 :D\n",
    "# Jak będzie wyglądać iloczyn diadyczny (wikipedia :)) dwóch wektorów? Zapisz wynik w postaci odpowiedniej struktury w numpy i sprawdź wynik.\n",
    "# To jest bardzo ważna operacja, np. w sieciach neuronowych. Upewnij się, że ją rozumiesz.\n",
    "\n",
    "# Wektor 1: [1,2,3]\n",
    "# Wetor 2: [4,5,6]\n",
    "\n",
    "result = np.array([\n",
    "    ...\n",
    "])\n",
    "\n",
    "\n",
    "# To porównanie jest zrobione w ten przebiegły sposób, żeby nie ujawnić wyniku :D :D :D\n",
    "# Jeśli wiesz, jak odkodować base64 - nie podglądaj :P\n",
    "assert base64.b64encode(str(result).encode()) == b'W1sgNCAgNSAgNl0KIFsgOCAxMCAxMl0KIFsxMiAxNSAxOF1d'"
   ]
  },
  {
   "cell_type": "markdown",
   "metadata": {},
   "source": [
    "# Indeksowanie i wybór elementów"
   ]
  },
  {
   "cell_type": "code",
   "execution_count": 68,
   "metadata": {
    "ExecuteTime": {
     "end_time": "2018-11-01T17:43:09.707177Z",
     "start_time": "2018-11-01T17:43:09.691562Z"
    }
   },
   "outputs": [],
   "source": [
    "# Wybierz poszczególne elementy z macierzy 2d. Nie używaj iteracji, tylko indeksowania\n",
    "\n",
    "ar13 = np.array([\n",
    "    [1,2],\n",
    "    [3,4]\n",
    "])\n",
    "\n",
    "# pierwszy wiersz\n",
    "first_row = None\n",
    "\n",
    "# drugi wiersz\n",
    "second_row = None\n",
    "\n",
    "# pierwsza kolumna\n",
    "first_col = None\n",
    "\n",
    "# druga kolumna\n",
    "second_col = None\n",
    "\n",
    "diag = None\n",
    "\n",
    "assert np.array_equal(first_row, np.array([1,2])), \"Źle wybrano elementy\"\n",
    "assert np.array_equal(second_row, np.array([3,4])), \"Źle wybrano elementy\"\n",
    "assert np.array_equal(first_col, np.array([1,3])), \"Źle wybrano elementy\"\n",
    "assert np.array_equal(second_col, np.array([2,4])), \"Źle wybrano elementy\"\n",
    "assert np.array_equal(diag, np.array([1,4])), \"Źle wybrano elementy\""
   ]
  },
  {
   "cell_type": "code",
   "execution_count": 12,
   "metadata": {
    "ExecuteTime": {
     "end_time": "2018-11-02T08:13:46.851678Z",
     "start_time": "2018-11-02T08:13:46.844951Z"
    }
   },
   "outputs": [],
   "source": [
    "# Wybierz elementy tablicy, spełniające warunek x > 3. Nie używaj iteracji :)\n",
    "\n",
    "ar14 = np.array([1,2,3,4,5,6])\n",
    "\n",
    "ar14_bigger_than3 = ...\n",
    "\n",
    "assert np.array_equal(ar14_bigger_than3, np.array([4,5,6])), \"Źle wybrano elementy\""
   ]
  },
  {
   "cell_type": "code",
   "execution_count": 23,
   "metadata": {
    "ExecuteTime": {
     "end_time": "2018-11-02T08:22:11.180850Z",
     "start_time": "2018-11-02T08:22:11.170486Z"
    }
   },
   "outputs": [],
   "source": [
    "# Wybierz elementy macierzy, podzielne przez 2. Nie używaj iteracji.\n",
    "ar15 = np.array([\n",
    "    [1,2,3],\n",
    "    [4,5,6],\n",
    "    [7,8,9]\n",
    "])\n",
    "\n",
    "\n",
    "ar15_div2 = ...\n",
    "\n",
    "assert np.array_equal(ar15_div2, np.array([2,4,6,8])), \"Źle dobrano macierz\""
   ]
  },
  {
   "cell_type": "code",
   "execution_count": 26,
   "metadata": {
    "ExecuteTime": {
     "end_time": "2018-11-02T08:22:47.856953Z",
     "start_time": "2018-11-02T08:22:47.851820Z"
    }
   },
   "outputs": [],
   "source": [
    "# Wybierz elementy macierzy, które są większe od 3 i podzielne przez 2.\n",
    "\n",
    "ar16 = np.array([\n",
    "    [1,2,3],\n",
    "    [4,5,6],\n",
    "    [7,8,9]\n",
    "])\n",
    "\n",
    "ar16_subset = ...\n",
    "\n",
    "assert np.array_equal(ar16_subset, np.array([4, 6, 8])), \"Źle dobrano macierz\""
   ]
  },
  {
   "cell_type": "code",
   "execution_count": 127,
   "metadata": {
    "ExecuteTime": {
     "end_time": "2018-11-02T08:52:31.540633Z",
     "start_time": "2018-11-02T08:52:31.525510Z"
    }
   },
   "outputs": [],
   "source": [
    "# Wybierz 1 i 3 wiersz z macierzy, oraz 2 i 4 kolumnę. Pamiętaj o indeksowaniu od zera\n",
    "\n",
    "ar17 = np.array([\n",
    "    [1,2,3,4],\n",
    "    [5,6,7,8],\n",
    "    [9,10,11,12]\n",
    "])\n",
    "\n",
    "# pierwszy wiersz\n",
    "row1 = None\n",
    "\n",
    "# Trzeci wiersz\n",
    "row3 = None\n",
    "\n",
    "# druga kolumna\n",
    "col2 = None\n",
    "\n",
    "# czwarta kolumna\n",
    "col4 = None\n",
    "\n",
    "assert np.array_equal(row1, np.array([1,2,3,4])), \"Źle wybrano wiersz\"\n",
    "assert np.array_equal(row3, np.array([9,10,11,12])), \"Źle wybrano wiersz\"\n",
    "assert np.array_equal(col2, np.array([2,6,10])), \"Źle wybrano kolumnę\"\n",
    "assert np.array_equal(col4, np.array([4,8,12])), \"Źle wybrano kolumnę\""
   ]
  },
  {
   "cell_type": "markdown",
   "metadata": {},
   "source": [
    "# Rozkłady prawdopodobieństwa"
   ]
  },
  {
   "cell_type": "markdown",
   "metadata": {},
   "source": [
    "Porównania z wartościami oczekiwanymi w dalszych ćwiczeniach dokonywane są za pomocą funkcji \"isclose\" i podonych, oznacza to, że zakładają pewien margines błędu. \n",
    "\n",
    "To często się zdarza w *data science* i statystyce."
   ]
  },
  {
   "cell_type": "markdown",
   "metadata": {},
   "source": [
    "Dodatkowo, gdy w grę wchodzą liczby losowe, warto zawsze zastsowować tzw. **seed**, czyli zmusić generator liczb losowych do wytwarzania zawsze tych samych wyników. Dzięki temu inni analitycy będą otrzymywać takie same rezultaty, jak Twoje.\n",
    "\n",
    "Z racji zastosowanego **seeda** wyniki *de facto* nie będą losowe, ale celem jest, żeby pomiędzy kolejnymi podejściami dostawać to samo i żeby wszyscy w grupie mieli identyczne rezultaty"
   ]
  },
  {
   "cell_type": "code",
   "execution_count": 104,
   "metadata": {
    "ExecuteTime": {
     "end_time": "2018-11-02T08:40:33.045686Z",
     "start_time": "2018-11-02T08:40:33.037897Z"
    }
   },
   "outputs": [],
   "source": [
    "# Wygeneruj wektor 100 liczb losowyh z rozkładu normalnego o średniej 100 i odchyleniu standardowym 5.\n",
    "np.random.seed(123)\n",
    "rand1_normal = ...\n",
    "\n",
    "rand1_mu = np.mean(rand1_normal)\n",
    "rand1_std = np.std(rand1_normal)\n",
    "\n",
    "assert np.round(rand1_mu, 3) == 100.136\n",
    "assert np.round(rand1_std, 3) == 5.641"
   ]
  },
  {
   "cell_type": "code",
   "execution_count": 125,
   "metadata": {
    "ExecuteTime": {
     "end_time": "2018-11-02T08:47:21.973774Z",
     "start_time": "2018-11-02T08:47:21.958525Z"
    }
   },
   "outputs": [],
   "source": [
    "# Wygeneruj macierz z rozkładu normalnego (średnia=50, odchylenie=2) o rozmiarze 3x3. Sprawdź czy zarówno wiersze, jak i kolumny mają średnią równą 100\n",
    "np.random.seed(123)\n",
    "\n",
    "rand2_ar = ...\n",
    "\n",
    "col_means = ...\n",
    "row_means = ...\n",
    "\n",
    "expected_col_means = np.array([46.65, 49.99, 52.13])\n",
    "expected_row_means = np.array([50.13, 49.71, 48.94])\n",
    "\n",
    "assert np.array_equal(np.round(col_means, 2), expected_col_means), \"Źle wyliczono własności macierzy\"\n",
    "assert np.array_equal(np.round(row_means, 2), expected_row_means), \"Źle wyliczono własności macierzy\""
   ]
  },
  {
   "cell_type": "code",
   "execution_count": 138,
   "metadata": {
    "ExecuteTime": {
     "end_time": "2018-11-02T08:56:37.091331Z",
     "start_time": "2018-11-02T08:56:37.074951Z"
    }
   },
   "outputs": [],
   "source": [
    "# Wybierz losowo 2 wiersze z macierzy. To może wymagać nieco pomysłowości - pokombinuj z wartościami True/False\n",
    "# oraz wielkością macierzy, na której pracujesz. Zwróć uwagę na strukturę zadnaia: najpierw przygotuj wskaźniki na wiersze,\n",
    "# które chcesz wybrać, a potem dopiero je pobież. To powinno być pomocne =)\n",
    "\n",
    "np.random.seed(123)\n",
    "\n",
    "rand3_ar = np.array([\n",
    "    [1,2,3],\n",
    "    [4,5,6],\n",
    "    [7,8,9]\n",
    "])\n",
    "\n",
    "# Przygotuj sobie wskaźniki na wiersze\n",
    "random_selection = ...\n",
    "\n",
    "# Pobierz wiersze\n",
    "random_rows = ...\n",
    "\n",
    "expected_random_rows = np.array([\n",
    "    [1,2,3],\n",
    "    [7,8,9]\n",
    "])\n",
    "\n",
    "assert np.array_equal(expected_random_rows, random_rows)"
   ]
  },
  {
   "cell_type": "code",
   "execution_count": null,
   "metadata": {},
   "outputs": [],
   "source": []
  }
 ],
 "metadata": {
  "hide_input": false,
  "kernelspec": {
   "display_name": "Python 3",
   "language": "python",
   "name": "python3"
  },
  "language_info": {
   "codemirror_mode": {
    "name": "ipython",
    "version": 3
   },
   "file_extension": ".py",
   "mimetype": "text/x-python",
   "name": "python",
   "nbconvert_exporter": "python",
   "pygments_lexer": "ipython3",
   "version": "3.7.3"
  },
  "toc": {
   "base_numbering": 1,
   "nav_menu": {},
   "number_sections": true,
   "sideBar": true,
   "skip_h1_title": false,
   "title_cell": "Table of Contents",
   "title_sidebar": "Contents",
   "toc_cell": false,
   "toc_position": {},
   "toc_section_display": true,
   "toc_window_display": false
  },
  "varInspector": {
   "cols": {
    "lenName": 16,
    "lenType": 16,
    "lenVar": 40
   },
   "kernels_config": {
    "python": {
     "delete_cmd_postfix": "",
     "delete_cmd_prefix": "del ",
     "library": "var_list.py",
     "varRefreshCmd": "print(var_dic_list())"
    },
    "r": {
     "delete_cmd_postfix": ") ",
     "delete_cmd_prefix": "rm(",
     "library": "var_list.r",
     "varRefreshCmd": "cat(var_dic_list()) "
    }
   },
   "types_to_exclude": [
    "module",
    "function",
    "builtin_function_or_method",
    "instance",
    "_Feature"
   ],
   "window_display": false
  }
 },
 "nbformat": 4,
 "nbformat_minor": 2
}
