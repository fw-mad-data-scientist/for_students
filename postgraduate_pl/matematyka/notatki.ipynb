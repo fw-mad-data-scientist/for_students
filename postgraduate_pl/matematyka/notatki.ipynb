{
 "cells": [
  {
   "cell_type": "markdown",
   "metadata": {},
   "source": [
    "# Wprowadzenie\n",
    "\n",
    "Numpy jest biblioteką służącą do przeprowadzania zaawansowanych operacji matematycznych i działań na macierzach. Poniżej przejdziemy przez podstawowe własności macierzy wielowymiarowych i sposoby operowania na nich."
   ]
  },
  {
   "cell_type": "code",
   "execution_count": 2,
   "metadata": {
    "ExecuteTime": {
     "end_time": "2018-11-04T16:45:36.166062Z",
     "start_time": "2018-11-04T16:45:36.162299Z"
    }
   },
   "outputs": [],
   "source": [
    "# Import biblioteki\n",
    "# nadajemy tzw. alias \"np\" czyli skrót bibliotece, żeby nie pisać za dużo :D\n",
    "\n",
    "import numpy as np"
   ]
  },
  {
   "cell_type": "markdown",
   "metadata": {},
   "source": [
    "# Tablice i macierze wielowymiarowe"
   ]
  },
  {
   "cell_type": "markdown",
   "metadata": {},
   "source": [
    "Tablice wielowymiarowe tworzymy porpzez wywołanie funkcji:\n",
    "\n",
    "\n",
    "```{python}\n",
    "\n",
    "np.array( LISTA )\n",
    "\n",
    "```\n",
    "\n",
    "W miejsce listy przekazujemy oczywiście bazową listę, którą chcemy przekształcić.\n"
   ]
  },
  {
   "cell_type": "code",
   "execution_count": 3,
   "metadata": {
    "ExecuteTime": {
     "end_time": "2018-11-04T16:47:01.124045Z",
     "start_time": "2018-11-04T16:47:01.104412Z"
    }
   },
   "outputs": [
    {
     "data": {
      "text/plain": [
       "array([1, 2, 3])"
      ]
     },
     "execution_count": 3,
     "metadata": {},
     "output_type": "execute_result"
    }
   ],
   "source": [
    "# Tworzenie tablicy wielowymiarowej \n",
    "\n",
    "# Podstawowa, \"bazowa\" lista\n",
    "lst = [1,2,3]\n",
    "\n",
    "# Utworzenie tablicy wielowymiarowej w numpy\n",
    "ar = np.array(lst)\n",
    "ar"
   ]
  },
  {
   "cell_type": "code",
   "execution_count": 5,
   "metadata": {
    "ExecuteTime": {
     "end_time": "2018-11-04T16:51:01.078166Z",
     "start_time": "2018-11-04T16:51:01.074764Z"
    }
   },
   "outputs": [
    {
     "data": {
      "text/plain": [
       "(3,)"
      ]
     },
     "execution_count": 5,
     "metadata": {},
     "output_type": "execute_result"
    }
   ],
   "source": [
    "# Sprawdzenie kształtu tablicy\n",
    "ar.shape"
   ]
  },
  {
   "cell_type": "markdown",
   "metadata": {},
   "source": [
    "Tworzymy macierz dwuwymiarową, przez przekazanie odpowiednej \"listy list\"."
   ]
  },
  {
   "cell_type": "code",
   "execution_count": 6,
   "metadata": {
    "ExecuteTime": {
     "end_time": "2018-11-04T16:51:33.185909Z",
     "start_time": "2018-11-04T16:51:33.181600Z"
    }
   },
   "outputs": [],
   "source": [
    "matrix = np.array([\n",
    "    [1,2,3],\n",
    "    [4,5,6],\n",
    "    [7,8,9]\n",
    "    \n",
    "])"
   ]
  },
  {
   "cell_type": "code",
   "execution_count": 7,
   "metadata": {
    "ExecuteTime": {
     "end_time": "2018-11-04T16:51:34.879540Z",
     "start_time": "2018-11-04T16:51:34.874115Z"
    }
   },
   "outputs": [
    {
     "data": {
      "text/plain": [
       "array([[1, 2, 3],\n",
       "       [4, 5, 6],\n",
       "       [7, 8, 9]])"
      ]
     },
     "execution_count": 7,
     "metadata": {},
     "output_type": "execute_result"
    }
   ],
   "source": [
    "matrix"
   ]
  },
  {
   "cell_type": "code",
   "execution_count": 8,
   "metadata": {
    "ExecuteTime": {
     "end_time": "2018-11-04T16:51:37.778797Z",
     "start_time": "2018-11-04T16:51:37.773820Z"
    }
   },
   "outputs": [
    {
     "data": {
      "text/plain": [
       "(3, 3)"
      ]
     },
     "execution_count": 8,
     "metadata": {},
     "output_type": "execute_result"
    }
   ],
   "source": [
    "matrix.shape"
   ]
  },
  {
   "cell_type": "markdown",
   "metadata": {},
   "source": [
    "Do poszczególnych elementów macierzy odwołujemy się w sposób następujący:\n",
    "\n",
    "\n",
    "ar**[**  *WIERSZE*  , *KOLUMNY*  **]**\n",
    "\n",
    "Przecinek oddziela nam poszczególne wymiary: wiersze **,** kolumny.\n",
    "\n",
    "Odwoływać się możemy na kilka sposobów:\n",
    "\n",
    "> Pobieranie jednego elementu pod konkretnym indeksem - **podajemy konkretny indeks**\n",
    "\n",
    "> ```{python}\n",
    "\n",
    "> matrix [   LICZBA, LICZBA    ]\n",
    "\n",
    "> ```\n",
    "\n",
    "\n",
    "> Pobieranie wszystkich wierszy/kolumn - używamy **dwukropka** (oznacza \"daj mi wszystko\")\n",
    "> ```{python}\n",
    ">  matrix [  :,   LICZBA/BY ] - weź wszystkie wszystkie wiersze (wartości) z określonej kolumny/kolumn\n",
    ">  matrix [  LICZBA/BY,  :  ] - weź wszystkie kolumny (wartości) z określonych wierszy/sza\n",
    "> ```\n",
    "\n",
    "\n",
    "> Pobieranie więcej niż jednego indeksy - używamy **listy indeksów**\n",
    "> ```{python}\n",
    ">  matrix [  [LISTA WIERSZY]  ,  [LISTA KOLUMN] ]\n",
    "> ```"
   ]
  },
  {
   "cell_type": "code",
   "execution_count": 11,
   "metadata": {
    "ExecuteTime": {
     "end_time": "2018-11-04T16:56:18.619635Z",
     "start_time": "2018-11-04T16:56:18.615446Z"
    }
   },
   "outputs": [
    {
     "data": {
      "text/plain": [
       "7"
      ]
     },
     "execution_count": 11,
     "metadata": {},
     "output_type": "execute_result"
    }
   ],
   "source": [
    "# weź 3-i wiersz, pierwszą kolumnę (jedna wartość)\n",
    "matrix[2, 0]"
   ]
  },
  {
   "cell_type": "code",
   "execution_count": 12,
   "metadata": {
    "ExecuteTime": {
     "end_time": "2018-11-04T16:56:35.655928Z",
     "start_time": "2018-11-04T16:56:35.643920Z"
    }
   },
   "outputs": [
    {
     "data": {
      "text/plain": [
       "array([2, 5, 8])"
      ]
     },
     "execution_count": 12,
     "metadata": {},
     "output_type": "execute_result"
    }
   ],
   "source": [
    "# Weż wszystkie wartości z wierszy w kolumnie 2-ej\n",
    "matrix[:, 1]"
   ]
  },
  {
   "cell_type": "code",
   "execution_count": 13,
   "metadata": {
    "ExecuteTime": {
     "end_time": "2018-11-04T16:56:59.402750Z",
     "start_time": "2018-11-04T16:56:59.394362Z"
    }
   },
   "outputs": [
    {
     "data": {
      "text/plain": [
       "array([1, 2, 3])"
      ]
     },
     "execution_count": 13,
     "metadata": {},
     "output_type": "execute_result"
    }
   ],
   "source": [
    "# Weź wszystkie wartości z kolumn dla wiersza 1-ego\n",
    "matrix[0, :]"
   ]
  },
  {
   "cell_type": "code",
   "execution_count": 14,
   "metadata": {
    "ExecuteTime": {
     "end_time": "2018-11-04T16:57:27.787522Z",
     "start_time": "2018-11-04T16:57:27.781660Z"
    }
   },
   "outputs": [
    {
     "data": {
      "text/plain": [
       "array([2, 9])"
      ]
     },
     "execution_count": 14,
     "metadata": {},
     "output_type": "execute_result"
    }
   ],
   "source": [
    "# Dla wiersza 1 i 3 weź wartości z kolumny 2 i 3\n",
    "\n",
    "matrix[[0, 2] , [1,2] ]"
   ]
  },
  {
   "cell_type": "markdown",
   "metadata": {},
   "source": [
    "# Operacje na macierzach i wektorach"
   ]
  },
  {
   "cell_type": "markdown",
   "metadata": {},
   "source": [
    "Wektory i macierze mają szereg wbudowanych operacji, jak sumy/średnie itp.\n",
    "Możemy się do nich odwoływać:\n",
    "\n",
    "> Przez bibliotekę:\n",
    "> ```{python}\n",
    "> np.FUNKCJA(  macierz  )\n",
    ">```\n",
    "\n",
    "albo\n",
    "\n",
    "> Bezpośrednio **z obiektu macierzy**\n",
    "> ```{python}\n",
    ">  macierz.FUNCJA() \n",
    "> ```"
   ]
  },
  {
   "cell_type": "markdown",
   "metadata": {},
   "source": [
    "Używając tych funkcji, pamiętajmy **względem czego je aplikujemy!!!***. \n",
    "\n",
    "> axis=0 - oznacza liczenie po kolumnach, jedna po drugiej\n",
    "> axis =1 - oznacza liczenie po wierszach, jeden po drugim"
   ]
  },
  {
   "cell_type": "code",
   "execution_count": 18,
   "metadata": {
    "ExecuteTime": {
     "end_time": "2018-11-04T17:00:18.375845Z",
     "start_time": "2018-11-04T17:00:18.369379Z"
    }
   },
   "outputs": [
    {
     "data": {
      "text/plain": [
       "array([12, 15, 18])"
      ]
     },
     "execution_count": 18,
     "metadata": {},
     "output_type": "execute_result"
    }
   ],
   "source": [
    "matrix.sum(axis=0) # suma kolumn, wywołanie z obiektu macierzy"
   ]
  },
  {
   "cell_type": "code",
   "execution_count": 19,
   "metadata": {
    "ExecuteTime": {
     "end_time": "2018-11-04T17:00:32.492253Z",
     "start_time": "2018-11-04T17:00:32.486227Z"
    }
   },
   "outputs": [
    {
     "data": {
      "text/plain": [
       "array([12, 15, 18])"
      ]
     },
     "execution_count": 19,
     "metadata": {},
     "output_type": "execute_result"
    }
   ],
   "source": [
    "np.sum(matrix, axis=0) # to samo, ale wywołanie z biblioteki"
   ]
  },
  {
   "cell_type": "code",
   "execution_count": 20,
   "metadata": {
    "ExecuteTime": {
     "end_time": "2018-11-04T17:00:47.954368Z",
     "start_time": "2018-11-04T17:00:47.948671Z"
    }
   },
   "outputs": [
    {
     "data": {
      "text/plain": [
       "array([ 6, 15, 24])"
      ]
     },
     "execution_count": 20,
     "metadata": {},
     "output_type": "execute_result"
    }
   ],
   "source": [
    "matrix.sum(axis=1) # Suma wierszy, wywołanie z obiektu macierzy"
   ]
  },
  {
   "cell_type": "code",
   "execution_count": 21,
   "metadata": {
    "ExecuteTime": {
     "end_time": "2018-11-04T17:01:04.555861Z",
     "start_time": "2018-11-04T17:01:04.550962Z"
    }
   },
   "outputs": [
    {
     "data": {
      "text/plain": [
       "array([ 6, 15, 24])"
      ]
     },
     "execution_count": 21,
     "metadata": {},
     "output_type": "execute_result"
    }
   ],
   "source": [
    "np.sum(matrix, axis=1) # to samo, ale wywołanie z biblioteki"
   ]
  },
  {
   "cell_type": "markdown",
   "metadata": {},
   "source": [
    "Bardzo ważne są pewne konkretne operacje matematyczne na wektorach i macierzach oraz ich interakcje.\n",
    "I tak:\n",
    "\n",
    "> **[Iloczyn skalarny](https://pl.wikipedia.org/wiki/Iloczyn_skalarny)** - iloczyn i suma poszczególnych elementów wektorów/macierzy:\n",
    "> ```{python}\n",
    "> np.dot(vec, matrix) # wywołanie z biblioteki\n",
    "> vec.dot(matrix)     # wywołanie z obiektu\n",
    "> ```\n",
    "\n",
    "> **[Iloczyn diadyczny](https://pl.wikipedia.org/wiki/Iloczyn_diadyczny)** - iloczyn tensorowy wektora kolumnowego z wektorem wieszowym (strasznie to brzmi, ale jest bardzo proste). Zestawienie \"stojącego\" i \"leżacego\" wektora - iloczyn elementów na ich przecięciu.\n",
    "> ```{python}\n",
    "> np.outer(vec1, vec2) # wywołanie z biblioteki - jedyny sposób\n",
    "> ```\n",
    "\n",
    "> **[Iloczyn Hadamarda](https://pl.wikipedia.org/wiki/Mno%C5%BCenie_macierzy#Iloczyn_Hadamarda)** - kolejna straszna nazwa, opisująca najprostszy iloczyn - mnożenie przez siebie odpowiadających sobie elementów obu wektorów i macierzy. UWAGA! Muszą mieć takie same kształty.\n",
    "> ```{python}\n",
    "> vec1 * vec2\n",
    "> matrix1 * matrix2\n",
    "> vec1 + vec2\n",
    "> ```\n",
    "> *etc.*"
   ]
  },
  {
   "cell_type": "markdown",
   "metadata": {},
   "source": [
    "Mając dane:"
   ]
  },
  {
   "cell_type": "code",
   "execution_count": 33,
   "metadata": {
    "ExecuteTime": {
     "end_time": "2018-11-04T17:10:01.736836Z",
     "start_time": "2018-11-04T17:10:01.728351Z"
    }
   },
   "outputs": [
    {
     "data": {
      "text/plain": [
       "array([[1, 2, 3],\n",
       "       [4, 5, 6],\n",
       "       [7, 8, 9]])"
      ]
     },
     "execution_count": 33,
     "metadata": {},
     "output_type": "execute_result"
    }
   ],
   "source": [
    "matrix1 = matrix\n",
    "matrix"
   ]
  },
  {
   "cell_type": "code",
   "execution_count": 31,
   "metadata": {
    "ExecuteTime": {
     "end_time": "2018-11-04T17:09:51.884333Z",
     "start_time": "2018-11-04T17:09:51.878326Z"
    }
   },
   "outputs": [
    {
     "data": {
      "text/plain": [
       "array([[10, 11, 12],\n",
       "       [13, 14, 15],\n",
       "       [16, 17, 18]])"
      ]
     },
     "execution_count": 31,
     "metadata": {},
     "output_type": "execute_result"
    }
   ],
   "source": [
    "matrix2 = np.array([\n",
    "    \n",
    "    [10, 11, 12],\n",
    "    [13, 14, 15],\n",
    "    [16, 17, 18]\n",
    "    \n",
    "])\n",
    "matrix2"
   ]
  },
  {
   "cell_type": "code",
   "execution_count": 28,
   "metadata": {
    "ExecuteTime": {
     "end_time": "2018-11-04T17:08:40.149942Z",
     "start_time": "2018-11-04T17:08:40.143960Z"
    }
   },
   "outputs": [
    {
     "data": {
      "text/plain": [
       "array([10, 20, 30])"
      ]
     },
     "execution_count": 28,
     "metadata": {},
     "output_type": "execute_result"
    }
   ],
   "source": [
    "vec1 = vec\n",
    "vec1"
   ]
  },
  {
   "cell_type": "code",
   "execution_count": 29,
   "metadata": {
    "ExecuteTime": {
     "end_time": "2018-11-04T17:08:47.647647Z",
     "start_time": "2018-11-04T17:08:47.640266Z"
    }
   },
   "outputs": [
    {
     "data": {
      "text/plain": [
       "array([2, 3, 4])"
      ]
     },
     "execution_count": 29,
     "metadata": {},
     "output_type": "execute_result"
    }
   ],
   "source": [
    "vec2 = np.array([2,3,4])\n",
    "vec2"
   ]
  },
  {
   "cell_type": "code",
   "execution_count": 30,
   "metadata": {
    "ExecuteTime": {
     "end_time": "2018-11-04T17:09:10.706349Z",
     "start_time": "2018-11-04T17:09:10.701363Z"
    }
   },
   "outputs": [
    {
     "data": {
      "text/plain": [
       "200"
      ]
     },
     "execution_count": 30,
     "metadata": {},
     "output_type": "execute_result"
    }
   ],
   "source": [
    "# Iloczyn skalarny wektorów:\n",
    "\n",
    "vec1.dot(vec2) # albo np.dot(vec1, vec2)"
   ]
  },
  {
   "cell_type": "code",
   "execution_count": 34,
   "metadata": {
    "ExecuteTime": {
     "end_time": "2018-11-04T17:10:04.568094Z",
     "start_time": "2018-11-04T17:10:04.561489Z"
    }
   },
   "outputs": [
    {
     "data": {
      "text/plain": [
       "array([[ 84,  90,  96],\n",
       "       [201, 216, 231],\n",
       "       [318, 342, 366]])"
      ]
     },
     "execution_count": 34,
     "metadata": {},
     "output_type": "execute_result"
    }
   ],
   "source": [
    "# Iloczyn skalarny macierzy: wiersz z jednej*kolumna z drugiej i suma elementów\n",
    "matrix1.dot(matrix2)"
   ]
  },
  {
   "cell_type": "code",
   "execution_count": 35,
   "metadata": {
    "ExecuteTime": {
     "end_time": "2018-11-04T17:10:17.418708Z",
     "start_time": "2018-11-04T17:10:17.412637Z"
    }
   },
   "outputs": [
    {
     "data": {
      "text/plain": [
       "array([[ 20,  30,  40],\n",
       "       [ 40,  60,  80],\n",
       "       [ 60,  90, 120]])"
      ]
     },
     "execution_count": 35,
     "metadata": {},
     "output_type": "execute_result"
    }
   ],
   "source": [
    "# Iloczyn diadyczny wektorów:\n",
    "\n",
    "np.outer(vec1, vec2)"
   ]
  },
  {
   "cell_type": "code",
   "execution_count": 36,
   "metadata": {
    "ExecuteTime": {
     "end_time": "2018-11-04T17:10:33.196090Z",
     "start_time": "2018-11-04T17:10:33.190324Z"
    }
   },
   "outputs": [
    {
     "data": {
      "text/plain": [
       "array([ 20,  60, 120])"
      ]
     },
     "execution_count": 36,
     "metadata": {},
     "output_type": "execute_result"
    }
   ],
   "source": [
    "# Iloczyn Hadamarda wektorów\n",
    "vec1 * vec2"
   ]
  },
  {
   "cell_type": "code",
   "execution_count": 37,
   "metadata": {
    "ExecuteTime": {
     "end_time": "2018-11-04T17:10:42.299573Z",
     "start_time": "2018-11-04T17:10:42.293289Z"
    }
   },
   "outputs": [
    {
     "data": {
      "text/plain": [
       "array([[ 10,  22,  36],\n",
       "       [ 52,  70,  90],\n",
       "       [112, 136, 162]])"
      ]
     },
     "execution_count": 37,
     "metadata": {},
     "output_type": "execute_result"
    }
   ],
   "source": [
    "# Iloczyn Hadamarda macierzy:\n",
    "\n",
    "matrix1 * matrix2"
   ]
  },
  {
   "cell_type": "code",
   "execution_count": null,
   "metadata": {},
   "outputs": [],
   "source": []
  }
 ],
 "metadata": {
  "kernelspec": {
   "display_name": "Python 3",
   "language": "python",
   "name": "python3"
  },
  "language_info": {
   "codemirror_mode": {
    "name": "ipython",
    "version": 3
   },
   "file_extension": ".py",
   "mimetype": "text/x-python",
   "name": "python",
   "nbconvert_exporter": "python",
   "pygments_lexer": "ipython3",
   "version": "3.6.4"
  },
  "toc": {
   "nav_menu": {},
   "number_sections": true,
   "sideBar": true,
   "skip_h1_title": false,
   "title_cell": "Table of Contents",
   "title_sidebar": "Contents",
   "toc_cell": false,
   "toc_position": {
    "height": "calc(100% - 180px)",
    "left": "10px",
    "top": "150px",
    "width": "307px"
   },
   "toc_section_display": true,
   "toc_window_display": true
  },
  "varInspector": {
   "cols": {
    "lenName": 16,
    "lenType": 16,
    "lenVar": 40
   },
   "kernels_config": {
    "python": {
     "delete_cmd_postfix": "",
     "delete_cmd_prefix": "del ",
     "library": "var_list.py",
     "varRefreshCmd": "print(var_dic_list())"
    },
    "r": {
     "delete_cmd_postfix": ") ",
     "delete_cmd_prefix": "rm(",
     "library": "var_list.r",
     "varRefreshCmd": "cat(var_dic_list()) "
    }
   },
   "types_to_exclude": [
    "module",
    "function",
    "builtin_function_or_method",
    "instance",
    "_Feature"
   ],
   "window_display": false
  }
 },
 "nbformat": 4,
 "nbformat_minor": 2
}
