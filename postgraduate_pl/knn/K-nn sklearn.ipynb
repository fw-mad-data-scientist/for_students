{
 "cells": [
  {
   "cell_type": "markdown",
   "metadata": {},
   "source": [
    "# K-nearest-neighbours with sci-kit learn\n",
    "\n",
    "W tym notebooku będziemy używać interfejsu Sci-kit learn by stworzyć klasyfikator KNN, na zbiorze danych Iris, oraz dopasować jego parametry.\n",
    "\n",
    "Notebook będzie obejmował następujące kroki:\n",
    "\n",
    "1. Załadowanie zbioru danych z pliku .csv\n",
    "2. Podział na zbiór treningowy i testowy\n",
    "3. Utworzenie podstawowego modelu K-nn oraz sprawdzenie jego trafności\n",
    "4. Poszukiwanie najlepszego zestawu parametrów za pomocą metody Grid-Search\n",
    "5. Analiza błędu na zbiorze testowym"
   ]
  },
  {
   "cell_type": "markdown",
   "metadata": {},
   "source": [
    "# Przygotowanie"
   ]
  },
  {
   "cell_type": "markdown",
   "metadata": {},
   "source": [
    "## imort bibliotek"
   ]
  },
  {
   "cell_type": "code",
   "execution_count": 32,
   "metadata": {
    "ExecuteTime": {
     "end_time": "2019-03-01T07:35:21.760737Z",
     "start_time": "2019-03-01T07:35:21.755750Z"
    }
   },
   "outputs": [],
   "source": [
    "import pandas as pd\n",
    "import numpy as np\n",
    "import sklearn.metrics as metrics\n",
    "\n",
    "from sklearn.model_selection import train_test_split\n",
    "from sklearn.neighbors import KNeighborsClassifier\n"
   ]
  },
  {
   "cell_type": "markdown",
   "metadata": {},
   "source": [
    "## Ładowanie danych z pliku CSV\n",
    "\n",
    "Użyjemy biblioteki Pandas i jej wbudowanej funkcjonalności do ładowania dnanych. \n",
    "\n",
    "```{python}\n",
    "\n",
    "pandas.read_csv(....)\n",
    "\n",
    "```"
   ]
  },
  {
   "cell_type": "markdown",
   "metadata": {},
   "source": [
    "Załadowanie zbioru danych:"
   ]
  },
  {
   "cell_type": "code",
   "execution_count": 20,
   "metadata": {
    "ExecuteTime": {
     "end_time": "2019-03-01T07:33:25.904949Z",
     "start_time": "2019-03-01T07:33:25.898966Z"
    }
   },
   "outputs": [],
   "source": [
    "iris = ..."
   ]
  },
  {
   "cell_type": "markdown",
   "metadata": {},
   "source": [
    "Sprawdźmy pierwsze pięć elementów"
   ]
  },
  {
   "cell_type": "code",
   "execution_count": 21,
   "metadata": {
    "ExecuteTime": {
     "end_time": "2019-03-01T07:33:26.310952Z",
     "start_time": "2019-03-01T07:33:26.300013Z"
    }
   },
   "outputs": [
    {
     "data": {
      "text/html": [
       "<div>\n",
       "<style scoped>\n",
       "    .dataframe tbody tr th:only-of-type {\n",
       "        vertical-align: middle;\n",
       "    }\n",
       "\n",
       "    .dataframe tbody tr th {\n",
       "        vertical-align: top;\n",
       "    }\n",
       "\n",
       "    .dataframe thead th {\n",
       "        text-align: right;\n",
       "    }\n",
       "</style>\n",
       "<table border=\"1\" class=\"dataframe\">\n",
       "  <thead>\n",
       "    <tr style=\"text-align: right;\">\n",
       "      <th></th>\n",
       "      <th>sepal_length</th>\n",
       "      <th>sepal_width</th>\n",
       "      <th>petal_length</th>\n",
       "      <th>petal_width</th>\n",
       "      <th>species</th>\n",
       "    </tr>\n",
       "  </thead>\n",
       "  <tbody>\n",
       "    <tr>\n",
       "      <th>0</th>\n",
       "      <td>5.1</td>\n",
       "      <td>3.5</td>\n",
       "      <td>1.4</td>\n",
       "      <td>0.2</td>\n",
       "      <td>setosa</td>\n",
       "    </tr>\n",
       "    <tr>\n",
       "      <th>1</th>\n",
       "      <td>4.9</td>\n",
       "      <td>3.0</td>\n",
       "      <td>1.4</td>\n",
       "      <td>0.2</td>\n",
       "      <td>setosa</td>\n",
       "    </tr>\n",
       "    <tr>\n",
       "      <th>2</th>\n",
       "      <td>4.7</td>\n",
       "      <td>3.2</td>\n",
       "      <td>1.3</td>\n",
       "      <td>0.2</td>\n",
       "      <td>setosa</td>\n",
       "    </tr>\n",
       "    <tr>\n",
       "      <th>3</th>\n",
       "      <td>4.6</td>\n",
       "      <td>3.1</td>\n",
       "      <td>1.5</td>\n",
       "      <td>0.2</td>\n",
       "      <td>setosa</td>\n",
       "    </tr>\n",
       "    <tr>\n",
       "      <th>4</th>\n",
       "      <td>5.0</td>\n",
       "      <td>3.6</td>\n",
       "      <td>1.4</td>\n",
       "      <td>0.2</td>\n",
       "      <td>setosa</td>\n",
       "    </tr>\n",
       "  </tbody>\n",
       "</table>\n",
       "</div>"
      ],
      "text/plain": [
       "   sepal_length  sepal_width  petal_length  petal_width species\n",
       "0           5.1          3.5           1.4          0.2  setosa\n",
       "1           4.9          3.0           1.4          0.2  setosa\n",
       "2           4.7          3.2           1.3          0.2  setosa\n",
       "3           4.6          3.1           1.5          0.2  setosa\n",
       "4           5.0          3.6           1.4          0.2  setosa"
      ]
     },
     "execution_count": 21,
     "metadata": {},
     "output_type": "execute_result"
    }
   ],
   "source": [
    "iris.head()"
   ]
  },
  {
   "cell_type": "markdown",
   "metadata": {},
   "source": [
    "**Species** czyli **gatunek irysa** jest naszą zmienną odpowiedzi - zmienną zależną"
   ]
  },
  {
   "cell_type": "markdown",
   "metadata": {},
   "source": [
    "## Podział zbioru na dane treningowe i testowe\n",
    "\n",
    "Teraz, gdy mamy zbiór danych wczytany do pamięci, możemy go podzielić na podzbiór:\n",
    "\n",
    "**treningowy** - który używany będzie do szkolenia algorytmu\n",
    "\n",
    "**testowy** - który zostawimy na sam koniec, żeby sprawdzić, jak dobrze sprawuje się algorytm\n",
    "\n",
    "\n",
    "Żeby to zrobić musimy najpierw rozdzielić zmienną zależną *y* (zmienną odpowiedzi) od pozostałych zmiennych *X* - niezależnych.\n",
    "Potem uruchomimy funkcję *train_test_split* z pakietu sklearn.\n",
    "\n",
    "[http://scikit-learn.org/stable/modules/generated/sklearn.model_selection.train_test_split.html](http://scikit-learn.org/stable/modules/generated/sklearn.model_selection.train_test_split.html)\n",
    "\n",
    "Wynikiem jej działania są 4 zmienne:\n",
    "* X training\n",
    "* X testing\n",
    "* y training\n",
    "* y testing\n",
    "\n"
   ]
  },
  {
   "cell_type": "markdown",
   "metadata": {},
   "source": [
    "Stwórzymy zmienną X, która będzie zawierać 4 atrybuty\n",
    "\n",
    "Stwórzymy zmienną y, która będzie wektorem odpowiedzi, zawierającym klasę docelową"
   ]
  },
  {
   "cell_type": "code",
   "execution_count": 22,
   "metadata": {
    "ExecuteTime": {
     "end_time": "2019-03-01T07:33:28.575016Z",
     "start_time": "2019-03-01T07:33:28.570029Z"
    }
   },
   "outputs": [],
   "source": [
    "X = iris. ...\n",
    "y = iris. ..."
   ]
  },
  {
   "cell_type": "code",
   "execution_count": 23,
   "metadata": {
    "ExecuteTime": {
     "end_time": "2019-03-01T07:33:30.739325Z",
     "start_time": "2019-03-01T07:33:30.731345Z"
    }
   },
   "outputs": [
    {
     "name": "stdout",
     "output_type": "stream",
     "text": [
      "   sepal_length  sepal_width  petal_length  petal_width\n",
      "0           5.1          3.5           1.4          0.2\n",
      "1           4.9          3.0           1.4          0.2\n",
      "2           4.7          3.2           1.3          0.2\n",
      "3           4.6          3.1           1.5          0.2\n",
      "4           5.0          3.6           1.4          0.2\n",
      "0    setosa\n",
      "1    setosa\n",
      "2    setosa\n",
      "3    setosa\n",
      "4    setosa\n",
      "Name: species, dtype: object\n"
     ]
    }
   ],
   "source": [
    "print(X.head())\n",
    "print(y.head())"
   ]
  },
  {
   "cell_type": "markdown",
   "metadata": {},
   "source": [
    "20% danych będzie przeznaczone do testowania, reszta - na trening"
   ]
  },
  {
   "cell_type": "code",
   "execution_count": 24,
   "metadata": {
    "ExecuteTime": {
     "end_time": "2019-03-01T07:33:31.600173Z",
     "start_time": "2019-03-01T07:33:31.594190Z"
    }
   },
   "outputs": [],
   "source": [
    "TEST_FRACTION = 0.2\n",
    "RANDOM_STATE = 123\n",
    "\n",
    "X_train, X_test, y_train, y_test = train_test_split( ... )"
   ]
  },
  {
   "cell_type": "code",
   "execution_count": 25,
   "metadata": {
    "ExecuteTime": {
     "end_time": "2019-03-01T07:33:31.855528Z",
     "start_time": "2019-03-01T07:33:31.851570Z"
    }
   },
   "outputs": [
    {
     "name": "stdout",
     "output_type": "stream",
     "text": [
      "(120, 4)\n",
      "(30, 4)\n"
     ]
    }
   ],
   "source": [
    "print(X_train.shape)\n",
    "print(X_test.shape)"
   ]
  },
  {
   "cell_type": "markdown",
   "metadata": {},
   "source": [
    "# Szkolenie modelu"
   ]
  },
  {
   "cell_type": "markdown",
   "metadata": {},
   "source": [
    "## Stwórzymy podstawowy model KNN\n",
    "\n",
    "Teraz możemy utworzyć podstawowy model KNN - *K-nearest neighbors classifier* używając implementacji z Sklearn'a.\n",
    "\n",
    "Na początku będziemy używać DOMYŚLNYCH PARAMETRÓW\n",
    "\n",
    "\n",
    "* Najpierw - importujemy model z biblioteki\n",
    "* Potem tworzymy **instancję** klasy - czyli konkretny egzemplarz abstrakcyjnego algorytmu - obiekt\n",
    "* Po trzecie - używamy funkcji **fit**, która dopasuje go do danych. Do funkcji przekazujemy **X_train, y_train**, jako materiał do nauki"
   ]
  },
  {
   "cell_type": "code",
   "execution_count": 26,
   "metadata": {
    "ExecuteTime": {
     "end_time": "2019-03-01T07:33:44.364638Z",
     "start_time": "2019-03-01T07:33:44.357656Z"
    }
   },
   "outputs": [
    {
     "data": {
      "text/plain": [
       "KNeighborsClassifier(algorithm='auto', leaf_size=30, metric='minkowski',\n",
       "           metric_params=None, n_jobs=None, n_neighbors=5, p=2,\n",
       "           weights='uniform')"
      ]
     },
     "execution_count": 26,
     "metadata": {},
     "output_type": "execute_result"
    }
   ],
   "source": [
    "from sklearn.neighbors import KNeighborsClassifier\n",
    "\n",
    "neigh = KNeighborsClassifier()\n",
    "neigh.fit( ... )"
   ]
  },
  {
   "cell_type": "code",
   "execution_count": 27,
   "metadata": {
    "ExecuteTime": {
     "end_time": "2019-03-01T07:33:44.862231Z",
     "start_time": "2019-03-01T07:33:44.858237Z"
    }
   },
   "outputs": [
    {
     "name": "stdout",
     "output_type": "stream",
     "text": [
      "KNeighborsClassifier(algorithm='auto', leaf_size=30, metric='minkowski',\n",
      "           metric_params=None, n_jobs=None, n_neighbors=5, p=2,\n",
      "           weights='uniform')\n"
     ]
    }
   ],
   "source": [
    "print(neigh)"
   ]
  },
  {
   "cell_type": "markdown",
   "metadata": {},
   "source": [
    "Teraz możemy dokonać predykcji za pomocą algorytmu na danych testowych. W tym celu wykonujemy funkcję\n",
    "\n",
    "```{python}\n",
    "\n",
    "knn.predict( .... )\n",
    "\n",
    "```"
   ]
  },
  {
   "cell_type": "code",
   "execution_count": 28,
   "metadata": {
    "ExecuteTime": {
     "end_time": "2019-03-01T07:33:45.712480Z",
     "start_time": "2019-03-01T07:33:45.706496Z"
    }
   },
   "outputs": [],
   "source": [
    "predictions = neigh.predict( ... )"
   ]
  },
  {
   "cell_type": "code",
   "execution_count": 30,
   "metadata": {
    "ExecuteTime": {
     "end_time": "2019-03-01T07:34:25.056234Z",
     "start_time": "2019-03-01T07:34:25.043270Z"
    }
   },
   "outputs": [
    {
     "data": {
      "text/html": [
       "<div>\n",
       "<style scoped>\n",
       "    .dataframe tbody tr th:only-of-type {\n",
       "        vertical-align: middle;\n",
       "    }\n",
       "\n",
       "    .dataframe tbody tr th {\n",
       "        vertical-align: top;\n",
       "    }\n",
       "\n",
       "    .dataframe thead th {\n",
       "        text-align: right;\n",
       "    }\n",
       "</style>\n",
       "<table border=\"1\" class=\"dataframe\">\n",
       "  <thead>\n",
       "    <tr style=\"text-align: right;\">\n",
       "      <th></th>\n",
       "      <th>prawdziwe</th>\n",
       "      <th>przewidziane</th>\n",
       "    </tr>\n",
       "  </thead>\n",
       "  <tbody>\n",
       "    <tr>\n",
       "      <th>72</th>\n",
       "      <td>versicolor</td>\n",
       "      <td>virginica</td>\n",
       "    </tr>\n",
       "    <tr>\n",
       "      <th>112</th>\n",
       "      <td>virginica</td>\n",
       "      <td>virginica</td>\n",
       "    </tr>\n",
       "    <tr>\n",
       "      <th>132</th>\n",
       "      <td>virginica</td>\n",
       "      <td>virginica</td>\n",
       "    </tr>\n",
       "    <tr>\n",
       "      <th>88</th>\n",
       "      <td>versicolor</td>\n",
       "      <td>versicolor</td>\n",
       "    </tr>\n",
       "    <tr>\n",
       "      <th>37</th>\n",
       "      <td>setosa</td>\n",
       "      <td>setosa</td>\n",
       "    </tr>\n",
       "    <tr>\n",
       "      <th>138</th>\n",
       "      <td>virginica</td>\n",
       "      <td>virginica</td>\n",
       "    </tr>\n",
       "    <tr>\n",
       "      <th>87</th>\n",
       "      <td>versicolor</td>\n",
       "      <td>versicolor</td>\n",
       "    </tr>\n",
       "    <tr>\n",
       "      <th>42</th>\n",
       "      <td>setosa</td>\n",
       "      <td>setosa</td>\n",
       "    </tr>\n",
       "    <tr>\n",
       "      <th>8</th>\n",
       "      <td>setosa</td>\n",
       "      <td>setosa</td>\n",
       "    </tr>\n",
       "    <tr>\n",
       "      <th>90</th>\n",
       "      <td>versicolor</td>\n",
       "      <td>versicolor</td>\n",
       "    </tr>\n",
       "    <tr>\n",
       "      <th>141</th>\n",
       "      <td>virginica</td>\n",
       "      <td>virginica</td>\n",
       "    </tr>\n",
       "    <tr>\n",
       "      <th>33</th>\n",
       "      <td>setosa</td>\n",
       "      <td>setosa</td>\n",
       "    </tr>\n",
       "    <tr>\n",
       "      <th>59</th>\n",
       "      <td>versicolor</td>\n",
       "      <td>versicolor</td>\n",
       "    </tr>\n",
       "    <tr>\n",
       "      <th>116</th>\n",
       "      <td>virginica</td>\n",
       "      <td>virginica</td>\n",
       "    </tr>\n",
       "    <tr>\n",
       "      <th>135</th>\n",
       "      <td>virginica</td>\n",
       "      <td>virginica</td>\n",
       "    </tr>\n",
       "    <tr>\n",
       "      <th>104</th>\n",
       "      <td>virginica</td>\n",
       "      <td>virginica</td>\n",
       "    </tr>\n",
       "    <tr>\n",
       "      <th>36</th>\n",
       "      <td>setosa</td>\n",
       "      <td>setosa</td>\n",
       "    </tr>\n",
       "    <tr>\n",
       "      <th>13</th>\n",
       "      <td>setosa</td>\n",
       "      <td>setosa</td>\n",
       "    </tr>\n",
       "    <tr>\n",
       "      <th>63</th>\n",
       "      <td>versicolor</td>\n",
       "      <td>versicolor</td>\n",
       "    </tr>\n",
       "    <tr>\n",
       "      <th>45</th>\n",
       "      <td>setosa</td>\n",
       "      <td>setosa</td>\n",
       "    </tr>\n",
       "    <tr>\n",
       "      <th>28</th>\n",
       "      <td>setosa</td>\n",
       "      <td>setosa</td>\n",
       "    </tr>\n",
       "    <tr>\n",
       "      <th>133</th>\n",
       "      <td>virginica</td>\n",
       "      <td>virginica</td>\n",
       "    </tr>\n",
       "    <tr>\n",
       "      <th>24</th>\n",
       "      <td>setosa</td>\n",
       "      <td>setosa</td>\n",
       "    </tr>\n",
       "    <tr>\n",
       "      <th>127</th>\n",
       "      <td>virginica</td>\n",
       "      <td>virginica</td>\n",
       "    </tr>\n",
       "    <tr>\n",
       "      <th>46</th>\n",
       "      <td>setosa</td>\n",
       "      <td>setosa</td>\n",
       "    </tr>\n",
       "    <tr>\n",
       "      <th>20</th>\n",
       "      <td>setosa</td>\n",
       "      <td>setosa</td>\n",
       "    </tr>\n",
       "    <tr>\n",
       "      <th>31</th>\n",
       "      <td>setosa</td>\n",
       "      <td>setosa</td>\n",
       "    </tr>\n",
       "    <tr>\n",
       "      <th>121</th>\n",
       "      <td>virginica</td>\n",
       "      <td>virginica</td>\n",
       "    </tr>\n",
       "    <tr>\n",
       "      <th>117</th>\n",
       "      <td>virginica</td>\n",
       "      <td>virginica</td>\n",
       "    </tr>\n",
       "    <tr>\n",
       "      <th>4</th>\n",
       "      <td>setosa</td>\n",
       "      <td>setosa</td>\n",
       "    </tr>\n",
       "  </tbody>\n",
       "</table>\n",
       "</div>"
      ],
      "text/plain": [
       "      prawdziwe przewidziane\n",
       "72   versicolor    virginica\n",
       "112   virginica    virginica\n",
       "132   virginica    virginica\n",
       "88   versicolor   versicolor\n",
       "37       setosa       setosa\n",
       "138   virginica    virginica\n",
       "87   versicolor   versicolor\n",
       "42       setosa       setosa\n",
       "8        setosa       setosa\n",
       "90   versicolor   versicolor\n",
       "141   virginica    virginica\n",
       "33       setosa       setosa\n",
       "59   versicolor   versicolor\n",
       "116   virginica    virginica\n",
       "135   virginica    virginica\n",
       "104   virginica    virginica\n",
       "36       setosa       setosa\n",
       "13       setosa       setosa\n",
       "63   versicolor   versicolor\n",
       "45       setosa       setosa\n",
       "28       setosa       setosa\n",
       "133   virginica    virginica\n",
       "24       setosa       setosa\n",
       "127   virginica    virginica\n",
       "46       setosa       setosa\n",
       "20       setosa       setosa\n",
       "31       setosa       setosa\n",
       "121   virginica    virginica\n",
       "117   virginica    virginica\n",
       "4        setosa       setosa"
      ]
     },
     "execution_count": 30,
     "metadata": {},
     "output_type": "execute_result"
    }
   ],
   "source": [
    "expected_actual = pd.DataFrame({'prawdziwe': y_test, 'przewidziane': predictions})\n",
    "expected_actual"
   ]
  },
  {
   "cell_type": "markdown",
   "metadata": {},
   "source": [
    "Teraz możemy policzyć trafność. Jest to odsetek poprawnych klasfikacji w całym zbiorze.\n",
    "\n",
    "Każda metryka w Pythonie działa tak samo. Przekazujemy jej wartości oczekiwane i wartości przewidziane:\n",
    "\n",
    "```{python}\n",
    "\n",
    "metric(y_true=...., y_test=...)\n",
    "\n",
    "\n",
    "```"
   ]
  },
  {
   "cell_type": "code",
   "execution_count": 33,
   "metadata": {
    "ExecuteTime": {
     "end_time": "2019-03-01T07:36:22.948591Z",
     "start_time": "2019-03-01T07:36:22.939615Z"
    }
   },
   "outputs": [
    {
     "data": {
      "text/plain": [
       "0.9666666666666667"
      ]
     },
     "execution_count": 33,
     "metadata": {},
     "output_type": "execute_result"
    }
   ],
   "source": [
    "metrics.accuracy_score(  ...  )"
   ]
  },
  {
   "cell_type": "markdown",
   "metadata": {},
   "source": [
    "W zbiorze danych mamy 3 różne gatunki irysa. Trafność to miara **średnia**. Zobaczmy jak wygląda ogólna metryka dla całej klasyfikacji. Służy do tego funkcja **classification_report**"
   ]
  },
  {
   "cell_type": "code",
   "execution_count": 35,
   "metadata": {
    "ExecuteTime": {
     "end_time": "2019-03-01T07:37:55.883548Z",
     "start_time": "2019-03-01T07:37:55.876567Z"
    }
   },
   "outputs": [
    {
     "name": "stdout",
     "output_type": "stream",
     "text": [
      "              precision    recall  f1-score   support\n",
      "\n",
      "      setosa       1.00      1.00      1.00        13\n",
      "  versicolor       1.00      0.83      0.91         6\n",
      "   virginica       0.92      1.00      0.96        11\n",
      "\n",
      "   micro avg       0.97      0.97      0.97        30\n",
      "   macro avg       0.97      0.94      0.96        30\n",
      "weighted avg       0.97      0.97      0.97        30\n",
      "\n"
     ]
    }
   ],
   "source": [
    "print(metrics.classification_report( ... ))"
   ]
  },
  {
   "cell_type": "markdown",
   "metadata": {},
   "source": [
    "## Poszukiwanie najlepszych parametrów dla modelu z wykorzystaniem funkcji Grid Search\n",
    "\n",
    "Osiągnęliśmy bardzo dobry wynik z klasyfikatorem na domyślnych parametrach. Możemy spróbować z innymi ustawieniami. Zazwyczaj jednak parametrów jest dużo i istnieje bardzo wiele kombinacji. Z tego względu istnieje półautomatyczna metoda poszukiwania najlepszych paramterów - **Grid Search** która przeszukuje \"najbardziej obiecujące\" zestawy. \n",
    "\n",
    "Grid search działa w sposób następujący:\n",
    "\n",
    "* Przyjmuje jako parametr obiekt algorytmu oraz siatkę parametrów do przeszukania\n",
    "* Podejmemy mu dodatkowe ustawienia jak np. liczba iteracji, etc.\n",
    "* Podaejmy strategię przeszukiwania parametrów - kompletnie losowa/z użyciem optymalizacji/ genetyczna/ etc.\n",
    "\n"
   ]
  },
  {
   "cell_type": "code",
   "execution_count": 36,
   "metadata": {
    "ExecuteTime": {
     "end_time": "2019-03-01T07:45:04.320914Z",
     "start_time": "2019-03-01T07:45:04.316926Z"
    }
   },
   "outputs": [],
   "source": [
    "from sklearn.model_selection import GridSearchCV"
   ]
  },
  {
   "cell_type": "markdown",
   "metadata": {},
   "source": [
    "Teraz ustawiamy parametry do przeszukania."
   ]
  },
  {
   "cell_type": "code",
   "execution_count": 39,
   "metadata": {
    "ExecuteTime": {
     "end_time": "2019-03-01T09:00:41.131142Z",
     "start_time": "2019-03-01T09:00:41.125158Z"
    }
   },
   "outputs": [],
   "source": [
    "parameters = {\n",
    "    \n",
    "    # Liczba sąsiadów w algorytmie KNN\n",
    "    'n_neighbors': [1, 2, 3, 4], \n",
    "    \n",
    "    # Czy każdy sąsiad ma ważyć tyle samo, czy np. \n",
    "    # być oceniany pod kątem odległości?\n",
    "    'weights': ['uniform', 'distance'],\n",
    "    \n",
    "    # Typ metryki odległości. Albo dystans\n",
    "    # euklidesowy, albo uogólniona metryka Minskoswkiego\n",
    "    'metric': ['minkowski', 'euclidean']\n",
    "\n",
    "}"
   ]
  },
  {
   "cell_type": "markdown",
   "metadata": {},
   "source": [
    "Teraz możemy utworzyć obiekt przeszukiwania paramterów, który **szkolimy jak klasyfikator**"
   ]
  },
  {
   "cell_type": "code",
   "execution_count": 40,
   "metadata": {
    "ExecuteTime": {
     "end_time": "2019-03-01T09:00:42.458899Z",
     "start_time": "2019-03-01T09:00:42.180643Z"
    }
   },
   "outputs": [
    {
     "name": "stderr",
     "output_type": "stream",
     "text": [
      "C:\\Users\\fwojcik\\AppData\\Local\\Continuum\\anaconda3\\lib\\site-packages\\sklearn\\model_selection\\_split.py:2053: FutureWarning: You should specify a value for 'cv' instead of relying on the default value. The default value will change from 3 to 5 in version 0.22.\n",
      "  warnings.warn(CV_WARNING, FutureWarning)\n",
      "C:\\Users\\fwojcik\\AppData\\Local\\Continuum\\anaconda3\\lib\\site-packages\\sklearn\\model_selection\\_search.py:841: DeprecationWarning: The default of the `iid` parameter will change from True to False in version 0.22 and will be removed in 0.24. This will change numeric results when test-set sizes are unequal.\n",
      "  DeprecationWarning)\n"
     ]
    },
    {
     "data": {
      "text/plain": [
       "GridSearchCV(cv='warn', error_score='raise-deprecating',\n",
       "       estimator=KNeighborsClassifier(algorithm='auto', leaf_size=30, metric='minkowski',\n",
       "           metric_params=None, n_jobs=None, n_neighbors=5, p=2,\n",
       "           weights='uniform'),\n",
       "       fit_params=None, iid='warn', n_jobs=None,\n",
       "       param_grid={'n_neighbors': [1, 2, 3, 4], 'weights': ['uniform', 'distance'], 'metric': ['minkowski', 'euclidean']},\n",
       "       pre_dispatch='2*n_jobs', refit=True, return_train_score='warn',\n",
       "       scoring=None, verbose=0)"
      ]
     },
     "execution_count": 40,
     "metadata": {},
     "output_type": "execute_result"
    }
   ],
   "source": [
    "knn = KNeighborsClassifier()\n",
    "clf = GridSearchCV( ... )\n",
    "clf.fit( ... )"
   ]
  },
  {
   "cell_type": "markdown",
   "metadata": {},
   "source": [
    "Możemy teraz sprawdzić wyniki każej walidacji krzyżowej z osobna, tak samo jak najlepsze zestawy parametrów:"
   ]
  },
  {
   "cell_type": "code",
   "execution_count": 42,
   "metadata": {
    "ExecuteTime": {
     "end_time": "2019-03-01T09:04:13.344906Z",
     "start_time": "2019-03-01T09:04:13.300990Z"
    }
   },
   "outputs": [
    {
     "name": "stderr",
     "output_type": "stream",
     "text": [
      "C:\\Users\\fwojcik\\AppData\\Local\\Continuum\\anaconda3\\lib\\site-packages\\sklearn\\utils\\deprecation.py:125: FutureWarning: You are accessing a training score ('mean_train_score'), which will not be available by default any more in 0.21. If you need training scores, please set return_train_score=True\n",
      "  warnings.warn(*warn_args, **warn_kwargs)\n",
      "C:\\Users\\fwojcik\\AppData\\Local\\Continuum\\anaconda3\\lib\\site-packages\\sklearn\\utils\\deprecation.py:125: FutureWarning: You are accessing a training score ('split0_train_score'), which will not be available by default any more in 0.21. If you need training scores, please set return_train_score=True\n",
      "  warnings.warn(*warn_args, **warn_kwargs)\n",
      "C:\\Users\\fwojcik\\AppData\\Local\\Continuum\\anaconda3\\lib\\site-packages\\sklearn\\utils\\deprecation.py:125: FutureWarning: You are accessing a training score ('split1_train_score'), which will not be available by default any more in 0.21. If you need training scores, please set return_train_score=True\n",
      "  warnings.warn(*warn_args, **warn_kwargs)\n",
      "C:\\Users\\fwojcik\\AppData\\Local\\Continuum\\anaconda3\\lib\\site-packages\\sklearn\\utils\\deprecation.py:125: FutureWarning: You are accessing a training score ('split2_train_score'), which will not be available by default any more in 0.21. If you need training scores, please set return_train_score=True\n",
      "  warnings.warn(*warn_args, **warn_kwargs)\n",
      "C:\\Users\\fwojcik\\AppData\\Local\\Continuum\\anaconda3\\lib\\site-packages\\sklearn\\utils\\deprecation.py:125: FutureWarning: You are accessing a training score ('std_train_score'), which will not be available by default any more in 0.21. If you need training scores, please set return_train_score=True\n",
      "  warnings.warn(*warn_args, **warn_kwargs)\n"
     ]
    },
    {
     "data": {
      "text/html": [
       "<div>\n",
       "<style scoped>\n",
       "    .dataframe tbody tr th:only-of-type {\n",
       "        vertical-align: middle;\n",
       "    }\n",
       "\n",
       "    .dataframe tbody tr th {\n",
       "        vertical-align: top;\n",
       "    }\n",
       "\n",
       "    .dataframe thead th {\n",
       "        text-align: right;\n",
       "    }\n",
       "</style>\n",
       "<table border=\"1\" class=\"dataframe\">\n",
       "  <thead>\n",
       "    <tr style=\"text-align: right;\">\n",
       "      <th></th>\n",
       "      <th>mean_fit_time</th>\n",
       "      <th>mean_score_time</th>\n",
       "      <th>mean_test_score</th>\n",
       "      <th>mean_train_score</th>\n",
       "      <th>param_metric</th>\n",
       "      <th>param_n_neighbors</th>\n",
       "      <th>param_weights</th>\n",
       "      <th>params</th>\n",
       "      <th>rank_test_score</th>\n",
       "      <th>split0_test_score</th>\n",
       "      <th>split0_train_score</th>\n",
       "      <th>split1_test_score</th>\n",
       "      <th>split1_train_score</th>\n",
       "      <th>split2_test_score</th>\n",
       "      <th>split2_train_score</th>\n",
       "      <th>std_fit_time</th>\n",
       "      <th>std_score_time</th>\n",
       "      <th>std_test_score</th>\n",
       "      <th>std_train_score</th>\n",
       "    </tr>\n",
       "  </thead>\n",
       "  <tbody>\n",
       "    <tr>\n",
       "      <th>0</th>\n",
       "      <td>0.001667</td>\n",
       "      <td>0.001662</td>\n",
       "      <td>0.966667</td>\n",
       "      <td>1.000000</td>\n",
       "      <td>minkowski</td>\n",
       "      <td>1</td>\n",
       "      <td>uniform</td>\n",
       "      <td>{'metric': 'minkowski', 'n_neighbors': 1, 'wei...</td>\n",
       "      <td>1</td>\n",
       "      <td>0.97561</td>\n",
       "      <td>1.000000</td>\n",
       "      <td>1.000</td>\n",
       "      <td>1.0000</td>\n",
       "      <td>0.923077</td>\n",
       "      <td>1.0</td>\n",
       "      <td>0.000474</td>\n",
       "      <td>0.000470</td>\n",
       "      <td>0.031862</td>\n",
       "      <td>0.000000</td>\n",
       "    </tr>\n",
       "    <tr>\n",
       "      <th>1</th>\n",
       "      <td>0.001662</td>\n",
       "      <td>0.002327</td>\n",
       "      <td>0.966667</td>\n",
       "      <td>1.000000</td>\n",
       "      <td>minkowski</td>\n",
       "      <td>1</td>\n",
       "      <td>distance</td>\n",
       "      <td>{'metric': 'minkowski', 'n_neighbors': 1, 'wei...</td>\n",
       "      <td>1</td>\n",
       "      <td>0.97561</td>\n",
       "      <td>1.000000</td>\n",
       "      <td>1.000</td>\n",
       "      <td>1.0000</td>\n",
       "      <td>0.923077</td>\n",
       "      <td>1.0</td>\n",
       "      <td>0.000941</td>\n",
       "      <td>0.000470</td>\n",
       "      <td>0.031862</td>\n",
       "      <td>0.000000</td>\n",
       "    </tr>\n",
       "    <tr>\n",
       "      <th>2</th>\n",
       "      <td>0.001990</td>\n",
       "      <td>0.001995</td>\n",
       "      <td>0.950000</td>\n",
       "      <td>0.974789</td>\n",
       "      <td>minkowski</td>\n",
       "      <td>2</td>\n",
       "      <td>uniform</td>\n",
       "      <td>{'metric': 'minkowski', 'n_neighbors': 2, 'wei...</td>\n",
       "      <td>11</td>\n",
       "      <td>0.95122</td>\n",
       "      <td>0.949367</td>\n",
       "      <td>0.975</td>\n",
       "      <td>0.9750</td>\n",
       "      <td>0.923077</td>\n",
       "      <td>1.0</td>\n",
       "      <td>0.000003</td>\n",
       "      <td>0.000814</td>\n",
       "      <td>0.021081</td>\n",
       "      <td>0.020671</td>\n",
       "    </tr>\n",
       "    <tr>\n",
       "      <th>3</th>\n",
       "      <td>0.001340</td>\n",
       "      <td>0.001345</td>\n",
       "      <td>0.966667</td>\n",
       "      <td>1.000000</td>\n",
       "      <td>minkowski</td>\n",
       "      <td>2</td>\n",
       "      <td>distance</td>\n",
       "      <td>{'metric': 'minkowski', 'n_neighbors': 2, 'wei...</td>\n",
       "      <td>1</td>\n",
       "      <td>0.97561</td>\n",
       "      <td>1.000000</td>\n",
       "      <td>1.000</td>\n",
       "      <td>1.0000</td>\n",
       "      <td>0.923077</td>\n",
       "      <td>1.0</td>\n",
       "      <td>0.000462</td>\n",
       "      <td>0.000480</td>\n",
       "      <td>0.031862</td>\n",
       "      <td>0.000000</td>\n",
       "    </tr>\n",
       "    <tr>\n",
       "      <th>4</th>\n",
       "      <td>0.001320</td>\n",
       "      <td>0.001328</td>\n",
       "      <td>0.950000</td>\n",
       "      <td>0.974842</td>\n",
       "      <td>minkowski</td>\n",
       "      <td>3</td>\n",
       "      <td>uniform</td>\n",
       "      <td>{'metric': 'minkowski', 'n_neighbors': 3, 'wei...</td>\n",
       "      <td>11</td>\n",
       "      <td>0.97561</td>\n",
       "      <td>0.962025</td>\n",
       "      <td>0.975</td>\n",
       "      <td>0.9625</td>\n",
       "      <td>0.897436</td>\n",
       "      <td>1.0</td>\n",
       "      <td>0.000478</td>\n",
       "      <td>0.000473</td>\n",
       "      <td>0.036474</td>\n",
       "      <td>0.017791</td>\n",
       "    </tr>\n",
       "    <tr>\n",
       "      <th>5</th>\n",
       "      <td>0.001661</td>\n",
       "      <td>0.001320</td>\n",
       "      <td>0.958333</td>\n",
       "      <td>1.000000</td>\n",
       "      <td>minkowski</td>\n",
       "      <td>3</td>\n",
       "      <td>distance</td>\n",
       "      <td>{'metric': 'minkowski', 'n_neighbors': 3, 'wei...</td>\n",
       "      <td>7</td>\n",
       "      <td>0.97561</td>\n",
       "      <td>1.000000</td>\n",
       "      <td>0.975</td>\n",
       "      <td>1.0000</td>\n",
       "      <td>0.923077</td>\n",
       "      <td>1.0</td>\n",
       "      <td>0.000470</td>\n",
       "      <td>0.000457</td>\n",
       "      <td>0.024465</td>\n",
       "      <td>0.000000</td>\n",
       "    </tr>\n",
       "    <tr>\n",
       "      <th>6</th>\n",
       "      <td>0.001997</td>\n",
       "      <td>0.000986</td>\n",
       "      <td>0.950000</td>\n",
       "      <td>0.970675</td>\n",
       "      <td>minkowski</td>\n",
       "      <td>4</td>\n",
       "      <td>uniform</td>\n",
       "      <td>{'metric': 'minkowski', 'n_neighbors': 4, 'wei...</td>\n",
       "      <td>11</td>\n",
       "      <td>0.97561</td>\n",
       "      <td>0.962025</td>\n",
       "      <td>0.975</td>\n",
       "      <td>0.9500</td>\n",
       "      <td>0.897436</td>\n",
       "      <td>1.0</td>\n",
       "      <td>0.000828</td>\n",
       "      <td>0.000017</td>\n",
       "      <td>0.036474</td>\n",
       "      <td>0.021309</td>\n",
       "    </tr>\n",
       "    <tr>\n",
       "      <th>7</th>\n",
       "      <td>0.001653</td>\n",
       "      <td>0.001664</td>\n",
       "      <td>0.958333</td>\n",
       "      <td>1.000000</td>\n",
       "      <td>minkowski</td>\n",
       "      <td>4</td>\n",
       "      <td>distance</td>\n",
       "      <td>{'metric': 'minkowski', 'n_neighbors': 4, 'wei...</td>\n",
       "      <td>7</td>\n",
       "      <td>0.97561</td>\n",
       "      <td>1.000000</td>\n",
       "      <td>0.975</td>\n",
       "      <td>1.0000</td>\n",
       "      <td>0.923077</td>\n",
       "      <td>1.0</td>\n",
       "      <td>0.000464</td>\n",
       "      <td>0.000942</td>\n",
       "      <td>0.024465</td>\n",
       "      <td>0.000000</td>\n",
       "    </tr>\n",
       "    <tr>\n",
       "      <th>8</th>\n",
       "      <td>0.001326</td>\n",
       "      <td>0.001683</td>\n",
       "      <td>0.966667</td>\n",
       "      <td>1.000000</td>\n",
       "      <td>euclidean</td>\n",
       "      <td>1</td>\n",
       "      <td>uniform</td>\n",
       "      <td>{'metric': 'euclidean', 'n_neighbors': 1, 'wei...</td>\n",
       "      <td>1</td>\n",
       "      <td>0.97561</td>\n",
       "      <td>1.000000</td>\n",
       "      <td>1.000</td>\n",
       "      <td>1.0000</td>\n",
       "      <td>0.923077</td>\n",
       "      <td>1.0</td>\n",
       "      <td>0.000473</td>\n",
       "      <td>0.000443</td>\n",
       "      <td>0.031862</td>\n",
       "      <td>0.000000</td>\n",
       "    </tr>\n",
       "    <tr>\n",
       "      <th>9</th>\n",
       "      <td>0.002320</td>\n",
       "      <td>0.001016</td>\n",
       "      <td>0.966667</td>\n",
       "      <td>1.000000</td>\n",
       "      <td>euclidean</td>\n",
       "      <td>1</td>\n",
       "      <td>distance</td>\n",
       "      <td>{'metric': 'euclidean', 'n_neighbors': 1, 'wei...</td>\n",
       "      <td>1</td>\n",
       "      <td>0.97561</td>\n",
       "      <td>1.000000</td>\n",
       "      <td>1.000</td>\n",
       "      <td>1.0000</td>\n",
       "      <td>0.923077</td>\n",
       "      <td>1.0</td>\n",
       "      <td>0.001257</td>\n",
       "      <td>0.000013</td>\n",
       "      <td>0.031862</td>\n",
       "      <td>0.000000</td>\n",
       "    </tr>\n",
       "    <tr>\n",
       "      <th>10</th>\n",
       "      <td>0.001339</td>\n",
       "      <td>0.001671</td>\n",
       "      <td>0.950000</td>\n",
       "      <td>0.974789</td>\n",
       "      <td>euclidean</td>\n",
       "      <td>2</td>\n",
       "      <td>uniform</td>\n",
       "      <td>{'metric': 'euclidean', 'n_neighbors': 2, 'wei...</td>\n",
       "      <td>11</td>\n",
       "      <td>0.95122</td>\n",
       "      <td>0.949367</td>\n",
       "      <td>0.975</td>\n",
       "      <td>0.9750</td>\n",
       "      <td>0.923077</td>\n",
       "      <td>1.0</td>\n",
       "      <td>0.000484</td>\n",
       "      <td>0.000938</td>\n",
       "      <td>0.021081</td>\n",
       "      <td>0.020671</td>\n",
       "    </tr>\n",
       "    <tr>\n",
       "      <th>11</th>\n",
       "      <td>0.001694</td>\n",
       "      <td>0.001652</td>\n",
       "      <td>0.966667</td>\n",
       "      <td>1.000000</td>\n",
       "      <td>euclidean</td>\n",
       "      <td>2</td>\n",
       "      <td>distance</td>\n",
       "      <td>{'metric': 'euclidean', 'n_neighbors': 2, 'wei...</td>\n",
       "      <td>1</td>\n",
       "      <td>0.97561</td>\n",
       "      <td>1.000000</td>\n",
       "      <td>1.000</td>\n",
       "      <td>1.0000</td>\n",
       "      <td>0.923077</td>\n",
       "      <td>1.0</td>\n",
       "      <td>0.000468</td>\n",
       "      <td>0.000462</td>\n",
       "      <td>0.031862</td>\n",
       "      <td>0.000000</td>\n",
       "    </tr>\n",
       "    <tr>\n",
       "      <th>12</th>\n",
       "      <td>0.002004</td>\n",
       "      <td>0.001011</td>\n",
       "      <td>0.950000</td>\n",
       "      <td>0.974842</td>\n",
       "      <td>euclidean</td>\n",
       "      <td>3</td>\n",
       "      <td>uniform</td>\n",
       "      <td>{'metric': 'euclidean', 'n_neighbors': 3, 'wei...</td>\n",
       "      <td>11</td>\n",
       "      <td>0.97561</td>\n",
       "      <td>0.962025</td>\n",
       "      <td>0.975</td>\n",
       "      <td>0.9625</td>\n",
       "      <td>0.897436</td>\n",
       "      <td>1.0</td>\n",
       "      <td>0.000825</td>\n",
       "      <td>0.000018</td>\n",
       "      <td>0.036474</td>\n",
       "      <td>0.017791</td>\n",
       "    </tr>\n",
       "    <tr>\n",
       "      <th>13</th>\n",
       "      <td>0.001662</td>\n",
       "      <td>0.001318</td>\n",
       "      <td>0.958333</td>\n",
       "      <td>1.000000</td>\n",
       "      <td>euclidean</td>\n",
       "      <td>3</td>\n",
       "      <td>distance</td>\n",
       "      <td>{'metric': 'euclidean', 'n_neighbors': 3, 'wei...</td>\n",
       "      <td>7</td>\n",
       "      <td>0.97561</td>\n",
       "      <td>1.000000</td>\n",
       "      <td>0.975</td>\n",
       "      <td>1.0000</td>\n",
       "      <td>0.923077</td>\n",
       "      <td>1.0</td>\n",
       "      <td>0.000496</td>\n",
       "      <td>0.000478</td>\n",
       "      <td>0.024465</td>\n",
       "      <td>0.000000</td>\n",
       "    </tr>\n",
       "    <tr>\n",
       "      <th>14</th>\n",
       "      <td>0.001341</td>\n",
       "      <td>0.001670</td>\n",
       "      <td>0.950000</td>\n",
       "      <td>0.970675</td>\n",
       "      <td>euclidean</td>\n",
       "      <td>4</td>\n",
       "      <td>uniform</td>\n",
       "      <td>{'metric': 'euclidean', 'n_neighbors': 4, 'wei...</td>\n",
       "      <td>11</td>\n",
       "      <td>0.97561</td>\n",
       "      <td>0.962025</td>\n",
       "      <td>0.975</td>\n",
       "      <td>0.9500</td>\n",
       "      <td>0.897436</td>\n",
       "      <td>1.0</td>\n",
       "      <td>0.000463</td>\n",
       "      <td>0.000460</td>\n",
       "      <td>0.036474</td>\n",
       "      <td>0.021309</td>\n",
       "    </tr>\n",
       "    <tr>\n",
       "      <th>15</th>\n",
       "      <td>0.001995</td>\n",
       "      <td>0.001994</td>\n",
       "      <td>0.958333</td>\n",
       "      <td>1.000000</td>\n",
       "      <td>euclidean</td>\n",
       "      <td>4</td>\n",
       "      <td>distance</td>\n",
       "      <td>{'metric': 'euclidean', 'n_neighbors': 4, 'wei...</td>\n",
       "      <td>7</td>\n",
       "      <td>0.97561</td>\n",
       "      <td>1.000000</td>\n",
       "      <td>0.975</td>\n",
       "      <td>1.0000</td>\n",
       "      <td>0.923077</td>\n",
       "      <td>1.0</td>\n",
       "      <td>0.000814</td>\n",
       "      <td>0.000815</td>\n",
       "      <td>0.024465</td>\n",
       "      <td>0.000000</td>\n",
       "    </tr>\n",
       "  </tbody>\n",
       "</table>\n",
       "</div>"
      ],
      "text/plain": [
       "    mean_fit_time  mean_score_time  mean_test_score  mean_train_score  \\\n",
       "0        0.001667         0.001662         0.966667          1.000000   \n",
       "1        0.001662         0.002327         0.966667          1.000000   \n",
       "2        0.001990         0.001995         0.950000          0.974789   \n",
       "3        0.001340         0.001345         0.966667          1.000000   \n",
       "4        0.001320         0.001328         0.950000          0.974842   \n",
       "5        0.001661         0.001320         0.958333          1.000000   \n",
       "6        0.001997         0.000986         0.950000          0.970675   \n",
       "7        0.001653         0.001664         0.958333          1.000000   \n",
       "8        0.001326         0.001683         0.966667          1.000000   \n",
       "9        0.002320         0.001016         0.966667          1.000000   \n",
       "10       0.001339         0.001671         0.950000          0.974789   \n",
       "11       0.001694         0.001652         0.966667          1.000000   \n",
       "12       0.002004         0.001011         0.950000          0.974842   \n",
       "13       0.001662         0.001318         0.958333          1.000000   \n",
       "14       0.001341         0.001670         0.950000          0.970675   \n",
       "15       0.001995         0.001994         0.958333          1.000000   \n",
       "\n",
       "   param_metric param_n_neighbors param_weights  \\\n",
       "0     minkowski                 1       uniform   \n",
       "1     minkowski                 1      distance   \n",
       "2     minkowski                 2       uniform   \n",
       "3     minkowski                 2      distance   \n",
       "4     minkowski                 3       uniform   \n",
       "5     minkowski                 3      distance   \n",
       "6     minkowski                 4       uniform   \n",
       "7     minkowski                 4      distance   \n",
       "8     euclidean                 1       uniform   \n",
       "9     euclidean                 1      distance   \n",
       "10    euclidean                 2       uniform   \n",
       "11    euclidean                 2      distance   \n",
       "12    euclidean                 3       uniform   \n",
       "13    euclidean                 3      distance   \n",
       "14    euclidean                 4       uniform   \n",
       "15    euclidean                 4      distance   \n",
       "\n",
       "                                               params  rank_test_score  \\\n",
       "0   {'metric': 'minkowski', 'n_neighbors': 1, 'wei...                1   \n",
       "1   {'metric': 'minkowski', 'n_neighbors': 1, 'wei...                1   \n",
       "2   {'metric': 'minkowski', 'n_neighbors': 2, 'wei...               11   \n",
       "3   {'metric': 'minkowski', 'n_neighbors': 2, 'wei...                1   \n",
       "4   {'metric': 'minkowski', 'n_neighbors': 3, 'wei...               11   \n",
       "5   {'metric': 'minkowski', 'n_neighbors': 3, 'wei...                7   \n",
       "6   {'metric': 'minkowski', 'n_neighbors': 4, 'wei...               11   \n",
       "7   {'metric': 'minkowski', 'n_neighbors': 4, 'wei...                7   \n",
       "8   {'metric': 'euclidean', 'n_neighbors': 1, 'wei...                1   \n",
       "9   {'metric': 'euclidean', 'n_neighbors': 1, 'wei...                1   \n",
       "10  {'metric': 'euclidean', 'n_neighbors': 2, 'wei...               11   \n",
       "11  {'metric': 'euclidean', 'n_neighbors': 2, 'wei...                1   \n",
       "12  {'metric': 'euclidean', 'n_neighbors': 3, 'wei...               11   \n",
       "13  {'metric': 'euclidean', 'n_neighbors': 3, 'wei...                7   \n",
       "14  {'metric': 'euclidean', 'n_neighbors': 4, 'wei...               11   \n",
       "15  {'metric': 'euclidean', 'n_neighbors': 4, 'wei...                7   \n",
       "\n",
       "    split0_test_score  split0_train_score  split1_test_score  \\\n",
       "0             0.97561            1.000000              1.000   \n",
       "1             0.97561            1.000000              1.000   \n",
       "2             0.95122            0.949367              0.975   \n",
       "3             0.97561            1.000000              1.000   \n",
       "4             0.97561            0.962025              0.975   \n",
       "5             0.97561            1.000000              0.975   \n",
       "6             0.97561            0.962025              0.975   \n",
       "7             0.97561            1.000000              0.975   \n",
       "8             0.97561            1.000000              1.000   \n",
       "9             0.97561            1.000000              1.000   \n",
       "10            0.95122            0.949367              0.975   \n",
       "11            0.97561            1.000000              1.000   \n",
       "12            0.97561            0.962025              0.975   \n",
       "13            0.97561            1.000000              0.975   \n",
       "14            0.97561            0.962025              0.975   \n",
       "15            0.97561            1.000000              0.975   \n",
       "\n",
       "    split1_train_score  split2_test_score  split2_train_score  std_fit_time  \\\n",
       "0               1.0000           0.923077                 1.0      0.000474   \n",
       "1               1.0000           0.923077                 1.0      0.000941   \n",
       "2               0.9750           0.923077                 1.0      0.000003   \n",
       "3               1.0000           0.923077                 1.0      0.000462   \n",
       "4               0.9625           0.897436                 1.0      0.000478   \n",
       "5               1.0000           0.923077                 1.0      0.000470   \n",
       "6               0.9500           0.897436                 1.0      0.000828   \n",
       "7               1.0000           0.923077                 1.0      0.000464   \n",
       "8               1.0000           0.923077                 1.0      0.000473   \n",
       "9               1.0000           0.923077                 1.0      0.001257   \n",
       "10              0.9750           0.923077                 1.0      0.000484   \n",
       "11              1.0000           0.923077                 1.0      0.000468   \n",
       "12              0.9625           0.897436                 1.0      0.000825   \n",
       "13              1.0000           0.923077                 1.0      0.000496   \n",
       "14              0.9500           0.897436                 1.0      0.000463   \n",
       "15              1.0000           0.923077                 1.0      0.000814   \n",
       "\n",
       "    std_score_time  std_test_score  std_train_score  \n",
       "0         0.000470        0.031862         0.000000  \n",
       "1         0.000470        0.031862         0.000000  \n",
       "2         0.000814        0.021081         0.020671  \n",
       "3         0.000480        0.031862         0.000000  \n",
       "4         0.000473        0.036474         0.017791  \n",
       "5         0.000457        0.024465         0.000000  \n",
       "6         0.000017        0.036474         0.021309  \n",
       "7         0.000942        0.024465         0.000000  \n",
       "8         0.000443        0.031862         0.000000  \n",
       "9         0.000013        0.031862         0.000000  \n",
       "10        0.000938        0.021081         0.020671  \n",
       "11        0.000462        0.031862         0.000000  \n",
       "12        0.000018        0.036474         0.017791  \n",
       "13        0.000478        0.024465         0.000000  \n",
       "14        0.000460        0.036474         0.021309  \n",
       "15        0.000815        0.024465         0.000000  "
      ]
     },
     "execution_count": 42,
     "metadata": {},
     "output_type": "execute_result"
    }
   ],
   "source": [
    "pd.DataFrame(clf.cv_results_)"
   ]
  },
  {
   "cell_type": "markdown",
   "metadata": {},
   "source": [
    "Możemy też użyć najlepszego klasyfikatora, który został wyszkolony podczas poszukiwania parametrów."
   ]
  },
  {
   "cell_type": "code",
   "execution_count": 43,
   "metadata": {
    "ExecuteTime": {
     "end_time": "2019-03-01T09:05:32.339936Z",
     "start_time": "2019-03-01T09:05:32.332935Z"
    }
   },
   "outputs": [
    {
     "data": {
      "text/plain": [
       "0.9"
      ]
     },
     "execution_count": 43,
     "metadata": {},
     "output_type": "execute_result"
    }
   ],
   "source": [
    "# Predict using best grid search results\n",
    "predictions_grid_search = clf.predict( ... )\n",
    "\n",
    "# Print accuracy\n",
    "metrics.accuracy_score( ... )"
   ]
  }
 ],
 "metadata": {
  "kernelspec": {
   "display_name": "Python 3",
   "language": "python",
   "name": "python3"
  },
  "language_info": {
   "codemirror_mode": {
    "name": "ipython",
    "version": 3
   },
   "file_extension": ".py",
   "mimetype": "text/x-python",
   "name": "python",
   "nbconvert_exporter": "python",
   "pygments_lexer": "ipython3",
   "version": "3.6.4"
  },
  "toc": {
   "nav_menu": {},
   "number_sections": true,
   "sideBar": true,
   "skip_h1_title": false,
   "title_cell": "Table of Contents",
   "title_sidebar": "Contents",
   "toc_cell": false,
   "toc_position": {},
   "toc_section_display": true,
   "toc_window_display": true
  },
  "varInspector": {
   "cols": {
    "lenName": 16,
    "lenType": 16,
    "lenVar": 40
   },
   "kernels_config": {
    "python": {
     "delete_cmd_postfix": "",
     "delete_cmd_prefix": "del ",
     "library": "var_list.py",
     "varRefreshCmd": "print(var_dic_list())"
    },
    "r": {
     "delete_cmd_postfix": ") ",
     "delete_cmd_prefix": "rm(",
     "library": "var_list.r",
     "varRefreshCmd": "cat(var_dic_list()) "
    }
   },
   "types_to_exclude": [
    "module",
    "function",
    "builtin_function_or_method",
    "instance",
    "_Feature"
   ],
   "window_display": false
  }
 },
 "nbformat": 4,
 "nbformat_minor": 2
}
