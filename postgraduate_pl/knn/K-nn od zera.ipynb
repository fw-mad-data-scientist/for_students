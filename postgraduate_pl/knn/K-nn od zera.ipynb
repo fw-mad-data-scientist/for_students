{
 "cells": [
  {
   "cell_type": "markdown",
   "metadata": {},
   "source": [
    "# K-najbliższych-sąsiadów (K-nearest-neighbours)\n",
    "Celem ćwiczenia jest uzyskanie wiedzy o tym jak działa algorytm k-najbliższych sąsiadów. Napiszemy go od podstaw i wykorzystamy na zbiorze danych 'Iris'"
   ]
  },
  {
   "cell_type": "markdown",
   "metadata": {},
   "source": [
    "# Proces\n",
    "\n",
    "Ćwiczenie składa się z następujących kroków\n",
    "1. pobranie zbioru danych\n",
    "2. przekonwertowanie do formatu pandas-friendly\n",
    "3. podzielenie zbioru na część testową i uczącą\n",
    "4. zdefiniowanie metryki odległości - wykorzystamy euklidesową\n",
    "5. napisanie funkcji szukającej najbliższych sąsiadów dla zadanego przypadku\n",
    "6. predykcja gatunku irysa dla każdej obserwacji w zbiorze uczącym i ocena błędu klasyfikacji\n",
    "7. predykcja gatunku irysa dla każdej obserwacji w zbiorze testowym\n",
    "8. analiza macierzy błędów (confusion matrix)\n",
    "9. analiza błędu testowego dla różnych parametrów k"
   ]
  },
  {
   "cell_type": "markdown",
   "metadata": {},
   "source": [
    "#### Zaimportowanie odpowiednich bibliotek"
   ]
  },
  {
   "cell_type": "code",
   "execution_count": 1,
   "metadata": {
    "ExecuteTime": {
     "end_time": "2019-03-01T19:25:07.265731Z",
     "start_time": "2019-03-01T19:25:05.245740Z"
    }
   },
   "outputs": [],
   "source": [
    "import pandas as pd\n",
    "import numpy as np\n",
    "# usuńmy notację naukową\n",
    "np.set_printoptions(suppress=True)\n",
    "# format danych numerycznych\n",
    "pd.set_option('display.float_format', lambda x: '%.3f' % x)"
   ]
  },
  {
   "cell_type": "markdown",
   "metadata": {},
   "source": [
    "## 1. Pobranie zbioru danych\n",
    "Na początku potrzebujemy danych. Możemy wykorzystać jeden ze zbiorów dostępnych domyślnie w pakiecie sklearn. W tym notebooku będzie to jedyne miejsce, gdzie wykorzystamy ten pakiet ;)"
   ]
  },
  {
   "cell_type": "code",
   "execution_count": 2,
   "metadata": {
    "ExecuteTime": {
     "end_time": "2019-03-01T19:25:10.018969Z",
     "start_time": "2019-03-01T19:25:07.379369Z"
    }
   },
   "outputs": [],
   "source": [
    "from sklearn import datasets"
   ]
  },
  {
   "cell_type": "code",
   "execution_count": 3,
   "metadata": {
    "ExecuteTime": {
     "end_time": "2019-03-01T19:25:10.078441Z",
     "start_time": "2019-03-01T19:25:10.058264Z"
    }
   },
   "outputs": [],
   "source": [
    "iris = datasets.load_iris()"
   ]
  },
  {
   "cell_type": "markdown",
   "metadata": {},
   "source": [
    "Możemy uzyskać dane za pomocą właściwości .data. Zmienna objaśniana (gatunek poszczególnej obserwacji) jest dostępna przez właściwość .target"
   ]
  },
  {
   "cell_type": "code",
   "execution_count": 4,
   "metadata": {
    "ExecuteTime": {
     "end_time": "2019-03-01T19:25:10.159423Z",
     "start_time": "2019-03-01T19:25:10.132846Z"
    }
   },
   "outputs": [
    {
     "data": {
      "text/plain": [
       "array([[5.1, 3.5, 1.4, 0.2],\n",
       "       [4.9, 3. , 1.4, 0.2],\n",
       "       [4.7, 3.2, 1.3, 0.2],\n",
       "       [4.6, 3.1, 1.5, 0.2],\n",
       "       [5. , 3.6, 1.4, 0.2],\n",
       "       [5.4, 3.9, 1.7, 0.4],\n",
       "       [4.6, 3.4, 1.4, 0.3],\n",
       "       [5. , 3.4, 1.5, 0.2],\n",
       "       [4.4, 2.9, 1.4, 0.2],\n",
       "       [4.9, 3.1, 1.5, 0.1],\n",
       "       [5.4, 3.7, 1.5, 0.2],\n",
       "       [4.8, 3.4, 1.6, 0.2],\n",
       "       [4.8, 3. , 1.4, 0.1],\n",
       "       [4.3, 3. , 1.1, 0.1],\n",
       "       [5.8, 4. , 1.2, 0.2],\n",
       "       [5.7, 4.4, 1.5, 0.4],\n",
       "       [5.4, 3.9, 1.3, 0.4],\n",
       "       [5.1, 3.5, 1.4, 0.3],\n",
       "       [5.7, 3.8, 1.7, 0.3],\n",
       "       [5.1, 3.8, 1.5, 0.3],\n",
       "       [5.4, 3.4, 1.7, 0.2],\n",
       "       [5.1, 3.7, 1.5, 0.4],\n",
       "       [4.6, 3.6, 1. , 0.2],\n",
       "       [5.1, 3.3, 1.7, 0.5],\n",
       "       [4.8, 3.4, 1.9, 0.2],\n",
       "       [5. , 3. , 1.6, 0.2],\n",
       "       [5. , 3.4, 1.6, 0.4],\n",
       "       [5.2, 3.5, 1.5, 0.2],\n",
       "       [5.2, 3.4, 1.4, 0.2],\n",
       "       [4.7, 3.2, 1.6, 0.2],\n",
       "       [4.8, 3.1, 1.6, 0.2],\n",
       "       [5.4, 3.4, 1.5, 0.4],\n",
       "       [5.2, 4.1, 1.5, 0.1],\n",
       "       [5.5, 4.2, 1.4, 0.2],\n",
       "       [4.9, 3.1, 1.5, 0.2],\n",
       "       [5. , 3.2, 1.2, 0.2],\n",
       "       [5.5, 3.5, 1.3, 0.2],\n",
       "       [4.9, 3.6, 1.4, 0.1],\n",
       "       [4.4, 3. , 1.3, 0.2],\n",
       "       [5.1, 3.4, 1.5, 0.2],\n",
       "       [5. , 3.5, 1.3, 0.3],\n",
       "       [4.5, 2.3, 1.3, 0.3],\n",
       "       [4.4, 3.2, 1.3, 0.2],\n",
       "       [5. , 3.5, 1.6, 0.6],\n",
       "       [5.1, 3.8, 1.9, 0.4],\n",
       "       [4.8, 3. , 1.4, 0.3],\n",
       "       [5.1, 3.8, 1.6, 0.2],\n",
       "       [4.6, 3.2, 1.4, 0.2],\n",
       "       [5.3, 3.7, 1.5, 0.2],\n",
       "       [5. , 3.3, 1.4, 0.2],\n",
       "       [7. , 3.2, 4.7, 1.4],\n",
       "       [6.4, 3.2, 4.5, 1.5],\n",
       "       [6.9, 3.1, 4.9, 1.5],\n",
       "       [5.5, 2.3, 4. , 1.3],\n",
       "       [6.5, 2.8, 4.6, 1.5],\n",
       "       [5.7, 2.8, 4.5, 1.3],\n",
       "       [6.3, 3.3, 4.7, 1.6],\n",
       "       [4.9, 2.4, 3.3, 1. ],\n",
       "       [6.6, 2.9, 4.6, 1.3],\n",
       "       [5.2, 2.7, 3.9, 1.4],\n",
       "       [5. , 2. , 3.5, 1. ],\n",
       "       [5.9, 3. , 4.2, 1.5],\n",
       "       [6. , 2.2, 4. , 1. ],\n",
       "       [6.1, 2.9, 4.7, 1.4],\n",
       "       [5.6, 2.9, 3.6, 1.3],\n",
       "       [6.7, 3.1, 4.4, 1.4],\n",
       "       [5.6, 3. , 4.5, 1.5],\n",
       "       [5.8, 2.7, 4.1, 1. ],\n",
       "       [6.2, 2.2, 4.5, 1.5],\n",
       "       [5.6, 2.5, 3.9, 1.1],\n",
       "       [5.9, 3.2, 4.8, 1.8],\n",
       "       [6.1, 2.8, 4. , 1.3],\n",
       "       [6.3, 2.5, 4.9, 1.5],\n",
       "       [6.1, 2.8, 4.7, 1.2],\n",
       "       [6.4, 2.9, 4.3, 1.3],\n",
       "       [6.6, 3. , 4.4, 1.4],\n",
       "       [6.8, 2.8, 4.8, 1.4],\n",
       "       [6.7, 3. , 5. , 1.7],\n",
       "       [6. , 2.9, 4.5, 1.5],\n",
       "       [5.7, 2.6, 3.5, 1. ],\n",
       "       [5.5, 2.4, 3.8, 1.1],\n",
       "       [5.5, 2.4, 3.7, 1. ],\n",
       "       [5.8, 2.7, 3.9, 1.2],\n",
       "       [6. , 2.7, 5.1, 1.6],\n",
       "       [5.4, 3. , 4.5, 1.5],\n",
       "       [6. , 3.4, 4.5, 1.6],\n",
       "       [6.7, 3.1, 4.7, 1.5],\n",
       "       [6.3, 2.3, 4.4, 1.3],\n",
       "       [5.6, 3. , 4.1, 1.3],\n",
       "       [5.5, 2.5, 4. , 1.3],\n",
       "       [5.5, 2.6, 4.4, 1.2],\n",
       "       [6.1, 3. , 4.6, 1.4],\n",
       "       [5.8, 2.6, 4. , 1.2],\n",
       "       [5. , 2.3, 3.3, 1. ],\n",
       "       [5.6, 2.7, 4.2, 1.3],\n",
       "       [5.7, 3. , 4.2, 1.2],\n",
       "       [5.7, 2.9, 4.2, 1.3],\n",
       "       [6.2, 2.9, 4.3, 1.3],\n",
       "       [5.1, 2.5, 3. , 1.1],\n",
       "       [5.7, 2.8, 4.1, 1.3],\n",
       "       [6.3, 3.3, 6. , 2.5],\n",
       "       [5.8, 2.7, 5.1, 1.9],\n",
       "       [7.1, 3. , 5.9, 2.1],\n",
       "       [6.3, 2.9, 5.6, 1.8],\n",
       "       [6.5, 3. , 5.8, 2.2],\n",
       "       [7.6, 3. , 6.6, 2.1],\n",
       "       [4.9, 2.5, 4.5, 1.7],\n",
       "       [7.3, 2.9, 6.3, 1.8],\n",
       "       [6.7, 2.5, 5.8, 1.8],\n",
       "       [7.2, 3.6, 6.1, 2.5],\n",
       "       [6.5, 3.2, 5.1, 2. ],\n",
       "       [6.4, 2.7, 5.3, 1.9],\n",
       "       [6.8, 3. , 5.5, 2.1],\n",
       "       [5.7, 2.5, 5. , 2. ],\n",
       "       [5.8, 2.8, 5.1, 2.4],\n",
       "       [6.4, 3.2, 5.3, 2.3],\n",
       "       [6.5, 3. , 5.5, 1.8],\n",
       "       [7.7, 3.8, 6.7, 2.2],\n",
       "       [7.7, 2.6, 6.9, 2.3],\n",
       "       [6. , 2.2, 5. , 1.5],\n",
       "       [6.9, 3.2, 5.7, 2.3],\n",
       "       [5.6, 2.8, 4.9, 2. ],\n",
       "       [7.7, 2.8, 6.7, 2. ],\n",
       "       [6.3, 2.7, 4.9, 1.8],\n",
       "       [6.7, 3.3, 5.7, 2.1],\n",
       "       [7.2, 3.2, 6. , 1.8],\n",
       "       [6.2, 2.8, 4.8, 1.8],\n",
       "       [6.1, 3. , 4.9, 1.8],\n",
       "       [6.4, 2.8, 5.6, 2.1],\n",
       "       [7.2, 3. , 5.8, 1.6],\n",
       "       [7.4, 2.8, 6.1, 1.9],\n",
       "       [7.9, 3.8, 6.4, 2. ],\n",
       "       [6.4, 2.8, 5.6, 2.2],\n",
       "       [6.3, 2.8, 5.1, 1.5],\n",
       "       [6.1, 2.6, 5.6, 1.4],\n",
       "       [7.7, 3. , 6.1, 2.3],\n",
       "       [6.3, 3.4, 5.6, 2.4],\n",
       "       [6.4, 3.1, 5.5, 1.8],\n",
       "       [6. , 3. , 4.8, 1.8],\n",
       "       [6.9, 3.1, 5.4, 2.1],\n",
       "       [6.7, 3.1, 5.6, 2.4],\n",
       "       [6.9, 3.1, 5.1, 2.3],\n",
       "       [5.8, 2.7, 5.1, 1.9],\n",
       "       [6.8, 3.2, 5.9, 2.3],\n",
       "       [6.7, 3.3, 5.7, 2.5],\n",
       "       [6.7, 3. , 5.2, 2.3],\n",
       "       [6.3, 2.5, 5. , 1.9],\n",
       "       [6.5, 3. , 5.2, 2. ],\n",
       "       [6.2, 3.4, 5.4, 2.3],\n",
       "       [5.9, 3. , 5.1, 1.8]])"
      ]
     },
     "execution_count": 4,
     "metadata": {},
     "output_type": "execute_result"
    }
   ],
   "source": [
    "iris.data"
   ]
  },
  {
   "cell_type": "code",
   "execution_count": 5,
   "metadata": {
    "ExecuteTime": {
     "end_time": "2019-03-01T19:25:10.205608Z",
     "start_time": "2019-03-01T19:25:10.198591Z"
    }
   },
   "outputs": [
    {
     "data": {
      "text/plain": [
       "array([0, 0, 0, 0, 0, 0, 0, 0, 0, 0, 0, 0, 0, 0, 0, 0, 0, 0, 0, 0, 0, 0,\n",
       "       0, 0, 0, 0, 0, 0, 0, 0, 0, 0, 0, 0, 0, 0, 0, 0, 0, 0, 0, 0, 0, 0,\n",
       "       0, 0, 0, 0, 0, 0, 1, 1, 1, 1, 1, 1, 1, 1, 1, 1, 1, 1, 1, 1, 1, 1,\n",
       "       1, 1, 1, 1, 1, 1, 1, 1, 1, 1, 1, 1, 1, 1, 1, 1, 1, 1, 1, 1, 1, 1,\n",
       "       1, 1, 1, 1, 1, 1, 1, 1, 1, 1, 1, 1, 2, 2, 2, 2, 2, 2, 2, 2, 2, 2,\n",
       "       2, 2, 2, 2, 2, 2, 2, 2, 2, 2, 2, 2, 2, 2, 2, 2, 2, 2, 2, 2, 2, 2,\n",
       "       2, 2, 2, 2, 2, 2, 2, 2, 2, 2, 2, 2, 2, 2, 2, 2, 2, 2])"
      ]
     },
     "execution_count": 5,
     "metadata": {},
     "output_type": "execute_result"
    }
   ],
   "source": [
    "iris.target"
   ]
  },
  {
   "cell_type": "markdown",
   "metadata": {},
   "source": [
    "## 2. Konwersja zbioru danych do formatu pandas\n",
    "Załadowaliśmy pythonowe tablice zawierające zestawy cech i zmienną objaśnianą. Teraz musimy połączyć je w jedną ramkę danych - podstawową strukturę danych do analizy danych i uczenia maszynowego"
   ]
  },
  {
   "cell_type": "code",
   "execution_count": 6,
   "metadata": {
    "ExecuteTime": {
     "end_time": "2019-03-01T19:25:12.342820Z",
     "start_time": "2019-03-01T19:25:12.334503Z"
    }
   },
   "outputs": [],
   "source": [
    "iris_df = pd.DataFrame(iris['data'], columns=iris['feature_names'])"
   ]
  },
  {
   "cell_type": "markdown",
   "metadata": {},
   "source": [
    "Po stworzeniu obiektu typu DataFrame powinniśmy dodać kolumnę ze zmienną objaśnianą, nazwijmy ją \"target\" i przypiszmy jej odpowiednią tablicę."
   ]
  },
  {
   "cell_type": "code",
   "execution_count": 7,
   "metadata": {
    "ExecuteTime": {
     "end_time": "2019-03-01T19:25:13.114390Z",
     "start_time": "2019-03-01T19:25:13.108036Z"
    }
   },
   "outputs": [],
   "source": [
    "iris_df['target'] = iris.target"
   ]
  },
  {
   "cell_type": "markdown",
   "metadata": {},
   "source": [
    "Dane są posortowane według gatunku kwiatów. Wymieszajmy je - można to zrobić na parę sposobów:\n",
    "* właściwość sample z argumentem fraction ustawionym na 1\n",
    "* funkcja shuffle z sklearn.utils\n",
    "* funkcja np.random.shuffle (jako argument przyjmuje typ np.ndarray, więc powinniśmy jej przekazać DF.values)\n"
   ]
  },
  {
   "cell_type": "code",
   "execution_count": 8,
   "metadata": {
    "ExecuteTime": {
     "end_time": "2019-03-01T19:25:14.990119Z",
     "start_time": "2019-03-01T19:25:14.980523Z"
    }
   },
   "outputs": [],
   "source": [
    "iris_df = iris_df.sample(frac=1).reset_index(drop=True)"
   ]
  },
  {
   "cell_type": "markdown",
   "metadata": {},
   "source": [
    "Możemy teraz zbadać strukturę posiadanego zbioru danych. Samodzielnie pokaż:"
   ]
  },
  {
   "cell_type": "markdown",
   "metadata": {},
   "source": [
    "* pierwszych pięć elementów z ramki danych"
   ]
  },
  {
   "cell_type": "code",
   "execution_count": 9,
   "metadata": {},
   "outputs": [
    {
     "data": {
      "text/html": [
       "<div>\n",
       "<style>\n",
       "    .dataframe thead tr:only-child th {\n",
       "        text-align: right;\n",
       "    }\n",
       "\n",
       "    .dataframe thead th {\n",
       "        text-align: left;\n",
       "    }\n",
       "\n",
       "    .dataframe tbody tr th {\n",
       "        vertical-align: top;\n",
       "    }\n",
       "</style>\n",
       "<table border=\"1\" class=\"dataframe\">\n",
       "  <thead>\n",
       "    <tr style=\"text-align: right;\">\n",
       "      <th></th>\n",
       "      <th>sepal length (cm)</th>\n",
       "      <th>sepal width (cm)</th>\n",
       "      <th>petal length (cm)</th>\n",
       "      <th>petal width (cm)</th>\n",
       "      <th>target</th>\n",
       "    </tr>\n",
       "  </thead>\n",
       "  <tbody>\n",
       "    <tr>\n",
       "      <th>0</th>\n",
       "      <td>5.700</td>\n",
       "      <td>2.800</td>\n",
       "      <td>4.100</td>\n",
       "      <td>1.300</td>\n",
       "      <td>1</td>\n",
       "    </tr>\n",
       "    <tr>\n",
       "      <th>1</th>\n",
       "      <td>6.200</td>\n",
       "      <td>3.400</td>\n",
       "      <td>5.400</td>\n",
       "      <td>2.300</td>\n",
       "      <td>2</td>\n",
       "    </tr>\n",
       "    <tr>\n",
       "      <th>2</th>\n",
       "      <td>5.600</td>\n",
       "      <td>2.500</td>\n",
       "      <td>3.900</td>\n",
       "      <td>1.100</td>\n",
       "      <td>1</td>\n",
       "    </tr>\n",
       "    <tr>\n",
       "      <th>3</th>\n",
       "      <td>4.600</td>\n",
       "      <td>3.600</td>\n",
       "      <td>1.000</td>\n",
       "      <td>0.200</td>\n",
       "      <td>0</td>\n",
       "    </tr>\n",
       "    <tr>\n",
       "      <th>4</th>\n",
       "      <td>5.100</td>\n",
       "      <td>3.500</td>\n",
       "      <td>1.400</td>\n",
       "      <td>0.300</td>\n",
       "      <td>0</td>\n",
       "    </tr>\n",
       "  </tbody>\n",
       "</table>\n",
       "</div>"
      ],
      "text/plain": [
       "   sepal length (cm)  sepal width (cm)  petal length (cm)  petal width (cm)  \\\n",
       "0              5.700             2.800              4.100             1.300   \n",
       "1              6.200             3.400              5.400             2.300   \n",
       "2              5.600             2.500              3.900             1.100   \n",
       "3              4.600             3.600              1.000             0.200   \n",
       "4              5.100             3.500              1.400             0.300   \n",
       "\n",
       "   target  \n",
       "0       1  \n",
       "1       2  \n",
       "2       1  \n",
       "3       0  \n",
       "4       0  "
      ]
     },
     "execution_count": 9,
     "metadata": {},
     "output_type": "execute_result"
    }
   ],
   "source": [
    "iris_df ..."
   ]
  },
  {
   "cell_type": "markdown",
   "metadata": {},
   "source": [
    "* ostatnich pięć elementów z ramki danych"
   ]
  },
  {
   "cell_type": "code",
   "execution_count": 10,
   "metadata": {},
   "outputs": [
    {
     "data": {
      "text/html": [
       "<div>\n",
       "<style>\n",
       "    .dataframe thead tr:only-child th {\n",
       "        text-align: right;\n",
       "    }\n",
       "\n",
       "    .dataframe thead th {\n",
       "        text-align: left;\n",
       "    }\n",
       "\n",
       "    .dataframe tbody tr th {\n",
       "        vertical-align: top;\n",
       "    }\n",
       "</style>\n",
       "<table border=\"1\" class=\"dataframe\">\n",
       "  <thead>\n",
       "    <tr style=\"text-align: right;\">\n",
       "      <th></th>\n",
       "      <th>sepal length (cm)</th>\n",
       "      <th>sepal width (cm)</th>\n",
       "      <th>petal length (cm)</th>\n",
       "      <th>petal width (cm)</th>\n",
       "      <th>target</th>\n",
       "    </tr>\n",
       "  </thead>\n",
       "  <tbody>\n",
       "    <tr>\n",
       "      <th>145</th>\n",
       "      <td>6.500</td>\n",
       "      <td>3.000</td>\n",
       "      <td>5.200</td>\n",
       "      <td>2.000</td>\n",
       "      <td>2</td>\n",
       "    </tr>\n",
       "    <tr>\n",
       "      <th>146</th>\n",
       "      <td>6.500</td>\n",
       "      <td>3.000</td>\n",
       "      <td>5.800</td>\n",
       "      <td>2.200</td>\n",
       "      <td>2</td>\n",
       "    </tr>\n",
       "    <tr>\n",
       "      <th>147</th>\n",
       "      <td>6.200</td>\n",
       "      <td>2.800</td>\n",
       "      <td>4.800</td>\n",
       "      <td>1.800</td>\n",
       "      <td>2</td>\n",
       "    </tr>\n",
       "    <tr>\n",
       "      <th>148</th>\n",
       "      <td>5.000</td>\n",
       "      <td>3.500</td>\n",
       "      <td>1.300</td>\n",
       "      <td>0.300</td>\n",
       "      <td>0</td>\n",
       "    </tr>\n",
       "    <tr>\n",
       "      <th>149</th>\n",
       "      <td>4.800</td>\n",
       "      <td>3.100</td>\n",
       "      <td>1.600</td>\n",
       "      <td>0.200</td>\n",
       "      <td>0</td>\n",
       "    </tr>\n",
       "  </tbody>\n",
       "</table>\n",
       "</div>"
      ],
      "text/plain": [
       "     sepal length (cm)  sepal width (cm)  petal length (cm)  petal width (cm)  \\\n",
       "145              6.500             3.000              5.200             2.000   \n",
       "146              6.500             3.000              5.800             2.200   \n",
       "147              6.200             2.800              4.800             1.800   \n",
       "148              5.000             3.500              1.300             0.300   \n",
       "149              4.800             3.100              1.600             0.200   \n",
       "\n",
       "     target  \n",
       "145       2  \n",
       "146       2  \n",
       "147       2  \n",
       "148       0  \n",
       "149       0  "
      ]
     },
     "execution_count": 10,
     "metadata": {},
     "output_type": "execute_result"
    }
   ],
   "source": [
    "iris_df..."
   ]
  },
  {
   "cell_type": "markdown",
   "metadata": {},
   "source": [
    "* krótkie statystyczne podsumowanie zmiennych w ramce"
   ]
  },
  {
   "cell_type": "code",
   "execution_count": 11,
   "metadata": {},
   "outputs": [
    {
     "data": {
      "text/html": [
       "<div>\n",
       "<style>\n",
       "    .dataframe thead tr:only-child th {\n",
       "        text-align: right;\n",
       "    }\n",
       "\n",
       "    .dataframe thead th {\n",
       "        text-align: left;\n",
       "    }\n",
       "\n",
       "    .dataframe tbody tr th {\n",
       "        vertical-align: top;\n",
       "    }\n",
       "</style>\n",
       "<table border=\"1\" class=\"dataframe\">\n",
       "  <thead>\n",
       "    <tr style=\"text-align: right;\">\n",
       "      <th></th>\n",
       "      <th>sepal length (cm)</th>\n",
       "      <th>sepal width (cm)</th>\n",
       "      <th>petal length (cm)</th>\n",
       "      <th>petal width (cm)</th>\n",
       "      <th>target</th>\n",
       "    </tr>\n",
       "  </thead>\n",
       "  <tbody>\n",
       "    <tr>\n",
       "      <th>count</th>\n",
       "      <td>150.000</td>\n",
       "      <td>150.000</td>\n",
       "      <td>150.000</td>\n",
       "      <td>150.000</td>\n",
       "      <td>150.000</td>\n",
       "    </tr>\n",
       "    <tr>\n",
       "      <th>mean</th>\n",
       "      <td>5.843</td>\n",
       "      <td>3.054</td>\n",
       "      <td>3.759</td>\n",
       "      <td>1.199</td>\n",
       "      <td>1.000</td>\n",
       "    </tr>\n",
       "    <tr>\n",
       "      <th>std</th>\n",
       "      <td>0.828</td>\n",
       "      <td>0.434</td>\n",
       "      <td>1.764</td>\n",
       "      <td>0.763</td>\n",
       "      <td>0.819</td>\n",
       "    </tr>\n",
       "    <tr>\n",
       "      <th>min</th>\n",
       "      <td>4.300</td>\n",
       "      <td>2.000</td>\n",
       "      <td>1.000</td>\n",
       "      <td>0.100</td>\n",
       "      <td>0.000</td>\n",
       "    </tr>\n",
       "    <tr>\n",
       "      <th>25%</th>\n",
       "      <td>5.100</td>\n",
       "      <td>2.800</td>\n",
       "      <td>1.600</td>\n",
       "      <td>0.300</td>\n",
       "      <td>0.000</td>\n",
       "    </tr>\n",
       "    <tr>\n",
       "      <th>50%</th>\n",
       "      <td>5.800</td>\n",
       "      <td>3.000</td>\n",
       "      <td>4.350</td>\n",
       "      <td>1.300</td>\n",
       "      <td>1.000</td>\n",
       "    </tr>\n",
       "    <tr>\n",
       "      <th>75%</th>\n",
       "      <td>6.400</td>\n",
       "      <td>3.300</td>\n",
       "      <td>5.100</td>\n",
       "      <td>1.800</td>\n",
       "      <td>2.000</td>\n",
       "    </tr>\n",
       "    <tr>\n",
       "      <th>max</th>\n",
       "      <td>7.900</td>\n",
       "      <td>4.400</td>\n",
       "      <td>6.900</td>\n",
       "      <td>2.500</td>\n",
       "      <td>2.000</td>\n",
       "    </tr>\n",
       "  </tbody>\n",
       "</table>\n",
       "</div>"
      ],
      "text/plain": [
       "       sepal length (cm)  sepal width (cm)  petal length (cm)  \\\n",
       "count            150.000           150.000            150.000   \n",
       "mean               5.843             3.054              3.759   \n",
       "std                0.828             0.434              1.764   \n",
       "min                4.300             2.000              1.000   \n",
       "25%                5.100             2.800              1.600   \n",
       "50%                5.800             3.000              4.350   \n",
       "75%                6.400             3.300              5.100   \n",
       "max                7.900             4.400              6.900   \n",
       "\n",
       "       petal width (cm)  target  \n",
       "count           150.000 150.000  \n",
       "mean              1.199   1.000  \n",
       "std               0.763   0.819  \n",
       "min               0.100   0.000  \n",
       "25%               0.300   0.000  \n",
       "50%               1.300   1.000  \n",
       "75%               1.800   2.000  \n",
       "max               2.500   2.000  "
      ]
     },
     "execution_count": 11,
     "metadata": {},
     "output_type": "execute_result"
    }
   ],
   "source": [
    "iris_df..."
   ]
  },
  {
   "cell_type": "markdown",
   "metadata": {},
   "source": [
    "## 3. Podział zbioru na treningowy i testowy"
   ]
  },
  {
   "cell_type": "markdown",
   "metadata": {},
   "source": [
    "W typowym procesie uczenia maszynowego powiniśmy teraz podzielić nasz zbiór na uczący i testowy:\n",
    "* uczący - wykorzystywany do wytrenowania modelu (zauważmy, że algorytm k-nn nie posiada typowego procesu trenowania - jedyne co od strony matematycznej robi k-nn to macierz odległości między wszystkimi obserwacjami)\n",
    "* testowy - ta część nie będzie brała udziału w procesie uczenia - będzie służyła do ewaluacji modelu i jego zdolności generalizacji\n",
    "\n",
    "Możemy to zrobić na parę sposobów:\n",
    "* train_test_split z pakietu sklearn\n",
    "* metoda .sample obiektów typu DataFrame\n",
    "* stworzenie maski logicznej, która będzie przyporządkowywała każdej obserwacji fakt bycia w zbiorze uczącym (TRUE) lub testowym (FALSE)"
   ]
  },
  {
   "cell_type": "code",
   "execution_count": 9,
   "metadata": {
    "ExecuteTime": {
     "end_time": "2019-03-01T19:25:53.769065Z",
     "start_time": "2019-03-01T19:25:53.760305Z"
    }
   },
   "outputs": [],
   "source": [
    "train_fraction = 0.5\n",
    "\n",
    "# maska logiczna powinna być tablicą typu dtype=bool, w której odpowiedni procent obserwacji to 80. W jaki sposób można to zrobić?\n",
    "mask = np.random.rand(len(iris_df)) < train_fraction\n",
    "\n",
    "# we apply mask on original dataset\n",
    "train = iris_df.loc[mask]\n",
    "test = iris_df.loc[~mask]"
   ]
  },
  {
   "cell_type": "markdown",
   "metadata": {},
   "source": [
    "Możemy teraz usunąć indeksy z ramki - nie będą nam już potrzebne"
   ]
  },
  {
   "cell_type": "markdown",
   "metadata": {},
   "source": [
    "## 4. Zdefiniowanie metryki odległości\n",
    "Stworzymy funkcję 'euclidean distance', która zwróci odległość euklidesową dla danej pary obserwacji"
   ]
  },
  {
   "cell_type": "code",
   "execution_count": 11,
   "metadata": {
    "ExecuteTime": {
     "end_time": "2019-03-01T19:26:28.815676Z",
     "start_time": "2019-03-01T19:26:28.806711Z"
    }
   },
   "outputs": [],
   "source": [
    "def euclidean_distance(array_1, array_2):\n",
    "    # tworzymy funkcję liczącą dystans\n",
    "    # jako argumenty przyjmuje ona dwie tablice numpy, każda z nich reprezentuje jeden obiekt\n",
    "    # euclidean_distance = (x1 - y1) ^ 2 + (x2 - y2) ^ 2 + ... + (xn - yn) ^ 2\n",
    "    # porada - jest to bardzo proste do osiągnięcia korzystając z możliwości wektoryzacji, pętle są zbędne\n",
    "    # funkcja powinna zwracać jedną wartość liczbową (odległość)\n",
    "    differences = array_1 - array_2\n",
    "    differences_squared = differences ** 2\n",
    "    # możemy teraz dodać wszystkie różnice kwadratów\n",
    "    distance = np.sum(differences_squared)\n",
    "    return distance"
   ]
  },
  {
   "cell_type": "markdown",
   "metadata": {},
   "source": [
    "## 5. stworzenie funkcji, która znajdzie najbliższe obserwacje dla zadanej obserwacji"
   ]
  },
  {
   "cell_type": "markdown",
   "metadata": {},
   "source": [
    "### Przykładowy wiersz z danych\n",
    "Weźmy pierwszą obserwację, i po kolei przejdźmy przez proces znajdowania *k* najbliższych sąsiadów"
   ]
  },
  {
   "cell_type": "code",
   "execution_count": 12,
   "metadata": {
    "ExecuteTime": {
     "end_time": "2019-03-01T19:26:32.909706Z",
     "start_time": "2019-03-01T19:26:32.904652Z"
    }
   },
   "outputs": [
    {
     "data": {
      "text/plain": [
       "sepal length (cm)   5.200\n",
       "sepal width (cm)    3.400\n",
       "petal length (cm)   1.400\n",
       "petal width (cm)    0.200\n",
       "target              0.000\n",
       "Name: 1, dtype: float64"
      ]
     },
     "execution_count": 12,
     "metadata": {},
     "output_type": "execute_result"
    }
   ],
   "source": [
    "# pierwszy wiersz z obserwacji\n",
    "train.iloc[0,]"
   ]
  },
  {
   "cell_type": "code",
   "execution_count": 13,
   "metadata": {
    "ExecuteTime": {
     "end_time": "2019-03-01T19:26:37.031250Z",
     "start_time": "2019-03-01T19:26:36.983652Z"
    }
   },
   "outputs": [
    {
     "data": {
      "text/plain": [
       "41.55"
      ]
     },
     "execution_count": 13,
     "metadata": {},
     "output_type": "execute_result"
    }
   ],
   "source": [
    "# obliczmy dystans euklidesowy między pierwszą i drugą obserwacją\n",
    "# pamiętaj o nieuwzględnianiu ostatniej zmiennej 'target' - odległości budujemy tylko na cechach, które są predyktorami\n",
    "euclidean_distance(train.iloc[0, 0:4], train.iloc[1, 0:4])"
   ]
  },
  {
   "cell_type": "markdown",
   "metadata": {},
   "source": [
    "Jaka jest odległość między czwartą i piątą obserwacją?"
   ]
  },
  {
   "cell_type": "code",
   "execution_count": 14,
   "metadata": {
    "ExecuteTime": {
     "end_time": "2019-03-01T19:27:11.687143Z",
     "start_time": "2019-03-01T19:27:11.677810Z"
    }
   },
   "outputs": [
    {
     "name": "stdout",
     "output_type": "stream",
     "text": [
      "13.090000000000003\n"
     ]
    }
   ],
   "source": [
    "distance_4_5 = euclidean_distance(train.iloc[3, 0:4], train.iloc[4, 0:4])\n",
    "print(distance_4_5)"
   ]
  },
  {
   "cell_type": "markdown",
   "metadata": {},
   "source": [
    "Teraz obliczmy odległości wszystkich elementów do pierwszej obserwacji. Stwórzmy pustą listę i iterując przez wszystkie przypadki treninowe dodajmy do niej poszczególne dystanse"
   ]
  },
  {
   "cell_type": "code",
   "execution_count": 15,
   "metadata": {
    "ExecuteTime": {
     "end_time": "2019-03-01T19:27:50.310002Z",
     "start_time": "2019-03-01T19:27:50.191697Z"
    }
   },
   "outputs": [
    {
     "name": "stdout",
     "output_type": "stream",
     "text": [
      "Odległość od elementu o numerze 0 do elementu o numerze 0 to 0.0\n",
      "Odległość od elementu o numerze 0 do elementu o numerze 1 to 41.55\n",
      "Odległość od elementu o numerze 0 do elementu o numerze 2 to 27.669999999999995\n",
      "Odległość od elementu o numerze 0 do elementu o numerze 3 to 12.780000000000003\n",
      "Odległość od elementu o numerze 0 do elementu o numerze 4 to 0.7300000000000003\n",
      "Odległość od elementu o numerze 0 do elementu o numerze 5 to 0.1500000000000003\n",
      "Odległość od elementu o numerze 0 do elementu o numerze 6 to 8.779999999999998\n",
      "Odległość od elementu o numerze 0 do elementu o numerze 7 to 14.920000000000002\n",
      "Odległość od elementu o numerze 0 do elementu o numerze 8 to 16.779999999999998\n",
      "Odległość od elementu o numerze 0 do elementu o numerze 9 to 5.9399999999999995\n",
      "Odległość od elementu o numerze 0 do elementu o numerze 10 to 23.049999999999994\n",
      "Odległość od elementu o numerze 0 do elementu o numerze 11 to 0.37000000000000066\n",
      "Odległość od elementu o numerze 0 do elementu o numerze 12 to 0.3400000000000001\n",
      "Odległość od elementu o numerze 0 do elementu o numerze 13 to 11.620000000000001\n",
      "Odległość od elementu o numerze 0 do elementu o numerze 14 to 0.050000000000000086\n",
      "Odległość od elementu o numerze 0 do elementu o numerze 15 to 9.270000000000001\n",
      "Odległość od elementu o numerze 0 do elementu o numerze 16 to 30.179999999999993\n",
      "Odległość od elementu o numerze 0 do elementu o numerze 17 to 0.4600000000000006\n",
      "Odległość od elementu o numerze 0 do elementu o numerze 18 to 21.259999999999998\n",
      "Odległość od elementu o numerze 0 do elementu o numerze 19 to 0.2999999999999999\n",
      "Odległość od elementu o numerze 0 do elementu o numerze 20 to 18.659999999999997\n",
      "Odległość od elementu o numerze 0 do elementu o numerze 21 to 8.03\n",
      "Odległość od elementu o numerze 0 do elementu o numerze 22 to 0.13999999999999999\n",
      "Odległość od elementu o numerze 0 do elementu o numerze 23 to 0.12000000000000015\n",
      "Odległość od elementu o numerze 0 do elementu o numerze 24 to 15.610000000000001\n",
      "Odległość od elementu o numerze 0 do elementu o numerze 25 to 8.870000000000001\n",
      "Odległość od elementu o numerze 0 do elementu o numerze 26 to 26.040000000000006\n",
      "Odległość od elementu o numerze 0 do elementu o numerze 27 to 13.74\n",
      "Odległość od elementu o numerze 0 do elementu o numerze 28 to 7.050000000000001\n",
      "Odległość od elementu o numerze 0 do elementu o numerze 29 to 0.20000000000000034\n",
      "Odległość od elementu o numerze 0 do elementu o numerze 30 to 13.659999999999997\n",
      "Odległość od elementu o numerze 0 do elementu o numerze 31 to 0.030000000000000117\n",
      "Odległość od elementu o numerze 0 do elementu o numerze 32 to 17.87\n",
      "Odległość od elementu o numerze 0 do elementu o numerze 33 to 12.760000000000002\n",
      "Odległość od elementu o numerze 0 do elementu o numerze 34 to 17.429999999999996\n",
      "Odległość od elementu o numerze 0 do elementu o numerze 35 to 8.819999999999999\n",
      "Odległość od elementu o numerze 0 do elementu o numerze 36 to 20.9\n",
      "Odległość od elementu o numerze 0 do elementu o numerze 37 to 38.50000000000001\n",
      "Odległość od elementu o numerze 0 do elementu o numerze 38 to 21.409999999999997\n",
      "Odległość od elementu o numerze 0 do elementu o numerze 39 to 0.3300000000000002\n",
      "Odległość od elementu o numerze 0 do elementu o numerze 40 to 36.569999999999986\n",
      "Odległość od elementu o numerze 0 do elementu o numerze 41 to 0.42000000000000015\n",
      "Odległość od elementu o numerze 0 do elementu o numerze 42 to 0.14000000000000024\n",
      "Odległość od elementu o numerze 0 do elementu o numerze 43 to 0.19999999999999982\n",
      "Odległość od elementu o numerze 0 do elementu o numerze 44 to 11.310000000000002\n",
      "Odległość od elementu o numerze 0 do elementu o numerze 45 to 16.95\n",
      "Odległość od elementu o numerze 0 do elementu o numerze 46 to 0.8099999999999996\n",
      "Odległość od elementu o numerze 0 do elementu o numerze 47 to 25.21\n",
      "Odległość od elementu o numerze 0 do elementu o numerze 48 to 0.020000000000000122\n",
      "Odległość od elementu o numerze 0 do elementu o numerze 49 to 17.62\n",
      "Odległość od elementu o numerze 0 do elementu o numerze 50 to 21.099999999999994\n",
      "Odległość od elementu o numerze 0 do elementu o numerze 51 to 4.19\n",
      "Odległość od elementu o numerze 0 do elementu o numerze 52 to 23.139999999999997\n",
      "Odległość od elementu o numerze 0 do elementu o numerze 53 to 12.56\n",
      "Odległość od elementu o numerze 0 do elementu o numerze 54 to 20.529999999999994\n",
      "Odległość od elementu o numerze 0 do elementu o numerze 55 to 0.33\n",
      "Odległość od elementu o numerze 0 do elementu o numerze 56 to 19.249999999999996\n",
      "Odległość od elementu o numerze 0 do elementu o numerze 57 to 16.73\n",
      "Odległość od elementu o numerze 0 do elementu o numerze 58 to 19.53\n",
      "Odległość od elementu o numerze 0 do elementu o numerze 59 to 15.960000000000003\n",
      "Odległość od elementu o numerze 0 do elementu o numerze 60 to 21.22\n",
      "Odległość od elementu o numerze 0 do elementu o numerze 61 to 0.41000000000000025\n",
      "Odległość od elementu o numerze 0 do elementu o numerze 62 to 13.979999999999999\n",
      "Odległość od elementu o numerze 0 do elementu o numerze 63 to 37.94000000000001\n",
      "Odległość od elementu o numerze 0 do elementu o numerze 64 to 25.830000000000005\n",
      "Odległość od elementu o numerze 0 do elementu o numerze 65 to 31.230000000000004\n",
      "Odległość od elementu o numerze 0 do elementu o numerze 66 to 0.020000000000000035\n",
      "Odległość od elementu o numerze 0 do elementu o numerze 67 to 0.5099999999999996\n",
      "Odległość od elementu o numerze 0 do elementu o numerze 68 to 0.11000000000000011\n",
      "Odległość od elementu o numerze 0 do elementu o numerze 69 to 0.020000000000000122\n",
      "Odległość od elementu o numerze 0 do elementu o numerze 70 to 10.870000000000001\n",
      "Odległość od elementu o numerze 0 do elementu o numerze 71 to 0.3300000000000002\n",
      "Odległość od elementu o numerze 0 do elementu o numerze 72 to 17.429999999999996\n",
      "Odległość od elementu o numerze 0 do elementu o numerze 73 to 9.14\n",
      "Odległość od elementu o numerze 0 do elementu o numerze 74 to 5.34\n",
      "Odległość od elementu o numerze 0 do elementu o numerze 75 to 15.919999999999996\n",
      "Odległość od elementu o numerze 0 do elementu o numerze 76 to 13.39\n",
      "Odległość od elementu o numerze 0 do elementu o numerze 77 to 9.700000000000001\n",
      "Odległość od elementu o numerze 0 do elementu o numerze 78 to 1.7200000000000004\n",
      "Odległość od elementu o numerze 0 do elementu o numerze 79 to 24.819999999999993\n",
      "Odległość od elementu o numerze 0 do elementu o numerze 80 to 9.48\n",
      "Odległość od elementu o numerze 0 do elementu o numerze 81 to 0.5600000000000007\n",
      "Odległość od elementu o numerze 0 do elementu o numerze 82 to 23.439999999999994\n",
      "Odległość od elementu o numerze 0 do elementu o numerze 83 to 23.689999999999994\n",
      "Odległość od elementu o numerze 0 do elementu o numerze 84 to 31.41999999999999\n",
      "Odległość od elementu o numerze 0 do elementu o numerze 85 to 0.6899999999999996\n",
      "Odległość od elementu o numerze 0 do elementu o numerze 86 to 16.010000000000005\n",
      "Odległość od elementu o numerze 0 do elementu o numerze 87 to 16.510000000000005\n",
      "Odległość od elementu o numerze 0 do elementu o numerze 88 to 14.070000000000002\n",
      "Odległość od elementu o numerze 0 do elementu o numerze 89 to 12.19\n",
      "Odległość od elementu o numerze 0 do elementu o numerze 90 to 1.300000000000001\n",
      "Odległość od elementu o numerze 0 do elementu o numerze 91 to 12.21\n"
     ]
    }
   ],
   "source": [
    "distances_to_first_element = []\n",
    "number_of_elements_in_train_frame = train.shape[0]\n",
    "\n",
    "for i in range(0, number_of_elements_in_train_frame):\n",
    "    # obliczmy dystans między pierwszym a i-tym elementem w zbiorze treningowym\n",
    "    distance = euclidean_distance(train.iloc[i, 0:4], train.iloc[0, 0:4])\n",
    "    # dodaj obliczony dystans do listy 'distances_to_first_element'\n",
    "    distances_to_first_element.append(distance)\n",
    "    print('Odległość od elementu o numerze 0 do elementu o numerze {} to {}'.format(i, distance))"
   ]
  },
  {
   "cell_type": "markdown",
   "metadata": {},
   "source": [
    "Tak wygląda lista odległości"
   ]
  },
  {
   "cell_type": "code",
   "execution_count": 16,
   "metadata": {
    "ExecuteTime": {
     "end_time": "2019-03-01T19:28:01.476797Z",
     "start_time": "2019-03-01T19:28:01.472077Z"
    }
   },
   "outputs": [
    {
     "name": "stdout",
     "output_type": "stream",
     "text": [
      "[0.0, 41.55, 27.669999999999995, 12.780000000000003, 0.7300000000000003, 0.1500000000000003, 8.779999999999998, 14.920000000000002, 16.779999999999998, 5.9399999999999995, 23.049999999999994, 0.37000000000000066, 0.3400000000000001, 11.620000000000001, 0.050000000000000086, 9.270000000000001, 30.179999999999993, 0.4600000000000006, 21.259999999999998, 0.2999999999999999, 18.659999999999997, 8.03, 0.13999999999999999, 0.12000000000000015, 15.610000000000001, 8.870000000000001, 26.040000000000006, 13.74, 7.050000000000001, 0.20000000000000034, 13.659999999999997, 0.030000000000000117, 17.87, 12.760000000000002, 17.429999999999996, 8.819999999999999, 20.9, 38.50000000000001, 21.409999999999997, 0.3300000000000002, 36.569999999999986, 0.42000000000000015, 0.14000000000000024, 0.19999999999999982, 11.310000000000002, 16.95, 0.8099999999999996, 25.21, 0.020000000000000122, 17.62, 21.099999999999994, 4.19, 23.139999999999997, 12.56, 20.529999999999994, 0.33, 19.249999999999996, 16.73, 19.53, 15.960000000000003, 21.22, 0.41000000000000025, 13.979999999999999, 37.94000000000001, 25.830000000000005, 31.230000000000004, 0.020000000000000035, 0.5099999999999996, 0.11000000000000011, 0.020000000000000122, 10.870000000000001, 0.3300000000000002, 17.429999999999996, 9.14, 5.34, 15.919999999999996, 13.39, 9.700000000000001, 1.7200000000000004, 24.819999999999993, 9.48, 0.5600000000000007, 23.439999999999994, 23.689999999999994, 31.41999999999999, 0.6899999999999996, 16.010000000000005, 16.510000000000005, 14.070000000000002, 12.19, 1.300000000000001, 12.21]\n"
     ]
    }
   ],
   "source": [
    "print(distances_to_first_element)"
   ]
  },
  {
   "cell_type": "markdown",
   "metadata": {},
   "source": [
    "Stwórzmy teraz 'target_variable', która jest listą wartości pokazujących zmienną objaśnianą. Zauważmy, że pd.Series ma metodę tolist()"
   ]
  },
  {
   "cell_type": "code",
   "execution_count": 17,
   "metadata": {
    "ExecuteTime": {
     "end_time": "2019-03-01T19:28:04.004307Z",
     "start_time": "2019-03-01T19:28:03.996815Z"
    }
   },
   "outputs": [
    {
     "name": "stdout",
     "output_type": "stream",
     "text": [
      "[0, 2, 2, 1, 0, 0, 1, 1, 1, 1, 2, 0, 0, 1, 0, 1, 2, 0, 2, 0, 2, 1, 0, 0, 1, 1, 2, 1, 1, 0, 1, 0, 2, 2, 2, 1, 2, 2, 2, 0, 2, 0, 0, 0, 1, 2, 0, 2, 0, 1, 2, 1, 2, 1, 2, 0, 2, 2, 2, 1, 2, 0, 1, 2, 2, 2, 0, 0, 0, 0, 1, 0, 2, 1, 1, 1, 1, 1, 0, 2, 1, 0, 2, 2, 2, 0, 2, 2, 1, 1, 0, 1]\n"
     ]
    }
   ],
   "source": [
    "target_variable = train['target'].tolist()\n",
    "print(target_variable)"
   ]
  },
  {
   "cell_type": "markdown",
   "metadata": {},
   "source": [
    "Stwórzmy listę krotek o poniższej strukturze\n",
    "[\n",
    "(distance1, species1),\n",
    "(distance2, species2)\n",
    "...\n",
    "(distance_n, species_n)\n",
    "] i posortujmy ją po odległości. Poniżej przykład jak można to zrobić w Pythonie:"
   ]
  },
  {
   "cell_type": "code",
   "execution_count": 18,
   "metadata": {
    "ExecuteTime": {
     "end_time": "2019-03-01T19:28:08.724913Z",
     "start_time": "2019-03-01T19:28:08.718727Z"
    }
   },
   "outputs": [
    {
     "name": "stdout",
     "output_type": "stream",
     "text": [
      "[(0, 'p'), (1, 'y'), (2, 't'), (3, 'h'), (4, 'o'), (5, 'n')]\n"
     ]
    }
   ],
   "source": [
    "letters = ['y', 'h', 'p', 't', 'n', 'o']\n",
    "order = [1, 3, 0, 2, 5, 4]\n",
    "print(sorted(zip(order,letters)))"
   ]
  },
  {
   "cell_type": "code",
   "execution_count": 20,
   "metadata": {
    "ExecuteTime": {
     "end_time": "2019-03-01T19:29:10.588130Z",
     "start_time": "2019-03-01T19:29:10.580566Z"
    }
   },
   "outputs": [],
   "source": [
    "distances_target_combined = sorted(zip(distances_to_first_element, target_variable))"
   ]
  },
  {
   "cell_type": "markdown",
   "metadata": {},
   "source": [
    "Przeanalizujmy pierwsze trzy elementy tak posortowanej krotki"
   ]
  },
  {
   "cell_type": "code",
   "execution_count": 22,
   "metadata": {
    "ExecuteTime": {
     "end_time": "2019-03-01T19:29:22.196827Z",
     "start_time": "2019-03-01T19:29:22.191040Z"
    }
   },
   "outputs": [
    {
     "name": "stdout",
     "output_type": "stream",
     "text": [
      "[(0.0, 0), (0.020000000000000035, 0), (0.020000000000000122, 0)]\n"
     ]
    }
   ],
   "source": [
    "three_closest_tuples = distances_target_combined[:3]\n",
    "print(three_closest_tuples)"
   ]
  },
  {
   "cell_type": "markdown",
   "metadata": {},
   "source": [
    "Wykorzystajmy mechanizm list-comprehension, żeby stworzyć listę zawierającą jedynie zmienną objaśnianą"
   ]
  },
  {
   "cell_type": "code",
   "execution_count": 23,
   "metadata": {
    "ExecuteTime": {
     "end_time": "2019-03-01T19:29:43.152486Z",
     "start_time": "2019-03-01T19:29:43.146509Z"
    }
   },
   "outputs": [
    {
     "name": "stdout",
     "output_type": "stream",
     "text": [
      "[0, 0, 0]\n"
     ]
    }
   ],
   "source": [
    "target_closest_species = [target for distance, target in three_closest_tuples]\n",
    "print(target_closest_species)"
   ]
  },
  {
   "cell_type": "markdown",
   "metadata": {},
   "source": [
    "Używając klasy Counter (pakiet: collections) możemy zliczyć wystąpienia każdego gatunku w zadanym podzbiorze trzech najbliższych sąsiadów. Przykładowe wykorzystanie"
   ]
  },
  {
   "cell_type": "code",
   "execution_count": 24,
   "metadata": {
    "ExecuteTime": {
     "end_time": "2019-03-01T19:29:48.720568Z",
     "start_time": "2019-03-01T19:29:48.712889Z"
    }
   },
   "outputs": [
    {
     "name": "stdout",
     "output_type": "stream",
     "text": [
      "Counted Counter({14: 3, 33: 2, 12: 1, 8: 1, 9: 1})\n",
      "Majority [(14, 3), (33, 2), (12, 1), (8, 1), (9, 1)]\n",
      "Most common class 14\n"
     ]
    }
   ],
   "source": [
    "from collections import Counter\n",
    "\n",
    "\n",
    "sample_list =  [33, 33, 12, 14, 14, 14, 8, 9]\n",
    "counted = Counter(sample_list)\n",
    "print('Counted {}'.format(counted))\n",
    "ordered = counted.most_common()\n",
    "print('Majority {}'.format(ordered))\n",
    "most_common_value = ordered[0][0]\n",
    "print('Most common class {}'.format(most_common_value))"
   ]
  },
  {
   "cell_type": "markdown",
   "metadata": {},
   "source": [
    "Możemy teraz znaleźć najczęstszą klasę spośród sąsiadów dla zadanego przypadku *target_closest_species*. Zobaczymy jaką decyzję podejmie algorytm w analizowanym przypadku"
   ]
  },
  {
   "cell_type": "code",
   "execution_count": 26,
   "metadata": {
    "ExecuteTime": {
     "end_time": "2019-03-01T19:32:26.072223Z",
     "start_time": "2019-03-01T19:32:26.067132Z"
    }
   },
   "outputs": [
    {
     "name": "stdout",
     "output_type": "stream",
     "text": [
      "Counter({0: 3})\n"
     ]
    }
   ],
   "source": [
    "predicted_class = Counter(target_closest_species)\n",
    "print(predicted_class)"
   ]
  },
  {
   "cell_type": "markdown",
   "metadata": {},
   "source": [
    "Powyżej przeliczyliśmy wszystko dla jednej obserwacji. Teraz możemy stworzyć funkcję, która będzie wykorzystana do wszystkich przypadków. Funkcja przyjmuje *k* (integer), *element* (jeden wiersz z ramki danych), *dataset* (ramka danych ze wszystkimi obserwacjami), oraz listę z etykietami dla zbioru danych - *target list*. Funkcja zwraca listę etykiet dla k najbliższych przypadków."
   ]
  },
  {
   "cell_type": "code",
   "execution_count": 70,
   "metadata": {
    "ExecuteTime": {
     "end_time": "2019-03-01T19:48:11.952627Z",
     "start_time": "2019-03-01T19:48:11.940351Z"
    },
    "code_folding": []
   },
   "outputs": [],
   "source": [
    "# wrap it into a function\n",
    "def find_k_closest_examples(k, element, dataset, target_list):\n",
    "    distances_to_element = []\n",
    "    for i in range(0, dataset.shape[0]):\n",
    "        elem = dataset.iloc[i, 0:4]\n",
    "        if np.all(elem == element):\n",
    "            continue\n",
    "        distance = euclidean_distance(base_elem, dataset.iloc[i, 0:4])\n",
    "        distances_to_element.append(distance)\n",
    "    \n",
    "    distances_target_combined = sorted(zip(distances_to_element, target_list))\n",
    "    species = [specie for distance, specie in distances_target_combined]\n",
    "    return species[0:k]"
   ]
  },
  {
   "cell_type": "markdown",
   "metadata": {},
   "source": [
    "Napisz funkcję, która przyjmuje listę z etykietami najbliższych sąsiadów i zwraca najczęstszą klasę (możesz wykrozystać klasę Counter)"
   ]
  },
  {
   "cell_type": "code",
   "execution_count": 71,
   "metadata": {
    "ExecuteTime": {
     "end_time": "2019-03-01T19:48:12.301123Z",
     "start_time": "2019-03-01T19:48:12.295180Z"
    }
   },
   "outputs": [],
   "source": [
    "def get_most_frequent_class(k_closest_examples):\n",
    "    predicted_class = Counter(k_closest_examples)\n",
    "    return predicted_class.most_common()[0][0]"
   ]
  },
  {
   "cell_type": "markdown",
   "metadata": {},
   "source": [
    "Sprawdźmy predykcję dla k=5 - dla pierwszej obserwacji w zbiorze uczącym"
   ]
  },
  {
   "cell_type": "code",
   "execution_count": 72,
   "metadata": {
    "ExecuteTime": {
     "end_time": "2019-03-01T19:48:13.049023Z",
     "start_time": "2019-03-01T19:48:13.031722Z"
    }
   },
   "outputs": [
    {
     "ename": "ValueError",
     "evalue": "Can only compare identically-labeled Series objects",
     "output_type": "error",
     "traceback": [
      "\u001b[1;31m---------------------------------------------------------------------------\u001b[0m",
      "\u001b[1;31mValueError\u001b[0m                                Traceback (most recent call last)",
      "\u001b[1;32m<ipython-input-72-abbd181afc5b>\u001b[0m in \u001b[0;36m<module>\u001b[1;34m()\u001b[0m\n\u001b[1;32m----> 1\u001b[1;33m \u001b[0mget_most_frequent_class\u001b[0m\u001b[1;33m(\u001b[0m\u001b[0mfind_k_closest_examples\u001b[0m\u001b[1;33m(\u001b[0m\u001b[1;36m5\u001b[0m\u001b[1;33m,\u001b[0m \u001b[0mtrain\u001b[0m\u001b[1;33m.\u001b[0m\u001b[0miloc\u001b[0m\u001b[1;33m[\u001b[0m\u001b[1;36m0\u001b[0m\u001b[1;33m]\u001b[0m\u001b[1;33m,\u001b[0m \u001b[0mtrain\u001b[0m\u001b[1;33m,\u001b[0m \u001b[0mtrain\u001b[0m\u001b[1;33m[\u001b[0m\u001b[1;34m'target'\u001b[0m\u001b[1;33m]\u001b[0m\u001b[1;33m.\u001b[0m\u001b[0mtolist\u001b[0m\u001b[1;33m(\u001b[0m\u001b[1;33m)\u001b[0m\u001b[1;33m)\u001b[0m\u001b[1;33m)\u001b[0m\u001b[1;33m\u001b[0m\u001b[0m\n\u001b[0m",
      "\u001b[1;32m<ipython-input-70-fa788378f6fc>\u001b[0m in \u001b[0;36mfind_k_closest_examples\u001b[1;34m(k, element, dataset, target_list)\u001b[0m\n\u001b[0;32m      4\u001b[0m     \u001b[1;32mfor\u001b[0m \u001b[0mi\u001b[0m \u001b[1;32min\u001b[0m \u001b[0mrange\u001b[0m\u001b[1;33m(\u001b[0m\u001b[1;36m0\u001b[0m\u001b[1;33m,\u001b[0m \u001b[0mdataset\u001b[0m\u001b[1;33m.\u001b[0m\u001b[0mshape\u001b[0m\u001b[1;33m[\u001b[0m\u001b[1;36m0\u001b[0m\u001b[1;33m]\u001b[0m\u001b[1;33m)\u001b[0m\u001b[1;33m:\u001b[0m\u001b[1;33m\u001b[0m\u001b[0m\n\u001b[0;32m      5\u001b[0m         \u001b[0melem\u001b[0m \u001b[1;33m=\u001b[0m \u001b[0mdataset\u001b[0m\u001b[1;33m.\u001b[0m\u001b[0miloc\u001b[0m\u001b[1;33m[\u001b[0m\u001b[0mi\u001b[0m\u001b[1;33m,\u001b[0m \u001b[1;36m0\u001b[0m\u001b[1;33m:\u001b[0m\u001b[1;36m4\u001b[0m\u001b[1;33m]\u001b[0m\u001b[1;33m\u001b[0m\u001b[0m\n\u001b[1;32m----> 6\u001b[1;33m         \u001b[1;32mif\u001b[0m \u001b[0mnp\u001b[0m\u001b[1;33m.\u001b[0m\u001b[0mall\u001b[0m\u001b[1;33m(\u001b[0m\u001b[0melem\u001b[0m \u001b[1;33m==\u001b[0m \u001b[0melement\u001b[0m\u001b[1;33m)\u001b[0m\u001b[1;33m:\u001b[0m\u001b[1;33m\u001b[0m\u001b[0m\n\u001b[0m\u001b[0;32m      7\u001b[0m             \u001b[1;32mcontinue\u001b[0m\u001b[1;33m\u001b[0m\u001b[0m\n\u001b[0;32m      8\u001b[0m         \u001b[0mdistance\u001b[0m \u001b[1;33m=\u001b[0m \u001b[0meuclidean_distance\u001b[0m\u001b[1;33m(\u001b[0m\u001b[0mbase_elem\u001b[0m\u001b[1;33m,\u001b[0m \u001b[0mdataset\u001b[0m\u001b[1;33m.\u001b[0m\u001b[0miloc\u001b[0m\u001b[1;33m[\u001b[0m\u001b[0mi\u001b[0m\u001b[1;33m,\u001b[0m \u001b[1;36m0\u001b[0m\u001b[1;33m:\u001b[0m\u001b[1;36m4\u001b[0m\u001b[1;33m]\u001b[0m\u001b[1;33m)\u001b[0m\u001b[1;33m\u001b[0m\u001b[0m\n",
      "\u001b[1;32m~\\AppData\\Local\\Continuum\\anaconda3\\lib\\site-packages\\pandas\\core\\ops.py\u001b[0m in \u001b[0;36mwrapper\u001b[1;34m(self, other, axis)\u001b[0m\n\u001b[0;32m    834\u001b[0m             \u001b[1;32mif\u001b[0m \u001b[1;32mnot\u001b[0m \u001b[0mself\u001b[0m\u001b[1;33m.\u001b[0m\u001b[0m_indexed_same\u001b[0m\u001b[1;33m(\u001b[0m\u001b[0mother\u001b[0m\u001b[1;33m)\u001b[0m\u001b[1;33m:\u001b[0m\u001b[1;33m\u001b[0m\u001b[0m\n\u001b[0;32m    835\u001b[0m                 \u001b[0mmsg\u001b[0m \u001b[1;33m=\u001b[0m \u001b[1;34m'Can only compare identically-labeled Series objects'\u001b[0m\u001b[1;33m\u001b[0m\u001b[0m\n\u001b[1;32m--> 836\u001b[1;33m                 \u001b[1;32mraise\u001b[0m \u001b[0mValueError\u001b[0m\u001b[1;33m(\u001b[0m\u001b[0mmsg\u001b[0m\u001b[1;33m)\u001b[0m\u001b[1;33m\u001b[0m\u001b[0m\n\u001b[0m\u001b[0;32m    837\u001b[0m             return self._constructor(na_op(self.values, other.values),\n\u001b[0;32m    838\u001b[0m                                      index=self.index, name=name)\n",
      "\u001b[1;31mValueError\u001b[0m: Can only compare identically-labeled Series objects"
     ]
    }
   ],
   "source": [
    "get_most_frequent_class(find_k_closest_examples(5, train.iloc[0], train, train['target'].tolist()))"
   ]
  },
  {
   "cell_type": "markdown",
   "metadata": {},
   "source": [
    "##  Predykcja gatunku kwiatu dla każdej obserwacji w zbiorze uczącym i ocena błędu klasyfikacji"
   ]
  },
  {
   "cell_type": "markdown",
   "metadata": {},
   "source": [
    "Napiszmy pętlę, która przejdzie przez wszystkie obserwacje w zbiorze uczącym i przewidzi gatunek poszczególnej obserwacji dla k = 9"
   ]
  },
  {
   "cell_type": "code",
   "execution_count": 64,
   "metadata": {
    "ExecuteTime": {
     "end_time": "2019-03-01T19:41:33.544588Z",
     "start_time": "2019-03-01T19:41:25.361314Z"
    }
   },
   "outputs": [
    {
     "name": "stdout",
     "output_type": "stream",
     "text": [
      "[0, 2, 2, 0, 0, 0, 2, 0, 2, 2, 0, 1, 0, 1, 0, 1, 2, 2, 2, 0, 2, 1, 0, 0, 0, 1, 2, 2, 1, 0, 1, 0, 2, 1, 2, 1, 1, 2, 2, 0, 2, 0, 0, 0, 1, 1, 0, 2, 0, 1, 2, 1, 2, 1, 2, 0, 2, 2, 2, 2, 2, 0, 1, 2, 2, 2, 0, 0, 0, 0, 1, 0, 2, 1, 1, 1, 1, 1, 0, 2, 1, 0, 2, 2, 2, 0, 2, 1, 1, 1, 0, 1]\n"
     ]
    }
   ],
   "source": [
    "predictions = []\n",
    "\n",
    "for i in range(0, train.shape[0]):\n",
    "    closest_examples = find_k_closest_examples(9, i, train, train.target.tolist())\n",
    "    most_frequent_class_for_i_neighbours = get_most_frequent_class(closest_examples)\n",
    "    predictions.append(most_frequent_class_for_i_neighbours)\n",
    "\n",
    "print(predictions)"
   ]
  },
  {
   "cell_type": "markdown",
   "metadata": {},
   "source": [
    "Napisz funkcję *classification_accuracy*, która przyjmie prognozowane wartości (pd.Series) oraz target_variable (również pd.Series) i zwróci błąd klasyfikacji - procent przypadków poprawnie przewidzianych przez model"
   ]
  },
  {
   "cell_type": "code",
   "execution_count": 65,
   "metadata": {
    "ExecuteTime": {
     "end_time": "2019-03-01T19:41:35.646535Z",
     "start_time": "2019-03-01T19:41:35.640718Z"
    }
   },
   "outputs": [],
   "source": [
    "def classification_accuracy(prediction_series, target_series):\n",
    "    is_correct = (prediction_series == target_series)\n",
    "    accuracy = is_correct.sum() / target_series.shape[0]\n",
    "    return accuracy"
   ]
  },
  {
   "cell_type": "markdown",
   "metadata": {},
   "source": [
    "Sprawdźmy jakość predykcji:"
   ]
  },
  {
   "cell_type": "code",
   "execution_count": 66,
   "metadata": {
    "ExecuteTime": {
     "end_time": "2019-03-01T19:41:36.880948Z",
     "start_time": "2019-03-01T19:41:36.872262Z"
    }
   },
   "outputs": [
    {
     "data": {
      "text/plain": [
       "0.8369565217391305"
      ]
     },
     "execution_count": 66,
     "metadata": {},
     "output_type": "execute_result"
    }
   ],
   "source": [
    "classification_accuracy(pd.Series(predictions, index=train.index), train['target'])"
   ]
  },
  {
   "cell_type": "markdown",
   "metadata": {},
   "source": [
    "## 7. Predykcja gatunku kwiata dla każdej obserwacji w zbiorze testowym"
   ]
  },
  {
   "cell_type": "markdown",
   "metadata": {},
   "source": [
    "Przeiterujmy wszystkie przypadki w zbiorze testowym, znajdźmy podobne elementy w zbiorze uczącym u uzyskajmy predykcje"
   ]
  },
  {
   "cell_type": "code",
   "execution_count": 52,
   "metadata": {
    "ExecuteTime": {
     "end_time": "2019-03-01T19:37:48.104029Z",
     "start_time": "2019-03-01T19:37:39.590018Z"
    }
   },
   "outputs": [],
   "source": [
    "predictions_test = []\n",
    "\n",
    "for i in range(0, test.shape[0]):\n",
    "    closest_examples = find_k_closest_examples(2, i, train, train['target'].tolist())\n",
    "    predictions_test.append(get_most_frequent_class(closest_examples))"
   ]
  },
  {
   "cell_type": "code",
   "execution_count": 53,
   "metadata": {
    "ExecuteTime": {
     "end_time": "2019-03-01T19:37:48.309377Z",
     "start_time": "2019-03-01T19:37:48.293270Z"
    }
   },
   "outputs": [
    {
     "name": "stdout",
     "output_type": "stream",
     "text": [
      "[2, 1, 0, 1, 2, 2, 0, 0, 0, 2, 2, 0, 1, 0, 0, 0, 2, 0, 2, 1, 0, 0, 1, 1, 1, 2, 0, 0, 2, 0, 1, 1, 1, 0, 2, 0, 0, 1, 1, 1, 0, 2, 1, 1, 2, 2, 1, 1, 2, 2, 1, 2, 0, 1, 2, 1, 0, 0]\n"
     ]
    }
   ],
   "source": [
    "print(predictions_test)"
   ]
  },
  {
   "cell_type": "markdown",
   "metadata": {},
   "source": [
    "Sprawdźmy trafność:"
   ]
  },
  {
   "cell_type": "code",
   "execution_count": 54,
   "metadata": {
    "ExecuteTime": {
     "end_time": "2019-03-01T19:37:49.963022Z",
     "start_time": "2019-03-01T19:37:49.956255Z"
    }
   },
   "outputs": [
    {
     "data": {
      "text/plain": [
       "1.0"
      ]
     },
     "execution_count": 54,
     "metadata": {},
     "output_type": "execute_result"
    }
   ],
   "source": [
    "classification_accuracy(pd.Series(predictions_test, index=test.index), test['target'])"
   ]
  },
  {
   "cell_type": "markdown",
   "metadata": {},
   "source": [
    "## 8. Analiza macierzy pomyłek"
   ]
  },
  {
   "cell_type": "code",
   "execution_count": 55,
   "metadata": {
    "ExecuteTime": {
     "end_time": "2019-03-01T19:37:53.342409Z",
     "start_time": "2019-03-01T19:37:53.281806Z"
    }
   },
   "outputs": [],
   "source": [
    "from sklearn.metrics import confusion_matrix"
   ]
  },
  {
   "cell_type": "code",
   "execution_count": 56,
   "metadata": {
    "ExecuteTime": {
     "end_time": "2019-03-01T19:37:53.923683Z",
     "start_time": "2019-03-01T19:37:53.912535Z"
    }
   },
   "outputs": [
    {
     "data": {
      "text/plain": [
       "array([[21,  0,  0],\n",
       "       [ 0, 20,  0],\n",
       "       [ 0,  0, 17]], dtype=int64)"
      ]
     },
     "execution_count": 56,
     "metadata": {},
     "output_type": "execute_result"
    }
   ],
   "source": [
    "confusion_matrix(pd.Series(predictions_test), test['target'])"
   ]
  },
  {
   "cell_type": "markdown",
   "metadata": {},
   "source": [
    "## 9. Analiza błędu testowego dla różnych wartości hiperparametru k"
   ]
  },
  {
   "cell_type": "code",
   "execution_count": 57,
   "metadata": {
    "ExecuteTime": {
     "end_time": "2019-03-01T19:38:04.335365Z",
     "start_time": "2019-03-01T19:37:55.841031Z"
    }
   },
   "outputs": [
    {
     "ename": "ValueError",
     "evalue": "Can only compare identically-labeled Series objects",
     "output_type": "error",
     "traceback": [
      "\u001b[1;31m---------------------------------------------------------------------------\u001b[0m",
      "\u001b[1;31mValueError\u001b[0m                                Traceback (most recent call last)",
      "\u001b[1;32m<ipython-input-57-cf42ee0e2e21>\u001b[0m in \u001b[0;36m<module>\u001b[1;34m()\u001b[0m\n\u001b[0;32m      6\u001b[0m         \u001b[0mclosest_examples\u001b[0m \u001b[1;33m=\u001b[0m \u001b[0mfind_k_closest_examples\u001b[0m\u001b[1;33m(\u001b[0m\u001b[0mk\u001b[0m\u001b[1;33m,\u001b[0m \u001b[0mtest\u001b[0m\u001b[1;33m.\u001b[0m\u001b[0miloc\u001b[0m\u001b[1;33m[\u001b[0m\u001b[0mi\u001b[0m\u001b[1;33m,\u001b[0m\u001b[1;33m]\u001b[0m\u001b[1;33m,\u001b[0m \u001b[0mtrain\u001b[0m\u001b[1;33m,\u001b[0m \u001b[0mtrain\u001b[0m\u001b[1;33m[\u001b[0m\u001b[1;34m'target'\u001b[0m\u001b[1;33m]\u001b[0m\u001b[1;33m.\u001b[0m\u001b[0mtolist\u001b[0m\u001b[1;33m(\u001b[0m\u001b[1;33m)\u001b[0m\u001b[1;33m)\u001b[0m\u001b[1;33m\u001b[0m\u001b[0m\n\u001b[0;32m      7\u001b[0m         \u001b[0mpredictions_test\u001b[0m\u001b[1;33m.\u001b[0m\u001b[0mappend\u001b[0m\u001b[1;33m(\u001b[0m\u001b[0mget_most_frequent_class\u001b[0m\u001b[1;33m(\u001b[0m\u001b[0mclosest_examples\u001b[0m\u001b[1;33m)\u001b[0m\u001b[1;33m)\u001b[0m\u001b[1;33m\u001b[0m\u001b[0m\n\u001b[1;32m----> 8\u001b[1;33m     \u001b[0mtest_accuracies\u001b[0m\u001b[1;33m.\u001b[0m\u001b[0mappend\u001b[0m\u001b[1;33m(\u001b[0m\u001b[0mclassification_accuracy\u001b[0m\u001b[1;33m(\u001b[0m\u001b[0mpd\u001b[0m\u001b[1;33m.\u001b[0m\u001b[0mSeries\u001b[0m\u001b[1;33m(\u001b[0m\u001b[0mpredictions_test\u001b[0m\u001b[1;33m)\u001b[0m\u001b[1;33m,\u001b[0m \u001b[0mtest\u001b[0m\u001b[1;33m[\u001b[0m\u001b[1;34m'target'\u001b[0m\u001b[1;33m]\u001b[0m\u001b[1;33m)\u001b[0m\u001b[1;33m)\u001b[0m\u001b[1;33m\u001b[0m\u001b[0m\n\u001b[0m",
      "\u001b[1;32m<ipython-input-48-d16fae407e4a>\u001b[0m in \u001b[0;36mclassification_accuracy\u001b[1;34m(prediction_series, target_series)\u001b[0m\n\u001b[0;32m      1\u001b[0m \u001b[1;32mdef\u001b[0m \u001b[0mclassification_accuracy\u001b[0m\u001b[1;33m(\u001b[0m\u001b[0mprediction_series\u001b[0m\u001b[1;33m,\u001b[0m \u001b[0mtarget_series\u001b[0m\u001b[1;33m)\u001b[0m\u001b[1;33m:\u001b[0m\u001b[1;33m\u001b[0m\u001b[0m\n\u001b[1;32m----> 2\u001b[1;33m     \u001b[0mis_correct\u001b[0m \u001b[1;33m=\u001b[0m \u001b[1;33m(\u001b[0m\u001b[0mprediction_series\u001b[0m \u001b[1;33m==\u001b[0m \u001b[0mtarget_series\u001b[0m\u001b[1;33m)\u001b[0m\u001b[1;33m\u001b[0m\u001b[0m\n\u001b[0m\u001b[0;32m      3\u001b[0m     \u001b[0maccuracy\u001b[0m \u001b[1;33m=\u001b[0m \u001b[0mis_correct\u001b[0m\u001b[1;33m.\u001b[0m\u001b[0msum\u001b[0m\u001b[1;33m(\u001b[0m\u001b[1;33m)\u001b[0m \u001b[1;33m/\u001b[0m \u001b[0mtarget_series\u001b[0m\u001b[1;33m.\u001b[0m\u001b[0mshape\u001b[0m\u001b[1;33m[\u001b[0m\u001b[1;36m0\u001b[0m\u001b[1;33m]\u001b[0m\u001b[1;33m\u001b[0m\u001b[0m\n\u001b[0;32m      4\u001b[0m     \u001b[1;32mreturn\u001b[0m \u001b[0maccuracy\u001b[0m\u001b[1;33m\u001b[0m\u001b[0m\n",
      "\u001b[1;32m~\\AppData\\Local\\Continuum\\anaconda3\\lib\\site-packages\\pandas\\core\\ops.py\u001b[0m in \u001b[0;36mwrapper\u001b[1;34m(self, other, axis)\u001b[0m\n\u001b[0;32m    834\u001b[0m             \u001b[1;32mif\u001b[0m \u001b[1;32mnot\u001b[0m \u001b[0mself\u001b[0m\u001b[1;33m.\u001b[0m\u001b[0m_indexed_same\u001b[0m\u001b[1;33m(\u001b[0m\u001b[0mother\u001b[0m\u001b[1;33m)\u001b[0m\u001b[1;33m:\u001b[0m\u001b[1;33m\u001b[0m\u001b[0m\n\u001b[0;32m    835\u001b[0m                 \u001b[0mmsg\u001b[0m \u001b[1;33m=\u001b[0m \u001b[1;34m'Can only compare identically-labeled Series objects'\u001b[0m\u001b[1;33m\u001b[0m\u001b[0m\n\u001b[1;32m--> 836\u001b[1;33m                 \u001b[1;32mraise\u001b[0m \u001b[0mValueError\u001b[0m\u001b[1;33m(\u001b[0m\u001b[0mmsg\u001b[0m\u001b[1;33m)\u001b[0m\u001b[1;33m\u001b[0m\u001b[0m\n\u001b[0m\u001b[0;32m    837\u001b[0m             return self._constructor(na_op(self.values, other.values),\n\u001b[0;32m    838\u001b[0m                                      index=self.index, name=name)\n",
      "\u001b[1;31mValueError\u001b[0m: Can only compare identically-labeled Series objects"
     ]
    }
   ],
   "source": [
    "test_accuracies = []\n",
    "\n",
    "for k in range(1, 15):\n",
    "    predictions_test = []\n",
    "    for i in range(0, test.shape[0]):\n",
    "        closest_examples = find_k_closest_examples(k, test.iloc[i,], train, train['target'].tolist())\n",
    "        predictions_test.append(get_most_frequent_class(closest_examples))\n",
    "    test_accuracies.append(classification_accuracy(pd.Series(predictions_test), test['target']))"
   ]
  },
  {
   "cell_type": "code",
   "execution_count": 53,
   "metadata": {},
   "outputs": [
    {
     "name": "stdout",
     "output_type": "stream",
     "text": [
      "[0.90909090909090906, 0.90909090909090906, 0.93939393939393945, 0.93939393939393945, 0.93939393939393945, 0.90909090909090906, 0.93939393939393945, 0.90909090909090906, 0.93939393939393945, 0.93939393939393945, 0.93939393939393945, 0.93939393939393945, 0.93939393939393945, 0.93939393939393945]\n"
     ]
    }
   ],
   "source": [
    "print(test_accuracies)"
   ]
  },
  {
   "cell_type": "code",
   "execution_count": 54,
   "metadata": {},
   "outputs": [
    {
     "data": {
      "text/plain": [
       "[<matplotlib.lines.Line2D at 0x9a91ef0>]"
      ]
     },
     "execution_count": 54,
     "metadata": {},
     "output_type": "execute_result"
    },
    {
     "data": {
      "image/png": "[encoded data removed]",
      "text/plain": [
       "<matplotlib.figure.Figure at 0x978ecf8>"
      ]
     },
     "metadata": {},
     "output_type": "display_data"
    }
   ],
   "source": [
    "%matplotlib inline\n",
    "import matplotlib.pyplot as plt\n",
    "plt.plot(test_accuracies)"
   ]
  }
 ],
 "metadata": {
  "kernelspec": {
   "display_name": "Python 3",
   "language": "python",
   "name": "python3"
  },
  "language_info": {
   "codemirror_mode": {
    "name": "ipython",
    "version": 3
   },
   "file_extension": ".py",
   "mimetype": "text/x-python",
   "name": "python",
   "nbconvert_exporter": "python",
   "pygments_lexer": "ipython3",
   "version": "3.6.4"
  },
  "toc": {
   "nav_menu": {},
   "number_sections": true,
   "sideBar": true,
   "skip_h1_title": false,
   "title_cell": "Table of Contents",
   "title_sidebar": "Contents",
   "toc_cell": false,
   "toc_position": {},
   "toc_section_display": true,
   "toc_window_display": false
  },
  "varInspector": {
   "cols": {
    "lenName": 16,
    "lenType": 16,
    "lenVar": 40
   },
   "kernels_config": {
    "python": {
     "delete_cmd_postfix": "",
     "delete_cmd_prefix": "del ",
     "library": "var_list.py",
     "varRefreshCmd": "print(var_dic_list())"
    },
    "r": {
     "delete_cmd_postfix": ") ",
     "delete_cmd_prefix": "rm(",
     "library": "var_list.r",
     "varRefreshCmd": "cat(var_dic_list()) "
    }
   },
   "types_to_exclude": [
    "module",
    "function",
    "builtin_function_or_method",
    "instance",
    "_Feature"
   ],
   "window_display": false
  }
 },
 "nbformat": 4,
 "nbformat_minor": 2
}
