{
 "cells": [
  {
   "cell_type": "markdown",
   "metadata": {},
   "source": [
    "# Wprowadzenie"
   ]
  },
  {
   "cell_type": "markdown",
   "metadata": {},
   "source": [
    "Tym razem będziemy pracować nad klasyfikatorem opartym o drzewa decyzyjne.\n",
    "Będziemy wykonywać (podobnie jak w poprzednich przypadkach) następujące kroki:\n",
    "\n",
    "\n",
    "1. Ładowanie danych\n",
    "2. Podział na treningowe i testowe\n",
    "3. Własne, prosta implementacja elementów drzewa, żeby zrozumieć, jak działa\n",
    "4. Utworzenie i eksploracja modelu z biblioteki\n",
    "5. Dopasowywanie parametrów modelu\n",
    "6. Końcowy test na danych testowych\n",
    "7. Wizualizacja wyników"
   ]
  },
  {
   "cell_type": "markdown",
   "metadata": {},
   "source": [
    "Twoim zadaniem będzie wypełnienie fragmentów kodu zawierających \n",
    "\n",
    "> ..."
   ]
  },
  {
   "cell_type": "markdown",
   "metadata": {},
   "source": [
    "## Import bibliotek"
   ]
  },
  {
   "cell_type": "code",
   "execution_count": 78,
   "metadata": {
    "ExecuteTime": {
     "end_time": "2019-03-01T12:09:30.937156Z",
     "start_time": "2019-03-01T12:09:30.928181Z"
    }
   },
   "outputs": [],
   "source": [
    "import pandas as pd\n",
    "import sklearn.model_selection as modsel\n",
    "import sklearn.metrics as metrics\n",
    "import matplotlib.pyplot as plt\n",
    "import graphviz \n",
    "import sklearn.tree as trees\n",
    "\n",
    "from sklearn.tree import DecisionTreeClassifier\n",
    "\n",
    "from scipy.stats import entropy\n",
    "from sklearn.model_selection import train_test_split"
   ]
  },
  {
   "cell_type": "markdown",
   "metadata": {},
   "source": [
    "## Wczytanie danych"
   ]
  },
  {
   "cell_type": "code",
   "execution_count": 40,
   "metadata": {
    "ExecuteTime": {
     "end_time": "2019-03-01T11:22:07.238706Z",
     "start_time": "2019-03-01T11:22:07.167921Z"
    }
   },
   "outputs": [],
   "source": [
    "data = pd.read_csv(\"./adult.csv\")"
   ]
  },
  {
   "cell_type": "code",
   "execution_count": 41,
   "metadata": {
    "ExecuteTime": {
     "end_time": "2019-03-01T11:22:07.678561Z",
     "start_time": "2019-03-01T11:22:07.657586Z"
    }
   },
   "outputs": [
    {
     "data": {
      "text/html": [
       "<div>\n",
       "<style scoped>\n",
       "    .dataframe tbody tr th:only-of-type {\n",
       "        vertical-align: middle;\n",
       "    }\n",
       "\n",
       "    .dataframe tbody tr th {\n",
       "        vertical-align: top;\n",
       "    }\n",
       "\n",
       "    .dataframe thead th {\n",
       "        text-align: right;\n",
       "    }\n",
       "</style>\n",
       "<table border=\"1\" class=\"dataframe\">\n",
       "  <thead>\n",
       "    <tr style=\"text-align: right;\">\n",
       "      <th></th>\n",
       "      <th>age</th>\n",
       "      <th>workclass</th>\n",
       "      <th>fnlwgt</th>\n",
       "      <th>education</th>\n",
       "      <th>education-num</th>\n",
       "      <th>marital-status</th>\n",
       "      <th>occupation</th>\n",
       "      <th>relationship</th>\n",
       "      <th>race</th>\n",
       "      <th>sex</th>\n",
       "      <th>capital-gain</th>\n",
       "      <th>capital-loss</th>\n",
       "      <th>hours-per-week</th>\n",
       "      <th>native-country</th>\n",
       "      <th>earnings</th>\n",
       "    </tr>\n",
       "  </thead>\n",
       "  <tbody>\n",
       "    <tr>\n",
       "      <th>0</th>\n",
       "      <td>39</td>\n",
       "      <td>State-gov</td>\n",
       "      <td>77516</td>\n",
       "      <td>Bachelors</td>\n",
       "      <td>13</td>\n",
       "      <td>Never-married</td>\n",
       "      <td>Adm-clerical</td>\n",
       "      <td>Not-in-family</td>\n",
       "      <td>White</td>\n",
       "      <td>Male</td>\n",
       "      <td>2174</td>\n",
       "      <td>0</td>\n",
       "      <td>40</td>\n",
       "      <td>United-States</td>\n",
       "      <td>&lt;=50K</td>\n",
       "    </tr>\n",
       "    <tr>\n",
       "      <th>1</th>\n",
       "      <td>50</td>\n",
       "      <td>Self-emp-not-inc</td>\n",
       "      <td>83311</td>\n",
       "      <td>Bachelors</td>\n",
       "      <td>13</td>\n",
       "      <td>Married-civ-spouse</td>\n",
       "      <td>Exec-managerial</td>\n",
       "      <td>Husband</td>\n",
       "      <td>White</td>\n",
       "      <td>Male</td>\n",
       "      <td>0</td>\n",
       "      <td>0</td>\n",
       "      <td>13</td>\n",
       "      <td>United-States</td>\n",
       "      <td>&lt;=50K</td>\n",
       "    </tr>\n",
       "    <tr>\n",
       "      <th>2</th>\n",
       "      <td>38</td>\n",
       "      <td>Private</td>\n",
       "      <td>215646</td>\n",
       "      <td>HS-grad</td>\n",
       "      <td>9</td>\n",
       "      <td>Divorced</td>\n",
       "      <td>Handlers-cleaners</td>\n",
       "      <td>Not-in-family</td>\n",
       "      <td>White</td>\n",
       "      <td>Male</td>\n",
       "      <td>0</td>\n",
       "      <td>0</td>\n",
       "      <td>40</td>\n",
       "      <td>United-States</td>\n",
       "      <td>&lt;=50K</td>\n",
       "    </tr>\n",
       "    <tr>\n",
       "      <th>3</th>\n",
       "      <td>53</td>\n",
       "      <td>Private</td>\n",
       "      <td>234721</td>\n",
       "      <td>11th</td>\n",
       "      <td>7</td>\n",
       "      <td>Married-civ-spouse</td>\n",
       "      <td>Handlers-cleaners</td>\n",
       "      <td>Husband</td>\n",
       "      <td>Black</td>\n",
       "      <td>Male</td>\n",
       "      <td>0</td>\n",
       "      <td>0</td>\n",
       "      <td>40</td>\n",
       "      <td>United-States</td>\n",
       "      <td>&lt;=50K</td>\n",
       "    </tr>\n",
       "    <tr>\n",
       "      <th>4</th>\n",
       "      <td>28</td>\n",
       "      <td>Private</td>\n",
       "      <td>338409</td>\n",
       "      <td>Bachelors</td>\n",
       "      <td>13</td>\n",
       "      <td>Married-civ-spouse</td>\n",
       "      <td>Prof-specialty</td>\n",
       "      <td>Wife</td>\n",
       "      <td>Black</td>\n",
       "      <td>Female</td>\n",
       "      <td>0</td>\n",
       "      <td>0</td>\n",
       "      <td>40</td>\n",
       "      <td>Cuba</td>\n",
       "      <td>&lt;=50K</td>\n",
       "    </tr>\n",
       "    <tr>\n",
       "      <th>5</th>\n",
       "      <td>37</td>\n",
       "      <td>Private</td>\n",
       "      <td>284582</td>\n",
       "      <td>Masters</td>\n",
       "      <td>14</td>\n",
       "      <td>Married-civ-spouse</td>\n",
       "      <td>Exec-managerial</td>\n",
       "      <td>Wife</td>\n",
       "      <td>White</td>\n",
       "      <td>Female</td>\n",
       "      <td>0</td>\n",
       "      <td>0</td>\n",
       "      <td>40</td>\n",
       "      <td>United-States</td>\n",
       "      <td>&lt;=50K</td>\n",
       "    </tr>\n",
       "    <tr>\n",
       "      <th>6</th>\n",
       "      <td>49</td>\n",
       "      <td>Private</td>\n",
       "      <td>160187</td>\n",
       "      <td>9th</td>\n",
       "      <td>5</td>\n",
       "      <td>Married-spouse-absent</td>\n",
       "      <td>Other-service</td>\n",
       "      <td>Not-in-family</td>\n",
       "      <td>Black</td>\n",
       "      <td>Female</td>\n",
       "      <td>0</td>\n",
       "      <td>0</td>\n",
       "      <td>16</td>\n",
       "      <td>Jamaica</td>\n",
       "      <td>&lt;=50K</td>\n",
       "    </tr>\n",
       "    <tr>\n",
       "      <th>7</th>\n",
       "      <td>52</td>\n",
       "      <td>Self-emp-not-inc</td>\n",
       "      <td>209642</td>\n",
       "      <td>HS-grad</td>\n",
       "      <td>9</td>\n",
       "      <td>Married-civ-spouse</td>\n",
       "      <td>Exec-managerial</td>\n",
       "      <td>Husband</td>\n",
       "      <td>White</td>\n",
       "      <td>Male</td>\n",
       "      <td>0</td>\n",
       "      <td>0</td>\n",
       "      <td>45</td>\n",
       "      <td>United-States</td>\n",
       "      <td>&gt;50K</td>\n",
       "    </tr>\n",
       "    <tr>\n",
       "      <th>8</th>\n",
       "      <td>31</td>\n",
       "      <td>Private</td>\n",
       "      <td>45781</td>\n",
       "      <td>Masters</td>\n",
       "      <td>14</td>\n",
       "      <td>Never-married</td>\n",
       "      <td>Prof-specialty</td>\n",
       "      <td>Not-in-family</td>\n",
       "      <td>White</td>\n",
       "      <td>Female</td>\n",
       "      <td>14084</td>\n",
       "      <td>0</td>\n",
       "      <td>50</td>\n",
       "      <td>United-States</td>\n",
       "      <td>&gt;50K</td>\n",
       "    </tr>\n",
       "    <tr>\n",
       "      <th>9</th>\n",
       "      <td>42</td>\n",
       "      <td>Private</td>\n",
       "      <td>159449</td>\n",
       "      <td>Bachelors</td>\n",
       "      <td>13</td>\n",
       "      <td>Married-civ-spouse</td>\n",
       "      <td>Exec-managerial</td>\n",
       "      <td>Husband</td>\n",
       "      <td>White</td>\n",
       "      <td>Male</td>\n",
       "      <td>5178</td>\n",
       "      <td>0</td>\n",
       "      <td>40</td>\n",
       "      <td>United-States</td>\n",
       "      <td>&gt;50K</td>\n",
       "    </tr>\n",
       "  </tbody>\n",
       "</table>\n",
       "</div>"
      ],
      "text/plain": [
       "   age         workclass  fnlwgt  education  education-num  \\\n",
       "0   39         State-gov   77516  Bachelors             13   \n",
       "1   50  Self-emp-not-inc   83311  Bachelors             13   \n",
       "2   38           Private  215646    HS-grad              9   \n",
       "3   53           Private  234721       11th              7   \n",
       "4   28           Private  338409  Bachelors             13   \n",
       "5   37           Private  284582    Masters             14   \n",
       "6   49           Private  160187        9th              5   \n",
       "7   52  Self-emp-not-inc  209642    HS-grad              9   \n",
       "8   31           Private   45781    Masters             14   \n",
       "9   42           Private  159449  Bachelors             13   \n",
       "\n",
       "          marital-status         occupation   relationship   race     sex  \\\n",
       "0          Never-married       Adm-clerical  Not-in-family  White    Male   \n",
       "1     Married-civ-spouse    Exec-managerial        Husband  White    Male   \n",
       "2               Divorced  Handlers-cleaners  Not-in-family  White    Male   \n",
       "3     Married-civ-spouse  Handlers-cleaners        Husband  Black    Male   \n",
       "4     Married-civ-spouse     Prof-specialty           Wife  Black  Female   \n",
       "5     Married-civ-spouse    Exec-managerial           Wife  White  Female   \n",
       "6  Married-spouse-absent      Other-service  Not-in-family  Black  Female   \n",
       "7     Married-civ-spouse    Exec-managerial        Husband  White    Male   \n",
       "8          Never-married     Prof-specialty  Not-in-family  White  Female   \n",
       "9     Married-civ-spouse    Exec-managerial        Husband  White    Male   \n",
       "\n",
       "   capital-gain  capital-loss  hours-per-week native-country earnings  \n",
       "0          2174             0              40  United-States    <=50K  \n",
       "1             0             0              13  United-States    <=50K  \n",
       "2             0             0              40  United-States    <=50K  \n",
       "3             0             0              40  United-States    <=50K  \n",
       "4             0             0              40           Cuba    <=50K  \n",
       "5             0             0              40  United-States    <=50K  \n",
       "6             0             0              16        Jamaica    <=50K  \n",
       "7             0             0              45  United-States     >50K  \n",
       "8         14084             0              50  United-States     >50K  \n",
       "9          5178             0              40  United-States     >50K  "
      ]
     },
     "execution_count": 41,
     "metadata": {},
     "output_type": "execute_result"
    }
   ],
   "source": [
    "# Print top 10 rows of a dataset\n",
    "\n",
    "data.head(10)"
   ]
  },
  {
   "cell_type": "markdown",
   "metadata": {},
   "source": [
    "This data was extracted from the census bureau database found at\n",
    "\n",
    "http://www.census.gov/ftp/pub/DES/www/welcome.html\n",
    "\n",
    "Donor: \n",
    "Ronny Kohavi and Barry Becker,\n",
    "\n",
    "Data Mining and Visualization\n",
    "\n",
    "Silicon Graphics.\n",
    "\n",
    "e-mail: ronnyk@sgi.com for questions.\n",
    "\n",
    "Extraction was done by Barry Becker from the 1994 Census database.\n",
    "\n",
    "Prediction task is to determine whether a person makes over 50K a year. \n",
    "\n",
    "* **age**: continuous. \n",
    "* **workclass**: Private, Self-emp-not-inc, Self-emp-inc, Federal-gov, Local-gov, State-gov, Without-pay, Never-worked. \n",
    "* **fnlwgt**: continuous. \n",
    "* **education**: Bachelors, Some-college, 11th, HS-grad, Prof-school, Assoc-acdm, Assoc-voc, 9th, 7th-8th, 12th, Masters, 1st-4th, 10th, Doctorate, 5th-6th, Preschool. \n",
    "* **education-num**: continuous. \n",
    "* **marital-status**: Married-civ-spouse, Divorced, Never-married, Separated, Widowed, Married-spouse-absent, Married-AF-spouse. \n",
    "* **occupation**: Tech-support, Craft-repair, Other-service, Sales, Exec-managerial, Prof-specialty, Handlers-cleaners, Machine-op-inspct, Adm-clerical, Farming-fishing, Transport-moving, Priv-house-serv, Protective-serv, Armed-Forces. \n",
    "* **relationship**: Wife, Own-child, Husband, Not-in-family, Other-relative, Unmarried. \n",
    "* **race**: White, Asian-Pac-Islander, Amer-Indian-Eskimo, Other, Black. \n",
    "* **sex**: Female, Male. \n",
    "* **capital-gain**: continuous. \n",
    "* **capital-loss**: continuous. \n",
    "* **hours-per-week**: continuous. \n",
    "* **native-country**: United-States, Cambodia, England, Puerto-Rico, Canada, Germany, Outlying-US(Guam-USVI-etc), India, Japan, Greece, South, China, Cuba, Iran, Honduras, Philippines, Italy, Poland, Jamaica, Vietnam, Mexico, Portugal, Ireland, France, Dominican-Republic, Laos, Ecuador, Taiwan, Haiti, Columbia, Hungary, Guatemala, Nicaragua, Scotland, Thailand, Yugoslavia, El-Salvador, Trinadad&Tobago, Peru, Hong, Holand-Netherlands.\n",
    "\n"
   ]
  },
  {
   "cell_type": "markdown",
   "metadata": {},
   "source": [
    "Zmienna zależna to **earnings** czyli zarobki roczne"
   ]
  },
  {
   "cell_type": "markdown",
   "metadata": {},
   "source": [
    "Podział da zmienne zależne i niezależne"
   ]
  },
  {
   "cell_type": "code",
   "execution_count": 42,
   "metadata": {
    "ExecuteTime": {
     "end_time": "2019-03-01T11:22:09.183761Z",
     "start_time": "2019-03-01T11:22:09.175782Z"
    }
   },
   "outputs": [],
   "source": [
    "X = data. ...\n",
    "y = data. ..."
   ]
  },
  {
   "cell_type": "markdown",
   "metadata": {},
   "source": [
    "## Zamiana zmiennych tekstowych na binarne\n",
    "\n",
    "\n",
    "Ten zbiór danych zawiera zmienne o charakterze tekstowym oraz dyskretnym, tzn. wartości pochodzące z określonego zbioru, nienumeryczne.\n",
    "\n",
    "Biblioteki w Pythonie nie potrafią obslugiwać tego rodzaju danych - trzeba je zamienić na tzw. zmienne binarne.\n",
    "\n",
    "* dla każdego atrybutu zostają utworzone kolumny-pary: atrybut-wartość. Np.:\n",
    "\n",
    ">> occupation: Tech-support, Craft-repair, Other-service, Sales, Exec-managerial\n",
    ">> occupation:Tech-support, occupation:Craft-repair, occupation:Sales, etc.\n",
    "\n",
    "* każda taka para staje się kolumną i wartość w komórce = 1, jeśli odpowiednia wartość atrybutu występuje w obiekcie"
   ]
  },
  {
   "cell_type": "code",
   "execution_count": 43,
   "metadata": {
    "ExecuteTime": {
     "end_time": "2019-03-01T11:22:09.835016Z",
     "start_time": "2019-03-01T11:22:09.784151Z"
    }
   },
   "outputs": [
    {
     "data": {
      "text/html": [
       "<div>\n",
       "<style scoped>\n",
       "    .dataframe tbody tr th:only-of-type {\n",
       "        vertical-align: middle;\n",
       "    }\n",
       "\n",
       "    .dataframe tbody tr th {\n",
       "        vertical-align: top;\n",
       "    }\n",
       "\n",
       "    .dataframe thead th {\n",
       "        text-align: right;\n",
       "    }\n",
       "</style>\n",
       "<table border=\"1\" class=\"dataframe\">\n",
       "  <thead>\n",
       "    <tr style=\"text-align: right;\">\n",
       "      <th></th>\n",
       "      <th>age</th>\n",
       "      <th>fnlwgt</th>\n",
       "      <th>education-num</th>\n",
       "      <th>capital-gain</th>\n",
       "      <th>capital-loss</th>\n",
       "      <th>hours-per-week</th>\n",
       "      <th>workclass_?</th>\n",
       "      <th>workclass_Federal-gov</th>\n",
       "      <th>workclass_Local-gov</th>\n",
       "      <th>workclass_Never-worked</th>\n",
       "      <th>...</th>\n",
       "      <th>native-country_Portugal</th>\n",
       "      <th>native-country_Puerto-Rico</th>\n",
       "      <th>native-country_Scotland</th>\n",
       "      <th>native-country_South</th>\n",
       "      <th>native-country_Taiwan</th>\n",
       "      <th>native-country_Thailand</th>\n",
       "      <th>native-country_TrinadadTobago</th>\n",
       "      <th>native-country_United-States</th>\n",
       "      <th>native-country_Vietnam</th>\n",
       "      <th>native-country_Yugoslavia</th>\n",
       "    </tr>\n",
       "  </thead>\n",
       "  <tbody>\n",
       "    <tr>\n",
       "      <th>0</th>\n",
       "      <td>39</td>\n",
       "      <td>77516</td>\n",
       "      <td>13</td>\n",
       "      <td>2174</td>\n",
       "      <td>0</td>\n",
       "      <td>40</td>\n",
       "      <td>0</td>\n",
       "      <td>0</td>\n",
       "      <td>0</td>\n",
       "      <td>0</td>\n",
       "      <td>...</td>\n",
       "      <td>0</td>\n",
       "      <td>0</td>\n",
       "      <td>0</td>\n",
       "      <td>0</td>\n",
       "      <td>0</td>\n",
       "      <td>0</td>\n",
       "      <td>0</td>\n",
       "      <td>1</td>\n",
       "      <td>0</td>\n",
       "      <td>0</td>\n",
       "    </tr>\n",
       "    <tr>\n",
       "      <th>1</th>\n",
       "      <td>50</td>\n",
       "      <td>83311</td>\n",
       "      <td>13</td>\n",
       "      <td>0</td>\n",
       "      <td>0</td>\n",
       "      <td>13</td>\n",
       "      <td>0</td>\n",
       "      <td>0</td>\n",
       "      <td>0</td>\n",
       "      <td>0</td>\n",
       "      <td>...</td>\n",
       "      <td>0</td>\n",
       "      <td>0</td>\n",
       "      <td>0</td>\n",
       "      <td>0</td>\n",
       "      <td>0</td>\n",
       "      <td>0</td>\n",
       "      <td>0</td>\n",
       "      <td>1</td>\n",
       "      <td>0</td>\n",
       "      <td>0</td>\n",
       "    </tr>\n",
       "    <tr>\n",
       "      <th>2</th>\n",
       "      <td>38</td>\n",
       "      <td>215646</td>\n",
       "      <td>9</td>\n",
       "      <td>0</td>\n",
       "      <td>0</td>\n",
       "      <td>40</td>\n",
       "      <td>0</td>\n",
       "      <td>0</td>\n",
       "      <td>0</td>\n",
       "      <td>0</td>\n",
       "      <td>...</td>\n",
       "      <td>0</td>\n",
       "      <td>0</td>\n",
       "      <td>0</td>\n",
       "      <td>0</td>\n",
       "      <td>0</td>\n",
       "      <td>0</td>\n",
       "      <td>0</td>\n",
       "      <td>1</td>\n",
       "      <td>0</td>\n",
       "      <td>0</td>\n",
       "    </tr>\n",
       "  </tbody>\n",
       "</table>\n",
       "<p>3 rows × 108 columns</p>\n",
       "</div>"
      ],
      "text/plain": [
       "   age  fnlwgt  education-num  capital-gain  capital-loss  hours-per-week  \\\n",
       "0   39   77516             13          2174             0              40   \n",
       "1   50   83311             13             0             0              13   \n",
       "2   38  215646              9             0             0              40   \n",
       "\n",
       "   workclass_?  workclass_Federal-gov  workclass_Local-gov  \\\n",
       "0            0                      0                    0   \n",
       "1            0                      0                    0   \n",
       "2            0                      0                    0   \n",
       "\n",
       "   workclass_Never-worked            ...              native-country_Portugal  \\\n",
       "0                       0            ...                                    0   \n",
       "1                       0            ...                                    0   \n",
       "2                       0            ...                                    0   \n",
       "\n",
       "   native-country_Puerto-Rico  native-country_Scotland  native-country_South  \\\n",
       "0                           0                        0                     0   \n",
       "1                           0                        0                     0   \n",
       "2                           0                        0                     0   \n",
       "\n",
       "   native-country_Taiwan  native-country_Thailand  \\\n",
       "0                      0                        0   \n",
       "1                      0                        0   \n",
       "2                      0                        0   \n",
       "\n",
       "   native-country_TrinadadTobago  native-country_United-States  \\\n",
       "0                              0                             1   \n",
       "1                              0                             1   \n",
       "2                              0                             1   \n",
       "\n",
       "   native-country_Vietnam  native-country_Yugoslavia  \n",
       "0                       0                          0  \n",
       "1                       0                          0  \n",
       "2                       0                          0  \n",
       "\n",
       "[3 rows x 108 columns]"
      ]
     },
     "execution_count": 43,
     "metadata": {},
     "output_type": "execute_result"
    }
   ],
   "source": [
    "X = pd.get_dummies(X)\n",
    "X.head(3)"
   ]
  },
  {
   "cell_type": "markdown",
   "metadata": {},
   "source": [
    "## Podział na zbiór treningowy i testowy"
   ]
  },
  {
   "cell_type": "markdown",
   "metadata": {},
   "source": [
    "Zawsze należy dokonać tego podziału w pierwszej kolejności. Dane testowe zostawiamy na sam koniec, do sprawdzenia trafności."
   ]
  },
  {
   "cell_type": "markdown",
   "metadata": {},
   "source": [
    "* Zawsze używaj opcji **random seed** aby zapewnić, że eksperyment będzie powtarzalny!\n",
    "* Jeśli chodzi o wielkość danych testowych - trzeba zachować zdrowy rozsądek i wybierać tak, żeby odzwierciedlały proporcje danych oryginalnych\n"
   ]
  },
  {
   "cell_type": "code",
   "execution_count": 45,
   "metadata": {
    "ExecuteTime": {
     "end_time": "2019-03-01T11:22:10.819798Z",
     "start_time": "2019-03-01T11:22:10.815809Z"
    }
   },
   "outputs": [],
   "source": [
    "RANDOM_SEED = 10\n",
    "TEST_SIZE = 0.2"
   ]
  },
  {
   "cell_type": "code",
   "execution_count": 46,
   "metadata": {
    "ExecuteTime": {
     "end_time": "2019-03-01T11:22:11.301512Z",
     "start_time": "2019-03-01T11:22:11.276580Z"
    }
   },
   "outputs": [],
   "source": [
    "X_train, X_test, y_train, y_test = train_test_split( ... )"
   ]
  },
  {
   "cell_type": "markdown",
   "metadata": {},
   "source": [
    "Sprawdzamy, jak wyglądają proporcje danych"
   ]
  },
  {
   "cell_type": "code",
   "execution_count": 47,
   "metadata": {
    "ExecuteTime": {
     "end_time": "2019-03-01T11:22:11.734109Z",
     "start_time": "2019-03-01T11:22:11.726132Z"
    }
   },
   "outputs": [
    {
     "data": {
      "text/plain": [
       "(26048, 108)"
      ]
     },
     "execution_count": 47,
     "metadata": {},
     "output_type": "execute_result"
    }
   ],
   "source": [
    "X_train.shape"
   ]
  },
  {
   "cell_type": "code",
   "execution_count": 48,
   "metadata": {
    "ExecuteTime": {
     "end_time": "2019-03-01T11:22:12.175494Z",
     "start_time": "2019-03-01T11:22:12.171478Z"
    }
   },
   "outputs": [
    {
     "data": {
      "text/plain": [
       "(6513, 108)"
      ]
     },
     "execution_count": 48,
     "metadata": {},
     "output_type": "execute_result"
    }
   ],
   "source": [
    "X_test.shape"
   ]
  },
  {
   "cell_type": "code",
   "execution_count": 49,
   "metadata": {
    "ExecuteTime": {
     "end_time": "2019-03-01T11:22:12.592861Z",
     "start_time": "2019-03-01T11:22:12.587875Z"
    }
   },
   "outputs": [
    {
     "data": {
      "text/plain": [
       "(26048,)"
      ]
     },
     "execution_count": 49,
     "metadata": {},
     "output_type": "execute_result"
    }
   ],
   "source": [
    "y_train.shape"
   ]
  },
  {
   "cell_type": "code",
   "execution_count": 50,
   "metadata": {
    "ExecuteTime": {
     "end_time": "2019-03-01T11:22:13.007755Z",
     "start_time": "2019-03-01T11:22:13.002768Z"
    }
   },
   "outputs": [
    {
     "data": {
      "text/plain": [
       "(6513,)"
      ]
     },
     "execution_count": 50,
     "metadata": {},
     "output_type": "execute_result"
    }
   ],
   "source": [
    "y_test.shape"
   ]
  },
  {
   "cell_type": "markdown",
   "metadata": {},
   "source": [
    "Ważne jest też sprawdzenie, jakie są proporcje poszczególnych klas w zbiorze danych. To będzie bardzo mocno oddziaływać na metryki jakości dopasowania.\n",
    "\n",
    "Żeby się o tym przekonać możemy:\n",
    "\n",
    "* Wyświetlić informacje o procentowej zawartości poszczególnych klas w danych treningowych\n",
    "* Wyświetlić wykres kołowy albo słupkowy, pokazująacy udział klas"
   ]
  },
  {
   "cell_type": "code",
   "execution_count": 51,
   "metadata": {
    "ExecuteTime": {
     "end_time": "2019-03-01T11:22:13.439605Z",
     "start_time": "2019-03-01T11:22:13.425639Z"
    }
   },
   "outputs": [
    {
     "data": {
      "text/plain": [
       "<=50K    0.75979\n",
       ">50K     0.24021\n",
       "Name: earnings, dtype: float64"
      ]
     },
     "execution_count": 51,
     "metadata": {},
     "output_type": "execute_result"
    }
   ],
   "source": [
    "pd.value_counts( ... )"
   ]
  },
  {
   "cell_type": "code",
   "execution_count": 52,
   "metadata": {
    "ExecuteTime": {
     "end_time": "2019-03-01T11:22:13.894393Z",
     "start_time": "2019-03-01T11:22:13.834565Z"
    }
   },
   "outputs": [
    {
     "data": {
      "text/plain": [
       "<matplotlib.axes._subplots.AxesSubplot at 0x2973f541f60>"
      ]
     },
     "execution_count": 52,
     "metadata": {},
     "output_type": "execute_result"
    },
    {
     "data": {
      "image/png": "[encoded data removed]",
      "text/plain": [
       "<Figure size 432x288 with 1 Axes>"
      ]
     },
     "metadata": {},
     "output_type": "display_data"
    }
   ],
   "source": [
    "pd.value_counts( ... ).plot( ... )"
   ]
  },
  {
   "cell_type": "markdown",
   "metadata": {},
   "source": [
    "Ważne pytanie - czy ten zbiór wygląda na zbalansowany czy nie? Jak to może wpłynąć na predykcje?"
   ]
  },
  {
   "cell_type": "markdown",
   "metadata": {},
   "source": [
    "# Jak działa drzewo decyjne"
   ]
  },
  {
   "cell_type": "markdown",
   "metadata": {},
   "source": [
    "## Algorytm"
   ]
  },
  {
   "cell_type": "markdown",
   "metadata": {},
   "source": [
    "Nauczymy się, jak działa drzew o decyzyjne, używając napisanego ręcznie, prostego kodu. Drzewo decyzyjne działa w sposób nastęujący:\n",
    "\n",
    "\n",
    "1. __Krok 1__: sprawdź poziom **entropii** danych - poziom \"wymieszania\" klas\n",
    "    1. Jeśli entropia jest mała (poniżej pewnego poziomu) - wybierz klasę dominującą\n",
    "    2. Jeśli w zbiorze jest mniej niż pewna ilość rekordów - wybierz klasę dominującą\n",
    "2. __Krok 2__:\n",
    "    1. Dla każdego atrybutu dla każedej wartości\n",
    "    2. Podziel dane na:\n",
    "        - posiadające daną wartość atrybutu\n",
    "        - nieposiadającą wartości atrybutu\n",
    "        \n",
    "    3. Policz stopień zmieszania każdego podzbioru a następnie wylicz ich średnią ważoną ilością elementów\n",
    "    4. Policz, w jakim stopiniu podział zmniejszył \"zmieszanie\"/chaos w danych\n",
    "3. __Krok 3__: wybierz podział, który w największym stopiniu zredukował chaos\n",
    "4. __Krok 4__: dla każdego z dwóch podzbiorów - idź do kroku 1.\n",
    "    "
   ]
  },
  {
   "cell_type": "markdown",
   "metadata": {},
   "source": [
    "Doskonały przewodnik z ilustracjami krok - po kroku [znajduje się tutaj](https://www.saedsayad.com/decision_tree.htm)"
   ]
  },
  {
   "cell_type": "markdown",
   "metadata": {},
   "source": [
    "Zdefiniujmy kilka funkcji, które realizują opisane zadania"
   ]
  },
  {
   "cell_type": "code",
   "execution_count": 53,
   "metadata": {
    "ExecuteTime": {
     "end_time": "2019-03-01T11:22:16.051190Z",
     "start_time": "2019-03-01T11:22:16.048199Z"
    }
   },
   "outputs": [],
   "source": [
    "def calculate_chaos(y):\n",
    "    return entropy(pd.value_counts(y))"
   ]
  },
  {
   "cell_type": "markdown",
   "metadata": {},
   "source": [
    "Garść przykładów:"
   ]
  },
  {
   "cell_type": "code",
   "execution_count": 57,
   "metadata": {
    "ExecuteTime": {
     "end_time": "2019-03-01T11:24:22.633078Z",
     "start_time": "2019-03-01T11:24:22.619114Z"
    }
   },
   "outputs": [
    {
     "name": "stdout",
     "output_type": "stream",
     "text": [
      "0.5513223084624267\n"
     ]
    },
    {
     "data": {
      "text/plain": [
       "0.0"
      ]
     },
     "execution_count": 57,
     "metadata": {},
     "output_type": "execute_result"
    }
   ],
   "source": [
    "# liczenie entropii całego zbioru danych:\n",
    "\n",
    "chaos_all_data = calculate_chaos(y_train)\n",
    "print(chaos_all_data)\n",
    "\n",
    "# liczenie entropii tylko jednej klasy - powinna wynosić 0\n",
    "\n",
    "\n",
    "calculate_chaos(y_train[y_train == \">=50k\"])"
   ]
  },
  {
   "cell_type": "code",
   "execution_count": 60,
   "metadata": {
    "ExecuteTime": {
     "end_time": "2019-03-01T11:26:07.932068Z",
     "start_time": "2019-03-01T11:26:07.906138Z"
    }
   },
   "outputs": [
    {
     "name": "stdout",
     "output_type": "stream",
     "text": [
      "0.614993466528243 0.34536236299669343\n",
      "0.5257133579609974\n"
     ]
    },
    {
     "data": {
      "text/plain": [
       "0.025608950501429306"
      ]
     },
     "execution_count": 60,
     "metadata": {},
     "output_type": "execute_result"
    }
   ],
   "source": [
    "# Podzielmy dane wg. jakiegoś atrybutu, np. płeć:\n",
    "\n",
    "males_select = X_train.sex_Male == 1\n",
    "females_select = X_train.sex_Female == 1\n",
    "\n",
    "# Wydzielenie odpowiednich wart. y\n",
    "\n",
    "y_male = y_train[males_select]\n",
    "y_female = y_train[females_select]\n",
    "\n",
    "# Policzenie entropii dla podgrup\n",
    "\n",
    "male_chaos = calculate_chaos(y_male)\n",
    "female_chaos = calculate_chaos(y_female)\n",
    "\n",
    "print(male_chaos, female_chaos)\n",
    "\n",
    "# Policzenie entropii (chaosu) ważonego licznością:\n",
    "\n",
    "weighted_chaos = (male_chaos * y_male.shape[0] + female_chaos * y_female.shape[0]) / (y_male.shape[0] + y_female.shape[0])\n",
    "\n",
    "print(weighted_chaos)\n",
    "\n",
    "# Policzenie redukcji chaosu:\n",
    "\n",
    "chaos_all_data - weighted_chaos"
   ]
  },
  {
   "cell_type": "markdown",
   "metadata": {},
   "source": [
    "Twoje zadanie: napisz samodzielnie kod, który przejrzy wszystkie atrybuty i podzielii wg. nich dane. Zobacz, który podział jest najlepszy i wybierz odpowiedni atrybut.\n",
    "\n",
    "**Podpowiedź**: po binaryzacji, wszystkie atrybuty są zerami i jedynkami. Wystraczy sprawdzić, gdzie w danej kolumnie jest 0 albo 1."
   ]
  },
  {
   "cell_type": "code",
   "execution_count": 61,
   "metadata": {
    "ExecuteTime": {
     "end_time": "2019-03-01T11:28:26.520420Z",
     "start_time": "2019-03-01T11:28:26.516402Z"
    }
   },
   "outputs": [],
   "source": [
    "# spróbuj to napisać =)"
   ]
  },
  {
   "cell_type": "markdown",
   "metadata": {},
   "source": [
    "### Tematy do dyskusji\n",
    "\n",
    "\n",
    "1. Jakie widać problemy i ograniczenia w drzewach decyzyjnych?\n",
    "2. Jaki rodzaj podziałów stosowało drzewo w tym przykładzie? Czy widzisz jakieś inne możliwe podziały?\n",
    "3. Jak rozwiązał(-ała) byś kwestię atrybutów numerycznych? Czy jest to łatwiejsze czy trudniejsze zadanie?"
   ]
  },
  {
   "cell_type": "markdown",
   "metadata": {},
   "source": [
    "# Drzewo decyzyjne z użyciem biblioteki"
   ]
  },
  {
   "cell_type": "markdown",
   "metadata": {},
   "source": [
    "## Sprawdzenie trafności na zbiorze treningowym i testowym"
   ]
  },
  {
   "cell_type": "markdown",
   "metadata": {},
   "source": [
    "Użyj walidacji krzyżowej - 10-o krotnej -  do oceny trafności algorytmu na podanych zbiorach danych."
   ]
  },
  {
   "cell_type": "markdown",
   "metadata": {},
   "source": [
    "Pamiętaj: **używaj tylko danych treningowych, a nie testowych**"
   ]
  },
  {
   "cell_type": "code",
   "execution_count": 63,
   "metadata": {
    "ExecuteTime": {
     "end_time": "2019-03-01T12:02:42.633024Z",
     "start_time": "2019-03-01T12:02:39.245706Z"
    }
   },
   "outputs": [],
   "source": [
    "dt = DecisionTreeClassifier()\n",
    "scores = modsel.cross_val_score( ... )"
   ]
  },
  {
   "cell_type": "markdown",
   "metadata": {},
   "source": [
    "Wyświetl uzyskane wyniki:"
   ]
  },
  {
   "cell_type": "code",
   "execution_count": 64,
   "metadata": {
    "ExecuteTime": {
     "end_time": "2019-03-01T12:03:03.650043Z",
     "start_time": "2019-03-01T12:03:03.645047Z"
    }
   },
   "outputs": [
    {
     "data": {
      "text/plain": [
       "array([0.81772832, 0.82533589, 0.8084453 , 0.81151631, 0.82763916,\n",
       "       0.81765835, 0.81535509, 0.81490015, 0.81682028, 0.82066052])"
      ]
     },
     "execution_count": 64,
     "metadata": {},
     "output_type": "execute_result"
    }
   ],
   "source": [
    "scores"
   ]
  },
  {
   "cell_type": "markdown",
   "metadata": {},
   "source": [
    "Wyświetl wyniki w formie wykresów pudełkowych. Jaki jest rozrzut - duży, czy mały?"
   ]
  },
  {
   "cell_type": "code",
   "execution_count": 66,
   "metadata": {
    "ExecuteTime": {
     "end_time": "2019-03-01T12:03:22.849505Z",
     "start_time": "2019-03-01T12:03:22.748776Z"
    }
   },
   "outputs": [
    {
     "data": {
      "image/png": "[encoded data removed]",
      "text/plain": [
       "<Figure size 432x288 with 1 Axes>"
      ]
     },
     "metadata": {},
     "output_type": "display_data"
    }
   ],
   "source": [
    "_ = plt.boxplot( ... )"
   ]
  },
  {
   "cell_type": "markdown",
   "metadata": {},
   "source": [
    "Spróbuj wybrać parametry, które można zmienić w drzewie decyzyjnym. Ustal kilka wartości i poszukaj w 3-y krotnej walidacji krzyżowej, która kombinacja da najlepsze rezultaty."
   ]
  },
  {
   "cell_type": "code",
   "execution_count": 70,
   "metadata": {
    "ExecuteTime": {
     "end_time": "2019-03-01T12:05:43.497888Z",
     "start_time": "2019-03-01T12:05:43.493898Z"
    }
   },
   "outputs": [],
   "source": [
    "params_grid = {\n",
    "    'max_depth': [ 3, 6, 15 ], \n",
    "    'min_samples_split': [2, 10], \n",
    "    'min_samples_leaf': [1, 5], \n",
    "    'max_features': [None, 'auto', 'sqrt'] \n",
    "}"
   ]
  },
  {
   "cell_type": "code",
   "execution_count": 71,
   "metadata": {
    "ExecuteTime": {
     "end_time": "2019-03-01T12:05:44.003537Z",
     "start_time": "2019-03-01T12:05:44.000545Z"
    }
   },
   "outputs": [],
   "source": [
    "grid_search = modsel.GridSearchCV( ... )"
   ]
  },
  {
   "cell_type": "markdown",
   "metadata": {},
   "source": [
    "Wyszkol system przeszukiwania parametrów na danych treningowych."
   ]
  },
  {
   "cell_type": "code",
   "execution_count": 72,
   "metadata": {
    "ExecuteTime": {
     "end_time": "2019-03-01T12:06:00.896114Z",
     "start_time": "2019-03-01T12:05:44.704381Z"
    }
   },
   "outputs": [],
   "source": [
    "best_grid = grid_search.fit( ... )"
   ]
  },
  {
   "cell_type": "markdown",
   "metadata": {},
   "source": [
    "Sprawdź najlepsze parametry:"
   ]
  },
  {
   "cell_type": "code",
   "execution_count": null,
   "metadata": {
    "ExecuteTime": {
     "end_time": "2019-03-01T12:07:01.545887Z",
     "start_time": "2019-03-01T12:07:01.541905Z"
    }
   },
   "outputs": [],
   "source": [
    "...."
   ]
  },
  {
   "cell_type": "markdown",
   "metadata": {},
   "source": [
    "Wybierz najlepszy model:"
   ]
  },
  {
   "cell_type": "code",
   "execution_count": 76,
   "metadata": {
    "ExecuteTime": {
     "end_time": "2019-03-01T12:07:49.772412Z",
     "start_time": "2019-03-01T12:07:49.769421Z"
    }
   },
   "outputs": [],
   "source": [
    "best_model = best_grid. ... "
   ]
  },
  {
   "cell_type": "markdown",
   "metadata": {},
   "source": [
    "## Final prediction on test data"
   ]
  },
  {
   "cell_type": "markdown",
   "metadata": {},
   "source": [
    "Teraz wykonaj predykcje na **zbiorze danych testowych**."
   ]
  },
  {
   "cell_type": "code",
   "execution_count": 77,
   "metadata": {
    "ExecuteTime": {
     "end_time": "2019-03-01T12:08:53.880928Z",
     "start_time": "2019-03-01T12:08:53.869958Z"
    }
   },
   "outputs": [],
   "source": [
    "results = best_model.predict( ... )"
   ]
  },
  {
   "cell_type": "markdown",
   "metadata": {},
   "source": [
    "Sprawdź metryki trafności oraz całe zestawienie klasyfikacyjne"
   ]
  },
  {
   "cell_type": "code",
   "execution_count": 79,
   "metadata": {
    "ExecuteTime": {
     "end_time": "2019-03-01T12:09:48.957856Z",
     "start_time": "2019-03-01T12:09:48.942928Z"
    }
   },
   "outputs": [
    {
     "data": {
      "text/plain": [
       "0.8502994011976048"
      ]
     },
     "execution_count": 79,
     "metadata": {},
     "output_type": "execute_result"
    }
   ],
   "source": [
    "accuracy = metrics.accuracy_score( ... )\n",
    "accuracy"
   ]
  },
  {
   "cell_type": "code",
   "execution_count": 80,
   "metadata": {
    "ExecuteTime": {
     "end_time": "2019-03-01T12:10:18.201217Z",
     "start_time": "2019-03-01T12:10:18.089009Z"
    }
   },
   "outputs": [
    {
     "name": "stdout",
     "output_type": "stream",
     "text": [
      "              precision    recall  f1-score   support\n",
      "\n",
      "       <=50K       0.86      0.96      0.91      4929\n",
      "        >50K       0.80      0.52      0.63      1584\n",
      "\n",
      "   micro avg       0.85      0.85      0.85      6513\n",
      "   macro avg       0.83      0.74      0.77      6513\n",
      "weighted avg       0.84      0.85      0.84      6513\n",
      "\n"
     ]
    }
   ],
   "source": [
    "print(metrics.classification_report( ... ))"
   ]
  },
  {
   "cell_type": "markdown",
   "metadata": {},
   "source": [
    "## Wizualizacja drzewa\n",
    "\n",
    "Zwizualizujmy nasz końcowy wynik - drzewo decyzyjne można przestawić graficznie."
   ]
  },
  {
   "cell_type": "markdown",
   "metadata": {},
   "source": [
    "Musimy wyszkolić drzewo jako \"osobne\" (niewchodzące w skład całego procesu selekcji parametrów), żeby zachowało nazwy zmiennych, itp.\n",
    "\n",
    "Użyjemy najlepszych dostępnych parametrów."
   ]
  },
  {
   "cell_type": "code",
   "execution_count": 84,
   "metadata": {
    "ExecuteTime": {
     "end_time": "2019-03-01T12:21:22.836901Z",
     "start_time": "2019-03-01T12:21:22.675380Z"
    }
   },
   "outputs": [
    {
     "data": {
      "text/plain": [
       "DecisionTreeClassifier(class_weight=None, criterion='gini', max_depth=6,\n",
       "            max_features=None, max_leaf_nodes=None,\n",
       "            min_impurity_decrease=0.0, min_impurity_split=None,\n",
       "            min_samples_leaf=1, min_samples_split=10,\n",
       "            min_weight_fraction_leaf=0.0, presort=False, random_state=None,\n",
       "            splitter='best')"
      ]
     },
     "execution_count": 84,
     "metadata": {},
     "output_type": "execute_result"
    }
   ],
   "source": [
    "dt = DecisionTreeClassifier(**best_grid.best_params_)\n",
    "dt.fit(X_train, y_train)"
   ]
  },
  {
   "cell_type": "markdown",
   "metadata": {},
   "source": [
    "**UWAGA** ta część działa bardzo dziwnie pod Windowsem. Na Macu i na Linuxie nie powinno być problemu, aczkolwiek.... może być różnie. Dlatego wynik działania wizualizacji można zobaczyć na stronie"
   ]
  },
  {
   "cell_type": "code",
   "execution_count": 88,
   "metadata": {
    "ExecuteTime": {
     "end_time": "2019-03-01T12:22:19.023872Z",
     "start_time": "2019-03-01T12:22:19.009937Z"
    }
   },
   "outputs": [],
   "source": [
    "dot_data = trees.export_graphviz(dt, out_file='result_tree.dot') \n",
    "# Otwórz plik: result_tree.dot i skopiuj jego zawartość do formularza na stronie: http://webgraphviz.com/"
   ]
  },
  {
   "cell_type": "markdown",
   "metadata": {},
   "source": [
    "Dla osób, które działają na Macach albo na Linuxach, trzeba wykonać następujące polecenia i będzie działać. Trzeba doinstalować pakiet **graphviz**\n",
    "\n",
    "```{bash}\n",
    "pip install grapviz\n",
    "\n",
    "sudo apt-get install graphviz\n",
    "```\n",
    "\n",
    "A potem można wykonać takie polecenia\n",
    "\n",
    "```{python}\n",
    "\n",
    "import graphviz \n",
    "dot_data = trees.export_graphviz(best_model, out_file=None) \n",
    "graph = graphviz.Source(dot_data) \n",
    "graph.render(\"iris\") \n",
    "```\n"
   ]
  },
  {
   "cell_type": "markdown",
   "metadata": {},
   "source": [
    "# Radnom forest"
   ]
  },
  {
   "cell_type": "markdown",
   "metadata": {},
   "source": [
    "## Jak działa Random Forest\n",
    "\n",
    "Random forest to \"las losowy\" - wielokrotnie szkolone drzewo decyzyjne, do którego podawany jest za każdym razem inny zestaw danych:\n",
    "\n",
    "1. Inne wiersze\n",
    "2. Losowo wybrane kolumny\n",
    "\n",
    "Zazwyczaj szkoli się kilkaset lub nawet kilka tysięcy drzew. Dzięki temu uzyskuje się lepszą trafność predykcji."
   ]
  },
  {
   "cell_type": "markdown",
   "metadata": {},
   "source": [
    "Algorym działa następująco:\n",
    "\n",
    "Parametry:\n",
    "\n",
    "* ilość drzew do wyszkolenia - n\n",
    "* ile (losowych) kolumn ma dostawać każde drzewo\n",
    "* ile (losowo wybranych) wierszy ma dostawać każde drzewo\n",
    "* czy końcowy wynik ma być głosowaniem większościowym czy ważonym?\n",
    "\n",
    "\n",
    "Następnie dla KAŻDEGO DRZEWA od 1 do N\n",
    "\n",
    "1. __Krok 1__: Losowo wybierz wiersze ze zbioru X_train. Utwórz w ten sposób zbiór: X_train_1 oraz X_train_2 z tych elementów, które nie zostały wybrane.\n",
    "\n",
    "2. __Krok 2__: Losowo wybierz kolumny ze zbiory X_train_1.\n",
    "\n",
    "3. __Krok 3__: Wyszkol drzeow na X_train_1. Sprawdź jego trafność na zbiorze X_train_2.\n",
    "\n",
    "4. __Krok 4__: Zapisz drzewo i jego wynik\n",
    "\n",
    "\n",
    "Aby dokonać predykcji na zbiorze testowym albo dowolnym innym - **nowym** zbiorze danych:\n",
    "\n",
    "1. __Krok 1__: Przepuść dane przez każde z drzew. Zapisz predykcje tego drzewa.\n",
    "\n",
    "2. __Krok 2__:\n",
    "    1. Jeśli wynik ma być większościowy: dla każdego elementu w nowym zbiorze wybierz klasę najczęściej wskazywaną przez drzewa.\n",
    "    2. Jeśli wynik ma być ważony: dla każdego elementu w nowym zbiorze wybierz klasę, która ma największą wagę - wagą jest \n",
    "$$ \\frac{1}{err_i + \\epsilon } $$ gdzie\n",
    "        $$err_i \\ \\text{to błąd i-tego drzewa} $$ \n",
    "        $$\\epsilon \\ \\text{to mała liczba, pozwalająca (w razie czego) uniknąć dzielenia przez zero } $$ "
   ]
  },
  {
   "cell_type": "markdown",
   "metadata": {},
   "source": [
    "## Zrób to sam\n",
    "\n",
    "\n",
    "Spróbuj samodzielnie napisać algorytm Random Forest używając.... istniejących drzew decyzyjnych. "
   ]
  },
  {
   "cell_type": "markdown",
   "metadata": {},
   "source": [
    "## Użycie biblioteki"
   ]
  },
  {
   "cell_type": "code",
   "execution_count": 89,
   "metadata": {
    "ExecuteTime": {
     "end_time": "2019-03-01T12:30:27.420505Z",
     "start_time": "2019-03-01T12:30:27.380613Z"
    }
   },
   "outputs": [],
   "source": [
    "from sklearn.ensemble import RandomForestClassifier"
   ]
  },
  {
   "cell_type": "markdown",
   "metadata": {},
   "source": [
    "Random forest ma szereg parametrów, które można dostosowywać, tak jak to opisano w części wcześniejszej:\n",
    "\n",
    "1. **n_estimators/Number of trees** - ilość drzew do wyszkolenia. Im więcej, tym lepiej, ale trening zajmie dłużej\n",
    "2. **max_features/Number of features** - Ile losowo wybranych atrybutów ma mieć każde drzewo?\n",
    "3. **max_depth/Tree depth** - głębokość każdego drzewa z osobna\n",
    "3. **n_jobs** - ponieważ każde drzewo jest niezależne, to można je szkolić równolegle. Ile wątków ma być używane w tym celu?"
   ]
  },
  {
   "cell_type": "markdown",
   "metadata": {},
   "source": [
    "Znając specyfikację modelu Random Forest, postaraj się po kolei:\n",
    "\n",
    "1. Wyszkolić pojednyczy model, z domyślnymi parametrami.\n",
    "2. Ręcznie zmienić część parametrów i zobaczyć, jak wpływa to na wynik\n",
    "3. Przeszukać przestrzeń parametrów i znaleźć najlepszy model\n",
    "4. Sprawdzić wynik na danych testowych.\n",
    "\n",
    "Powtarzamy kroki z drzewa decyzyjnego."
   ]
  }
 ],
 "metadata": {
  "kernelspec": {
   "display_name": "Python 3",
   "language": "python",
   "name": "python3"
  },
  "language_info": {
   "codemirror_mode": {
    "name": "ipython",
    "version": 3
   },
   "file_extension": ".py",
   "mimetype": "text/x-python",
   "name": "python",
   "nbconvert_exporter": "python",
   "pygments_lexer": "ipython3",
   "version": "3.6.7"
  },
  "toc": {
   "base_numbering": 1,
   "nav_menu": {},
   "number_sections": true,
   "sideBar": true,
   "skip_h1_title": false,
   "title_cell": "Table of Contents",
   "title_sidebar": "Contents",
   "toc_cell": false,
   "toc_position": {},
   "toc_section_display": true,
   "toc_window_display": true
  },
  "varInspector": {
   "cols": {
    "lenName": 16,
    "lenType": 16,
    "lenVar": 40
   },
   "kernels_config": {
    "python": {
     "delete_cmd_postfix": "",
     "delete_cmd_prefix": "del ",
     "library": "var_list.py",
     "varRefreshCmd": "print(var_dic_list())"
    },
    "r": {
     "delete_cmd_postfix": ") ",
     "delete_cmd_prefix": "rm(",
     "library": "var_list.r",
     "varRefreshCmd": "cat(var_dic_list()) "
    }
   },
   "types_to_exclude": [
    "module",
    "function",
    "builtin_function_or_method",
    "instance",
    "_Feature"
   ],
   "window_display": false
  }
 },
 "nbformat": 4,
 "nbformat_minor": 2
}
